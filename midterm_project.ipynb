{
  "nbformat": 4,
  "nbformat_minor": 0,
  "metadata": {
    "kernelspec": {
      "name": "python3",
      "display_name": "Python 3"
    },
    "language_info": {
      "codemirror_mode": {
        "name": "ipython",
        "version": 3
      },
      "file_extension": ".py",
      "mimetype": "text/x-python",
      "name": "python",
      "nbconvert_exporter": "python",
      "pygments_lexer": "ipython3",
      "version": "3.6.4"
    },
    "colab": {
      "name": "midterm_project.ipynb",
      "provenance": [],
      "collapsed_sections": [
        "MrYJWZtzOZ00",
        "4OvWyqLXjyMq",
        "4BP8DBC8kcfC",
        "oZtNqEK63o8A",
        "KUGlRswV26D5"
      ],
      "include_colab_link": true
    },
    "accelerator": "GPU"
  },
  "cells": [
    {
      "cell_type": "markdown",
      "metadata": {
        "id": "view-in-github",
        "colab_type": "text"
      },
      "source": [
        "<a href=\"https://colab.research.google.com/github/mong-head/machine_learning/blob/master/midterm_project.ipynb\" target=\"_parent\"><img src=\"https://colab.research.google.com/assets/colab-badge.svg\" alt=\"Open In Colab\"/></a>"
      ]
    },
    {
      "cell_type": "code",
      "metadata": {
        "id": "tSdrspEWs2ZM",
        "colab_type": "code",
        "outputId": "311ce6f4-0660-4b8d-973f-3b541158cb3a",
        "colab": {
          "base_uri": "https://localhost:8080/",
          "height": 55
        }
      },
      "source": [
        "from google.colab import drive\n",
        "drive.mount('/content/drive')"
      ],
      "execution_count": 0,
      "outputs": [
        {
          "output_type": "stream",
          "text": [
            "Drive already mounted at /content/drive; to attempt to forcibly remount, call drive.mount(\"/content/drive\", force_remount=True).\n"
          ],
          "name": "stdout"
        }
      ]
    },
    {
      "cell_type": "code",
      "metadata": {
        "id": "wStZFhkP0oiW",
        "colab_type": "code",
        "colab": {}
      },
      "source": [
        "import os\n",
        "import pandas as pd\n",
        "import numpy as np\n",
        "import matplotlib.pyplot as plt\n",
        "import csv"
      ],
      "execution_count": 0,
      "outputs": []
    },
    {
      "cell_type": "markdown",
      "metadata": {
        "id": "sL-WIKzpphlK",
        "colab_type": "text"
      },
      "source": [
        "**Load TADPOLE* dataset (csv file) from Google Drive**\n",
        "-------------------------------------------------------\n",
        "*The Alzheimer's Disease Prediction Of Longitudinal Evolution\n",
        "(https://tadpole.grand-challenge.org/)\n",
        "\n",
        "### -Subjects: 1707 (1363 Train (80%) + 344 Test (20%))\n",
        "\n",
        "\n",
        "### -Features: 72\n",
        "*   2 demographic feature: MMSE, ADAS13\n",
        "*   70 mean values of cortical thickness"
      ]
    },
    {
      "cell_type": "code",
      "metadata": {
        "id": "iS_uk0HaweJH",
        "colab_type": "code",
        "outputId": "a558bf4d-c6a1-4f69-d82c-6d872abe85ad",
        "colab": {
          "base_uri": "https://localhost:8080/",
          "height": 449
        }
      },
      "source": [
        "from google.colab import drive\n",
        "drive.mount('/content/gdrive')\n",
        "\n",
        "csv_file_train = '/content/gdrive/My Drive/BNCS401_Midterm_Project/Train_data_reupdated.csv'  # Set your path\n",
        "train_data = pd.read_csv(csv_file_train)\n",
        "train_data\n",
        "\n",
        "# DXCHANGE: clinical label (1-CN, 2-MCI, 3-AD)"
      ],
      "execution_count": 0,
      "outputs": [
        {
          "output_type": "stream",
          "text": [
            "Mounted at /content/gdrive\n"
          ],
          "name": "stdout"
        },
        {
          "output_type": "execute_result",
          "data": {
            "text/html": [
              "<div>\n",
              "<style scoped>\n",
              "    .dataframe tbody tr th:only-of-type {\n",
              "        vertical-align: middle;\n",
              "    }\n",
              "\n",
              "    .dataframe tbody tr th {\n",
              "        vertical-align: top;\n",
              "    }\n",
              "\n",
              "    .dataframe thead th {\n",
              "        text-align: right;\n",
              "    }\n",
              "</style>\n",
              "<table border=\"1\" class=\"dataframe\">\n",
              "  <thead>\n",
              "    <tr style=\"text-align: right;\">\n",
              "      <th></th>\n",
              "      <th>RID</th>\n",
              "      <th>DXCHANGE</th>\n",
              "      <th>AGE</th>\n",
              "      <th>MMSE</th>\n",
              "      <th>ADAS13</th>\n",
              "      <th>ST102TA_UCSFFSX_11_02_15_UCSFFSX51_08_01_16</th>\n",
              "      <th>ST103TA_UCSFFSX_11_02_15_UCSFFSX51_08_01_16</th>\n",
              "      <th>ST104TA_UCSFFSX_11_02_15_UCSFFSX51_08_01_16</th>\n",
              "      <th>ST105TA_UCSFFSX_11_02_15_UCSFFSX51_08_01_16</th>\n",
              "      <th>ST106TA_UCSFFSX_11_02_15_UCSFFSX51_08_01_16</th>\n",
              "      <th>ST107TA_UCSFFSX_11_02_15_UCSFFSX51_08_01_16</th>\n",
              "      <th>ST108TA_UCSFFSX_11_02_15_UCSFFSX51_08_01_16</th>\n",
              "      <th>ST109TA_UCSFFSX_11_02_15_UCSFFSX51_08_01_16</th>\n",
              "      <th>ST110TA_UCSFFSX_11_02_15_UCSFFSX51_08_01_16</th>\n",
              "      <th>ST111TA_UCSFFSX_11_02_15_UCSFFSX51_08_01_16</th>\n",
              "      <th>ST113TA_UCSFFSX_11_02_15_UCSFFSX51_08_01_16</th>\n",
              "      <th>ST114TA_UCSFFSX_11_02_15_UCSFFSX51_08_01_16</th>\n",
              "      <th>ST115TA_UCSFFSX_11_02_15_UCSFFSX51_08_01_16</th>\n",
              "      <th>ST116TA_UCSFFSX_11_02_15_UCSFFSX51_08_01_16</th>\n",
              "      <th>ST117TA_UCSFFSX_11_02_15_UCSFFSX51_08_01_16</th>\n",
              "      <th>ST118TA_UCSFFSX_11_02_15_UCSFFSX51_08_01_16</th>\n",
              "      <th>ST119TA_UCSFFSX_11_02_15_UCSFFSX51_08_01_16</th>\n",
              "      <th>ST121TA_UCSFFSX_11_02_15_UCSFFSX51_08_01_16</th>\n",
              "      <th>ST123TA_UCSFFSX_11_02_15_UCSFFSX51_08_01_16</th>\n",
              "      <th>ST129TA_UCSFFSX_11_02_15_UCSFFSX51_08_01_16</th>\n",
              "      <th>ST130TA_UCSFFSX_11_02_15_UCSFFSX51_08_01_16</th>\n",
              "      <th>ST13TA_UCSFFSX_11_02_15_UCSFFSX51_08_01_16</th>\n",
              "      <th>ST14TA_UCSFFSX_11_02_15_UCSFFSX51_08_01_16</th>\n",
              "      <th>ST15TA_UCSFFSX_11_02_15_UCSFFSX51_08_01_16</th>\n",
              "      <th>ST23TA_UCSFFSX_11_02_15_UCSFFSX51_08_01_16</th>\n",
              "      <th>ST24TA_UCSFFSX_11_02_15_UCSFFSX51_08_01_16</th>\n",
              "      <th>ST25TA_UCSFFSX_11_02_15_UCSFFSX51_08_01_16</th>\n",
              "      <th>ST26TA_UCSFFSX_11_02_15_UCSFFSX51_08_01_16</th>\n",
              "      <th>ST31TA_UCSFFSX_11_02_15_UCSFFSX51_08_01_16</th>\n",
              "      <th>ST32TA_UCSFFSX_11_02_15_UCSFFSX51_08_01_16</th>\n",
              "      <th>ST34TA_UCSFFSX_11_02_15_UCSFFSX51_08_01_16</th>\n",
              "      <th>ST35TA_UCSFFSX_11_02_15_UCSFFSX51_08_01_16</th>\n",
              "      <th>ST36TA_UCSFFSX_11_02_15_UCSFFSX51_08_01_16</th>\n",
              "      <th>ST38TA_UCSFFSX_11_02_15_UCSFFSX51_08_01_16</th>\n",
              "      <th>ST39TA_UCSFFSX_11_02_15_UCSFFSX51_08_01_16</th>\n",
              "      <th>ST40TA_UCSFFSX_11_02_15_UCSFFSX51_08_01_16</th>\n",
              "      <th>ST43TA_UCSFFSX_11_02_15_UCSFFSX51_08_01_16</th>\n",
              "      <th>ST44TA_UCSFFSX_11_02_15_UCSFFSX51_08_01_16</th>\n",
              "      <th>ST45TA_UCSFFSX_11_02_15_UCSFFSX51_08_01_16</th>\n",
              "      <th>ST46TA_UCSFFSX_11_02_15_UCSFFSX51_08_01_16</th>\n",
              "      <th>ST47TA_UCSFFSX_11_02_15_UCSFFSX51_08_01_16</th>\n",
              "      <th>ST48TA_UCSFFSX_11_02_15_UCSFFSX51_08_01_16</th>\n",
              "      <th>ST49TA_UCSFFSX_11_02_15_UCSFFSX51_08_01_16</th>\n",
              "      <th>ST50TA_UCSFFSX_11_02_15_UCSFFSX51_08_01_16</th>\n",
              "      <th>ST51TA_UCSFFSX_11_02_15_UCSFFSX51_08_01_16</th>\n",
              "      <th>ST52TA_UCSFFSX_11_02_15_UCSFFSX51_08_01_16</th>\n",
              "      <th>ST54TA_UCSFFSX_11_02_15_UCSFFSX51_08_01_16</th>\n",
              "      <th>ST55TA_UCSFFSX_11_02_15_UCSFFSX51_08_01_16</th>\n",
              "      <th>ST56TA_UCSFFSX_11_02_15_UCSFFSX51_08_01_16</th>\n",
              "      <th>ST57TA_UCSFFSX_11_02_15_UCSFFSX51_08_01_16</th>\n",
              "      <th>ST58TA_UCSFFSX_11_02_15_UCSFFSX51_08_01_16</th>\n",
              "      <th>ST59TA_UCSFFSX_11_02_15_UCSFFSX51_08_01_16</th>\n",
              "      <th>ST60TA_UCSFFSX_11_02_15_UCSFFSX51_08_01_16</th>\n",
              "      <th>ST62TA_UCSFFSX_11_02_15_UCSFFSX51_08_01_16</th>\n",
              "      <th>ST64TA_UCSFFSX_11_02_15_UCSFFSX51_08_01_16</th>\n",
              "      <th>ST72TA_UCSFFSX_11_02_15_UCSFFSX51_08_01_16</th>\n",
              "      <th>ST73TA_UCSFFSX_11_02_15_UCSFFSX51_08_01_16</th>\n",
              "      <th>ST74TA_UCSFFSX_11_02_15_UCSFFSX51_08_01_16</th>\n",
              "      <th>ST82TA_UCSFFSX_11_02_15_UCSFFSX51_08_01_16</th>\n",
              "      <th>ST83TA_UCSFFSX_11_02_15_UCSFFSX51_08_01_16</th>\n",
              "      <th>ST84TA_UCSFFSX_11_02_15_UCSFFSX51_08_01_16</th>\n",
              "      <th>ST85TA_UCSFFSX_11_02_15_UCSFFSX51_08_01_16</th>\n",
              "      <th>ST90TA_UCSFFSX_11_02_15_UCSFFSX51_08_01_16</th>\n",
              "      <th>ST91TA_UCSFFSX_11_02_15_UCSFFSX51_08_01_16</th>\n",
              "      <th>ST93TA_UCSFFSX_11_02_15_UCSFFSX51_08_01_16</th>\n",
              "      <th>ST94TA_UCSFFSX_11_02_15_UCSFFSX51_08_01_16</th>\n",
              "      <th>ST95TA_UCSFFSX_11_02_15_UCSFFSX51_08_01_16</th>\n",
              "      <th>ST97TA_UCSFFSX_11_02_15_UCSFFSX51_08_01_16</th>\n",
              "      <th>ST98TA_UCSFFSX_11_02_15_UCSFFSX51_08_01_16</th>\n",
              "      <th>ST99TA_UCSFFSX_11_02_15_UCSFFSX51_08_01_16</th>\n",
              "    </tr>\n",
              "  </thead>\n",
              "  <tbody>\n",
              "    <tr>\n",
              "      <th>0</th>\n",
              "      <td>4084</td>\n",
              "      <td>1</td>\n",
              "      <td>68.4</td>\n",
              "      <td>30</td>\n",
              "      <td>10.00</td>\n",
              "      <td>2.700</td>\n",
              "      <td>2.635</td>\n",
              "      <td>2.613</td>\n",
              "      <td>2.904</td>\n",
              "      <td>2.311</td>\n",
              "      <td>1.647</td>\n",
              "      <td>2.139</td>\n",
              "      <td>2.652</td>\n",
              "      <td>2.604</td>\n",
              "      <td>2.480</td>\n",
              "      <td>3.095</td>\n",
              "      <td>2.144</td>\n",
              "      <td>2.792</td>\n",
              "      <td>2.207</td>\n",
              "      <td>2.903</td>\n",
              "      <td>2.617</td>\n",
              "      <td>4.117</td>\n",
              "      <td>2.701</td>\n",
              "      <td></td>\n",
              "      <td>3.127</td>\n",
              "      <td>3.051</td>\n",
              "      <td>2.305</td>\n",
              "      <td>2.872</td>\n",
              "      <td>2.732</td>\n",
              "      <td>2.026</td>\n",
              "      <td>3.756</td>\n",
              "      <td>2.813</td>\n",
              "      <td>2.762</td>\n",
              "      <td>2.556</td>\n",
              "      <td>2.916</td>\n",
              "      <td>2.695</td>\n",
              "      <td>2.259</td>\n",
              "      <td>2.690</td>\n",
              "      <td>2.017</td>\n",
              "      <td>2.421</td>\n",
              "      <td>2.949</td>\n",
              "      <td>2.570</td>\n",
              "      <td>2.370</td>\n",
              "      <td>2.674</td>\n",
              "      <td>3.004</td>\n",
              "      <td>2.369</td>\n",
              "      <td>1.599</td>\n",
              "      <td>2.208</td>\n",
              "      <td>2.650</td>\n",
              "      <td>2.739</td>\n",
              "      <td>2.544</td>\n",
              "      <td>3.018</td>\n",
              "      <td>2.377</td>\n",
              "      <td>2.880</td>\n",
              "      <td>2.322</td>\n",
              "      <td>2.657</td>\n",
              "      <td>2.489</td>\n",
              "      <td>3.620</td>\n",
              "      <td>2.711</td>\n",
              "      <td></td>\n",
              "      <td>2.593</td>\n",
              "      <td>2.792</td>\n",
              "      <td>2.660</td>\n",
              "      <td>1.993</td>\n",
              "      <td>3.734</td>\n",
              "      <td>2.390</td>\n",
              "      <td>2.817</td>\n",
              "      <td>2.471</td>\n",
              "      <td>2.990</td>\n",
              "      <td>2.667</td>\n",
              "      <td>2.490</td>\n",
              "      <td>2.523</td>\n",
              "      <td>2.254</td>\n",
              "      <td>2.171</td>\n",
              "      <td>2.862</td>\n",
              "    </tr>\n",
              "    <tr>\n",
              "      <th>1</th>\n",
              "      <td>2196</td>\n",
              "      <td>2</td>\n",
              "      <td>68.2</td>\n",
              "      <td>30</td>\n",
              "      <td>13.00</td>\n",
              "      <td>2.453</td>\n",
              "      <td>2.992</td>\n",
              "      <td>2.470</td>\n",
              "      <td>2.965</td>\n",
              "      <td>2.438</td>\n",
              "      <td>1.584</td>\n",
              "      <td>1.910</td>\n",
              "      <td>2.900</td>\n",
              "      <td>2.451</td>\n",
              "      <td>2.335</td>\n",
              "      <td>2.771</td>\n",
              "      <td>2.354</td>\n",
              "      <td>2.712</td>\n",
              "      <td>2.001</td>\n",
              "      <td>2.729</td>\n",
              "      <td>2.363</td>\n",
              "      <td>3.613</td>\n",
              "      <td>2.475</td>\n",
              "      <td></td>\n",
              "      <td>3.196</td>\n",
              "      <td>3.334</td>\n",
              "      <td>2.343</td>\n",
              "      <td>2.729</td>\n",
              "      <td>2.627</td>\n",
              "      <td>1.742</td>\n",
              "      <td>3.383</td>\n",
              "      <td>2.647</td>\n",
              "      <td>2.758</td>\n",
              "      <td>2.394</td>\n",
              "      <td>2.634</td>\n",
              "      <td>2.334</td>\n",
              "      <td>2.241</td>\n",
              "      <td>2.824</td>\n",
              "      <td>1.865</td>\n",
              "      <td>2.383</td>\n",
              "      <td>2.866</td>\n",
              "      <td>2.334</td>\n",
              "      <td>2.793</td>\n",
              "      <td>2.413</td>\n",
              "      <td>2.874</td>\n",
              "      <td>2.316</td>\n",
              "      <td>1.478</td>\n",
              "      <td>1.909</td>\n",
              "      <td>2.780</td>\n",
              "      <td>2.589</td>\n",
              "      <td>2.133</td>\n",
              "      <td>3.036</td>\n",
              "      <td>2.329</td>\n",
              "      <td>2.687</td>\n",
              "      <td>2.070</td>\n",
              "      <td>2.783</td>\n",
              "      <td>2.594</td>\n",
              "      <td>3.405</td>\n",
              "      <td>2.367</td>\n",
              "      <td></td>\n",
              "      <td>2.582</td>\n",
              "      <td>2.977</td>\n",
              "      <td>2.489</td>\n",
              "      <td>1.868</td>\n",
              "      <td>3.220</td>\n",
              "      <td>2.683</td>\n",
              "      <td>2.569</td>\n",
              "      <td>2.372</td>\n",
              "      <td>2.854</td>\n",
              "      <td>2.867</td>\n",
              "      <td>2.233</td>\n",
              "      <td>2.793</td>\n",
              "      <td>1.987</td>\n",
              "      <td>2.428</td>\n",
              "      <td>2.943</td>\n",
              "    </tr>\n",
              "    <tr>\n",
              "      <th>2</th>\n",
              "      <td>657</td>\n",
              "      <td>1</td>\n",
              "      <td>77.7</td>\n",
              "      <td>29</td>\n",
              "      <td>15.33</td>\n",
              "      <td>2.249</td>\n",
              "      <td>2.296</td>\n",
              "      <td>2.315</td>\n",
              "      <td>2.681</td>\n",
              "      <td>2.420</td>\n",
              "      <td>1.386</td>\n",
              "      <td>1.830</td>\n",
              "      <td>2.466</td>\n",
              "      <td>2.327</td>\n",
              "      <td>2.193</td>\n",
              "      <td>2.415</td>\n",
              "      <td>2.270</td>\n",
              "      <td>2.559</td>\n",
              "      <td>2.008</td>\n",
              "      <td>2.495</td>\n",
              "      <td>2.418</td>\n",
              "      <td>4.210</td>\n",
              "      <td>2.167</td>\n",
              "      <td>1.08</td>\n",
              "      <td>3.362</td>\n",
              "      <td>3.077</td>\n",
              "      <td>2.648</td>\n",
              "      <td>2.759</td>\n",
              "      <td>2.442</td>\n",
              "      <td>1.717</td>\n",
              "      <td>2.886</td>\n",
              "      <td>2.380</td>\n",
              "      <td>2.737</td>\n",
              "      <td>2.402</td>\n",
              "      <td>3.012</td>\n",
              "      <td>2.418</td>\n",
              "      <td>2.056</td>\n",
              "      <td>2.805</td>\n",
              "      <td>1.950</td>\n",
              "      <td>2.318</td>\n",
              "      <td>3.025</td>\n",
              "      <td>2.270</td>\n",
              "      <td>1.831</td>\n",
              "      <td>2.507</td>\n",
              "      <td>2.908</td>\n",
              "      <td>2.335</td>\n",
              "      <td>1.389</td>\n",
              "      <td>1.765</td>\n",
              "      <td>2.397</td>\n",
              "      <td>2.187</td>\n",
              "      <td>2.188</td>\n",
              "      <td>2.889</td>\n",
              "      <td>2.318</td>\n",
              "      <td>2.504</td>\n",
              "      <td>2.028</td>\n",
              "      <td>2.657</td>\n",
              "      <td>2.309</td>\n",
              "      <td>3.880</td>\n",
              "      <td>1.832</td>\n",
              "      <td>1.1</td>\n",
              "      <td>2.338</td>\n",
              "      <td>2.343</td>\n",
              "      <td>2.363</td>\n",
              "      <td>1.601</td>\n",
              "      <td>3.683</td>\n",
              "      <td>2.786</td>\n",
              "      <td>2.385</td>\n",
              "      <td>2.365</td>\n",
              "      <td>2.784</td>\n",
              "      <td>2.415</td>\n",
              "      <td>2.252</td>\n",
              "      <td>2.583</td>\n",
              "      <td>1.850</td>\n",
              "      <td>2.488</td>\n",
              "      <td>2.828</td>\n",
              "    </tr>\n",
              "    <tr>\n",
              "      <th>3</th>\n",
              "      <td>4526</td>\n",
              "      <td>3</td>\n",
              "      <td>79.4</td>\n",
              "      <td>22</td>\n",
              "      <td>24.00</td>\n",
              "      <td>2.197</td>\n",
              "      <td>2.289</td>\n",
              "      <td>2.258</td>\n",
              "      <td>2.413</td>\n",
              "      <td>2.124</td>\n",
              "      <td>1.473</td>\n",
              "      <td>1.729</td>\n",
              "      <td>2.680</td>\n",
              "      <td>2.184</td>\n",
              "      <td>2.144</td>\n",
              "      <td>2.680</td>\n",
              "      <td>2.218</td>\n",
              "      <td>2.407</td>\n",
              "      <td>1.923</td>\n",
              "      <td>2.542</td>\n",
              "      <td>2.296</td>\n",
              "      <td>3.135</td>\n",
              "      <td>2.157</td>\n",
              "      <td></td>\n",
              "      <td>2.671</td>\n",
              "      <td>2.925</td>\n",
              "      <td>2.288</td>\n",
              "      <td>3.322</td>\n",
              "      <td>2.336</td>\n",
              "      <td>1.691</td>\n",
              "      <td>2.399</td>\n",
              "      <td>2.940</td>\n",
              "      <td>2.178</td>\n",
              "      <td>2.079</td>\n",
              "      <td>2.411</td>\n",
              "      <td>2.083</td>\n",
              "      <td>1.904</td>\n",
              "      <td>2.400</td>\n",
              "      <td>1.750</td>\n",
              "      <td>2.122</td>\n",
              "      <td>2.493</td>\n",
              "      <td>2.122</td>\n",
              "      <td>2.244</td>\n",
              "      <td>2.399</td>\n",
              "      <td>2.308</td>\n",
              "      <td>2.073</td>\n",
              "      <td>1.506</td>\n",
              "      <td>1.777</td>\n",
              "      <td>2.334</td>\n",
              "      <td>2.319</td>\n",
              "      <td>2.087</td>\n",
              "      <td>2.560</td>\n",
              "      <td>2.056</td>\n",
              "      <td>2.410</td>\n",
              "      <td>2.058</td>\n",
              "      <td>2.403</td>\n",
              "      <td>2.269</td>\n",
              "      <td>3.085</td>\n",
              "      <td>2.080</td>\n",
              "      <td></td>\n",
              "      <td>2.503</td>\n",
              "      <td>2.784</td>\n",
              "      <td>2.372</td>\n",
              "      <td>1.757</td>\n",
              "      <td>2.651</td>\n",
              "      <td>2.665</td>\n",
              "      <td>2.578</td>\n",
              "      <td>2.305</td>\n",
              "      <td>2.514</td>\n",
              "      <td>2.515</td>\n",
              "      <td>2.050</td>\n",
              "      <td>2.537</td>\n",
              "      <td>1.958</td>\n",
              "      <td>2.455</td>\n",
              "      <td>2.591</td>\n",
              "    </tr>\n",
              "    <tr>\n",
              "      <th>4</th>\n",
              "      <td>362</td>\n",
              "      <td>2</td>\n",
              "      <td>70.5</td>\n",
              "      <td>24</td>\n",
              "      <td>20.33</td>\n",
              "      <td>1.765</td>\n",
              "      <td>2.081</td>\n",
              "      <td>2.406</td>\n",
              "      <td>2.461</td>\n",
              "      <td>2.140</td>\n",
              "      <td>1.466</td>\n",
              "      <td>1.749</td>\n",
              "      <td>2.025</td>\n",
              "      <td>2.021</td>\n",
              "      <td>1.938</td>\n",
              "      <td>2.266</td>\n",
              "      <td>2.114</td>\n",
              "      <td>2.368</td>\n",
              "      <td>1.811</td>\n",
              "      <td>2.227</td>\n",
              "      <td>2.191</td>\n",
              "      <td>3.188</td>\n",
              "      <td>1.708</td>\n",
              "      <td>1.013</td>\n",
              "      <td>2.548</td>\n",
              "      <td>2.569</td>\n",
              "      <td>2.280</td>\n",
              "      <td>2.313</td>\n",
              "      <td>2.291</td>\n",
              "      <td>1.821</td>\n",
              "      <td>2.293</td>\n",
              "      <td>2.248</td>\n",
              "      <td>2.414</td>\n",
              "      <td>2.164</td>\n",
              "      <td>2.619</td>\n",
              "      <td>2.012</td>\n",
              "      <td>1.916</td>\n",
              "      <td>2.451</td>\n",
              "      <td>1.959</td>\n",
              "      <td>2.519</td>\n",
              "      <td>2.405</td>\n",
              "      <td>1.968</td>\n",
              "      <td>2.466</td>\n",
              "      <td>2.201</td>\n",
              "      <td>2.711</td>\n",
              "      <td>2.287</td>\n",
              "      <td>1.753</td>\n",
              "      <td>1.644</td>\n",
              "      <td>2.209</td>\n",
              "      <td>1.941</td>\n",
              "      <td>2.050</td>\n",
              "      <td>2.745</td>\n",
              "      <td>2.102</td>\n",
              "      <td>2.519</td>\n",
              "      <td>1.919</td>\n",
              "      <td>2.272</td>\n",
              "      <td>2.099</td>\n",
              "      <td>2.864</td>\n",
              "      <td>2.191</td>\n",
              "      <td>0.922</td>\n",
              "      <td>2.317</td>\n",
              "      <td>2.139</td>\n",
              "      <td>2.273</td>\n",
              "      <td>1.662</td>\n",
              "      <td>2.790</td>\n",
              "      <td>2.504</td>\n",
              "      <td>2.348</td>\n",
              "      <td>2.197</td>\n",
              "      <td>2.596</td>\n",
              "      <td>1.844</td>\n",
              "      <td>2.057</td>\n",
              "      <td>2.121</td>\n",
              "      <td>1.951</td>\n",
              "      <td>2.262</td>\n",
              "      <td>2.245</td>\n",
              "    </tr>\n",
              "    <tr>\n",
              "      <th>...</th>\n",
              "      <td>...</td>\n",
              "      <td>...</td>\n",
              "      <td>...</td>\n",
              "      <td>...</td>\n",
              "      <td>...</td>\n",
              "      <td>...</td>\n",
              "      <td>...</td>\n",
              "      <td>...</td>\n",
              "      <td>...</td>\n",
              "      <td>...</td>\n",
              "      <td>...</td>\n",
              "      <td>...</td>\n",
              "      <td>...</td>\n",
              "      <td>...</td>\n",
              "      <td>...</td>\n",
              "      <td>...</td>\n",
              "      <td>...</td>\n",
              "      <td>...</td>\n",
              "      <td>...</td>\n",
              "      <td>...</td>\n",
              "      <td>...</td>\n",
              "      <td>...</td>\n",
              "      <td>...</td>\n",
              "      <td>...</td>\n",
              "      <td>...</td>\n",
              "      <td>...</td>\n",
              "      <td>...</td>\n",
              "      <td>...</td>\n",
              "      <td>...</td>\n",
              "      <td>...</td>\n",
              "      <td>...</td>\n",
              "      <td>...</td>\n",
              "      <td>...</td>\n",
              "      <td>...</td>\n",
              "      <td>...</td>\n",
              "      <td>...</td>\n",
              "      <td>...</td>\n",
              "      <td>...</td>\n",
              "      <td>...</td>\n",
              "      <td>...</td>\n",
              "      <td>...</td>\n",
              "      <td>...</td>\n",
              "      <td>...</td>\n",
              "      <td>...</td>\n",
              "      <td>...</td>\n",
              "      <td>...</td>\n",
              "      <td>...</td>\n",
              "      <td>...</td>\n",
              "      <td>...</td>\n",
              "      <td>...</td>\n",
              "      <td>...</td>\n",
              "      <td>...</td>\n",
              "      <td>...</td>\n",
              "      <td>...</td>\n",
              "      <td>...</td>\n",
              "      <td>...</td>\n",
              "      <td>...</td>\n",
              "      <td>...</td>\n",
              "      <td>...</td>\n",
              "      <td>...</td>\n",
              "      <td>...</td>\n",
              "      <td>...</td>\n",
              "      <td>...</td>\n",
              "      <td>...</td>\n",
              "      <td>...</td>\n",
              "      <td>...</td>\n",
              "      <td>...</td>\n",
              "      <td>...</td>\n",
              "      <td>...</td>\n",
              "      <td>...</td>\n",
              "      <td>...</td>\n",
              "      <td>...</td>\n",
              "      <td>...</td>\n",
              "      <td>...</td>\n",
              "      <td>...</td>\n",
              "    </tr>\n",
              "    <tr>\n",
              "      <th>1358</th>\n",
              "      <td>4187</td>\n",
              "      <td>2</td>\n",
              "      <td>62.0</td>\n",
              "      <td>29</td>\n",
              "      <td>17.00</td>\n",
              "      <td>2.441</td>\n",
              "      <td>2.813</td>\n",
              "      <td>2.614</td>\n",
              "      <td>2.523</td>\n",
              "      <td>2.354</td>\n",
              "      <td>1.830</td>\n",
              "      <td>2.056</td>\n",
              "      <td>2.479</td>\n",
              "      <td>2.555</td>\n",
              "      <td>2.395</td>\n",
              "      <td>2.923</td>\n",
              "      <td>2.005</td>\n",
              "      <td>2.571</td>\n",
              "      <td>2.312</td>\n",
              "      <td>2.923</td>\n",
              "      <td>2.596</td>\n",
              "      <td>3.972</td>\n",
              "      <td>2.793</td>\n",
              "      <td></td>\n",
              "      <td>3.396</td>\n",
              "      <td>3.230</td>\n",
              "      <td>2.417</td>\n",
              "      <td>2.855</td>\n",
              "      <td>2.544</td>\n",
              "      <td>1.938</td>\n",
              "      <td>3.513</td>\n",
              "      <td>2.713</td>\n",
              "      <td>2.846</td>\n",
              "      <td>2.371</td>\n",
              "      <td>2.907</td>\n",
              "      <td>2.434</td>\n",
              "      <td>2.259</td>\n",
              "      <td>2.717</td>\n",
              "      <td>2.096</td>\n",
              "      <td>2.335</td>\n",
              "      <td>2.996</td>\n",
              "      <td>2.317</td>\n",
              "      <td>2.851</td>\n",
              "      <td>2.610</td>\n",
              "      <td>2.411</td>\n",
              "      <td>2.426</td>\n",
              "      <td>1.769</td>\n",
              "      <td>2.097</td>\n",
              "      <td>2.476</td>\n",
              "      <td>2.625</td>\n",
              "      <td>2.357</td>\n",
              "      <td>3.116</td>\n",
              "      <td>2.263</td>\n",
              "      <td>2.681</td>\n",
              "      <td>2.270</td>\n",
              "      <td>2.702</td>\n",
              "      <td>2.533</td>\n",
              "      <td>3.715</td>\n",
              "      <td>2.815</td>\n",
              "      <td></td>\n",
              "      <td>2.464</td>\n",
              "      <td>2.634</td>\n",
              "      <td>2.531</td>\n",
              "      <td>2.035</td>\n",
              "      <td>3.865</td>\n",
              "      <td>2.568</td>\n",
              "      <td>2.850</td>\n",
              "      <td>2.524</td>\n",
              "      <td>3.213</td>\n",
              "      <td>2.489</td>\n",
              "      <td>2.455</td>\n",
              "      <td>2.634</td>\n",
              "      <td>2.209</td>\n",
              "      <td>2.310</td>\n",
              "      <td>2.935</td>\n",
              "    </tr>\n",
              "    <tr>\n",
              "      <th>1359</th>\n",
              "      <td>4928</td>\n",
              "      <td>2</td>\n",
              "      <td>77.8</td>\n",
              "      <td>27</td>\n",
              "      <td>17.00</td>\n",
              "      <td>2.301</td>\n",
              "      <td>2.246</td>\n",
              "      <td>2.556</td>\n",
              "      <td>2.392</td>\n",
              "      <td>2.158</td>\n",
              "      <td>1.686</td>\n",
              "      <td>1.914</td>\n",
              "      <td>2.318</td>\n",
              "      <td>2.297</td>\n",
              "      <td>2.268</td>\n",
              "      <td>2.908</td>\n",
              "      <td>2.136</td>\n",
              "      <td>2.445</td>\n",
              "      <td>2.067</td>\n",
              "      <td>2.385</td>\n",
              "      <td>2.458</td>\n",
              "      <td>2.749</td>\n",
              "      <td>2.360</td>\n",
              "      <td></td>\n",
              "      <td>2.855</td>\n",
              "      <td>2.919</td>\n",
              "      <td>2.063</td>\n",
              "      <td>2.426</td>\n",
              "      <td>2.284</td>\n",
              "      <td>1.906</td>\n",
              "      <td>3.070</td>\n",
              "      <td>2.408</td>\n",
              "      <td>2.386</td>\n",
              "      <td>2.235</td>\n",
              "      <td>2.685</td>\n",
              "      <td>2.419</td>\n",
              "      <td>1.953</td>\n",
              "      <td>2.660</td>\n",
              "      <td>1.815</td>\n",
              "      <td>2.303</td>\n",
              "      <td>2.681</td>\n",
              "      <td>2.349</td>\n",
              "      <td>2.211</td>\n",
              "      <td>2.330</td>\n",
              "      <td>2.018</td>\n",
              "      <td>2.196</td>\n",
              "      <td>1.565</td>\n",
              "      <td>1.845</td>\n",
              "      <td>2.281</td>\n",
              "      <td>2.255</td>\n",
              "      <td>2.266</td>\n",
              "      <td>2.893</td>\n",
              "      <td>2.167</td>\n",
              "      <td>2.420</td>\n",
              "      <td>1.934</td>\n",
              "      <td>2.468</td>\n",
              "      <td>2.420</td>\n",
              "      <td>3.288</td>\n",
              "      <td>2.411</td>\n",
              "      <td></td>\n",
              "      <td>2.147</td>\n",
              "      <td>2.478</td>\n",
              "      <td>2.319</td>\n",
              "      <td>2.057</td>\n",
              "      <td>2.106</td>\n",
              "      <td>2.742</td>\n",
              "      <td>2.369</td>\n",
              "      <td>2.221</td>\n",
              "      <td>2.485</td>\n",
              "      <td>2.162</td>\n",
              "      <td>2.152</td>\n",
              "      <td>2.375</td>\n",
              "      <td>1.917</td>\n",
              "      <td>2.199</td>\n",
              "      <td>2.709</td>\n",
              "    </tr>\n",
              "    <tr>\n",
              "      <th>1360</th>\n",
              "      <td>4887</td>\n",
              "      <td>3</td>\n",
              "      <td>73.8</td>\n",
              "      <td>26</td>\n",
              "      <td>27.00</td>\n",
              "      <td>1.996</td>\n",
              "      <td>2.545</td>\n",
              "      <td>2.196</td>\n",
              "      <td>2.263</td>\n",
              "      <td>2.099</td>\n",
              "      <td>1.343</td>\n",
              "      <td>1.858</td>\n",
              "      <td>2.676</td>\n",
              "      <td>2.135</td>\n",
              "      <td>1.955</td>\n",
              "      <td>2.882</td>\n",
              "      <td>2.042</td>\n",
              "      <td>2.448</td>\n",
              "      <td>1.874</td>\n",
              "      <td>2.486</td>\n",
              "      <td>2.061</td>\n",
              "      <td>3.193</td>\n",
              "      <td>1.800</td>\n",
              "      <td></td>\n",
              "      <td>3.054</td>\n",
              "      <td>2.921</td>\n",
              "      <td>2.170</td>\n",
              "      <td>2.629</td>\n",
              "      <td>2.119</td>\n",
              "      <td>1.730</td>\n",
              "      <td>3.190</td>\n",
              "      <td>2.839</td>\n",
              "      <td>2.443</td>\n",
              "      <td>1.948</td>\n",
              "      <td>2.381</td>\n",
              "      <td>2.567</td>\n",
              "      <td>1.854</td>\n",
              "      <td>2.713</td>\n",
              "      <td>1.646</td>\n",
              "      <td>2.698</td>\n",
              "      <td>2.424</td>\n",
              "      <td>1.969</td>\n",
              "      <td>2.428</td>\n",
              "      <td>2.231</td>\n",
              "      <td>2.447</td>\n",
              "      <td>2.340</td>\n",
              "      <td>1.472</td>\n",
              "      <td>1.775</td>\n",
              "      <td>2.832</td>\n",
              "      <td>2.014</td>\n",
              "      <td>2.200</td>\n",
              "      <td>2.720</td>\n",
              "      <td>2.320</td>\n",
              "      <td>2.427</td>\n",
              "      <td>1.849</td>\n",
              "      <td>2.362</td>\n",
              "      <td>2.122</td>\n",
              "      <td>3.244</td>\n",
              "      <td>2.270</td>\n",
              "      <td></td>\n",
              "      <td>2.577</td>\n",
              "      <td>2.239</td>\n",
              "      <td>2.084</td>\n",
              "      <td>1.682</td>\n",
              "      <td>2.797</td>\n",
              "      <td>3.351</td>\n",
              "      <td>2.529</td>\n",
              "      <td>2.057</td>\n",
              "      <td>2.585</td>\n",
              "      <td>2.596</td>\n",
              "      <td>1.919</td>\n",
              "      <td>2.683</td>\n",
              "      <td>1.701</td>\n",
              "      <td>2.749</td>\n",
              "      <td>2.777</td>\n",
              "    </tr>\n",
              "    <tr>\n",
              "      <th>1361</th>\n",
              "      <td>1205</td>\n",
              "      <td>3</td>\n",
              "      <td>83.0</td>\n",
              "      <td>23</td>\n",
              "      <td>29.33</td>\n",
              "      <td>1.822</td>\n",
              "      <td>2.508</td>\n",
              "      <td>2.174</td>\n",
              "      <td>2.406</td>\n",
              "      <td>2.000</td>\n",
              "      <td>1.374</td>\n",
              "      <td>1.465</td>\n",
              "      <td>2.589</td>\n",
              "      <td>1.677</td>\n",
              "      <td>1.932</td>\n",
              "      <td>2.710</td>\n",
              "      <td>2.018</td>\n",
              "      <td>2.215</td>\n",
              "      <td>1.617</td>\n",
              "      <td>2.066</td>\n",
              "      <td>1.910</td>\n",
              "      <td>3.069</td>\n",
              "      <td>1.536</td>\n",
              "      <td>1.043</td>\n",
              "      <td>2.902</td>\n",
              "      <td>2.809</td>\n",
              "      <td>1.875</td>\n",
              "      <td>2.716</td>\n",
              "      <td>2.001</td>\n",
              "      <td>1.396</td>\n",
              "      <td>2.681</td>\n",
              "      <td>1.613</td>\n",
              "      <td>2.239</td>\n",
              "      <td>1.966</td>\n",
              "      <td>2.561</td>\n",
              "      <td>2.520</td>\n",
              "      <td>1.648</td>\n",
              "      <td>2.414</td>\n",
              "      <td>1.736</td>\n",
              "      <td>1.962</td>\n",
              "      <td>2.296</td>\n",
              "      <td>1.784</td>\n",
              "      <td>2.468</td>\n",
              "      <td>1.769</td>\n",
              "      <td>2.079</td>\n",
              "      <td>1.926</td>\n",
              "      <td>1.232</td>\n",
              "      <td>1.501</td>\n",
              "      <td>2.476</td>\n",
              "      <td>1.831</td>\n",
              "      <td>1.939</td>\n",
              "      <td>3.250</td>\n",
              "      <td>1.900</td>\n",
              "      <td>2.403</td>\n",
              "      <td>1.680</td>\n",
              "      <td>2.193</td>\n",
              "      <td>1.968</td>\n",
              "      <td>3.351</td>\n",
              "      <td>1.494</td>\n",
              "      <td>0.997</td>\n",
              "      <td>1.828</td>\n",
              "      <td>3.025</td>\n",
              "      <td>1.852</td>\n",
              "      <td>1.463</td>\n",
              "      <td>2.982</td>\n",
              "      <td>2.109</td>\n",
              "      <td>2.408</td>\n",
              "      <td>1.849</td>\n",
              "      <td>2.449</td>\n",
              "      <td>2.574</td>\n",
              "      <td>1.784</td>\n",
              "      <td>2.515</td>\n",
              "      <td>1.806</td>\n",
              "      <td>2.071</td>\n",
              "      <td>2.248</td>\n",
              "    </tr>\n",
              "    <tr>\n",
              "      <th>1362</th>\n",
              "      <td>2099</td>\n",
              "      <td>2</td>\n",
              "      <td>83.7</td>\n",
              "      <td>30</td>\n",
              "      <td>12.00</td>\n",
              "      <td>2.245</td>\n",
              "      <td>2.351</td>\n",
              "      <td>2.305</td>\n",
              "      <td>2.475</td>\n",
              "      <td>2.155</td>\n",
              "      <td>1.676</td>\n",
              "      <td>1.857</td>\n",
              "      <td>2.525</td>\n",
              "      <td>2.085</td>\n",
              "      <td>2.136</td>\n",
              "      <td>2.712</td>\n",
              "      <td>2.161</td>\n",
              "      <td>2.295</td>\n",
              "      <td>1.948</td>\n",
              "      <td>2.424</td>\n",
              "      <td>2.267</td>\n",
              "      <td>2.958</td>\n",
              "      <td>1.778</td>\n",
              "      <td></td>\n",
              "      <td>2.672</td>\n",
              "      <td>2.507</td>\n",
              "      <td>2.109</td>\n",
              "      <td>2.693</td>\n",
              "      <td>2.315</td>\n",
              "      <td>1.637</td>\n",
              "      <td>3.445</td>\n",
              "      <td>2.396</td>\n",
              "      <td>2.432</td>\n",
              "      <td>2.265</td>\n",
              "      <td>2.568</td>\n",
              "      <td>2.378</td>\n",
              "      <td>2.021</td>\n",
              "      <td>2.350</td>\n",
              "      <td>1.699</td>\n",
              "      <td>2.257</td>\n",
              "      <td>2.625</td>\n",
              "      <td>2.034</td>\n",
              "      <td>2.488</td>\n",
              "      <td>2.237</td>\n",
              "      <td>2.236</td>\n",
              "      <td>2.314</td>\n",
              "      <td>1.386</td>\n",
              "      <td>1.868</td>\n",
              "      <td>2.380</td>\n",
              "      <td>2.072</td>\n",
              "      <td>2.060</td>\n",
              "      <td>2.581</td>\n",
              "      <td>2.155</td>\n",
              "      <td>2.376</td>\n",
              "      <td>1.894</td>\n",
              "      <td>2.400</td>\n",
              "      <td>2.330</td>\n",
              "      <td>3.177</td>\n",
              "      <td>2.054</td>\n",
              "      <td></td>\n",
              "      <td>2.403</td>\n",
              "      <td>2.433</td>\n",
              "      <td>2.206</td>\n",
              "      <td>1.785</td>\n",
              "      <td>3.093</td>\n",
              "      <td>2.310</td>\n",
              "      <td>2.408</td>\n",
              "      <td>2.229</td>\n",
              "      <td>2.428</td>\n",
              "      <td>2.460</td>\n",
              "      <td>2.097</td>\n",
              "      <td>2.381</td>\n",
              "      <td>1.817</td>\n",
              "      <td>2.121</td>\n",
              "      <td>2.586</td>\n",
              "    </tr>\n",
              "  </tbody>\n",
              "</table>\n",
              "<p>1363 rows × 75 columns</p>\n",
              "</div>"
            ],
            "text/plain": [
              "       RID  ...  ST99TA_UCSFFSX_11_02_15_UCSFFSX51_08_01_16\n",
              "0     4084  ...                                       2.862\n",
              "1     2196  ...                                       2.943\n",
              "2      657  ...                                       2.828\n",
              "3     4526  ...                                       2.591\n",
              "4      362  ...                                       2.245\n",
              "...    ...  ...                                         ...\n",
              "1358  4187  ...                                       2.935\n",
              "1359  4928  ...                                       2.709\n",
              "1360  4887  ...                                       2.777\n",
              "1361  1205  ...                                       2.248\n",
              "1362  2099  ...                                       2.586\n",
              "\n",
              "[1363 rows x 75 columns]"
            ]
          },
          "metadata": {
            "tags": []
          },
          "execution_count": 4
        }
      ]
    },
    {
      "cell_type": "markdown",
      "metadata": {
        "id": "zClA5A4lGOl5",
        "colab_type": "text"
      },
      "source": [
        "# **1. data 처리**"
      ]
    },
    {
      "cell_type": "code",
      "metadata": {
        "id": "WuuFRiRUyAFL",
        "colab_type": "code",
        "outputId": "b971ac8c-0400-4621-fdf6-313e296cb048",
        "colab": {
          "base_uri": "https://localhost:8080/",
          "height": 1000
        }
      },
      "source": [
        "# 일단 RID값은 별로 필요없을 거 같다. drop시킬 것임 \n",
        "train_data.info()"
      ],
      "execution_count": 0,
      "outputs": [
        {
          "output_type": "stream",
          "text": [
            "<class 'pandas.core.frame.DataFrame'>\n",
            "RangeIndex: 1363 entries, 0 to 1362\n",
            "Data columns (total 75 columns):\n",
            "RID                                            1363 non-null int64\n",
            "DXCHANGE                                       1363 non-null int64\n",
            "AGE                                            1363 non-null float64\n",
            "MMSE                                           1363 non-null int64\n",
            "ADAS13                                         1353 non-null float64\n",
            "ST102TA_UCSFFSX_11_02_15_UCSFFSX51_08_01_16    1363 non-null float64\n",
            "ST103TA_UCSFFSX_11_02_15_UCSFFSX51_08_01_16    1363 non-null float64\n",
            "ST104TA_UCSFFSX_11_02_15_UCSFFSX51_08_01_16    1363 non-null float64\n",
            "ST105TA_UCSFFSX_11_02_15_UCSFFSX51_08_01_16    1363 non-null float64\n",
            "ST106TA_UCSFFSX_11_02_15_UCSFFSX51_08_01_16    1363 non-null float64\n",
            "ST107TA_UCSFFSX_11_02_15_UCSFFSX51_08_01_16    1363 non-null float64\n",
            "ST108TA_UCSFFSX_11_02_15_UCSFFSX51_08_01_16    1363 non-null float64\n",
            "ST109TA_UCSFFSX_11_02_15_UCSFFSX51_08_01_16    1363 non-null float64\n",
            "ST110TA_UCSFFSX_11_02_15_UCSFFSX51_08_01_16    1363 non-null float64\n",
            "ST111TA_UCSFFSX_11_02_15_UCSFFSX51_08_01_16    1363 non-null float64\n",
            "ST113TA_UCSFFSX_11_02_15_UCSFFSX51_08_01_16    1363 non-null float64\n",
            "ST114TA_UCSFFSX_11_02_15_UCSFFSX51_08_01_16    1363 non-null float64\n",
            "ST115TA_UCSFFSX_11_02_15_UCSFFSX51_08_01_16    1363 non-null float64\n",
            "ST116TA_UCSFFSX_11_02_15_UCSFFSX51_08_01_16    1363 non-null float64\n",
            "ST117TA_UCSFFSX_11_02_15_UCSFFSX51_08_01_16    1363 non-null float64\n",
            "ST118TA_UCSFFSX_11_02_15_UCSFFSX51_08_01_16    1363 non-null float64\n",
            "ST119TA_UCSFFSX_11_02_15_UCSFFSX51_08_01_16    1363 non-null float64\n",
            "ST121TA_UCSFFSX_11_02_15_UCSFFSX51_08_01_16    1363 non-null float64\n",
            "ST123TA_UCSFFSX_11_02_15_UCSFFSX51_08_01_16    1363 non-null object\n",
            "ST129TA_UCSFFSX_11_02_15_UCSFFSX51_08_01_16    1363 non-null float64\n",
            "ST130TA_UCSFFSX_11_02_15_UCSFFSX51_08_01_16    1363 non-null float64\n",
            "ST13TA_UCSFFSX_11_02_15_UCSFFSX51_08_01_16     1363 non-null float64\n",
            "ST14TA_UCSFFSX_11_02_15_UCSFFSX51_08_01_16     1363 non-null float64\n",
            "ST15TA_UCSFFSX_11_02_15_UCSFFSX51_08_01_16     1363 non-null float64\n",
            "ST23TA_UCSFFSX_11_02_15_UCSFFSX51_08_01_16     1363 non-null float64\n",
            "ST24TA_UCSFFSX_11_02_15_UCSFFSX51_08_01_16     1362 non-null float64\n",
            "ST25TA_UCSFFSX_11_02_15_UCSFFSX51_08_01_16     1363 non-null float64\n",
            "ST26TA_UCSFFSX_11_02_15_UCSFFSX51_08_01_16     1363 non-null float64\n",
            "ST31TA_UCSFFSX_11_02_15_UCSFFSX51_08_01_16     1363 non-null float64\n",
            "ST32TA_UCSFFSX_11_02_15_UCSFFSX51_08_01_16     1363 non-null float64\n",
            "ST34TA_UCSFFSX_11_02_15_UCSFFSX51_08_01_16     1363 non-null float64\n",
            "ST35TA_UCSFFSX_11_02_15_UCSFFSX51_08_01_16     1363 non-null float64\n",
            "ST36TA_UCSFFSX_11_02_15_UCSFFSX51_08_01_16     1363 non-null float64\n",
            "ST38TA_UCSFFSX_11_02_15_UCSFFSX51_08_01_16     1363 non-null float64\n",
            "ST39TA_UCSFFSX_11_02_15_UCSFFSX51_08_01_16     1363 non-null float64\n",
            "ST40TA_UCSFFSX_11_02_15_UCSFFSX51_08_01_16     1363 non-null float64\n",
            "ST43TA_UCSFFSX_11_02_15_UCSFFSX51_08_01_16     1363 non-null float64\n",
            "ST44TA_UCSFFSX_11_02_15_UCSFFSX51_08_01_16     1362 non-null float64\n",
            "ST45TA_UCSFFSX_11_02_15_UCSFFSX51_08_01_16     1363 non-null float64\n",
            "ST46TA_UCSFFSX_11_02_15_UCSFFSX51_08_01_16     1363 non-null float64\n",
            "ST47TA_UCSFFSX_11_02_15_UCSFFSX51_08_01_16     1363 non-null float64\n",
            "ST48TA_UCSFFSX_11_02_15_UCSFFSX51_08_01_16     1363 non-null float64\n",
            "ST49TA_UCSFFSX_11_02_15_UCSFFSX51_08_01_16     1363 non-null float64\n",
            "ST50TA_UCSFFSX_11_02_15_UCSFFSX51_08_01_16     1363 non-null float64\n",
            "ST51TA_UCSFFSX_11_02_15_UCSFFSX51_08_01_16     1363 non-null float64\n",
            "ST52TA_UCSFFSX_11_02_15_UCSFFSX51_08_01_16     1363 non-null float64\n",
            "ST54TA_UCSFFSX_11_02_15_UCSFFSX51_08_01_16     1363 non-null float64\n",
            "ST55TA_UCSFFSX_11_02_15_UCSFFSX51_08_01_16     1363 non-null float64\n",
            "ST56TA_UCSFFSX_11_02_15_UCSFFSX51_08_01_16     1363 non-null float64\n",
            "ST57TA_UCSFFSX_11_02_15_UCSFFSX51_08_01_16     1363 non-null float64\n",
            "ST58TA_UCSFFSX_11_02_15_UCSFFSX51_08_01_16     1363 non-null float64\n",
            "ST59TA_UCSFFSX_11_02_15_UCSFFSX51_08_01_16     1363 non-null float64\n",
            "ST60TA_UCSFFSX_11_02_15_UCSFFSX51_08_01_16     1363 non-null float64\n",
            "ST62TA_UCSFFSX_11_02_15_UCSFFSX51_08_01_16     1363 non-null float64\n",
            "ST64TA_UCSFFSX_11_02_15_UCSFFSX51_08_01_16     1363 non-null object\n",
            "ST72TA_UCSFFSX_11_02_15_UCSFFSX51_08_01_16     1363 non-null float64\n",
            "ST73TA_UCSFFSX_11_02_15_UCSFFSX51_08_01_16     1363 non-null float64\n",
            "ST74TA_UCSFFSX_11_02_15_UCSFFSX51_08_01_16     1363 non-null float64\n",
            "ST82TA_UCSFFSX_11_02_15_UCSFFSX51_08_01_16     1363 non-null float64\n",
            "ST83TA_UCSFFSX_11_02_15_UCSFFSX51_08_01_16     1363 non-null float64\n",
            "ST84TA_UCSFFSX_11_02_15_UCSFFSX51_08_01_16     1363 non-null float64\n",
            "ST85TA_UCSFFSX_11_02_15_UCSFFSX51_08_01_16     1363 non-null float64\n",
            "ST90TA_UCSFFSX_11_02_15_UCSFFSX51_08_01_16     1363 non-null float64\n",
            "ST91TA_UCSFFSX_11_02_15_UCSFFSX51_08_01_16     1363 non-null float64\n",
            "ST93TA_UCSFFSX_11_02_15_UCSFFSX51_08_01_16     1363 non-null float64\n",
            "ST94TA_UCSFFSX_11_02_15_UCSFFSX51_08_01_16     1363 non-null float64\n",
            "ST95TA_UCSFFSX_11_02_15_UCSFFSX51_08_01_16     1363 non-null float64\n",
            "ST97TA_UCSFFSX_11_02_15_UCSFFSX51_08_01_16     1363 non-null float64\n",
            "ST98TA_UCSFFSX_11_02_15_UCSFFSX51_08_01_16     1363 non-null float64\n",
            "ST99TA_UCSFFSX_11_02_15_UCSFFSX51_08_01_16     1363 non-null float64\n",
            "dtypes: float64(70), int64(3), object(2)\n",
            "memory usage: 798.8+ KB\n"
          ],
          "name": "stdout"
        }
      ]
    },
    {
      "cell_type": "code",
      "metadata": {
        "id": "4EME0Nh13AyS",
        "colab_type": "code",
        "outputId": "a16f5472-0d39-408d-e4f0-ae73a2e64826",
        "colab": {
          "base_uri": "https://localhost:8080/",
          "height": 177
        }
      },
      "source": [
        "train_data['ADAS13'].describe()"
      ],
      "execution_count": 0,
      "outputs": [
        {
          "output_type": "execute_result",
          "data": {
            "text/plain": [
              "count    1353.000000\n",
              "mean       16.767191\n",
              "std         9.470979\n",
              "min         0.000000\n",
              "25%         9.330000\n",
              "50%        15.000000\n",
              "75%        22.670000\n",
              "max        51.000000\n",
              "Name: ADAS13, dtype: float64"
            ]
          },
          "metadata": {
            "tags": []
          },
          "execution_count": 6
        }
      ]
    },
    {
      "cell_type": "markdown",
      "metadata": {
        "id": "ffJ5UuBQFUv4",
        "colab_type": "text"
      },
      "source": [
        "필요없는 데이터 버리기 : RID\n",
        "---"
      ]
    },
    {
      "cell_type": "code",
      "metadata": {
        "id": "N6XXIgzaEPKj",
        "colab_type": "code",
        "colab": {}
      },
      "source": [
        "train_data = train_data.drop(\"RID\",axis=1)"
      ],
      "execution_count": 0,
      "outputs": []
    },
    {
      "cell_type": "markdown",
      "metadata": {
        "id": "MjMqh2LZM80d",
        "colab_type": "text"
      },
      "source": [
        "object 처리 : space to NaN\n",
        "---\n"
      ]
    },
    {
      "cell_type": "markdown",
      "metadata": {
        "id": "V-epw1Tw7fqE",
        "colab_type": "text"
      },
      "source": [
        "엄청 비어져보이는 2개의 데이터가 둘다 object였다.\n",
        "\n",
        "근데 실제로는 float값인 것 같아 ' '인 부분들을 모두nan으로 바꾼다.\n",
        "안그러면 imputer로 연산이 안되는 듯\n",
        "\n",
        "실제 비어진 데이터로는 cortical값중에 1개가 1개가 비어져있다. 이 값을 median으로 채우면 될 거 같고, \n",
        "\n",
        "예측 값중에 하나인 ADAS13도 10개가 비어져있다. 이것도 채우면 될듯 imputer사용해서\n"
      ]
    },
    {
      "cell_type": "code",
      "metadata": {
        "id": "9iu8Ur3Cyhhw",
        "colab_type": "code",
        "outputId": "3415ea7f-f941-45c9-9386-39df06628f4c",
        "colab": {
          "base_uri": "https://localhost:8080/",
          "height": 230
        }
      },
      "source": [
        "train_data[\"ST64TA_UCSFFSX_11_02_15_UCSFFSX51_08_01_16\"].value_counts()"
      ],
      "execution_count": 0,
      "outputs": [
        {
          "output_type": "execute_result",
          "data": {
            "text/plain": [
              "         724\n",
              "1.17       6\n",
              "1.005      5\n",
              "1.086      5\n",
              "1.172      5\n",
              "        ... \n",
              "1.022      1\n",
              "0.889      1\n",
              "0.954      1\n",
              "1          1\n",
              "1.218      1\n",
              "Name: ST64TA_UCSFFSX_11_02_15_UCSFFSX51_08_01_16, Length: 379, dtype: int64"
            ]
          },
          "metadata": {
            "tags": []
          },
          "execution_count": 8
        }
      ]
    },
    {
      "cell_type": "code",
      "metadata": {
        "id": "NXvkxYB_98jQ",
        "colab_type": "code",
        "outputId": "9786c4c4-f491-4392-91c3-8cb8988e79fb",
        "colab": {
          "base_uri": "https://localhost:8080/",
          "height": 35
        }
      },
      "source": [
        "train_data[\"ST64TA_UCSFFSX_11_02_15_UCSFFSX51_08_01_16\"][0] #그냥 space로 뜬다."
      ],
      "execution_count": 0,
      "outputs": [
        {
          "output_type": "execute_result",
          "data": {
            "text/plain": [
              "' '"
            ]
          },
          "metadata": {
            "tags": []
          },
          "execution_count": 9
        }
      ]
    },
    {
      "cell_type": "code",
      "metadata": {
        "id": "h76G7P2gAMep",
        "colab_type": "code",
        "colab": {}
      },
      "source": [
        "def object_to_float(o): #o = train_data[\"~~\"] 형태\n",
        "  for i in range(1363):\n",
        "    if o[i] == ' ':\n",
        "      o[i] = np.nan #nan으로 채움"
      ],
      "execution_count": 0,
      "outputs": []
    },
    {
      "cell_type": "code",
      "metadata": {
        "id": "jNyGhib5CK-p",
        "colab_type": "code",
        "outputId": "90e7c410-c29b-4c16-fd81-9d5c34654107",
        "colab": {
          "base_uri": "https://localhost:8080/",
          "height": 126
        }
      },
      "source": [
        "object_to_float(train_data[\"ST64TA_UCSFFSX_11_02_15_UCSFFSX51_08_01_16\"])"
      ],
      "execution_count": 0,
      "outputs": [
        {
          "output_type": "stream",
          "text": [
            "/usr/local/lib/python3.6/dist-packages/ipykernel_launcher.py:4: SettingWithCopyWarning: \n",
            "A value is trying to be set on a copy of a slice from a DataFrame\n",
            "\n",
            "See the caveats in the documentation: http://pandas.pydata.org/pandas-docs/stable/user_guide/indexing.html#returning-a-view-versus-a-copy\n",
            "  after removing the cwd from sys.path.\n"
          ],
          "name": "stderr"
        }
      ]
    },
    {
      "cell_type": "code",
      "metadata": {
        "id": "A1KfIg4WEIng",
        "colab_type": "code",
        "outputId": "93eb6acc-3467-4087-d0fb-145035e790e7",
        "colab": {
          "base_uri": "https://localhost:8080/",
          "height": 126
        }
      },
      "source": [
        "object_to_float(train_data[\"ST123TA_UCSFFSX_11_02_15_UCSFFSX51_08_01_16\"])"
      ],
      "execution_count": 0,
      "outputs": [
        {
          "output_type": "stream",
          "text": [
            "/usr/local/lib/python3.6/dist-packages/ipykernel_launcher.py:4: SettingWithCopyWarning: \n",
            "A value is trying to be set on a copy of a slice from a DataFrame\n",
            "\n",
            "See the caveats in the documentation: http://pandas.pydata.org/pandas-docs/stable/user_guide/indexing.html#returning-a-view-versus-a-copy\n",
            "  after removing the cwd from sys.path.\n"
          ],
          "name": "stderr"
        }
      ]
    },
    {
      "cell_type": "code",
      "metadata": {
        "id": "q8BfCXtRDq-L",
        "colab_type": "code",
        "outputId": "de721f0c-89f8-4d87-eae6-0fcf602060a7",
        "colab": {
          "base_uri": "https://localhost:8080/",
          "height": 1000
        }
      },
      "source": [
        "train_data.info()"
      ],
      "execution_count": 0,
      "outputs": [
        {
          "output_type": "stream",
          "text": [
            "<class 'pandas.core.frame.DataFrame'>\n",
            "RangeIndex: 1363 entries, 0 to 1362\n",
            "Data columns (total 74 columns):\n",
            "DXCHANGE                                       1363 non-null int64\n",
            "AGE                                            1363 non-null float64\n",
            "MMSE                                           1363 non-null int64\n",
            "ADAS13                                         1353 non-null float64\n",
            "ST102TA_UCSFFSX_11_02_15_UCSFFSX51_08_01_16    1363 non-null float64\n",
            "ST103TA_UCSFFSX_11_02_15_UCSFFSX51_08_01_16    1363 non-null float64\n",
            "ST104TA_UCSFFSX_11_02_15_UCSFFSX51_08_01_16    1363 non-null float64\n",
            "ST105TA_UCSFFSX_11_02_15_UCSFFSX51_08_01_16    1363 non-null float64\n",
            "ST106TA_UCSFFSX_11_02_15_UCSFFSX51_08_01_16    1363 non-null float64\n",
            "ST107TA_UCSFFSX_11_02_15_UCSFFSX51_08_01_16    1363 non-null float64\n",
            "ST108TA_UCSFFSX_11_02_15_UCSFFSX51_08_01_16    1363 non-null float64\n",
            "ST109TA_UCSFFSX_11_02_15_UCSFFSX51_08_01_16    1363 non-null float64\n",
            "ST110TA_UCSFFSX_11_02_15_UCSFFSX51_08_01_16    1363 non-null float64\n",
            "ST111TA_UCSFFSX_11_02_15_UCSFFSX51_08_01_16    1363 non-null float64\n",
            "ST113TA_UCSFFSX_11_02_15_UCSFFSX51_08_01_16    1363 non-null float64\n",
            "ST114TA_UCSFFSX_11_02_15_UCSFFSX51_08_01_16    1363 non-null float64\n",
            "ST115TA_UCSFFSX_11_02_15_UCSFFSX51_08_01_16    1363 non-null float64\n",
            "ST116TA_UCSFFSX_11_02_15_UCSFFSX51_08_01_16    1363 non-null float64\n",
            "ST117TA_UCSFFSX_11_02_15_UCSFFSX51_08_01_16    1363 non-null float64\n",
            "ST118TA_UCSFFSX_11_02_15_UCSFFSX51_08_01_16    1363 non-null float64\n",
            "ST119TA_UCSFFSX_11_02_15_UCSFFSX51_08_01_16    1363 non-null float64\n",
            "ST121TA_UCSFFSX_11_02_15_UCSFFSX51_08_01_16    1363 non-null float64\n",
            "ST123TA_UCSFFSX_11_02_15_UCSFFSX51_08_01_16    639 non-null object\n",
            "ST129TA_UCSFFSX_11_02_15_UCSFFSX51_08_01_16    1363 non-null float64\n",
            "ST130TA_UCSFFSX_11_02_15_UCSFFSX51_08_01_16    1363 non-null float64\n",
            "ST13TA_UCSFFSX_11_02_15_UCSFFSX51_08_01_16     1363 non-null float64\n",
            "ST14TA_UCSFFSX_11_02_15_UCSFFSX51_08_01_16     1363 non-null float64\n",
            "ST15TA_UCSFFSX_11_02_15_UCSFFSX51_08_01_16     1363 non-null float64\n",
            "ST23TA_UCSFFSX_11_02_15_UCSFFSX51_08_01_16     1363 non-null float64\n",
            "ST24TA_UCSFFSX_11_02_15_UCSFFSX51_08_01_16     1362 non-null float64\n",
            "ST25TA_UCSFFSX_11_02_15_UCSFFSX51_08_01_16     1363 non-null float64\n",
            "ST26TA_UCSFFSX_11_02_15_UCSFFSX51_08_01_16     1363 non-null float64\n",
            "ST31TA_UCSFFSX_11_02_15_UCSFFSX51_08_01_16     1363 non-null float64\n",
            "ST32TA_UCSFFSX_11_02_15_UCSFFSX51_08_01_16     1363 non-null float64\n",
            "ST34TA_UCSFFSX_11_02_15_UCSFFSX51_08_01_16     1363 non-null float64\n",
            "ST35TA_UCSFFSX_11_02_15_UCSFFSX51_08_01_16     1363 non-null float64\n",
            "ST36TA_UCSFFSX_11_02_15_UCSFFSX51_08_01_16     1363 non-null float64\n",
            "ST38TA_UCSFFSX_11_02_15_UCSFFSX51_08_01_16     1363 non-null float64\n",
            "ST39TA_UCSFFSX_11_02_15_UCSFFSX51_08_01_16     1363 non-null float64\n",
            "ST40TA_UCSFFSX_11_02_15_UCSFFSX51_08_01_16     1363 non-null float64\n",
            "ST43TA_UCSFFSX_11_02_15_UCSFFSX51_08_01_16     1363 non-null float64\n",
            "ST44TA_UCSFFSX_11_02_15_UCSFFSX51_08_01_16     1362 non-null float64\n",
            "ST45TA_UCSFFSX_11_02_15_UCSFFSX51_08_01_16     1363 non-null float64\n",
            "ST46TA_UCSFFSX_11_02_15_UCSFFSX51_08_01_16     1363 non-null float64\n",
            "ST47TA_UCSFFSX_11_02_15_UCSFFSX51_08_01_16     1363 non-null float64\n",
            "ST48TA_UCSFFSX_11_02_15_UCSFFSX51_08_01_16     1363 non-null float64\n",
            "ST49TA_UCSFFSX_11_02_15_UCSFFSX51_08_01_16     1363 non-null float64\n",
            "ST50TA_UCSFFSX_11_02_15_UCSFFSX51_08_01_16     1363 non-null float64\n",
            "ST51TA_UCSFFSX_11_02_15_UCSFFSX51_08_01_16     1363 non-null float64\n",
            "ST52TA_UCSFFSX_11_02_15_UCSFFSX51_08_01_16     1363 non-null float64\n",
            "ST54TA_UCSFFSX_11_02_15_UCSFFSX51_08_01_16     1363 non-null float64\n",
            "ST55TA_UCSFFSX_11_02_15_UCSFFSX51_08_01_16     1363 non-null float64\n",
            "ST56TA_UCSFFSX_11_02_15_UCSFFSX51_08_01_16     1363 non-null float64\n",
            "ST57TA_UCSFFSX_11_02_15_UCSFFSX51_08_01_16     1363 non-null float64\n",
            "ST58TA_UCSFFSX_11_02_15_UCSFFSX51_08_01_16     1363 non-null float64\n",
            "ST59TA_UCSFFSX_11_02_15_UCSFFSX51_08_01_16     1363 non-null float64\n",
            "ST60TA_UCSFFSX_11_02_15_UCSFFSX51_08_01_16     1363 non-null float64\n",
            "ST62TA_UCSFFSX_11_02_15_UCSFFSX51_08_01_16     1363 non-null float64\n",
            "ST64TA_UCSFFSX_11_02_15_UCSFFSX51_08_01_16     639 non-null object\n",
            "ST72TA_UCSFFSX_11_02_15_UCSFFSX51_08_01_16     1363 non-null float64\n",
            "ST73TA_UCSFFSX_11_02_15_UCSFFSX51_08_01_16     1363 non-null float64\n",
            "ST74TA_UCSFFSX_11_02_15_UCSFFSX51_08_01_16     1363 non-null float64\n",
            "ST82TA_UCSFFSX_11_02_15_UCSFFSX51_08_01_16     1363 non-null float64\n",
            "ST83TA_UCSFFSX_11_02_15_UCSFFSX51_08_01_16     1363 non-null float64\n",
            "ST84TA_UCSFFSX_11_02_15_UCSFFSX51_08_01_16     1363 non-null float64\n",
            "ST85TA_UCSFFSX_11_02_15_UCSFFSX51_08_01_16     1363 non-null float64\n",
            "ST90TA_UCSFFSX_11_02_15_UCSFFSX51_08_01_16     1363 non-null float64\n",
            "ST91TA_UCSFFSX_11_02_15_UCSFFSX51_08_01_16     1363 non-null float64\n",
            "ST93TA_UCSFFSX_11_02_15_UCSFFSX51_08_01_16     1363 non-null float64\n",
            "ST94TA_UCSFFSX_11_02_15_UCSFFSX51_08_01_16     1363 non-null float64\n",
            "ST95TA_UCSFFSX_11_02_15_UCSFFSX51_08_01_16     1363 non-null float64\n",
            "ST97TA_UCSFFSX_11_02_15_UCSFFSX51_08_01_16     1363 non-null float64\n",
            "ST98TA_UCSFFSX_11_02_15_UCSFFSX51_08_01_16     1363 non-null float64\n",
            "ST99TA_UCSFFSX_11_02_15_UCSFFSX51_08_01_16     1363 non-null float64\n",
            "dtypes: float64(70), int64(2), object(2)\n",
            "memory usage: 788.1+ KB\n"
          ],
          "name": "stdout"
        }
      ]
    },
    {
      "cell_type": "code",
      "metadata": {
        "id": "2cDwUnzQ9Pkb",
        "colab_type": "code",
        "outputId": "31eb4aa0-046a-4cc8-a87a-942d08e72968",
        "colab": {
          "base_uri": "https://localhost:8080/",
          "height": 431
        }
      },
      "source": [
        "#빈 데이터 보기\n",
        "incomplete_rows = train_data[train_data.isnull().any(axis=1)]#.head()\n",
        "incomplete_rows"
      ],
      "execution_count": 0,
      "outputs": [
        {
          "output_type": "execute_result",
          "data": {
            "text/html": [
              "<div>\n",
              "<style scoped>\n",
              "    .dataframe tbody tr th:only-of-type {\n",
              "        vertical-align: middle;\n",
              "    }\n",
              "\n",
              "    .dataframe tbody tr th {\n",
              "        vertical-align: top;\n",
              "    }\n",
              "\n",
              "    .dataframe thead th {\n",
              "        text-align: right;\n",
              "    }\n",
              "</style>\n",
              "<table border=\"1\" class=\"dataframe\">\n",
              "  <thead>\n",
              "    <tr style=\"text-align: right;\">\n",
              "      <th></th>\n",
              "      <th>DXCHANGE</th>\n",
              "      <th>AGE</th>\n",
              "      <th>MMSE</th>\n",
              "      <th>ADAS13</th>\n",
              "      <th>ST102TA_UCSFFSX_11_02_15_UCSFFSX51_08_01_16</th>\n",
              "      <th>ST103TA_UCSFFSX_11_02_15_UCSFFSX51_08_01_16</th>\n",
              "      <th>ST104TA_UCSFFSX_11_02_15_UCSFFSX51_08_01_16</th>\n",
              "      <th>ST105TA_UCSFFSX_11_02_15_UCSFFSX51_08_01_16</th>\n",
              "      <th>ST106TA_UCSFFSX_11_02_15_UCSFFSX51_08_01_16</th>\n",
              "      <th>ST107TA_UCSFFSX_11_02_15_UCSFFSX51_08_01_16</th>\n",
              "      <th>ST108TA_UCSFFSX_11_02_15_UCSFFSX51_08_01_16</th>\n",
              "      <th>ST109TA_UCSFFSX_11_02_15_UCSFFSX51_08_01_16</th>\n",
              "      <th>ST110TA_UCSFFSX_11_02_15_UCSFFSX51_08_01_16</th>\n",
              "      <th>ST111TA_UCSFFSX_11_02_15_UCSFFSX51_08_01_16</th>\n",
              "      <th>ST113TA_UCSFFSX_11_02_15_UCSFFSX51_08_01_16</th>\n",
              "      <th>ST114TA_UCSFFSX_11_02_15_UCSFFSX51_08_01_16</th>\n",
              "      <th>ST115TA_UCSFFSX_11_02_15_UCSFFSX51_08_01_16</th>\n",
              "      <th>ST116TA_UCSFFSX_11_02_15_UCSFFSX51_08_01_16</th>\n",
              "      <th>ST117TA_UCSFFSX_11_02_15_UCSFFSX51_08_01_16</th>\n",
              "      <th>ST118TA_UCSFFSX_11_02_15_UCSFFSX51_08_01_16</th>\n",
              "      <th>ST119TA_UCSFFSX_11_02_15_UCSFFSX51_08_01_16</th>\n",
              "      <th>ST121TA_UCSFFSX_11_02_15_UCSFFSX51_08_01_16</th>\n",
              "      <th>ST123TA_UCSFFSX_11_02_15_UCSFFSX51_08_01_16</th>\n",
              "      <th>ST129TA_UCSFFSX_11_02_15_UCSFFSX51_08_01_16</th>\n",
              "      <th>ST130TA_UCSFFSX_11_02_15_UCSFFSX51_08_01_16</th>\n",
              "      <th>ST13TA_UCSFFSX_11_02_15_UCSFFSX51_08_01_16</th>\n",
              "      <th>ST14TA_UCSFFSX_11_02_15_UCSFFSX51_08_01_16</th>\n",
              "      <th>ST15TA_UCSFFSX_11_02_15_UCSFFSX51_08_01_16</th>\n",
              "      <th>ST23TA_UCSFFSX_11_02_15_UCSFFSX51_08_01_16</th>\n",
              "      <th>ST24TA_UCSFFSX_11_02_15_UCSFFSX51_08_01_16</th>\n",
              "      <th>ST25TA_UCSFFSX_11_02_15_UCSFFSX51_08_01_16</th>\n",
              "      <th>ST26TA_UCSFFSX_11_02_15_UCSFFSX51_08_01_16</th>\n",
              "      <th>ST31TA_UCSFFSX_11_02_15_UCSFFSX51_08_01_16</th>\n",
              "      <th>ST32TA_UCSFFSX_11_02_15_UCSFFSX51_08_01_16</th>\n",
              "      <th>ST34TA_UCSFFSX_11_02_15_UCSFFSX51_08_01_16</th>\n",
              "      <th>ST35TA_UCSFFSX_11_02_15_UCSFFSX51_08_01_16</th>\n",
              "      <th>ST36TA_UCSFFSX_11_02_15_UCSFFSX51_08_01_16</th>\n",
              "      <th>ST38TA_UCSFFSX_11_02_15_UCSFFSX51_08_01_16</th>\n",
              "      <th>ST39TA_UCSFFSX_11_02_15_UCSFFSX51_08_01_16</th>\n",
              "      <th>ST40TA_UCSFFSX_11_02_15_UCSFFSX51_08_01_16</th>\n",
              "      <th>ST43TA_UCSFFSX_11_02_15_UCSFFSX51_08_01_16</th>\n",
              "      <th>ST44TA_UCSFFSX_11_02_15_UCSFFSX51_08_01_16</th>\n",
              "      <th>ST45TA_UCSFFSX_11_02_15_UCSFFSX51_08_01_16</th>\n",
              "      <th>ST46TA_UCSFFSX_11_02_15_UCSFFSX51_08_01_16</th>\n",
              "      <th>ST47TA_UCSFFSX_11_02_15_UCSFFSX51_08_01_16</th>\n",
              "      <th>ST48TA_UCSFFSX_11_02_15_UCSFFSX51_08_01_16</th>\n",
              "      <th>ST49TA_UCSFFSX_11_02_15_UCSFFSX51_08_01_16</th>\n",
              "      <th>ST50TA_UCSFFSX_11_02_15_UCSFFSX51_08_01_16</th>\n",
              "      <th>ST51TA_UCSFFSX_11_02_15_UCSFFSX51_08_01_16</th>\n",
              "      <th>ST52TA_UCSFFSX_11_02_15_UCSFFSX51_08_01_16</th>\n",
              "      <th>ST54TA_UCSFFSX_11_02_15_UCSFFSX51_08_01_16</th>\n",
              "      <th>ST55TA_UCSFFSX_11_02_15_UCSFFSX51_08_01_16</th>\n",
              "      <th>ST56TA_UCSFFSX_11_02_15_UCSFFSX51_08_01_16</th>\n",
              "      <th>ST57TA_UCSFFSX_11_02_15_UCSFFSX51_08_01_16</th>\n",
              "      <th>ST58TA_UCSFFSX_11_02_15_UCSFFSX51_08_01_16</th>\n",
              "      <th>ST59TA_UCSFFSX_11_02_15_UCSFFSX51_08_01_16</th>\n",
              "      <th>ST60TA_UCSFFSX_11_02_15_UCSFFSX51_08_01_16</th>\n",
              "      <th>ST62TA_UCSFFSX_11_02_15_UCSFFSX51_08_01_16</th>\n",
              "      <th>ST64TA_UCSFFSX_11_02_15_UCSFFSX51_08_01_16</th>\n",
              "      <th>ST72TA_UCSFFSX_11_02_15_UCSFFSX51_08_01_16</th>\n",
              "      <th>ST73TA_UCSFFSX_11_02_15_UCSFFSX51_08_01_16</th>\n",
              "      <th>ST74TA_UCSFFSX_11_02_15_UCSFFSX51_08_01_16</th>\n",
              "      <th>ST82TA_UCSFFSX_11_02_15_UCSFFSX51_08_01_16</th>\n",
              "      <th>ST83TA_UCSFFSX_11_02_15_UCSFFSX51_08_01_16</th>\n",
              "      <th>ST84TA_UCSFFSX_11_02_15_UCSFFSX51_08_01_16</th>\n",
              "      <th>ST85TA_UCSFFSX_11_02_15_UCSFFSX51_08_01_16</th>\n",
              "      <th>ST90TA_UCSFFSX_11_02_15_UCSFFSX51_08_01_16</th>\n",
              "      <th>ST91TA_UCSFFSX_11_02_15_UCSFFSX51_08_01_16</th>\n",
              "      <th>ST93TA_UCSFFSX_11_02_15_UCSFFSX51_08_01_16</th>\n",
              "      <th>ST94TA_UCSFFSX_11_02_15_UCSFFSX51_08_01_16</th>\n",
              "      <th>ST95TA_UCSFFSX_11_02_15_UCSFFSX51_08_01_16</th>\n",
              "      <th>ST97TA_UCSFFSX_11_02_15_UCSFFSX51_08_01_16</th>\n",
              "      <th>ST98TA_UCSFFSX_11_02_15_UCSFFSX51_08_01_16</th>\n",
              "      <th>ST99TA_UCSFFSX_11_02_15_UCSFFSX51_08_01_16</th>\n",
              "    </tr>\n",
              "  </thead>\n",
              "  <tbody>\n",
              "    <tr>\n",
              "      <th>0</th>\n",
              "      <td>1</td>\n",
              "      <td>68.4</td>\n",
              "      <td>30</td>\n",
              "      <td>10.0</td>\n",
              "      <td>2.700</td>\n",
              "      <td>2.635</td>\n",
              "      <td>2.613</td>\n",
              "      <td>2.904</td>\n",
              "      <td>2.311</td>\n",
              "      <td>1.647</td>\n",
              "      <td>2.139</td>\n",
              "      <td>2.652</td>\n",
              "      <td>2.604</td>\n",
              "      <td>2.480</td>\n",
              "      <td>3.095</td>\n",
              "      <td>2.144</td>\n",
              "      <td>2.792</td>\n",
              "      <td>2.207</td>\n",
              "      <td>2.903</td>\n",
              "      <td>2.617</td>\n",
              "      <td>4.117</td>\n",
              "      <td>2.701</td>\n",
              "      <td>NaN</td>\n",
              "      <td>3.127</td>\n",
              "      <td>3.051</td>\n",
              "      <td>2.305</td>\n",
              "      <td>2.872</td>\n",
              "      <td>2.732</td>\n",
              "      <td>2.026</td>\n",
              "      <td>3.756</td>\n",
              "      <td>2.813</td>\n",
              "      <td>2.762</td>\n",
              "      <td>2.556</td>\n",
              "      <td>2.916</td>\n",
              "      <td>2.695</td>\n",
              "      <td>2.259</td>\n",
              "      <td>2.690</td>\n",
              "      <td>2.017</td>\n",
              "      <td>2.421</td>\n",
              "      <td>2.949</td>\n",
              "      <td>2.570</td>\n",
              "      <td>2.370</td>\n",
              "      <td>2.674</td>\n",
              "      <td>3.004</td>\n",
              "      <td>2.369</td>\n",
              "      <td>1.599</td>\n",
              "      <td>2.208</td>\n",
              "      <td>2.650</td>\n",
              "      <td>2.739</td>\n",
              "      <td>2.544</td>\n",
              "      <td>3.018</td>\n",
              "      <td>2.377</td>\n",
              "      <td>2.880</td>\n",
              "      <td>2.322</td>\n",
              "      <td>2.657</td>\n",
              "      <td>2.489</td>\n",
              "      <td>3.620</td>\n",
              "      <td>2.711</td>\n",
              "      <td>NaN</td>\n",
              "      <td>2.593</td>\n",
              "      <td>2.792</td>\n",
              "      <td>2.660</td>\n",
              "      <td>1.993</td>\n",
              "      <td>3.734</td>\n",
              "      <td>2.390</td>\n",
              "      <td>2.817</td>\n",
              "      <td>2.471</td>\n",
              "      <td>2.990</td>\n",
              "      <td>2.667</td>\n",
              "      <td>2.490</td>\n",
              "      <td>2.523</td>\n",
              "      <td>2.254</td>\n",
              "      <td>2.171</td>\n",
              "      <td>2.862</td>\n",
              "    </tr>\n",
              "    <tr>\n",
              "      <th>1</th>\n",
              "      <td>2</td>\n",
              "      <td>68.2</td>\n",
              "      <td>30</td>\n",
              "      <td>13.0</td>\n",
              "      <td>2.453</td>\n",
              "      <td>2.992</td>\n",
              "      <td>2.470</td>\n",
              "      <td>2.965</td>\n",
              "      <td>2.438</td>\n",
              "      <td>1.584</td>\n",
              "      <td>1.910</td>\n",
              "      <td>2.900</td>\n",
              "      <td>2.451</td>\n",
              "      <td>2.335</td>\n",
              "      <td>2.771</td>\n",
              "      <td>2.354</td>\n",
              "      <td>2.712</td>\n",
              "      <td>2.001</td>\n",
              "      <td>2.729</td>\n",
              "      <td>2.363</td>\n",
              "      <td>3.613</td>\n",
              "      <td>2.475</td>\n",
              "      <td>NaN</td>\n",
              "      <td>3.196</td>\n",
              "      <td>3.334</td>\n",
              "      <td>2.343</td>\n",
              "      <td>2.729</td>\n",
              "      <td>2.627</td>\n",
              "      <td>1.742</td>\n",
              "      <td>3.383</td>\n",
              "      <td>2.647</td>\n",
              "      <td>2.758</td>\n",
              "      <td>2.394</td>\n",
              "      <td>2.634</td>\n",
              "      <td>2.334</td>\n",
              "      <td>2.241</td>\n",
              "      <td>2.824</td>\n",
              "      <td>1.865</td>\n",
              "      <td>2.383</td>\n",
              "      <td>2.866</td>\n",
              "      <td>2.334</td>\n",
              "      <td>2.793</td>\n",
              "      <td>2.413</td>\n",
              "      <td>2.874</td>\n",
              "      <td>2.316</td>\n",
              "      <td>1.478</td>\n",
              "      <td>1.909</td>\n",
              "      <td>2.780</td>\n",
              "      <td>2.589</td>\n",
              "      <td>2.133</td>\n",
              "      <td>3.036</td>\n",
              "      <td>2.329</td>\n",
              "      <td>2.687</td>\n",
              "      <td>2.070</td>\n",
              "      <td>2.783</td>\n",
              "      <td>2.594</td>\n",
              "      <td>3.405</td>\n",
              "      <td>2.367</td>\n",
              "      <td>NaN</td>\n",
              "      <td>2.582</td>\n",
              "      <td>2.977</td>\n",
              "      <td>2.489</td>\n",
              "      <td>1.868</td>\n",
              "      <td>3.220</td>\n",
              "      <td>2.683</td>\n",
              "      <td>2.569</td>\n",
              "      <td>2.372</td>\n",
              "      <td>2.854</td>\n",
              "      <td>2.867</td>\n",
              "      <td>2.233</td>\n",
              "      <td>2.793</td>\n",
              "      <td>1.987</td>\n",
              "      <td>2.428</td>\n",
              "      <td>2.943</td>\n",
              "    </tr>\n",
              "    <tr>\n",
              "      <th>3</th>\n",
              "      <td>3</td>\n",
              "      <td>79.4</td>\n",
              "      <td>22</td>\n",
              "      <td>24.0</td>\n",
              "      <td>2.197</td>\n",
              "      <td>2.289</td>\n",
              "      <td>2.258</td>\n",
              "      <td>2.413</td>\n",
              "      <td>2.124</td>\n",
              "      <td>1.473</td>\n",
              "      <td>1.729</td>\n",
              "      <td>2.680</td>\n",
              "      <td>2.184</td>\n",
              "      <td>2.144</td>\n",
              "      <td>2.680</td>\n",
              "      <td>2.218</td>\n",
              "      <td>2.407</td>\n",
              "      <td>1.923</td>\n",
              "      <td>2.542</td>\n",
              "      <td>2.296</td>\n",
              "      <td>3.135</td>\n",
              "      <td>2.157</td>\n",
              "      <td>NaN</td>\n",
              "      <td>2.671</td>\n",
              "      <td>2.925</td>\n",
              "      <td>2.288</td>\n",
              "      <td>3.322</td>\n",
              "      <td>2.336</td>\n",
              "      <td>1.691</td>\n",
              "      <td>2.399</td>\n",
              "      <td>2.940</td>\n",
              "      <td>2.178</td>\n",
              "      <td>2.079</td>\n",
              "      <td>2.411</td>\n",
              "      <td>2.083</td>\n",
              "      <td>1.904</td>\n",
              "      <td>2.400</td>\n",
              "      <td>1.750</td>\n",
              "      <td>2.122</td>\n",
              "      <td>2.493</td>\n",
              "      <td>2.122</td>\n",
              "      <td>2.244</td>\n",
              "      <td>2.399</td>\n",
              "      <td>2.308</td>\n",
              "      <td>2.073</td>\n",
              "      <td>1.506</td>\n",
              "      <td>1.777</td>\n",
              "      <td>2.334</td>\n",
              "      <td>2.319</td>\n",
              "      <td>2.087</td>\n",
              "      <td>2.560</td>\n",
              "      <td>2.056</td>\n",
              "      <td>2.410</td>\n",
              "      <td>2.058</td>\n",
              "      <td>2.403</td>\n",
              "      <td>2.269</td>\n",
              "      <td>3.085</td>\n",
              "      <td>2.080</td>\n",
              "      <td>NaN</td>\n",
              "      <td>2.503</td>\n",
              "      <td>2.784</td>\n",
              "      <td>2.372</td>\n",
              "      <td>1.757</td>\n",
              "      <td>2.651</td>\n",
              "      <td>2.665</td>\n",
              "      <td>2.578</td>\n",
              "      <td>2.305</td>\n",
              "      <td>2.514</td>\n",
              "      <td>2.515</td>\n",
              "      <td>2.050</td>\n",
              "      <td>2.537</td>\n",
              "      <td>1.958</td>\n",
              "      <td>2.455</td>\n",
              "      <td>2.591</td>\n",
              "    </tr>\n",
              "    <tr>\n",
              "      <th>6</th>\n",
              "      <td>2</td>\n",
              "      <td>73.7</td>\n",
              "      <td>24</td>\n",
              "      <td>29.0</td>\n",
              "      <td>1.980</td>\n",
              "      <td>2.087</td>\n",
              "      <td>2.173</td>\n",
              "      <td>2.166</td>\n",
              "      <td>1.938</td>\n",
              "      <td>1.534</td>\n",
              "      <td>1.727</td>\n",
              "      <td>2.045</td>\n",
              "      <td>2.210</td>\n",
              "      <td>2.001</td>\n",
              "      <td>2.564</td>\n",
              "      <td>1.900</td>\n",
              "      <td>2.332</td>\n",
              "      <td>1.820</td>\n",
              "      <td>2.294</td>\n",
              "      <td>2.154</td>\n",
              "      <td>3.109</td>\n",
              "      <td>2.070</td>\n",
              "      <td>NaN</td>\n",
              "      <td>2.614</td>\n",
              "      <td>2.644</td>\n",
              "      <td>1.902</td>\n",
              "      <td>2.413</td>\n",
              "      <td>2.096</td>\n",
              "      <td>1.703</td>\n",
              "      <td>2.989</td>\n",
              "      <td>2.172</td>\n",
              "      <td>2.358</td>\n",
              "      <td>2.010</td>\n",
              "      <td>2.334</td>\n",
              "      <td>2.270</td>\n",
              "      <td>1.854</td>\n",
              "      <td>2.286</td>\n",
              "      <td>1.670</td>\n",
              "      <td>2.357</td>\n",
              "      <td>2.315</td>\n",
              "      <td>2.078</td>\n",
              "      <td>2.008</td>\n",
              "      <td>2.269</td>\n",
              "      <td>2.042</td>\n",
              "      <td>2.002</td>\n",
              "      <td>1.504</td>\n",
              "      <td>1.633</td>\n",
              "      <td>2.098</td>\n",
              "      <td>2.053</td>\n",
              "      <td>1.977</td>\n",
              "      <td>2.774</td>\n",
              "      <td>1.912</td>\n",
              "      <td>2.214</td>\n",
              "      <td>1.814</td>\n",
              "      <td>2.238</td>\n",
              "      <td>2.000</td>\n",
              "      <td>3.286</td>\n",
              "      <td>1.835</td>\n",
              "      <td>NaN</td>\n",
              "      <td>1.960</td>\n",
              "      <td>2.010</td>\n",
              "      <td>2.249</td>\n",
              "      <td>1.562</td>\n",
              "      <td>3.130</td>\n",
              "      <td>1.998</td>\n",
              "      <td>2.412</td>\n",
              "      <td>2.112</td>\n",
              "      <td>2.235</td>\n",
              "      <td>2.180</td>\n",
              "      <td>1.857</td>\n",
              "      <td>2.139</td>\n",
              "      <td>1.742</td>\n",
              "      <td>1.977</td>\n",
              "      <td>2.376</td>\n",
              "    </tr>\n",
              "    <tr>\n",
              "      <th>7</th>\n",
              "      <td>3</td>\n",
              "      <td>60.7</td>\n",
              "      <td>20</td>\n",
              "      <td>51.0</td>\n",
              "      <td>2.363</td>\n",
              "      <td>3.249</td>\n",
              "      <td>2.308</td>\n",
              "      <td>2.341</td>\n",
              "      <td>2.345</td>\n",
              "      <td>1.855</td>\n",
              "      <td>2.187</td>\n",
              "      <td>2.298</td>\n",
              "      <td>2.479</td>\n",
              "      <td>2.025</td>\n",
              "      <td>2.927</td>\n",
              "      <td>2.050</td>\n",
              "      <td>2.348</td>\n",
              "      <td>2.139</td>\n",
              "      <td>2.721</td>\n",
              "      <td>2.270</td>\n",
              "      <td>3.756</td>\n",
              "      <td>2.552</td>\n",
              "      <td>NaN</td>\n",
              "      <td>3.053</td>\n",
              "      <td>3.085</td>\n",
              "      <td>2.095</td>\n",
              "      <td>2.880</td>\n",
              "      <td>2.065</td>\n",
              "      <td>2.100</td>\n",
              "      <td>3.454</td>\n",
              "      <td>2.627</td>\n",
              "      <td>2.452</td>\n",
              "      <td>1.973</td>\n",
              "      <td>2.470</td>\n",
              "      <td>2.446</td>\n",
              "      <td>2.202</td>\n",
              "      <td>2.324</td>\n",
              "      <td>2.256</td>\n",
              "      <td>2.521</td>\n",
              "      <td>2.453</td>\n",
              "      <td>2.360</td>\n",
              "      <td>2.991</td>\n",
              "      <td>2.243</td>\n",
              "      <td>2.288</td>\n",
              "      <td>2.133</td>\n",
              "      <td>1.902</td>\n",
              "      <td>2.061</td>\n",
              "      <td>2.640</td>\n",
              "      <td>2.590</td>\n",
              "      <td>2.088</td>\n",
              "      <td>2.836</td>\n",
              "      <td>2.056</td>\n",
              "      <td>2.343</td>\n",
              "      <td>2.007</td>\n",
              "      <td>2.445</td>\n",
              "      <td>2.171</td>\n",
              "      <td>3.626</td>\n",
              "      <td>2.758</td>\n",
              "      <td>NaN</td>\n",
              "      <td>2.434</td>\n",
              "      <td>2.545</td>\n",
              "      <td>2.045</td>\n",
              "      <td>2.122</td>\n",
              "      <td>3.277</td>\n",
              "      <td>2.673</td>\n",
              "      <td>2.729</td>\n",
              "      <td>2.071</td>\n",
              "      <td>2.695</td>\n",
              "      <td>2.405</td>\n",
              "      <td>2.410</td>\n",
              "      <td>2.462</td>\n",
              "      <td>2.374</td>\n",
              "      <td>2.432</td>\n",
              "      <td>2.606</td>\n",
              "    </tr>\n",
              "    <tr>\n",
              "      <th>...</th>\n",
              "      <td>...</td>\n",
              "      <td>...</td>\n",
              "      <td>...</td>\n",
              "      <td>...</td>\n",
              "      <td>...</td>\n",
              "      <td>...</td>\n",
              "      <td>...</td>\n",
              "      <td>...</td>\n",
              "      <td>...</td>\n",
              "      <td>...</td>\n",
              "      <td>...</td>\n",
              "      <td>...</td>\n",
              "      <td>...</td>\n",
              "      <td>...</td>\n",
              "      <td>...</td>\n",
              "      <td>...</td>\n",
              "      <td>...</td>\n",
              "      <td>...</td>\n",
              "      <td>...</td>\n",
              "      <td>...</td>\n",
              "      <td>...</td>\n",
              "      <td>...</td>\n",
              "      <td>...</td>\n",
              "      <td>...</td>\n",
              "      <td>...</td>\n",
              "      <td>...</td>\n",
              "      <td>...</td>\n",
              "      <td>...</td>\n",
              "      <td>...</td>\n",
              "      <td>...</td>\n",
              "      <td>...</td>\n",
              "      <td>...</td>\n",
              "      <td>...</td>\n",
              "      <td>...</td>\n",
              "      <td>...</td>\n",
              "      <td>...</td>\n",
              "      <td>...</td>\n",
              "      <td>...</td>\n",
              "      <td>...</td>\n",
              "      <td>...</td>\n",
              "      <td>...</td>\n",
              "      <td>...</td>\n",
              "      <td>...</td>\n",
              "      <td>...</td>\n",
              "      <td>...</td>\n",
              "      <td>...</td>\n",
              "      <td>...</td>\n",
              "      <td>...</td>\n",
              "      <td>...</td>\n",
              "      <td>...</td>\n",
              "      <td>...</td>\n",
              "      <td>...</td>\n",
              "      <td>...</td>\n",
              "      <td>...</td>\n",
              "      <td>...</td>\n",
              "      <td>...</td>\n",
              "      <td>...</td>\n",
              "      <td>...</td>\n",
              "      <td>...</td>\n",
              "      <td>...</td>\n",
              "      <td>...</td>\n",
              "      <td>...</td>\n",
              "      <td>...</td>\n",
              "      <td>...</td>\n",
              "      <td>...</td>\n",
              "      <td>...</td>\n",
              "      <td>...</td>\n",
              "      <td>...</td>\n",
              "      <td>...</td>\n",
              "      <td>...</td>\n",
              "      <td>...</td>\n",
              "      <td>...</td>\n",
              "      <td>...</td>\n",
              "      <td>...</td>\n",
              "    </tr>\n",
              "    <tr>\n",
              "      <th>1357</th>\n",
              "      <td>2</td>\n",
              "      <td>74.0</td>\n",
              "      <td>29</td>\n",
              "      <td>9.0</td>\n",
              "      <td>2.417</td>\n",
              "      <td>2.909</td>\n",
              "      <td>2.528</td>\n",
              "      <td>2.591</td>\n",
              "      <td>2.241</td>\n",
              "      <td>1.489</td>\n",
              "      <td>2.052</td>\n",
              "      <td>2.583</td>\n",
              "      <td>2.421</td>\n",
              "      <td>2.408</td>\n",
              "      <td>2.851</td>\n",
              "      <td>2.087</td>\n",
              "      <td>2.652</td>\n",
              "      <td>2.166</td>\n",
              "      <td>2.685</td>\n",
              "      <td>2.454</td>\n",
              "      <td>4.000</td>\n",
              "      <td>2.364</td>\n",
              "      <td>NaN</td>\n",
              "      <td>2.971</td>\n",
              "      <td>2.965</td>\n",
              "      <td>2.286</td>\n",
              "      <td>2.418</td>\n",
              "      <td>2.578</td>\n",
              "      <td>1.762</td>\n",
              "      <td>3.624</td>\n",
              "      <td>2.608</td>\n",
              "      <td>2.753</td>\n",
              "      <td>2.518</td>\n",
              "      <td>2.661</td>\n",
              "      <td>2.643</td>\n",
              "      <td>2.158</td>\n",
              "      <td>2.489</td>\n",
              "      <td>1.952</td>\n",
              "      <td>2.289</td>\n",
              "      <td>2.767</td>\n",
              "      <td>2.199</td>\n",
              "      <td>3.184</td>\n",
              "      <td>2.388</td>\n",
              "      <td>2.671</td>\n",
              "      <td>2.179</td>\n",
              "      <td>1.536</td>\n",
              "      <td>2.137</td>\n",
              "      <td>2.539</td>\n",
              "      <td>2.481</td>\n",
              "      <td>2.376</td>\n",
              "      <td>2.736</td>\n",
              "      <td>2.163</td>\n",
              "      <td>2.638</td>\n",
              "      <td>2.185</td>\n",
              "      <td>2.709</td>\n",
              "      <td>2.328</td>\n",
              "      <td>3.924</td>\n",
              "      <td>2.529</td>\n",
              "      <td>NaN</td>\n",
              "      <td>2.663</td>\n",
              "      <td>2.990</td>\n",
              "      <td>2.469</td>\n",
              "      <td>1.922</td>\n",
              "      <td>4.232</td>\n",
              "      <td>2.546</td>\n",
              "      <td>2.937</td>\n",
              "      <td>2.514</td>\n",
              "      <td>2.875</td>\n",
              "      <td>2.837</td>\n",
              "      <td>2.379</td>\n",
              "      <td>2.315</td>\n",
              "      <td>1.954</td>\n",
              "      <td>2.326</td>\n",
              "      <td>2.989</td>\n",
              "    </tr>\n",
              "    <tr>\n",
              "      <th>1358</th>\n",
              "      <td>2</td>\n",
              "      <td>62.0</td>\n",
              "      <td>29</td>\n",
              "      <td>17.0</td>\n",
              "      <td>2.441</td>\n",
              "      <td>2.813</td>\n",
              "      <td>2.614</td>\n",
              "      <td>2.523</td>\n",
              "      <td>2.354</td>\n",
              "      <td>1.830</td>\n",
              "      <td>2.056</td>\n",
              "      <td>2.479</td>\n",
              "      <td>2.555</td>\n",
              "      <td>2.395</td>\n",
              "      <td>2.923</td>\n",
              "      <td>2.005</td>\n",
              "      <td>2.571</td>\n",
              "      <td>2.312</td>\n",
              "      <td>2.923</td>\n",
              "      <td>2.596</td>\n",
              "      <td>3.972</td>\n",
              "      <td>2.793</td>\n",
              "      <td>NaN</td>\n",
              "      <td>3.396</td>\n",
              "      <td>3.230</td>\n",
              "      <td>2.417</td>\n",
              "      <td>2.855</td>\n",
              "      <td>2.544</td>\n",
              "      <td>1.938</td>\n",
              "      <td>3.513</td>\n",
              "      <td>2.713</td>\n",
              "      <td>2.846</td>\n",
              "      <td>2.371</td>\n",
              "      <td>2.907</td>\n",
              "      <td>2.434</td>\n",
              "      <td>2.259</td>\n",
              "      <td>2.717</td>\n",
              "      <td>2.096</td>\n",
              "      <td>2.335</td>\n",
              "      <td>2.996</td>\n",
              "      <td>2.317</td>\n",
              "      <td>2.851</td>\n",
              "      <td>2.610</td>\n",
              "      <td>2.411</td>\n",
              "      <td>2.426</td>\n",
              "      <td>1.769</td>\n",
              "      <td>2.097</td>\n",
              "      <td>2.476</td>\n",
              "      <td>2.625</td>\n",
              "      <td>2.357</td>\n",
              "      <td>3.116</td>\n",
              "      <td>2.263</td>\n",
              "      <td>2.681</td>\n",
              "      <td>2.270</td>\n",
              "      <td>2.702</td>\n",
              "      <td>2.533</td>\n",
              "      <td>3.715</td>\n",
              "      <td>2.815</td>\n",
              "      <td>NaN</td>\n",
              "      <td>2.464</td>\n",
              "      <td>2.634</td>\n",
              "      <td>2.531</td>\n",
              "      <td>2.035</td>\n",
              "      <td>3.865</td>\n",
              "      <td>2.568</td>\n",
              "      <td>2.850</td>\n",
              "      <td>2.524</td>\n",
              "      <td>3.213</td>\n",
              "      <td>2.489</td>\n",
              "      <td>2.455</td>\n",
              "      <td>2.634</td>\n",
              "      <td>2.209</td>\n",
              "      <td>2.310</td>\n",
              "      <td>2.935</td>\n",
              "    </tr>\n",
              "    <tr>\n",
              "      <th>1359</th>\n",
              "      <td>2</td>\n",
              "      <td>77.8</td>\n",
              "      <td>27</td>\n",
              "      <td>17.0</td>\n",
              "      <td>2.301</td>\n",
              "      <td>2.246</td>\n",
              "      <td>2.556</td>\n",
              "      <td>2.392</td>\n",
              "      <td>2.158</td>\n",
              "      <td>1.686</td>\n",
              "      <td>1.914</td>\n",
              "      <td>2.318</td>\n",
              "      <td>2.297</td>\n",
              "      <td>2.268</td>\n",
              "      <td>2.908</td>\n",
              "      <td>2.136</td>\n",
              "      <td>2.445</td>\n",
              "      <td>2.067</td>\n",
              "      <td>2.385</td>\n",
              "      <td>2.458</td>\n",
              "      <td>2.749</td>\n",
              "      <td>2.360</td>\n",
              "      <td>NaN</td>\n",
              "      <td>2.855</td>\n",
              "      <td>2.919</td>\n",
              "      <td>2.063</td>\n",
              "      <td>2.426</td>\n",
              "      <td>2.284</td>\n",
              "      <td>1.906</td>\n",
              "      <td>3.070</td>\n",
              "      <td>2.408</td>\n",
              "      <td>2.386</td>\n",
              "      <td>2.235</td>\n",
              "      <td>2.685</td>\n",
              "      <td>2.419</td>\n",
              "      <td>1.953</td>\n",
              "      <td>2.660</td>\n",
              "      <td>1.815</td>\n",
              "      <td>2.303</td>\n",
              "      <td>2.681</td>\n",
              "      <td>2.349</td>\n",
              "      <td>2.211</td>\n",
              "      <td>2.330</td>\n",
              "      <td>2.018</td>\n",
              "      <td>2.196</td>\n",
              "      <td>1.565</td>\n",
              "      <td>1.845</td>\n",
              "      <td>2.281</td>\n",
              "      <td>2.255</td>\n",
              "      <td>2.266</td>\n",
              "      <td>2.893</td>\n",
              "      <td>2.167</td>\n",
              "      <td>2.420</td>\n",
              "      <td>1.934</td>\n",
              "      <td>2.468</td>\n",
              "      <td>2.420</td>\n",
              "      <td>3.288</td>\n",
              "      <td>2.411</td>\n",
              "      <td>NaN</td>\n",
              "      <td>2.147</td>\n",
              "      <td>2.478</td>\n",
              "      <td>2.319</td>\n",
              "      <td>2.057</td>\n",
              "      <td>2.106</td>\n",
              "      <td>2.742</td>\n",
              "      <td>2.369</td>\n",
              "      <td>2.221</td>\n",
              "      <td>2.485</td>\n",
              "      <td>2.162</td>\n",
              "      <td>2.152</td>\n",
              "      <td>2.375</td>\n",
              "      <td>1.917</td>\n",
              "      <td>2.199</td>\n",
              "      <td>2.709</td>\n",
              "    </tr>\n",
              "    <tr>\n",
              "      <th>1360</th>\n",
              "      <td>3</td>\n",
              "      <td>73.8</td>\n",
              "      <td>26</td>\n",
              "      <td>27.0</td>\n",
              "      <td>1.996</td>\n",
              "      <td>2.545</td>\n",
              "      <td>2.196</td>\n",
              "      <td>2.263</td>\n",
              "      <td>2.099</td>\n",
              "      <td>1.343</td>\n",
              "      <td>1.858</td>\n",
              "      <td>2.676</td>\n",
              "      <td>2.135</td>\n",
              "      <td>1.955</td>\n",
              "      <td>2.882</td>\n",
              "      <td>2.042</td>\n",
              "      <td>2.448</td>\n",
              "      <td>1.874</td>\n",
              "      <td>2.486</td>\n",
              "      <td>2.061</td>\n",
              "      <td>3.193</td>\n",
              "      <td>1.800</td>\n",
              "      <td>NaN</td>\n",
              "      <td>3.054</td>\n",
              "      <td>2.921</td>\n",
              "      <td>2.170</td>\n",
              "      <td>2.629</td>\n",
              "      <td>2.119</td>\n",
              "      <td>1.730</td>\n",
              "      <td>3.190</td>\n",
              "      <td>2.839</td>\n",
              "      <td>2.443</td>\n",
              "      <td>1.948</td>\n",
              "      <td>2.381</td>\n",
              "      <td>2.567</td>\n",
              "      <td>1.854</td>\n",
              "      <td>2.713</td>\n",
              "      <td>1.646</td>\n",
              "      <td>2.698</td>\n",
              "      <td>2.424</td>\n",
              "      <td>1.969</td>\n",
              "      <td>2.428</td>\n",
              "      <td>2.231</td>\n",
              "      <td>2.447</td>\n",
              "      <td>2.340</td>\n",
              "      <td>1.472</td>\n",
              "      <td>1.775</td>\n",
              "      <td>2.832</td>\n",
              "      <td>2.014</td>\n",
              "      <td>2.200</td>\n",
              "      <td>2.720</td>\n",
              "      <td>2.320</td>\n",
              "      <td>2.427</td>\n",
              "      <td>1.849</td>\n",
              "      <td>2.362</td>\n",
              "      <td>2.122</td>\n",
              "      <td>3.244</td>\n",
              "      <td>2.270</td>\n",
              "      <td>NaN</td>\n",
              "      <td>2.577</td>\n",
              "      <td>2.239</td>\n",
              "      <td>2.084</td>\n",
              "      <td>1.682</td>\n",
              "      <td>2.797</td>\n",
              "      <td>3.351</td>\n",
              "      <td>2.529</td>\n",
              "      <td>2.057</td>\n",
              "      <td>2.585</td>\n",
              "      <td>2.596</td>\n",
              "      <td>1.919</td>\n",
              "      <td>2.683</td>\n",
              "      <td>1.701</td>\n",
              "      <td>2.749</td>\n",
              "      <td>2.777</td>\n",
              "    </tr>\n",
              "    <tr>\n",
              "      <th>1362</th>\n",
              "      <td>2</td>\n",
              "      <td>83.7</td>\n",
              "      <td>30</td>\n",
              "      <td>12.0</td>\n",
              "      <td>2.245</td>\n",
              "      <td>2.351</td>\n",
              "      <td>2.305</td>\n",
              "      <td>2.475</td>\n",
              "      <td>2.155</td>\n",
              "      <td>1.676</td>\n",
              "      <td>1.857</td>\n",
              "      <td>2.525</td>\n",
              "      <td>2.085</td>\n",
              "      <td>2.136</td>\n",
              "      <td>2.712</td>\n",
              "      <td>2.161</td>\n",
              "      <td>2.295</td>\n",
              "      <td>1.948</td>\n",
              "      <td>2.424</td>\n",
              "      <td>2.267</td>\n",
              "      <td>2.958</td>\n",
              "      <td>1.778</td>\n",
              "      <td>NaN</td>\n",
              "      <td>2.672</td>\n",
              "      <td>2.507</td>\n",
              "      <td>2.109</td>\n",
              "      <td>2.693</td>\n",
              "      <td>2.315</td>\n",
              "      <td>1.637</td>\n",
              "      <td>3.445</td>\n",
              "      <td>2.396</td>\n",
              "      <td>2.432</td>\n",
              "      <td>2.265</td>\n",
              "      <td>2.568</td>\n",
              "      <td>2.378</td>\n",
              "      <td>2.021</td>\n",
              "      <td>2.350</td>\n",
              "      <td>1.699</td>\n",
              "      <td>2.257</td>\n",
              "      <td>2.625</td>\n",
              "      <td>2.034</td>\n",
              "      <td>2.488</td>\n",
              "      <td>2.237</td>\n",
              "      <td>2.236</td>\n",
              "      <td>2.314</td>\n",
              "      <td>1.386</td>\n",
              "      <td>1.868</td>\n",
              "      <td>2.380</td>\n",
              "      <td>2.072</td>\n",
              "      <td>2.060</td>\n",
              "      <td>2.581</td>\n",
              "      <td>2.155</td>\n",
              "      <td>2.376</td>\n",
              "      <td>1.894</td>\n",
              "      <td>2.400</td>\n",
              "      <td>2.330</td>\n",
              "      <td>3.177</td>\n",
              "      <td>2.054</td>\n",
              "      <td>NaN</td>\n",
              "      <td>2.403</td>\n",
              "      <td>2.433</td>\n",
              "      <td>2.206</td>\n",
              "      <td>1.785</td>\n",
              "      <td>3.093</td>\n",
              "      <td>2.310</td>\n",
              "      <td>2.408</td>\n",
              "      <td>2.229</td>\n",
              "      <td>2.428</td>\n",
              "      <td>2.460</td>\n",
              "      <td>2.097</td>\n",
              "      <td>2.381</td>\n",
              "      <td>1.817</td>\n",
              "      <td>2.121</td>\n",
              "      <td>2.586</td>\n",
              "    </tr>\n",
              "  </tbody>\n",
              "</table>\n",
              "<p>731 rows × 74 columns</p>\n",
              "</div>"
            ],
            "text/plain": [
              "      DXCHANGE  ...  ST99TA_UCSFFSX_11_02_15_UCSFFSX51_08_01_16\n",
              "0            1  ...                                       2.862\n",
              "1            2  ...                                       2.943\n",
              "3            3  ...                                       2.591\n",
              "6            2  ...                                       2.376\n",
              "7            3  ...                                       2.606\n",
              "...        ...  ...                                         ...\n",
              "1357         2  ...                                       2.989\n",
              "1358         2  ...                                       2.935\n",
              "1359         2  ...                                       2.709\n",
              "1360         3  ...                                       2.777\n",
              "1362         2  ...                                       2.586\n",
              "\n",
              "[731 rows x 74 columns]"
            ]
          },
          "metadata": {
            "tags": []
          },
          "execution_count": 14
        }
      ]
    },
    {
      "cell_type": "markdown",
      "metadata": {
        "id": "me1mJblwXNT5",
        "colab_type": "text"
      },
      "source": [
        "train -> training set(AD_tr)과 label(AD_label_reg, AD_label_class)로 나눔\n",
        "---"
      ]
    },
    {
      "cell_type": "code",
      "metadata": {
        "id": "ZJ1B1kuZXaI8",
        "colab_type": "code",
        "colab": {}
      },
      "source": [
        "from pandas import Series, DataFrame\n",
        "\n",
        "AD_tr = train_data.drop(\"MMSE\",axis = 1)\n",
        "AD_tr = AD_tr.drop(\"ADAS13\",axis = 1)\n",
        "AD_tr = AD_tr.drop(\"DXCHANGE\",axis = 1)\n",
        "\n",
        "y = AD_label_reg = DataFrame({\"MMSE\":train_data[\"MMSE\"].copy(),\n",
        "                         \"ADAS13\":train_data[\"ADAS13\"].copy()})\n",
        "\n",
        "y_mmse = AD_mmse = DataFrame({\"MMSE\":train_data[\"MMSE\"].copy()})\n",
        "y_ada = AD_ada = DataFrame({\"ADAS13\":train_data[\"ADAS13\"].copy()})\n",
        "\n",
        "y_cls = AD_label_class = DataFrame({\"DXCHANGE\":train_data[\"DXCHANGE\"]})"
      ],
      "execution_count": 0,
      "outputs": []
    },
    {
      "cell_type": "markdown",
      "metadata": {
        "id": "y2lLDCzDJvWF",
        "colab_type": "text"
      },
      "source": [
        "imputer\n",
        "---\n",
        "\n",
        "빈 데이터 median으로 채워넣기\n",
        "\n",
        "AD_tr : 채워넣은 데이터 이름"
      ]
    },
    {
      "cell_type": "code",
      "metadata": {
        "id": "oXaJWHQ59wB2",
        "colab_type": "code",
        "colab": {}
      },
      "source": [
        "#빈 데이터 median으로 채워넣음\n",
        "from sklearn.impute import SimpleImputer\n",
        "imputer = SimpleImputer(strategy=\"median\")"
      ],
      "execution_count": 0,
      "outputs": []
    },
    {
      "cell_type": "code",
      "metadata": {
        "id": "VKXGMp_1Giox",
        "colab_type": "code",
        "outputId": "8b7685e1-afea-4f39-d431-6edbb11a681f",
        "colab": {
          "base_uri": "https://localhost:8080/",
          "height": 52
        }
      },
      "source": [
        "imputer.fit(AD_tr)"
      ],
      "execution_count": 0,
      "outputs": [
        {
          "output_type": "execute_result",
          "data": {
            "text/plain": [
              "SimpleImputer(add_indicator=False, copy=True, fill_value=None,\n",
              "              missing_values=nan, strategy='median', verbose=0)"
            ]
          },
          "metadata": {
            "tags": []
          },
          "execution_count": 17
        }
      ]
    },
    {
      "cell_type": "code",
      "metadata": {
        "id": "M_kYWKXTJNNP",
        "colab_type": "code",
        "colab": {}
      },
      "source": [
        "X = imputer.transform(AD_tr)"
      ],
      "execution_count": 0,
      "outputs": []
    },
    {
      "cell_type": "code",
      "metadata": {
        "id": "xX4p_jPNJUDY",
        "colab_type": "code",
        "colab": {}
      },
      "source": [
        "AD_tr = pd.DataFrame(X, columns=AD_tr.columns,\n",
        "                             index=AD_tr.index)"
      ],
      "execution_count": 0,
      "outputs": []
    },
    {
      "cell_type": "code",
      "metadata": {
        "id": "1cqvAuMAJpLc",
        "colab_type": "code",
        "outputId": "df339959-9058-4acf-ed45-d76d9cebdb1b",
        "colab": {
          "base_uri": "https://localhost:8080/",
          "height": 1000
        }
      },
      "source": [
        "AD_tr.info()"
      ],
      "execution_count": 0,
      "outputs": [
        {
          "output_type": "stream",
          "text": [
            "<class 'pandas.core.frame.DataFrame'>\n",
            "RangeIndex: 1363 entries, 0 to 1362\n",
            "Data columns (total 71 columns):\n",
            "AGE                                            1363 non-null float64\n",
            "ST102TA_UCSFFSX_11_02_15_UCSFFSX51_08_01_16    1363 non-null float64\n",
            "ST103TA_UCSFFSX_11_02_15_UCSFFSX51_08_01_16    1363 non-null float64\n",
            "ST104TA_UCSFFSX_11_02_15_UCSFFSX51_08_01_16    1363 non-null float64\n",
            "ST105TA_UCSFFSX_11_02_15_UCSFFSX51_08_01_16    1363 non-null float64\n",
            "ST106TA_UCSFFSX_11_02_15_UCSFFSX51_08_01_16    1363 non-null float64\n",
            "ST107TA_UCSFFSX_11_02_15_UCSFFSX51_08_01_16    1363 non-null float64\n",
            "ST108TA_UCSFFSX_11_02_15_UCSFFSX51_08_01_16    1363 non-null float64\n",
            "ST109TA_UCSFFSX_11_02_15_UCSFFSX51_08_01_16    1363 non-null float64\n",
            "ST110TA_UCSFFSX_11_02_15_UCSFFSX51_08_01_16    1363 non-null float64\n",
            "ST111TA_UCSFFSX_11_02_15_UCSFFSX51_08_01_16    1363 non-null float64\n",
            "ST113TA_UCSFFSX_11_02_15_UCSFFSX51_08_01_16    1363 non-null float64\n",
            "ST114TA_UCSFFSX_11_02_15_UCSFFSX51_08_01_16    1363 non-null float64\n",
            "ST115TA_UCSFFSX_11_02_15_UCSFFSX51_08_01_16    1363 non-null float64\n",
            "ST116TA_UCSFFSX_11_02_15_UCSFFSX51_08_01_16    1363 non-null float64\n",
            "ST117TA_UCSFFSX_11_02_15_UCSFFSX51_08_01_16    1363 non-null float64\n",
            "ST118TA_UCSFFSX_11_02_15_UCSFFSX51_08_01_16    1363 non-null float64\n",
            "ST119TA_UCSFFSX_11_02_15_UCSFFSX51_08_01_16    1363 non-null float64\n",
            "ST121TA_UCSFFSX_11_02_15_UCSFFSX51_08_01_16    1363 non-null float64\n",
            "ST123TA_UCSFFSX_11_02_15_UCSFFSX51_08_01_16    1363 non-null float64\n",
            "ST129TA_UCSFFSX_11_02_15_UCSFFSX51_08_01_16    1363 non-null float64\n",
            "ST130TA_UCSFFSX_11_02_15_UCSFFSX51_08_01_16    1363 non-null float64\n",
            "ST13TA_UCSFFSX_11_02_15_UCSFFSX51_08_01_16     1363 non-null float64\n",
            "ST14TA_UCSFFSX_11_02_15_UCSFFSX51_08_01_16     1363 non-null float64\n",
            "ST15TA_UCSFFSX_11_02_15_UCSFFSX51_08_01_16     1363 non-null float64\n",
            "ST23TA_UCSFFSX_11_02_15_UCSFFSX51_08_01_16     1363 non-null float64\n",
            "ST24TA_UCSFFSX_11_02_15_UCSFFSX51_08_01_16     1363 non-null float64\n",
            "ST25TA_UCSFFSX_11_02_15_UCSFFSX51_08_01_16     1363 non-null float64\n",
            "ST26TA_UCSFFSX_11_02_15_UCSFFSX51_08_01_16     1363 non-null float64\n",
            "ST31TA_UCSFFSX_11_02_15_UCSFFSX51_08_01_16     1363 non-null float64\n",
            "ST32TA_UCSFFSX_11_02_15_UCSFFSX51_08_01_16     1363 non-null float64\n",
            "ST34TA_UCSFFSX_11_02_15_UCSFFSX51_08_01_16     1363 non-null float64\n",
            "ST35TA_UCSFFSX_11_02_15_UCSFFSX51_08_01_16     1363 non-null float64\n",
            "ST36TA_UCSFFSX_11_02_15_UCSFFSX51_08_01_16     1363 non-null float64\n",
            "ST38TA_UCSFFSX_11_02_15_UCSFFSX51_08_01_16     1363 non-null float64\n",
            "ST39TA_UCSFFSX_11_02_15_UCSFFSX51_08_01_16     1363 non-null float64\n",
            "ST40TA_UCSFFSX_11_02_15_UCSFFSX51_08_01_16     1363 non-null float64\n",
            "ST43TA_UCSFFSX_11_02_15_UCSFFSX51_08_01_16     1363 non-null float64\n",
            "ST44TA_UCSFFSX_11_02_15_UCSFFSX51_08_01_16     1363 non-null float64\n",
            "ST45TA_UCSFFSX_11_02_15_UCSFFSX51_08_01_16     1363 non-null float64\n",
            "ST46TA_UCSFFSX_11_02_15_UCSFFSX51_08_01_16     1363 non-null float64\n",
            "ST47TA_UCSFFSX_11_02_15_UCSFFSX51_08_01_16     1363 non-null float64\n",
            "ST48TA_UCSFFSX_11_02_15_UCSFFSX51_08_01_16     1363 non-null float64\n",
            "ST49TA_UCSFFSX_11_02_15_UCSFFSX51_08_01_16     1363 non-null float64\n",
            "ST50TA_UCSFFSX_11_02_15_UCSFFSX51_08_01_16     1363 non-null float64\n",
            "ST51TA_UCSFFSX_11_02_15_UCSFFSX51_08_01_16     1363 non-null float64\n",
            "ST52TA_UCSFFSX_11_02_15_UCSFFSX51_08_01_16     1363 non-null float64\n",
            "ST54TA_UCSFFSX_11_02_15_UCSFFSX51_08_01_16     1363 non-null float64\n",
            "ST55TA_UCSFFSX_11_02_15_UCSFFSX51_08_01_16     1363 non-null float64\n",
            "ST56TA_UCSFFSX_11_02_15_UCSFFSX51_08_01_16     1363 non-null float64\n",
            "ST57TA_UCSFFSX_11_02_15_UCSFFSX51_08_01_16     1363 non-null float64\n",
            "ST58TA_UCSFFSX_11_02_15_UCSFFSX51_08_01_16     1363 non-null float64\n",
            "ST59TA_UCSFFSX_11_02_15_UCSFFSX51_08_01_16     1363 non-null float64\n",
            "ST60TA_UCSFFSX_11_02_15_UCSFFSX51_08_01_16     1363 non-null float64\n",
            "ST62TA_UCSFFSX_11_02_15_UCSFFSX51_08_01_16     1363 non-null float64\n",
            "ST64TA_UCSFFSX_11_02_15_UCSFFSX51_08_01_16     1363 non-null float64\n",
            "ST72TA_UCSFFSX_11_02_15_UCSFFSX51_08_01_16     1363 non-null float64\n",
            "ST73TA_UCSFFSX_11_02_15_UCSFFSX51_08_01_16     1363 non-null float64\n",
            "ST74TA_UCSFFSX_11_02_15_UCSFFSX51_08_01_16     1363 non-null float64\n",
            "ST82TA_UCSFFSX_11_02_15_UCSFFSX51_08_01_16     1363 non-null float64\n",
            "ST83TA_UCSFFSX_11_02_15_UCSFFSX51_08_01_16     1363 non-null float64\n",
            "ST84TA_UCSFFSX_11_02_15_UCSFFSX51_08_01_16     1363 non-null float64\n",
            "ST85TA_UCSFFSX_11_02_15_UCSFFSX51_08_01_16     1363 non-null float64\n",
            "ST90TA_UCSFFSX_11_02_15_UCSFFSX51_08_01_16     1363 non-null float64\n",
            "ST91TA_UCSFFSX_11_02_15_UCSFFSX51_08_01_16     1363 non-null float64\n",
            "ST93TA_UCSFFSX_11_02_15_UCSFFSX51_08_01_16     1363 non-null float64\n",
            "ST94TA_UCSFFSX_11_02_15_UCSFFSX51_08_01_16     1363 non-null float64\n",
            "ST95TA_UCSFFSX_11_02_15_UCSFFSX51_08_01_16     1363 non-null float64\n",
            "ST97TA_UCSFFSX_11_02_15_UCSFFSX51_08_01_16     1363 non-null float64\n",
            "ST98TA_UCSFFSX_11_02_15_UCSFFSX51_08_01_16     1363 non-null float64\n",
            "ST99TA_UCSFFSX_11_02_15_UCSFFSX51_08_01_16     1363 non-null float64\n",
            "dtypes: float64(71)\n",
            "memory usage: 756.2 KB\n"
          ],
          "name": "stdout"
        }
      ]
    },
    {
      "cell_type": "code",
      "metadata": {
        "id": "MZgxqqalyl1r",
        "colab_type": "code",
        "outputId": "d67aa5b4-70e6-4da6-d673-e6f1736c1014",
        "colab": {
          "base_uri": "https://localhost:8080/",
          "height": 68
        }
      },
      "source": [
        "incomplete_rows = AD_tr[AD_tr.isnull().any(axis=1)]#.head()\n",
        "incomplete_rows\n",
        "#빈데이터 없는거 볼 수 있음"
      ],
      "execution_count": 0,
      "outputs": [
        {
          "output_type": "execute_result",
          "data": {
            "text/html": [
              "<div>\n",
              "<style scoped>\n",
              "    .dataframe tbody tr th:only-of-type {\n",
              "        vertical-align: middle;\n",
              "    }\n",
              "\n",
              "    .dataframe tbody tr th {\n",
              "        vertical-align: top;\n",
              "    }\n",
              "\n",
              "    .dataframe thead th {\n",
              "        text-align: right;\n",
              "    }\n",
              "</style>\n",
              "<table border=\"1\" class=\"dataframe\">\n",
              "  <thead>\n",
              "    <tr style=\"text-align: right;\">\n",
              "      <th></th>\n",
              "      <th>AGE</th>\n",
              "      <th>ST102TA_UCSFFSX_11_02_15_UCSFFSX51_08_01_16</th>\n",
              "      <th>ST103TA_UCSFFSX_11_02_15_UCSFFSX51_08_01_16</th>\n",
              "      <th>ST104TA_UCSFFSX_11_02_15_UCSFFSX51_08_01_16</th>\n",
              "      <th>ST105TA_UCSFFSX_11_02_15_UCSFFSX51_08_01_16</th>\n",
              "      <th>ST106TA_UCSFFSX_11_02_15_UCSFFSX51_08_01_16</th>\n",
              "      <th>ST107TA_UCSFFSX_11_02_15_UCSFFSX51_08_01_16</th>\n",
              "      <th>ST108TA_UCSFFSX_11_02_15_UCSFFSX51_08_01_16</th>\n",
              "      <th>ST109TA_UCSFFSX_11_02_15_UCSFFSX51_08_01_16</th>\n",
              "      <th>ST110TA_UCSFFSX_11_02_15_UCSFFSX51_08_01_16</th>\n",
              "      <th>ST111TA_UCSFFSX_11_02_15_UCSFFSX51_08_01_16</th>\n",
              "      <th>ST113TA_UCSFFSX_11_02_15_UCSFFSX51_08_01_16</th>\n",
              "      <th>ST114TA_UCSFFSX_11_02_15_UCSFFSX51_08_01_16</th>\n",
              "      <th>ST115TA_UCSFFSX_11_02_15_UCSFFSX51_08_01_16</th>\n",
              "      <th>ST116TA_UCSFFSX_11_02_15_UCSFFSX51_08_01_16</th>\n",
              "      <th>ST117TA_UCSFFSX_11_02_15_UCSFFSX51_08_01_16</th>\n",
              "      <th>ST118TA_UCSFFSX_11_02_15_UCSFFSX51_08_01_16</th>\n",
              "      <th>ST119TA_UCSFFSX_11_02_15_UCSFFSX51_08_01_16</th>\n",
              "      <th>ST121TA_UCSFFSX_11_02_15_UCSFFSX51_08_01_16</th>\n",
              "      <th>ST123TA_UCSFFSX_11_02_15_UCSFFSX51_08_01_16</th>\n",
              "      <th>ST129TA_UCSFFSX_11_02_15_UCSFFSX51_08_01_16</th>\n",
              "      <th>ST130TA_UCSFFSX_11_02_15_UCSFFSX51_08_01_16</th>\n",
              "      <th>ST13TA_UCSFFSX_11_02_15_UCSFFSX51_08_01_16</th>\n",
              "      <th>ST14TA_UCSFFSX_11_02_15_UCSFFSX51_08_01_16</th>\n",
              "      <th>ST15TA_UCSFFSX_11_02_15_UCSFFSX51_08_01_16</th>\n",
              "      <th>ST23TA_UCSFFSX_11_02_15_UCSFFSX51_08_01_16</th>\n",
              "      <th>ST24TA_UCSFFSX_11_02_15_UCSFFSX51_08_01_16</th>\n",
              "      <th>ST25TA_UCSFFSX_11_02_15_UCSFFSX51_08_01_16</th>\n",
              "      <th>ST26TA_UCSFFSX_11_02_15_UCSFFSX51_08_01_16</th>\n",
              "      <th>ST31TA_UCSFFSX_11_02_15_UCSFFSX51_08_01_16</th>\n",
              "      <th>ST32TA_UCSFFSX_11_02_15_UCSFFSX51_08_01_16</th>\n",
              "      <th>ST34TA_UCSFFSX_11_02_15_UCSFFSX51_08_01_16</th>\n",
              "      <th>ST35TA_UCSFFSX_11_02_15_UCSFFSX51_08_01_16</th>\n",
              "      <th>ST36TA_UCSFFSX_11_02_15_UCSFFSX51_08_01_16</th>\n",
              "      <th>ST38TA_UCSFFSX_11_02_15_UCSFFSX51_08_01_16</th>\n",
              "      <th>ST39TA_UCSFFSX_11_02_15_UCSFFSX51_08_01_16</th>\n",
              "      <th>ST40TA_UCSFFSX_11_02_15_UCSFFSX51_08_01_16</th>\n",
              "      <th>ST43TA_UCSFFSX_11_02_15_UCSFFSX51_08_01_16</th>\n",
              "      <th>ST44TA_UCSFFSX_11_02_15_UCSFFSX51_08_01_16</th>\n",
              "      <th>ST45TA_UCSFFSX_11_02_15_UCSFFSX51_08_01_16</th>\n",
              "      <th>ST46TA_UCSFFSX_11_02_15_UCSFFSX51_08_01_16</th>\n",
              "      <th>ST47TA_UCSFFSX_11_02_15_UCSFFSX51_08_01_16</th>\n",
              "      <th>ST48TA_UCSFFSX_11_02_15_UCSFFSX51_08_01_16</th>\n",
              "      <th>ST49TA_UCSFFSX_11_02_15_UCSFFSX51_08_01_16</th>\n",
              "      <th>ST50TA_UCSFFSX_11_02_15_UCSFFSX51_08_01_16</th>\n",
              "      <th>ST51TA_UCSFFSX_11_02_15_UCSFFSX51_08_01_16</th>\n",
              "      <th>ST52TA_UCSFFSX_11_02_15_UCSFFSX51_08_01_16</th>\n",
              "      <th>ST54TA_UCSFFSX_11_02_15_UCSFFSX51_08_01_16</th>\n",
              "      <th>ST55TA_UCSFFSX_11_02_15_UCSFFSX51_08_01_16</th>\n",
              "      <th>ST56TA_UCSFFSX_11_02_15_UCSFFSX51_08_01_16</th>\n",
              "      <th>ST57TA_UCSFFSX_11_02_15_UCSFFSX51_08_01_16</th>\n",
              "      <th>ST58TA_UCSFFSX_11_02_15_UCSFFSX51_08_01_16</th>\n",
              "      <th>ST59TA_UCSFFSX_11_02_15_UCSFFSX51_08_01_16</th>\n",
              "      <th>ST60TA_UCSFFSX_11_02_15_UCSFFSX51_08_01_16</th>\n",
              "      <th>ST62TA_UCSFFSX_11_02_15_UCSFFSX51_08_01_16</th>\n",
              "      <th>ST64TA_UCSFFSX_11_02_15_UCSFFSX51_08_01_16</th>\n",
              "      <th>ST72TA_UCSFFSX_11_02_15_UCSFFSX51_08_01_16</th>\n",
              "      <th>ST73TA_UCSFFSX_11_02_15_UCSFFSX51_08_01_16</th>\n",
              "      <th>ST74TA_UCSFFSX_11_02_15_UCSFFSX51_08_01_16</th>\n",
              "      <th>ST82TA_UCSFFSX_11_02_15_UCSFFSX51_08_01_16</th>\n",
              "      <th>ST83TA_UCSFFSX_11_02_15_UCSFFSX51_08_01_16</th>\n",
              "      <th>ST84TA_UCSFFSX_11_02_15_UCSFFSX51_08_01_16</th>\n",
              "      <th>ST85TA_UCSFFSX_11_02_15_UCSFFSX51_08_01_16</th>\n",
              "      <th>ST90TA_UCSFFSX_11_02_15_UCSFFSX51_08_01_16</th>\n",
              "      <th>ST91TA_UCSFFSX_11_02_15_UCSFFSX51_08_01_16</th>\n",
              "      <th>ST93TA_UCSFFSX_11_02_15_UCSFFSX51_08_01_16</th>\n",
              "      <th>ST94TA_UCSFFSX_11_02_15_UCSFFSX51_08_01_16</th>\n",
              "      <th>ST95TA_UCSFFSX_11_02_15_UCSFFSX51_08_01_16</th>\n",
              "      <th>ST97TA_UCSFFSX_11_02_15_UCSFFSX51_08_01_16</th>\n",
              "      <th>ST98TA_UCSFFSX_11_02_15_UCSFFSX51_08_01_16</th>\n",
              "      <th>ST99TA_UCSFFSX_11_02_15_UCSFFSX51_08_01_16</th>\n",
              "    </tr>\n",
              "  </thead>\n",
              "  <tbody>\n",
              "  </tbody>\n",
              "</table>\n",
              "</div>"
            ],
            "text/plain": [
              "Empty DataFrame\n",
              "Columns: [AGE, ST102TA_UCSFFSX_11_02_15_UCSFFSX51_08_01_16, ST103TA_UCSFFSX_11_02_15_UCSFFSX51_08_01_16, ST104TA_UCSFFSX_11_02_15_UCSFFSX51_08_01_16, ST105TA_UCSFFSX_11_02_15_UCSFFSX51_08_01_16, ST106TA_UCSFFSX_11_02_15_UCSFFSX51_08_01_16, ST107TA_UCSFFSX_11_02_15_UCSFFSX51_08_01_16, ST108TA_UCSFFSX_11_02_15_UCSFFSX51_08_01_16, ST109TA_UCSFFSX_11_02_15_UCSFFSX51_08_01_16, ST110TA_UCSFFSX_11_02_15_UCSFFSX51_08_01_16, ST111TA_UCSFFSX_11_02_15_UCSFFSX51_08_01_16, ST113TA_UCSFFSX_11_02_15_UCSFFSX51_08_01_16, ST114TA_UCSFFSX_11_02_15_UCSFFSX51_08_01_16, ST115TA_UCSFFSX_11_02_15_UCSFFSX51_08_01_16, ST116TA_UCSFFSX_11_02_15_UCSFFSX51_08_01_16, ST117TA_UCSFFSX_11_02_15_UCSFFSX51_08_01_16, ST118TA_UCSFFSX_11_02_15_UCSFFSX51_08_01_16, ST119TA_UCSFFSX_11_02_15_UCSFFSX51_08_01_16, ST121TA_UCSFFSX_11_02_15_UCSFFSX51_08_01_16, ST123TA_UCSFFSX_11_02_15_UCSFFSX51_08_01_16, ST129TA_UCSFFSX_11_02_15_UCSFFSX51_08_01_16, ST130TA_UCSFFSX_11_02_15_UCSFFSX51_08_01_16, ST13TA_UCSFFSX_11_02_15_UCSFFSX51_08_01_16, ST14TA_UCSFFSX_11_02_15_UCSFFSX51_08_01_16, ST15TA_UCSFFSX_11_02_15_UCSFFSX51_08_01_16, ST23TA_UCSFFSX_11_02_15_UCSFFSX51_08_01_16, ST24TA_UCSFFSX_11_02_15_UCSFFSX51_08_01_16, ST25TA_UCSFFSX_11_02_15_UCSFFSX51_08_01_16, ST26TA_UCSFFSX_11_02_15_UCSFFSX51_08_01_16, ST31TA_UCSFFSX_11_02_15_UCSFFSX51_08_01_16, ST32TA_UCSFFSX_11_02_15_UCSFFSX51_08_01_16, ST34TA_UCSFFSX_11_02_15_UCSFFSX51_08_01_16, ST35TA_UCSFFSX_11_02_15_UCSFFSX51_08_01_16, ST36TA_UCSFFSX_11_02_15_UCSFFSX51_08_01_16, ST38TA_UCSFFSX_11_02_15_UCSFFSX51_08_01_16, ST39TA_UCSFFSX_11_02_15_UCSFFSX51_08_01_16, ST40TA_UCSFFSX_11_02_15_UCSFFSX51_08_01_16, ST43TA_UCSFFSX_11_02_15_UCSFFSX51_08_01_16, ST44TA_UCSFFSX_11_02_15_UCSFFSX51_08_01_16, ST45TA_UCSFFSX_11_02_15_UCSFFSX51_08_01_16, ST46TA_UCSFFSX_11_02_15_UCSFFSX51_08_01_16, ST47TA_UCSFFSX_11_02_15_UCSFFSX51_08_01_16, ST48TA_UCSFFSX_11_02_15_UCSFFSX51_08_01_16, ST49TA_UCSFFSX_11_02_15_UCSFFSX51_08_01_16, ST50TA_UCSFFSX_11_02_15_UCSFFSX51_08_01_16, ST51TA_UCSFFSX_11_02_15_UCSFFSX51_08_01_16, ST52TA_UCSFFSX_11_02_15_UCSFFSX51_08_01_16, ST54TA_UCSFFSX_11_02_15_UCSFFSX51_08_01_16, ST55TA_UCSFFSX_11_02_15_UCSFFSX51_08_01_16, ST56TA_UCSFFSX_11_02_15_UCSFFSX51_08_01_16, ST57TA_UCSFFSX_11_02_15_UCSFFSX51_08_01_16, ST58TA_UCSFFSX_11_02_15_UCSFFSX51_08_01_16, ST59TA_UCSFFSX_11_02_15_UCSFFSX51_08_01_16, ST60TA_UCSFFSX_11_02_15_UCSFFSX51_08_01_16, ST62TA_UCSFFSX_11_02_15_UCSFFSX51_08_01_16, ST64TA_UCSFFSX_11_02_15_UCSFFSX51_08_01_16, ST72TA_UCSFFSX_11_02_15_UCSFFSX51_08_01_16, ST73TA_UCSFFSX_11_02_15_UCSFFSX51_08_01_16, ST74TA_UCSFFSX_11_02_15_UCSFFSX51_08_01_16, ST82TA_UCSFFSX_11_02_15_UCSFFSX51_08_01_16, ST83TA_UCSFFSX_11_02_15_UCSFFSX51_08_01_16, ST84TA_UCSFFSX_11_02_15_UCSFFSX51_08_01_16, ST85TA_UCSFFSX_11_02_15_UCSFFSX51_08_01_16, ST90TA_UCSFFSX_11_02_15_UCSFFSX51_08_01_16, ST91TA_UCSFFSX_11_02_15_UCSFFSX51_08_01_16, ST93TA_UCSFFSX_11_02_15_UCSFFSX51_08_01_16, ST94TA_UCSFFSX_11_02_15_UCSFFSX51_08_01_16, ST95TA_UCSFFSX_11_02_15_UCSFFSX51_08_01_16, ST97TA_UCSFFSX_11_02_15_UCSFFSX51_08_01_16, ST98TA_UCSFFSX_11_02_15_UCSFFSX51_08_01_16, ST99TA_UCSFFSX_11_02_15_UCSFFSX51_08_01_16]\n",
              "Index: []"
            ]
          },
          "metadata": {
            "tags": []
          },
          "execution_count": 21
        }
      ]
    },
    {
      "cell_type": "markdown",
      "metadata": {
        "id": "o8arEJ7erDwj",
        "colab_type": "text"
      },
      "source": [
        "AD_label_reg에도 NaN값있음 - ASAD13"
      ]
    },
    {
      "cell_type": "code",
      "metadata": {
        "id": "BdCqjUJfrKXp",
        "colab_type": "code",
        "outputId": "baba6a7a-cee2-4a90-9f54-f7c5ff2753f6",
        "colab": {
          "base_uri": "https://localhost:8080/",
          "height": 52
        }
      },
      "source": [
        "imputer.fit(AD_label_reg)"
      ],
      "execution_count": 0,
      "outputs": [
        {
          "output_type": "execute_result",
          "data": {
            "text/plain": [
              "SimpleImputer(add_indicator=False, copy=True, fill_value=None,\n",
              "              missing_values=nan, strategy='median', verbose=0)"
            ]
          },
          "metadata": {
            "tags": []
          },
          "execution_count": 22
        }
      ]
    },
    {
      "cell_type": "code",
      "metadata": {
        "id": "SL4wvxh4rUYx",
        "colab_type": "code",
        "colab": {}
      },
      "source": [
        "X = imputer.transform(AD_label_reg)"
      ],
      "execution_count": 0,
      "outputs": []
    },
    {
      "cell_type": "code",
      "metadata": {
        "id": "0V7FkSJUrYuB",
        "colab_type": "code",
        "colab": {}
      },
      "source": [
        "y = AD_label_reg = pd.DataFrame(X, columns=AD_label_reg.columns,\n",
        "                             index=AD_label_reg.index)"
      ],
      "execution_count": 0,
      "outputs": []
    },
    {
      "cell_type": "code",
      "metadata": {
        "id": "pqIsLMZNrfyh",
        "colab_type": "code",
        "outputId": "b1c23901-4dbb-4d62-c051-0b48945c6c70",
        "colab": {
          "base_uri": "https://localhost:8080/",
          "height": 141
        }
      },
      "source": [
        "AD_label_reg.info()"
      ],
      "execution_count": 0,
      "outputs": [
        {
          "output_type": "stream",
          "text": [
            "<class 'pandas.core.frame.DataFrame'>\n",
            "RangeIndex: 1363 entries, 0 to 1362\n",
            "Data columns (total 2 columns):\n",
            "MMSE      1363 non-null float64\n",
            "ADAS13    1363 non-null float64\n",
            "dtypes: float64(2)\n",
            "memory usage: 21.4 KB\n"
          ],
          "name": "stdout"
        }
      ]
    },
    {
      "cell_type": "code",
      "metadata": {
        "id": "xrG9CNxk3ij6",
        "colab_type": "code",
        "outputId": "1730857c-e120-4664-b844-65640666600a",
        "colab": {
          "base_uri": "https://localhost:8080/",
          "height": 311
        }
      },
      "source": [
        "AD_tr.describe()"
      ],
      "execution_count": 0,
      "outputs": [
        {
          "output_type": "execute_result",
          "data": {
            "text/html": [
              "<div>\n",
              "<style scoped>\n",
              "    .dataframe tbody tr th:only-of-type {\n",
              "        vertical-align: middle;\n",
              "    }\n",
              "\n",
              "    .dataframe tbody tr th {\n",
              "        vertical-align: top;\n",
              "    }\n",
              "\n",
              "    .dataframe thead th {\n",
              "        text-align: right;\n",
              "    }\n",
              "</style>\n",
              "<table border=\"1\" class=\"dataframe\">\n",
              "  <thead>\n",
              "    <tr style=\"text-align: right;\">\n",
              "      <th></th>\n",
              "      <th>AGE</th>\n",
              "      <th>ST102TA_UCSFFSX_11_02_15_UCSFFSX51_08_01_16</th>\n",
              "      <th>ST103TA_UCSFFSX_11_02_15_UCSFFSX51_08_01_16</th>\n",
              "      <th>ST104TA_UCSFFSX_11_02_15_UCSFFSX51_08_01_16</th>\n",
              "      <th>ST105TA_UCSFFSX_11_02_15_UCSFFSX51_08_01_16</th>\n",
              "      <th>ST106TA_UCSFFSX_11_02_15_UCSFFSX51_08_01_16</th>\n",
              "      <th>ST107TA_UCSFFSX_11_02_15_UCSFFSX51_08_01_16</th>\n",
              "      <th>ST108TA_UCSFFSX_11_02_15_UCSFFSX51_08_01_16</th>\n",
              "      <th>ST109TA_UCSFFSX_11_02_15_UCSFFSX51_08_01_16</th>\n",
              "      <th>ST110TA_UCSFFSX_11_02_15_UCSFFSX51_08_01_16</th>\n",
              "      <th>ST111TA_UCSFFSX_11_02_15_UCSFFSX51_08_01_16</th>\n",
              "      <th>ST113TA_UCSFFSX_11_02_15_UCSFFSX51_08_01_16</th>\n",
              "      <th>ST114TA_UCSFFSX_11_02_15_UCSFFSX51_08_01_16</th>\n",
              "      <th>ST115TA_UCSFFSX_11_02_15_UCSFFSX51_08_01_16</th>\n",
              "      <th>ST116TA_UCSFFSX_11_02_15_UCSFFSX51_08_01_16</th>\n",
              "      <th>ST117TA_UCSFFSX_11_02_15_UCSFFSX51_08_01_16</th>\n",
              "      <th>ST118TA_UCSFFSX_11_02_15_UCSFFSX51_08_01_16</th>\n",
              "      <th>ST119TA_UCSFFSX_11_02_15_UCSFFSX51_08_01_16</th>\n",
              "      <th>ST121TA_UCSFFSX_11_02_15_UCSFFSX51_08_01_16</th>\n",
              "      <th>ST123TA_UCSFFSX_11_02_15_UCSFFSX51_08_01_16</th>\n",
              "      <th>ST129TA_UCSFFSX_11_02_15_UCSFFSX51_08_01_16</th>\n",
              "      <th>ST130TA_UCSFFSX_11_02_15_UCSFFSX51_08_01_16</th>\n",
              "      <th>ST13TA_UCSFFSX_11_02_15_UCSFFSX51_08_01_16</th>\n",
              "      <th>ST14TA_UCSFFSX_11_02_15_UCSFFSX51_08_01_16</th>\n",
              "      <th>ST15TA_UCSFFSX_11_02_15_UCSFFSX51_08_01_16</th>\n",
              "      <th>ST23TA_UCSFFSX_11_02_15_UCSFFSX51_08_01_16</th>\n",
              "      <th>ST24TA_UCSFFSX_11_02_15_UCSFFSX51_08_01_16</th>\n",
              "      <th>ST25TA_UCSFFSX_11_02_15_UCSFFSX51_08_01_16</th>\n",
              "      <th>ST26TA_UCSFFSX_11_02_15_UCSFFSX51_08_01_16</th>\n",
              "      <th>ST31TA_UCSFFSX_11_02_15_UCSFFSX51_08_01_16</th>\n",
              "      <th>ST32TA_UCSFFSX_11_02_15_UCSFFSX51_08_01_16</th>\n",
              "      <th>ST34TA_UCSFFSX_11_02_15_UCSFFSX51_08_01_16</th>\n",
              "      <th>ST35TA_UCSFFSX_11_02_15_UCSFFSX51_08_01_16</th>\n",
              "      <th>ST36TA_UCSFFSX_11_02_15_UCSFFSX51_08_01_16</th>\n",
              "      <th>ST38TA_UCSFFSX_11_02_15_UCSFFSX51_08_01_16</th>\n",
              "      <th>ST39TA_UCSFFSX_11_02_15_UCSFFSX51_08_01_16</th>\n",
              "      <th>ST40TA_UCSFFSX_11_02_15_UCSFFSX51_08_01_16</th>\n",
              "      <th>ST43TA_UCSFFSX_11_02_15_UCSFFSX51_08_01_16</th>\n",
              "      <th>ST44TA_UCSFFSX_11_02_15_UCSFFSX51_08_01_16</th>\n",
              "      <th>ST45TA_UCSFFSX_11_02_15_UCSFFSX51_08_01_16</th>\n",
              "      <th>ST46TA_UCSFFSX_11_02_15_UCSFFSX51_08_01_16</th>\n",
              "      <th>ST47TA_UCSFFSX_11_02_15_UCSFFSX51_08_01_16</th>\n",
              "      <th>ST48TA_UCSFFSX_11_02_15_UCSFFSX51_08_01_16</th>\n",
              "      <th>ST49TA_UCSFFSX_11_02_15_UCSFFSX51_08_01_16</th>\n",
              "      <th>ST50TA_UCSFFSX_11_02_15_UCSFFSX51_08_01_16</th>\n",
              "      <th>ST51TA_UCSFFSX_11_02_15_UCSFFSX51_08_01_16</th>\n",
              "      <th>ST52TA_UCSFFSX_11_02_15_UCSFFSX51_08_01_16</th>\n",
              "      <th>ST54TA_UCSFFSX_11_02_15_UCSFFSX51_08_01_16</th>\n",
              "      <th>ST55TA_UCSFFSX_11_02_15_UCSFFSX51_08_01_16</th>\n",
              "      <th>ST56TA_UCSFFSX_11_02_15_UCSFFSX51_08_01_16</th>\n",
              "      <th>ST57TA_UCSFFSX_11_02_15_UCSFFSX51_08_01_16</th>\n",
              "      <th>ST58TA_UCSFFSX_11_02_15_UCSFFSX51_08_01_16</th>\n",
              "      <th>ST59TA_UCSFFSX_11_02_15_UCSFFSX51_08_01_16</th>\n",
              "      <th>ST60TA_UCSFFSX_11_02_15_UCSFFSX51_08_01_16</th>\n",
              "      <th>ST62TA_UCSFFSX_11_02_15_UCSFFSX51_08_01_16</th>\n",
              "      <th>ST64TA_UCSFFSX_11_02_15_UCSFFSX51_08_01_16</th>\n",
              "      <th>ST72TA_UCSFFSX_11_02_15_UCSFFSX51_08_01_16</th>\n",
              "      <th>ST73TA_UCSFFSX_11_02_15_UCSFFSX51_08_01_16</th>\n",
              "      <th>ST74TA_UCSFFSX_11_02_15_UCSFFSX51_08_01_16</th>\n",
              "      <th>ST82TA_UCSFFSX_11_02_15_UCSFFSX51_08_01_16</th>\n",
              "      <th>ST83TA_UCSFFSX_11_02_15_UCSFFSX51_08_01_16</th>\n",
              "      <th>ST84TA_UCSFFSX_11_02_15_UCSFFSX51_08_01_16</th>\n",
              "      <th>ST85TA_UCSFFSX_11_02_15_UCSFFSX51_08_01_16</th>\n",
              "      <th>ST90TA_UCSFFSX_11_02_15_UCSFFSX51_08_01_16</th>\n",
              "      <th>ST91TA_UCSFFSX_11_02_15_UCSFFSX51_08_01_16</th>\n",
              "      <th>ST93TA_UCSFFSX_11_02_15_UCSFFSX51_08_01_16</th>\n",
              "      <th>ST94TA_UCSFFSX_11_02_15_UCSFFSX51_08_01_16</th>\n",
              "      <th>ST95TA_UCSFFSX_11_02_15_UCSFFSX51_08_01_16</th>\n",
              "      <th>ST97TA_UCSFFSX_11_02_15_UCSFFSX51_08_01_16</th>\n",
              "      <th>ST98TA_UCSFFSX_11_02_15_UCSFFSX51_08_01_16</th>\n",
              "      <th>ST99TA_UCSFFSX_11_02_15_UCSFFSX51_08_01_16</th>\n",
              "    </tr>\n",
              "  </thead>\n",
              "  <tbody>\n",
              "    <tr>\n",
              "      <th>count</th>\n",
              "      <td>1363.000000</td>\n",
              "      <td>1363.000000</td>\n",
              "      <td>1363.00000</td>\n",
              "      <td>1363.000000</td>\n",
              "      <td>1363.00000</td>\n",
              "      <td>1363.000000</td>\n",
              "      <td>1363.000000</td>\n",
              "      <td>1363.000000</td>\n",
              "      <td>1363.000000</td>\n",
              "      <td>1363.000000</td>\n",
              "      <td>1363.000000</td>\n",
              "      <td>1363.000000</td>\n",
              "      <td>1363.000000</td>\n",
              "      <td>1363.000000</td>\n",
              "      <td>1363.000000</td>\n",
              "      <td>1363.000000</td>\n",
              "      <td>1363.000000</td>\n",
              "      <td>1363.000000</td>\n",
              "      <td>1363.000000</td>\n",
              "      <td>1363.000000</td>\n",
              "      <td>1363.000000</td>\n",
              "      <td>1363.000000</td>\n",
              "      <td>1363.000000</td>\n",
              "      <td>1363.000000</td>\n",
              "      <td>1363.000000</td>\n",
              "      <td>1363.000000</td>\n",
              "      <td>1363.000000</td>\n",
              "      <td>1363.000000</td>\n",
              "      <td>1363.000000</td>\n",
              "      <td>1363.000000</td>\n",
              "      <td>1363.000000</td>\n",
              "      <td>1363.000000</td>\n",
              "      <td>1363.000000</td>\n",
              "      <td>1363.000000</td>\n",
              "      <td>1363.000000</td>\n",
              "      <td>1363.000000</td>\n",
              "      <td>1363.000000</td>\n",
              "      <td>1363.000000</td>\n",
              "      <td>1363.000000</td>\n",
              "      <td>1363.000000</td>\n",
              "      <td>1363.000000</td>\n",
              "      <td>1363.000000</td>\n",
              "      <td>1363.000000</td>\n",
              "      <td>1363.000000</td>\n",
              "      <td>1363.000000</td>\n",
              "      <td>1363.000000</td>\n",
              "      <td>1363.000000</td>\n",
              "      <td>1363.000000</td>\n",
              "      <td>1363.000000</td>\n",
              "      <td>1363.000000</td>\n",
              "      <td>1363.000000</td>\n",
              "      <td>1363.000000</td>\n",
              "      <td>1363.000000</td>\n",
              "      <td>1363.000000</td>\n",
              "      <td>1363.000000</td>\n",
              "      <td>1363.000000</td>\n",
              "      <td>1363.000000</td>\n",
              "      <td>1363.000000</td>\n",
              "      <td>1363.000000</td>\n",
              "      <td>1363.000000</td>\n",
              "      <td>1363.000000</td>\n",
              "      <td>1363.000000</td>\n",
              "      <td>1363.000000</td>\n",
              "      <td>1363.000000</td>\n",
              "      <td>1363.000000</td>\n",
              "      <td>1363.000000</td>\n",
              "      <td>1363.000000</td>\n",
              "      <td>1363.000000</td>\n",
              "      <td>1363.000000</td>\n",
              "      <td>1363.000000</td>\n",
              "      <td>1363.000000</td>\n",
              "    </tr>\n",
              "    <tr>\n",
              "      <th>mean</th>\n",
              "      <td>73.829934</td>\n",
              "      <td>2.159362</td>\n",
              "      <td>2.52010</td>\n",
              "      <td>2.377216</td>\n",
              "      <td>2.52305</td>\n",
              "      <td>2.244894</td>\n",
              "      <td>1.454748</td>\n",
              "      <td>1.817326</td>\n",
              "      <td>2.394646</td>\n",
              "      <td>2.226582</td>\n",
              "      <td>2.141666</td>\n",
              "      <td>2.805529</td>\n",
              "      <td>2.147222</td>\n",
              "      <td>2.471778</td>\n",
              "      <td>1.993387</td>\n",
              "      <td>2.510346</td>\n",
              "      <td>2.321846</td>\n",
              "      <td>3.508594</td>\n",
              "      <td>2.172627</td>\n",
              "      <td>1.046130</td>\n",
              "      <td>2.859238</td>\n",
              "      <td>2.865794</td>\n",
              "      <td>2.250949</td>\n",
              "      <td>2.664700</td>\n",
              "      <td>2.323608</td>\n",
              "      <td>1.724311</td>\n",
              "      <td>3.170096</td>\n",
              "      <td>2.609715</td>\n",
              "      <td>2.540327</td>\n",
              "      <td>2.225454</td>\n",
              "      <td>2.656051</td>\n",
              "      <td>2.385315</td>\n",
              "      <td>2.019346</td>\n",
              "      <td>2.474465</td>\n",
              "      <td>1.822271</td>\n",
              "      <td>2.291240</td>\n",
              "      <td>2.646244</td>\n",
              "      <td>2.155459</td>\n",
              "      <td>2.548485</td>\n",
              "      <td>2.357775</td>\n",
              "      <td>2.520763</td>\n",
              "      <td>2.226982</td>\n",
              "      <td>1.457460</td>\n",
              "      <td>1.847635</td>\n",
              "      <td>2.421040</td>\n",
              "      <td>2.251201</td>\n",
              "      <td>2.136885</td>\n",
              "      <td>2.829967</td>\n",
              "      <td>2.151527</td>\n",
              "      <td>2.494326</td>\n",
              "      <td>2.003357</td>\n",
              "      <td>2.485665</td>\n",
              "      <td>2.304969</td>\n",
              "      <td>3.459899</td>\n",
              "      <td>2.127752</td>\n",
              "      <td>1.043815</td>\n",
              "      <td>2.359627</td>\n",
              "      <td>2.536175</td>\n",
              "      <td>2.312630</td>\n",
              "      <td>1.733724</td>\n",
              "      <td>3.317905</td>\n",
              "      <td>2.551714</td>\n",
              "      <td>2.553238</td>\n",
              "      <td>2.253912</td>\n",
              "      <td>2.695016</td>\n",
              "      <td>2.337098</td>\n",
              "      <td>2.078493</td>\n",
              "      <td>2.464051</td>\n",
              "      <td>1.852726</td>\n",
              "      <td>2.263604</td>\n",
              "      <td>2.701903</td>\n",
              "    </tr>\n",
              "    <tr>\n",
              "      <th>std</th>\n",
              "      <td>7.254368</td>\n",
              "      <td>0.216449</td>\n",
              "      <td>0.35525</td>\n",
              "      <td>0.196252</td>\n",
              "      <td>0.23875</td>\n",
              "      <td>0.185406</td>\n",
              "      <td>0.144638</td>\n",
              "      <td>0.176361</td>\n",
              "      <td>0.201241</td>\n",
              "      <td>0.234863</td>\n",
              "      <td>0.202246</td>\n",
              "      <td>0.283466</td>\n",
              "      <td>0.158046</td>\n",
              "      <td>0.182910</td>\n",
              "      <td>0.199800</td>\n",
              "      <td>0.225844</td>\n",
              "      <td>0.201596</td>\n",
              "      <td>0.435442</td>\n",
              "      <td>0.293330</td>\n",
              "      <td>0.106636</td>\n",
              "      <td>0.215404</td>\n",
              "      <td>0.211056</td>\n",
              "      <td>0.234489</td>\n",
              "      <td>0.344668</td>\n",
              "      <td>0.212339</td>\n",
              "      <td>0.160195</td>\n",
              "      <td>0.522520</td>\n",
              "      <td>0.295560</td>\n",
              "      <td>0.226074</td>\n",
              "      <td>0.214214</td>\n",
              "      <td>0.232473</td>\n",
              "      <td>0.239244</td>\n",
              "      <td>0.182895</td>\n",
              "      <td>0.190276</td>\n",
              "      <td>0.153372</td>\n",
              "      <td>0.196264</td>\n",
              "      <td>0.236948</td>\n",
              "      <td>0.222450</td>\n",
              "      <td>0.401026</td>\n",
              "      <td>0.187901</td>\n",
              "      <td>0.253587</td>\n",
              "      <td>0.197517</td>\n",
              "      <td>0.150882</td>\n",
              "      <td>0.177508</td>\n",
              "      <td>0.200876</td>\n",
              "      <td>0.248287</td>\n",
              "      <td>0.206223</td>\n",
              "      <td>0.279290</td>\n",
              "      <td>0.165908</td>\n",
              "      <td>0.187141</td>\n",
              "      <td>0.202181</td>\n",
              "      <td>0.235703</td>\n",
              "      <td>0.209140</td>\n",
              "      <td>0.401756</td>\n",
              "      <td>0.275556</td>\n",
              "      <td>0.095752</td>\n",
              "      <td>0.229444</td>\n",
              "      <td>0.303713</td>\n",
              "      <td>0.210066</td>\n",
              "      <td>0.166139</td>\n",
              "      <td>0.548250</td>\n",
              "      <td>0.287481</td>\n",
              "      <td>0.234594</td>\n",
              "      <td>0.214166</td>\n",
              "      <td>0.232116</td>\n",
              "      <td>0.250003</td>\n",
              "      <td>0.193837</td>\n",
              "      <td>0.182158</td>\n",
              "      <td>0.161415</td>\n",
              "      <td>0.208120</td>\n",
              "      <td>0.229949</td>\n",
              "    </tr>\n",
              "    <tr>\n",
              "      <th>min</th>\n",
              "      <td>54.400000</td>\n",
              "      <td>1.418000</td>\n",
              "      <td>1.42100</td>\n",
              "      <td>1.567000</td>\n",
              "      <td>1.69400</td>\n",
              "      <td>1.595000</td>\n",
              "      <td>1.120000</td>\n",
              "      <td>1.198000</td>\n",
              "      <td>1.337000</td>\n",
              "      <td>1.334000</td>\n",
              "      <td>1.417000</td>\n",
              "      <td>1.788000</td>\n",
              "      <td>1.543000</td>\n",
              "      <td>1.723000</td>\n",
              "      <td>1.240000</td>\n",
              "      <td>1.642000</td>\n",
              "      <td>1.549000</td>\n",
              "      <td>1.360000</td>\n",
              "      <td>1.236000</td>\n",
              "      <td>0.548000</td>\n",
              "      <td>1.883000</td>\n",
              "      <td>2.015000</td>\n",
              "      <td>1.352000</td>\n",
              "      <td>1.483000</td>\n",
              "      <td>1.262000</td>\n",
              "      <td>1.130000</td>\n",
              "      <td>1.179000</td>\n",
              "      <td>1.553000</td>\n",
              "      <td>1.526000</td>\n",
              "      <td>1.311000</td>\n",
              "      <td>1.690000</td>\n",
              "      <td>1.575000</td>\n",
              "      <td>1.088000</td>\n",
              "      <td>1.687000</td>\n",
              "      <td>1.266000</td>\n",
              "      <td>1.639000</td>\n",
              "      <td>1.599000</td>\n",
              "      <td>1.240000</td>\n",
              "      <td>1.229000</td>\n",
              "      <td>1.624000</td>\n",
              "      <td>1.708000</td>\n",
              "      <td>1.543000</td>\n",
              "      <td>1.123000</td>\n",
              "      <td>1.317000</td>\n",
              "      <td>1.396000</td>\n",
              "      <td>1.333000</td>\n",
              "      <td>1.403000</td>\n",
              "      <td>1.871000</td>\n",
              "      <td>1.311000</td>\n",
              "      <td>1.693000</td>\n",
              "      <td>1.204000</td>\n",
              "      <td>1.616000</td>\n",
              "      <td>1.551000</td>\n",
              "      <td>1.482000</td>\n",
              "      <td>1.261000</td>\n",
              "      <td>0.574000</td>\n",
              "      <td>1.525000</td>\n",
              "      <td>1.592000</td>\n",
              "      <td>1.504000</td>\n",
              "      <td>1.244000</td>\n",
              "      <td>1.454000</td>\n",
              "      <td>1.660000</td>\n",
              "      <td>1.655000</td>\n",
              "      <td>1.422000</td>\n",
              "      <td>1.788000</td>\n",
              "      <td>1.347000</td>\n",
              "      <td>1.312000</td>\n",
              "      <td>1.867000</td>\n",
              "      <td>1.416000</td>\n",
              "      <td>1.547000</td>\n",
              "      <td>1.756000</td>\n",
              "    </tr>\n",
              "    <tr>\n",
              "      <th>25%</th>\n",
              "      <td>69.300000</td>\n",
              "      <td>2.015000</td>\n",
              "      <td>2.28650</td>\n",
              "      <td>2.260000</td>\n",
              "      <td>2.36600</td>\n",
              "      <td>2.126000</td>\n",
              "      <td>1.349000</td>\n",
              "      <td>1.697500</td>\n",
              "      <td>2.268500</td>\n",
              "      <td>2.083000</td>\n",
              "      <td>2.008000</td>\n",
              "      <td>2.624000</td>\n",
              "      <td>2.054000</td>\n",
              "      <td>2.364000</td>\n",
              "      <td>1.870000</td>\n",
              "      <td>2.365000</td>\n",
              "      <td>2.188000</td>\n",
              "      <td>3.294500</td>\n",
              "      <td>1.976500</td>\n",
              "      <td>1.044000</td>\n",
              "      <td>2.719000</td>\n",
              "      <td>2.739500</td>\n",
              "      <td>2.104000</td>\n",
              "      <td>2.428500</td>\n",
              "      <td>2.198500</td>\n",
              "      <td>1.614000</td>\n",
              "      <td>2.845500</td>\n",
              "      <td>2.428000</td>\n",
              "      <td>2.400500</td>\n",
              "      <td>2.092000</td>\n",
              "      <td>2.517000</td>\n",
              "      <td>2.225500</td>\n",
              "      <td>1.899500</td>\n",
              "      <td>2.347500</td>\n",
              "      <td>1.714000</td>\n",
              "      <td>2.166500</td>\n",
              "      <td>2.508000</td>\n",
              "      <td>2.009000</td>\n",
              "      <td>2.281000</td>\n",
              "      <td>2.242500</td>\n",
              "      <td>2.355500</td>\n",
              "      <td>2.098000</td>\n",
              "      <td>1.344500</td>\n",
              "      <td>1.728000</td>\n",
              "      <td>2.299500</td>\n",
              "      <td>2.081000</td>\n",
              "      <td>2.004000</td>\n",
              "      <td>2.645000</td>\n",
              "      <td>2.051000</td>\n",
              "      <td>2.380500</td>\n",
              "      <td>1.876000</td>\n",
              "      <td>2.339000</td>\n",
              "      <td>2.169000</td>\n",
              "      <td>3.246000</td>\n",
              "      <td>1.948500</td>\n",
              "      <td>1.042000</td>\n",
              "      <td>2.219500</td>\n",
              "      <td>2.324000</td>\n",
              "      <td>2.182500</td>\n",
              "      <td>1.613500</td>\n",
              "      <td>3.002000</td>\n",
              "      <td>2.360500</td>\n",
              "      <td>2.399500</td>\n",
              "      <td>2.118500</td>\n",
              "      <td>2.556000</td>\n",
              "      <td>2.167000</td>\n",
              "      <td>1.950000</td>\n",
              "      <td>2.346000</td>\n",
              "      <td>1.739500</td>\n",
              "      <td>2.127500</td>\n",
              "      <td>2.586000</td>\n",
              "    </tr>\n",
              "    <tr>\n",
              "      <th>50%</th>\n",
              "      <td>74.000000</td>\n",
              "      <td>2.173000</td>\n",
              "      <td>2.53700</td>\n",
              "      <td>2.391000</td>\n",
              "      <td>2.51500</td>\n",
              "      <td>2.256000</td>\n",
              "      <td>1.439000</td>\n",
              "      <td>1.827000</td>\n",
              "      <td>2.396000</td>\n",
              "      <td>2.259000</td>\n",
              "      <td>2.159000</td>\n",
              "      <td>2.789000</td>\n",
              "      <td>2.161000</td>\n",
              "      <td>2.480000</td>\n",
              "      <td>2.006000</td>\n",
              "      <td>2.522000</td>\n",
              "      <td>2.346000</td>\n",
              "      <td>3.570000</td>\n",
              "      <td>2.190000</td>\n",
              "      <td>1.044000</td>\n",
              "      <td>2.870000</td>\n",
              "      <td>2.876000</td>\n",
              "      <td>2.273000</td>\n",
              "      <td>2.658000</td>\n",
              "      <td>2.340000</td>\n",
              "      <td>1.715000</td>\n",
              "      <td>3.269000</td>\n",
              "      <td>2.614000</td>\n",
              "      <td>2.559000</td>\n",
              "      <td>2.247000</td>\n",
              "      <td>2.674000</td>\n",
              "      <td>2.390000</td>\n",
              "      <td>2.022000</td>\n",
              "      <td>2.478000</td>\n",
              "      <td>1.812000</td>\n",
              "      <td>2.298000</td>\n",
              "      <td>2.677000</td>\n",
              "      <td>2.176000</td>\n",
              "      <td>2.552500</td>\n",
              "      <td>2.379000</td>\n",
              "      <td>2.521000</td>\n",
              "      <td>2.238000</td>\n",
              "      <td>1.437000</td>\n",
              "      <td>1.858000</td>\n",
              "      <td>2.429000</td>\n",
              "      <td>2.287000</td>\n",
              "      <td>2.149000</td>\n",
              "      <td>2.821000</td>\n",
              "      <td>2.162000</td>\n",
              "      <td>2.508000</td>\n",
              "      <td>2.023000</td>\n",
              "      <td>2.498000</td>\n",
              "      <td>2.330000</td>\n",
              "      <td>3.493000</td>\n",
              "      <td>2.138000</td>\n",
              "      <td>1.042000</td>\n",
              "      <td>2.379000</td>\n",
              "      <td>2.526000</td>\n",
              "      <td>2.334000</td>\n",
              "      <td>1.727000</td>\n",
              "      <td>3.401000</td>\n",
              "      <td>2.542000</td>\n",
              "      <td>2.575000</td>\n",
              "      <td>2.273000</td>\n",
              "      <td>2.719000</td>\n",
              "      <td>2.343000</td>\n",
              "      <td>2.081000</td>\n",
              "      <td>2.471000</td>\n",
              "      <td>1.849000</td>\n",
              "      <td>2.270000</td>\n",
              "      <td>2.727000</td>\n",
              "    </tr>\n",
              "    <tr>\n",
              "      <th>75%</th>\n",
              "      <td>79.100000</td>\n",
              "      <td>2.312500</td>\n",
              "      <td>2.77350</td>\n",
              "      <td>2.514000</td>\n",
              "      <td>2.67600</td>\n",
              "      <td>2.375000</td>\n",
              "      <td>1.543000</td>\n",
              "      <td>1.937000</td>\n",
              "      <td>2.516000</td>\n",
              "      <td>2.396500</td>\n",
              "      <td>2.293000</td>\n",
              "      <td>2.970500</td>\n",
              "      <td>2.253000</td>\n",
              "      <td>2.599000</td>\n",
              "      <td>2.128500</td>\n",
              "      <td>2.671000</td>\n",
              "      <td>2.466500</td>\n",
              "      <td>3.802000</td>\n",
              "      <td>2.373500</td>\n",
              "      <td>1.044000</td>\n",
              "      <td>3.012500</td>\n",
              "      <td>3.003500</td>\n",
              "      <td>2.415000</td>\n",
              "      <td>2.907000</td>\n",
              "      <td>2.478500</td>\n",
              "      <td>1.829000</td>\n",
              "      <td>3.549000</td>\n",
              "      <td>2.793000</td>\n",
              "      <td>2.699500</td>\n",
              "      <td>2.374000</td>\n",
              "      <td>2.812000</td>\n",
              "      <td>2.545500</td>\n",
              "      <td>2.135500</td>\n",
              "      <td>2.595000</td>\n",
              "      <td>1.921500</td>\n",
              "      <td>2.416000</td>\n",
              "      <td>2.810000</td>\n",
              "      <td>2.309000</td>\n",
              "      <td>2.833500</td>\n",
              "      <td>2.485000</td>\n",
              "      <td>2.678500</td>\n",
              "      <td>2.358000</td>\n",
              "      <td>1.551000</td>\n",
              "      <td>1.971000</td>\n",
              "      <td>2.551000</td>\n",
              "      <td>2.434500</td>\n",
              "      <td>2.279500</td>\n",
              "      <td>3.015000</td>\n",
              "      <td>2.261000</td>\n",
              "      <td>2.622000</td>\n",
              "      <td>2.142000</td>\n",
              "      <td>2.656500</td>\n",
              "      <td>2.457000</td>\n",
              "      <td>3.739000</td>\n",
              "      <td>2.322000</td>\n",
              "      <td>1.042000</td>\n",
              "      <td>2.516000</td>\n",
              "      <td>2.734000</td>\n",
              "      <td>2.459000</td>\n",
              "      <td>1.837500</td>\n",
              "      <td>3.712000</td>\n",
              "      <td>2.737500</td>\n",
              "      <td>2.721000</td>\n",
              "      <td>2.407500</td>\n",
              "      <td>2.853000</td>\n",
              "      <td>2.503000</td>\n",
              "      <td>2.201000</td>\n",
              "      <td>2.577500</td>\n",
              "      <td>1.961000</td>\n",
              "      <td>2.398500</td>\n",
              "      <td>2.857500</td>\n",
              "    </tr>\n",
              "    <tr>\n",
              "      <th>max</th>\n",
              "      <td>91.400000</td>\n",
              "      <td>2.906000</td>\n",
              "      <td>3.45200</td>\n",
              "      <td>2.950000</td>\n",
              "      <td>3.35200</td>\n",
              "      <td>2.755000</td>\n",
              "      <td>1.972000</td>\n",
              "      <td>2.401000</td>\n",
              "      <td>3.098000</td>\n",
              "      <td>2.765000</td>\n",
              "      <td>2.663000</td>\n",
              "      <td>3.941000</td>\n",
              "      <td>2.585000</td>\n",
              "      <td>3.039000</td>\n",
              "      <td>2.725000</td>\n",
              "      <td>3.166000</td>\n",
              "      <td>2.832000</td>\n",
              "      <td>4.475000</td>\n",
              "      <td>2.909000</td>\n",
              "      <td>1.592000</td>\n",
              "      <td>3.465000</td>\n",
              "      <td>3.522000</td>\n",
              "      <td>3.067000</td>\n",
              "      <td>3.703000</td>\n",
              "      <td>2.938000</td>\n",
              "      <td>2.427000</td>\n",
              "      <td>4.432000</td>\n",
              "      <td>3.710000</td>\n",
              "      <td>3.130000</td>\n",
              "      <td>2.804000</td>\n",
              "      <td>3.281000</td>\n",
              "      <td>3.161000</td>\n",
              "      <td>2.692000</td>\n",
              "      <td>3.325000</td>\n",
              "      <td>2.352000</td>\n",
              "      <td>2.993000</td>\n",
              "      <td>3.210000</td>\n",
              "      <td>2.723000</td>\n",
              "      <td>3.797000</td>\n",
              "      <td>2.921000</td>\n",
              "      <td>3.601000</td>\n",
              "      <td>2.992000</td>\n",
              "      <td>2.264000</td>\n",
              "      <td>2.344000</td>\n",
              "      <td>3.069000</td>\n",
              "      <td>2.807000</td>\n",
              "      <td>2.806000</td>\n",
              "      <td>4.019000</td>\n",
              "      <td>2.706000</td>\n",
              "      <td>2.979000</td>\n",
              "      <td>2.601000</td>\n",
              "      <td>3.080000</td>\n",
              "      <td>2.830000</td>\n",
              "      <td>4.688000</td>\n",
              "      <td>2.851000</td>\n",
              "      <td>1.458000</td>\n",
              "      <td>2.979000</td>\n",
              "      <td>3.914000</td>\n",
              "      <td>2.846000</td>\n",
              "      <td>2.350000</td>\n",
              "      <td>4.611000</td>\n",
              "      <td>3.700000</td>\n",
              "      <td>3.248000</td>\n",
              "      <td>2.779000</td>\n",
              "      <td>3.298000</td>\n",
              "      <td>3.132000</td>\n",
              "      <td>2.733000</td>\n",
              "      <td>2.988000</td>\n",
              "      <td>2.441000</td>\n",
              "      <td>2.969000</td>\n",
              "      <td>3.280000</td>\n",
              "    </tr>\n",
              "  </tbody>\n",
              "</table>\n",
              "</div>"
            ],
            "text/plain": [
              "               AGE  ...  ST99TA_UCSFFSX_11_02_15_UCSFFSX51_08_01_16\n",
              "count  1363.000000  ...                                 1363.000000\n",
              "mean     73.829934  ...                                    2.701903\n",
              "std       7.254368  ...                                    0.229949\n",
              "min      54.400000  ...                                    1.756000\n",
              "25%      69.300000  ...                                    2.586000\n",
              "50%      74.000000  ...                                    2.727000\n",
              "75%      79.100000  ...                                    2.857500\n",
              "max      91.400000  ...                                    3.280000\n",
              "\n",
              "[8 rows x 71 columns]"
            ]
          },
          "metadata": {
            "tags": []
          },
          "execution_count": 26
        }
      ]
    },
    {
      "cell_type": "code",
      "metadata": {
        "id": "aO9ZlkIj3n96",
        "colab_type": "code",
        "outputId": "9c583b23-859d-4611-85c4-6753bd503c9b",
        "colab": {
          "base_uri": "https://localhost:8080/",
          "height": 291
        }
      },
      "source": [
        "AD_label_reg.describe()"
      ],
      "execution_count": 0,
      "outputs": [
        {
          "output_type": "execute_result",
          "data": {
            "text/html": [
              "<div>\n",
              "<style scoped>\n",
              "    .dataframe tbody tr th:only-of-type {\n",
              "        vertical-align: middle;\n",
              "    }\n",
              "\n",
              "    .dataframe tbody tr th {\n",
              "        vertical-align: top;\n",
              "    }\n",
              "\n",
              "    .dataframe thead th {\n",
              "        text-align: right;\n",
              "    }\n",
              "</style>\n",
              "<table border=\"1\" class=\"dataframe\">\n",
              "  <thead>\n",
              "    <tr style=\"text-align: right;\">\n",
              "      <th></th>\n",
              "      <th>MMSE</th>\n",
              "      <th>ADAS13</th>\n",
              "    </tr>\n",
              "  </thead>\n",
              "  <tbody>\n",
              "    <tr>\n",
              "      <th>count</th>\n",
              "      <td>1363.000000</td>\n",
              "      <td>1363.000000</td>\n",
              "    </tr>\n",
              "    <tr>\n",
              "      <th>mean</th>\n",
              "      <td>27.215701</td>\n",
              "      <td>16.754226</td>\n",
              "    </tr>\n",
              "    <tr>\n",
              "      <th>std</th>\n",
              "      <td>2.663533</td>\n",
              "      <td>9.437353</td>\n",
              "    </tr>\n",
              "    <tr>\n",
              "      <th>min</th>\n",
              "      <td>18.000000</td>\n",
              "      <td>0.000000</td>\n",
              "    </tr>\n",
              "    <tr>\n",
              "      <th>25%</th>\n",
              "      <td>26.000000</td>\n",
              "      <td>9.330000</td>\n",
              "    </tr>\n",
              "    <tr>\n",
              "      <th>50%</th>\n",
              "      <td>28.000000</td>\n",
              "      <td>15.000000</td>\n",
              "    </tr>\n",
              "    <tr>\n",
              "      <th>75%</th>\n",
              "      <td>29.000000</td>\n",
              "      <td>22.330000</td>\n",
              "    </tr>\n",
              "    <tr>\n",
              "      <th>max</th>\n",
              "      <td>30.000000</td>\n",
              "      <td>51.000000</td>\n",
              "    </tr>\n",
              "  </tbody>\n",
              "</table>\n",
              "</div>"
            ],
            "text/plain": [
              "              MMSE       ADAS13\n",
              "count  1363.000000  1363.000000\n",
              "mean     27.215701    16.754226\n",
              "std       2.663533     9.437353\n",
              "min      18.000000     0.000000\n",
              "25%      26.000000     9.330000\n",
              "50%      28.000000    15.000000\n",
              "75%      29.000000    22.330000\n",
              "max      30.000000    51.000000"
            ]
          },
          "metadata": {
            "tags": []
          },
          "execution_count": 27
        }
      ]
    },
    {
      "cell_type": "markdown",
      "metadata": {
        "id": "MrYJWZtzOZ00",
        "colab_type": "text"
      },
      "source": [
        "asd\n",
        "---"
      ]
    },
    {
      "cell_type": "code",
      "metadata": {
        "id": "1vbSrxn9Obl2",
        "colab_type": "code",
        "outputId": "4df57044-e91f-401e-e8e3-970c348c9b9e",
        "colab": {
          "base_uri": "https://localhost:8080/"
        }
      },
      "source": [
        "%matplotlib inline\n",
        "import matplotlib.pyplot as plt\n",
        "AD_tr.hist(bins=50,figsize=(20,15))\n",
        "plt.show()"
      ],
      "execution_count": 0,
      "outputs": [
        {
          "output_type": "display_data",
          "data": {
            "image/png": "[encoded data removed]",
            "text/plain": [
              "<Figure size 1440x1080 with 72 Axes>"
            ]
          },
          "metadata": {
            "tags": []
          }
        }
      ]
    },
    {
      "cell_type": "markdown",
      "metadata": {
        "id": "3D5Lq-zlPARq",
        "colab_type": "text"
      },
      "source": [
        "찾아야할 ADAS13빼고는 거의 normal분포 보임"
      ]
    },
    {
      "cell_type": "markdown",
      "metadata": {
        "id": "N7_xcKt7Ti5T",
        "colab_type": "text"
      },
      "source": [
        "feature scaling : standardazation - standardscaler\n",
        "---\n",
        "값 범위 같게\n"
      ]
    },
    {
      "cell_type": "code",
      "metadata": {
        "id": "eABXcWihTnrZ",
        "colab_type": "code",
        "colab": {}
      },
      "source": [
        "from sklearn.preprocessing import StandardScaler\n",
        "\n",
        "#scaler = StandardScaler()\n",
        "#scaler.fit(AD_tr)\n",
        "#AD_tr = scaler.transform(AD_tr)\n",
        "#AD_tr.shape"
      ],
      "execution_count": 0,
      "outputs": []
    },
    {
      "cell_type": "markdown",
      "metadata": {
        "id": "27Uq1T_RtRr5",
        "colab_type": "text"
      },
      "source": [
        "pipeline\n",
        "---"
      ]
    },
    {
      "cell_type": "markdown",
      "metadata": {
        "id": "Hd6jwm8sUHpT",
        "colab_type": "text"
      },
      "source": [
        "\n",
        "\n",
        "*   .fit(training data) : training data의 분포 추정 - pre-processing on data없이 model train\n",
        "*   .transform(traning data) : training data 변환 - pre-processing on the data하길 원할때\n",
        "*   .fit_transform(\") : 위 두 과정 합침\n",
        "\n"
      ]
    },
    {
      "cell_type": "code",
      "metadata": {
        "id": "nKdriBeztQx1",
        "colab_type": "code",
        "outputId": "e57e9a81-cb26-4abc-82f3-eafc0b42e33d",
        "colab": {
          "base_uri": "https://localhost:8080/",
          "height": 248
        }
      },
      "source": [
        "from sklearn.pipeline import Pipeline\n",
        "from sklearn.impute import SimpleImputer\n",
        "from sklearn.preprocessing import StandardScaler\n",
        "\n",
        "pipeline = Pipeline([\n",
        "                     ('imputer',SimpleImputer(strategy=\"median\")),\n",
        "                     ('std_scaler',StandardScaler()),\n",
        "])\n",
        "X = AD_tr_prepared = pipeline.fit_transform(AD_tr)\n",
        "X"
      ],
      "execution_count": 0,
      "outputs": [
        {
          "output_type": "execute_result",
          "data": {
            "text/plain": [
              "array([[-0.74878016,  2.49868136,  0.32355374, ...,  2.4868979 ,\n",
              "        -0.4451168 ,  0.69648281],\n",
              "       [-0.77635987,  1.35711537,  1.32884932, ...,  0.83216551,\n",
              "         0.79019967,  1.04886394],\n",
              "       [ 0.53367659,  0.41428353, -0.63105467, ..., -0.01689194,\n",
              "         1.0786004 ,  0.54856974],\n",
              "       ...,\n",
              "       [-0.00412785, -0.75501281,  0.07011787, ..., -0.94031938,\n",
              "         2.33314359,  0.32670014],\n",
              "       [ 1.26453904, -1.5591929 , -0.03407242, ..., -0.28958192,\n",
              "        -0.92578469, -1.97465317],\n",
              "       [ 1.36106804,  0.39579663, -0.4761772 , ..., -0.22140942,\n",
              "        -0.68545075, -0.50422327]])"
            ]
          },
          "metadata": {
            "tags": []
          },
          "execution_count": 30
        }
      ]
    },
    {
      "cell_type": "code",
      "metadata": {
        "id": "AnLmHJVafWE2",
        "colab_type": "code",
        "colab": {}
      },
      "source": [
        "from sklearn.model_selection import train_test_split\n",
        "\n",
        "X_train,X_test = train_test_split(X,test_size=0.2,random_state= 42)\n",
        "y_cls_train,y_cls_test = train_test_split(y_cls,test_size=0.2,random_state= 42)"
      ],
      "execution_count": 0,
      "outputs": []
    },
    {
      "cell_type": "markdown",
      "metadata": {
        "id": "dkttjipZWQxW",
        "colab_type": "text"
      },
      "source": [
        "# 2. select and train a model"
      ]
    },
    {
      "cell_type": "markdown",
      "metadata": {
        "id": "pj3LFiZwqoNU",
        "colab_type": "text"
      },
      "source": [
        "train err\n",
        "---"
      ]
    },
    {
      "cell_type": "markdown",
      "metadata": {
        "id": "x2GuWqCQWUKN",
        "colab_type": "text"
      },
      "source": [
        "1) linear regression\n",
        "---\n",
        "이건 아닌거같음 다시 생각해보기\n",
        "이건 절대 아님 그냥 연습한다는 생각으로 함"
      ]
    },
    {
      "cell_type": "code",
      "metadata": {
        "id": "rwYmXSv2WPri",
        "colab_type": "code",
        "outputId": "aea26406-2704-413b-841c-a2ac680ea09c",
        "colab": {
          "base_uri": "https://localhost:8080/",
          "height": 55
        }
      },
      "source": [
        "from sklearn.linear_model import LinearRegression\n",
        "\n",
        "lin_reg = LinearRegression()\n",
        "lin_reg.fit(AD_tr_prepared,AD_label_reg)"
      ],
      "execution_count": 0,
      "outputs": [
        {
          "output_type": "execute_result",
          "data": {
            "text/plain": [
              "LinearRegression(copy_X=True, fit_intercept=True, n_jobs=None, normalize=False)"
            ]
          },
          "metadata": {
            "tags": []
          },
          "execution_count": 64
        }
      ]
    },
    {
      "cell_type": "code",
      "metadata": {
        "id": "CwLEaYF_saS5",
        "colab_type": "code",
        "outputId": "ee6ee807-8641-423e-85da-19869d9e06e7",
        "colab": {
          "base_uri": "https://localhost:8080/",
          "height": 106
        }
      },
      "source": [
        "some_data = AD_tr.iloc[:5]\n",
        "some_labels = AD_label_reg.iloc[:5]\n",
        "some_data_prepared = pipeline.transform(some_data)\n",
        "\n",
        "print(\"Predictions:\", lin_reg.predict(some_data_prepared))"
      ],
      "execution_count": 0,
      "outputs": [
        {
          "output_type": "stream",
          "text": [
            "Predictions: [[29.57761639  9.38577703]\n",
            " [28.17061892 13.78304575]\n",
            " [26.76288536 16.10939961]\n",
            " [25.8441321  23.06404209]\n",
            " [25.23555574 22.21371756]]\n"
          ],
          "name": "stdout"
        }
      ]
    },
    {
      "cell_type": "markdown",
      "metadata": {
        "id": "DIKk5JIbw5ll",
        "colab_type": "text"
      },
      "source": [
        "실제 데이터와 비교"
      ]
    },
    {
      "cell_type": "code",
      "metadata": {
        "id": "ldsW8Q8PxUhl",
        "colab_type": "code",
        "outputId": "95ba80d6-467d-4fa5-838a-f5f3bc08fda5",
        "colab": {
          "base_uri": "https://localhost:8080/",
          "height": 218
        }
      },
      "source": [
        "print(\"actual labels:\")\n",
        "some_labels"
      ],
      "execution_count": 0,
      "outputs": [
        {
          "output_type": "stream",
          "text": [
            "actual labels:\n"
          ],
          "name": "stdout"
        },
        {
          "output_type": "execute_result",
          "data": {
            "text/html": [
              "<div>\n",
              "<style scoped>\n",
              "    .dataframe tbody tr th:only-of-type {\n",
              "        vertical-align: middle;\n",
              "    }\n",
              "\n",
              "    .dataframe tbody tr th {\n",
              "        vertical-align: top;\n",
              "    }\n",
              "\n",
              "    .dataframe thead th {\n",
              "        text-align: right;\n",
              "    }\n",
              "</style>\n",
              "<table border=\"1\" class=\"dataframe\">\n",
              "  <thead>\n",
              "    <tr style=\"text-align: right;\">\n",
              "      <th></th>\n",
              "      <th>MMSE</th>\n",
              "      <th>ADAS13</th>\n",
              "    </tr>\n",
              "  </thead>\n",
              "  <tbody>\n",
              "    <tr>\n",
              "      <th>0</th>\n",
              "      <td>30.0</td>\n",
              "      <td>10.00</td>\n",
              "    </tr>\n",
              "    <tr>\n",
              "      <th>1</th>\n",
              "      <td>30.0</td>\n",
              "      <td>13.00</td>\n",
              "    </tr>\n",
              "    <tr>\n",
              "      <th>2</th>\n",
              "      <td>29.0</td>\n",
              "      <td>15.33</td>\n",
              "    </tr>\n",
              "    <tr>\n",
              "      <th>3</th>\n",
              "      <td>22.0</td>\n",
              "      <td>24.00</td>\n",
              "    </tr>\n",
              "    <tr>\n",
              "      <th>4</th>\n",
              "      <td>24.0</td>\n",
              "      <td>20.33</td>\n",
              "    </tr>\n",
              "  </tbody>\n",
              "</table>\n",
              "</div>"
            ],
            "text/plain": [
              "   MMSE  ADAS13\n",
              "0  30.0   10.00\n",
              "1  30.0   13.00\n",
              "2  29.0   15.33\n",
              "3  22.0   24.00\n",
              "4  24.0   20.33"
            ]
          },
          "metadata": {
            "tags": []
          },
          "execution_count": 66
        }
      ]
    },
    {
      "cell_type": "code",
      "metadata": {
        "id": "32yNayeUx5DA",
        "colab_type": "code",
        "outputId": "ccd7a94b-27f9-4880-ece8-7c16ac68aaef",
        "colab": {
          "base_uri": "https://localhost:8080/",
          "height": 35
        }
      },
      "source": [
        "#RMSE사용해서 전체 error?알아봄\n",
        "from sklearn.metrics import mean_squared_error\n",
        "\n",
        "AD_predictions = lin_reg.predict(AD_tr_prepared)\n",
        "lin_mse = mean_squared_error(AD_label_reg.values, AD_predictions)\n",
        "lin_rmse = np.sqrt(lin_mse)\n",
        "lin_rmse"
      ],
      "execution_count": 0,
      "outputs": [
        {
          "output_type": "execute_result",
          "data": {
            "text/plain": [
              "5.000108367545699"
            ]
          },
          "metadata": {
            "tags": []
          },
          "execution_count": 67
        }
      ]
    },
    {
      "cell_type": "code",
      "metadata": {
        "id": "MGp2bbQycDDu",
        "colab_type": "code",
        "outputId": "f1432049-d802-4358-a296-77c0b90637cb",
        "colab": {
          "base_uri": "https://localhost:8080/",
          "height": 35
        }
      },
      "source": [
        "from sklearn.multioutput import MultiOutputRegressor\n",
        "\n",
        "multilin_reg = MultiOutputRegressor(lin_reg)\n",
        "multilin_reg.fit(X,y)\n",
        "multi_lin_prediction = multilin_reg.predict(X)\n",
        "\n",
        "multi_lin_mse = mean_squared_error(y, multi_lin_prediction)\n",
        "multi_lin_rmse = np.sqrt(multi_lin_mse)\n",
        "multi_lin_rmse"
      ],
      "execution_count": 0,
      "outputs": [
        {
          "output_type": "execute_result",
          "data": {
            "text/plain": [
              "5.000108367545697"
            ]
          },
          "metadata": {
            "tags": []
          },
          "execution_count": 69
        }
      ]
    },
    {
      "cell_type": "markdown",
      "metadata": {
        "id": "TyeT0lS-SLar",
        "colab_type": "text"
      },
      "source": [
        "use batch GD\n",
        "------"
      ]
    },
    {
      "cell_type": "code",
      "metadata": {
        "id": "XFVFHTaAT8AA",
        "colab_type": "code",
        "colab": {}
      },
      "source": [
        "X = pipeline.fit_transform(AD_tr)\n",
        "y = AD_label_reg.values"
      ],
      "execution_count": 0,
      "outputs": []
    },
    {
      "cell_type": "code",
      "metadata": {
        "id": "d3z0xweLYgOh",
        "colab_type": "code",
        "outputId": "af04a921-0e39-4d97-e80e-b70edab33409",
        "colab": {
          "base_uri": "https://localhost:8080/",
          "height": 248
        }
      },
      "source": [
        "X_b = np.c_[np.ones((1363,1)),X]\n",
        "X_b"
      ],
      "execution_count": 0,
      "outputs": [
        {
          "output_type": "execute_result",
          "data": {
            "text/plain": [
              "array([[ 1.        , -0.74878016,  2.49868136, ...,  2.4868979 ,\n",
              "        -0.4451168 ,  0.69648281],\n",
              "       [ 1.        , -0.77635987,  1.35711537, ...,  0.83216551,\n",
              "         0.79019967,  1.04886394],\n",
              "       [ 1.        ,  0.53367659,  0.41428353, ..., -0.01689194,\n",
              "         1.0786004 ,  0.54856974],\n",
              "       ...,\n",
              "       [ 1.        , -0.00412785, -0.75501281, ..., -0.94031938,\n",
              "         2.33314359,  0.32670014],\n",
              "       [ 1.        ,  1.26453904, -1.5591929 , ..., -0.28958192,\n",
              "        -0.92578469, -1.97465317],\n",
              "       [ 1.        ,  1.36106804,  0.39579663, ..., -0.22140942,\n",
              "        -0.68545075, -0.50422327]])"
            ]
          },
          "metadata": {
            "tags": []
          },
          "execution_count": 35
        }
      ]
    },
    {
      "cell_type": "code",
      "metadata": {
        "id": "x_fgEPeiSK6z",
        "colab_type": "code",
        "colab": {}
      },
      "source": [
        "eta = 0.02  # learning rate\n",
        "n_iterations = 10000\n",
        "m = 1363\n",
        "\n",
        "theta = np.random.randn(72,2)  # random normal initialization\n",
        "\n",
        "for iteration in range(n_iterations):\n",
        "    gradients = 2/m * X_b.T.dot(X_b.dot(theta) - y)\n",
        "    theta = theta - eta * gradients"
      ],
      "execution_count": 0,
      "outputs": []
    },
    {
      "cell_type": "code",
      "metadata": {
        "id": "VD3lAeVrdYck",
        "colab_type": "code",
        "outputId": "156e6416-ecb6-4beb-8b29-7f5f75a48b59",
        "colab": {
          "base_uri": "https://localhost:8080/",
          "height": 1000
        }
      },
      "source": [
        "theta"
      ],
      "execution_count": 0,
      "outputs": [
        {
          "output_type": "execute_result",
          "data": {
            "text/plain": [
              "array([[ 2.72157007e+01,  1.67542260e+01],\n",
              "       [ 3.30660793e-02, -3.51675628e-01],\n",
              "       [-6.32638849e-02,  4.14125814e-01],\n",
              "       [-1.05677769e-01, -3.63723256e-02],\n",
              "       [-3.77916089e-02,  9.15561288e-03],\n",
              "       [ 1.33294313e-01, -6.66321907e-01],\n",
              "       [-1.04921375e-01,  6.31943167e-01],\n",
              "       [ 1.27360806e-01, -3.84625492e-01],\n",
              "       [ 2.18114309e-02, -3.65360905e-01],\n",
              "       [ 6.67050086e-02, -2.91786073e-01],\n",
              "       [-4.71084102e-01,  1.24735116e+00],\n",
              "       [ 5.47479538e-01, -5.77758058e-01],\n",
              "       [ 7.54788954e-02,  8.98269347e-02],\n",
              "       [-4.93956881e-02,  2.35220661e-01],\n",
              "       [-1.86060821e-01,  2.31064071e-02],\n",
              "       [-1.67428848e-01,  2.39738629e-01],\n",
              "       [ 1.45829363e-01,  1.59939712e-02],\n",
              "       [-1.04529562e-01,  3.23454314e-01],\n",
              "       [ 5.35923307e-02, -1.77460399e-01],\n",
              "       [-2.03281224e-01,  6.80135005e-01],\n",
              "       [ 7.88232880e-02, -2.48172502e-01],\n",
              "       [ 7.20834509e-05,  1.99872452e-01],\n",
              "       [-1.06818858e-01,  9.74553306e-02],\n",
              "       [-2.09600924e-01,  7.18835836e-01],\n",
              "       [ 7.77885118e-03,  3.38587505e-01],\n",
              "       [ 2.06380053e-01,  1.87913244e-01],\n",
              "       [ 1.09346279e-01,  2.97557692e-01],\n",
              "       [ 5.80298405e-01, -2.08275998e+00],\n",
              "       [ 2.68835042e-02, -8.07860847e-02],\n",
              "       [ 1.90904271e-01,  1.83145743e-02],\n",
              "       [ 1.59836481e-01, -1.32549080e+00],\n",
              "       [ 1.44404075e-01, -5.09966423e-01],\n",
              "       [ 1.51913474e-01, -2.22981592e-01],\n",
              "       [-1.57302474e-01,  9.00967739e-01],\n",
              "       [ 2.15019779e-03,  1.95288040e-01],\n",
              "       [-1.40069282e-01, -2.60361779e-01],\n",
              "       [-1.69265389e-01,  3.01687694e-01],\n",
              "       [ 3.21113584e-01, -1.62859296e+00],\n",
              "       [-1.17538079e-01,  3.24398746e-01],\n",
              "       [ 2.02331005e-01, -4.81144332e-01],\n",
              "       [-1.19274297e-01,  3.60448118e-03],\n",
              "       [-1.19901568e-01,  6.56283648e-01],\n",
              "       [-1.23195364e-01,  4.45107284e-01],\n",
              "       [-1.48278491e-01,  7.73997710e-02],\n",
              "       [-5.49812046e-02,  8.42220624e-01],\n",
              "       [-1.69727798e-02, -1.90842361e-01],\n",
              "       [ 3.26683446e-01, -6.31303482e-01],\n",
              "       [-5.36739438e-02, -1.16484647e-01],\n",
              "       [ 1.36675079e-01, -4.84394396e-01],\n",
              "       [ 1.58351258e-01, -8.03172605e-01],\n",
              "       [-1.74835978e-02, -4.80355174e-01],\n",
              "       [-2.35192321e-02, -4.55112974e-01],\n",
              "       [ 1.67053070e-01, -9.15908140e-01],\n",
              "       [ 1.84392713e-01, -5.30507539e-01],\n",
              "       [-3.48532830e-01,  9.71264127e-01],\n",
              "       [ 1.18076635e-02, -1.40451945e-03],\n",
              "       [ 1.07144927e-01, -9.71790203e-02],\n",
              "       [ 1.59860682e-02, -4.56881198e-01],\n",
              "       [-2.23234167e-01,  5.86808930e-01],\n",
              "       [ 2.93189903e-01, -8.85770307e-01],\n",
              "       [-1.36569652e-01,  6.73215410e-01],\n",
              "       [ 3.47898899e-01, -2.12022403e+00],\n",
              "       [-1.11742066e-01,  9.08069473e-02],\n",
              "       [ 2.19152123e-01, -8.02999291e-01],\n",
              "       [ 9.41299826e-02,  7.44123359e-02],\n",
              "       [ 5.63558328e-02,  2.53108934e-01],\n",
              "       [-1.58498532e-03, -2.77200593e-01],\n",
              "       [-1.16224571e-01,  1.33622576e-01],\n",
              "       [-1.60544214e-01,  2.87087025e-01],\n",
              "       [ 1.91762362e-01, -3.64822096e-01],\n",
              "       [ 1.79939799e-01, -2.11717807e-02],\n",
              "       [-9.40463120e-03,  1.46492117e-01]])"
            ]
          },
          "metadata": {
            "tags": []
          },
          "execution_count": 37
        }
      ]
    },
    {
      "cell_type": "code",
      "metadata": {
        "id": "YZt9icaOj9iS",
        "colab_type": "code",
        "outputId": "553e5b97-228c-41ba-b069-b04cc1e82988",
        "colab": {
          "base_uri": "https://localhost:8080/",
          "height": 141
        }
      },
      "source": [
        "prediction_lin_batch = X_b.dot(theta) #예측값 - linear\n",
        "prediction_lin_batch"
      ],
      "execution_count": 0,
      "outputs": [
        {
          "output_type": "execute_result",
          "data": {
            "text/plain": [
              "array([[29.57761639,  9.38577703],\n",
              "       [28.17061892, 13.78304575],\n",
              "       [26.76288536, 16.10939961],\n",
              "       ...,\n",
              "       [25.74001209, 21.01194621],\n",
              "       [26.80561198, 16.72758521],\n",
              "       [28.39466274, 13.6270023 ]])"
            ]
          },
          "metadata": {
            "tags": []
          },
          "execution_count": 38
        }
      ]
    },
    {
      "cell_type": "code",
      "metadata": {
        "id": "cnuHVPUJkExq",
        "colab_type": "code",
        "outputId": "3f84c5cc-6433-4c5d-cb3f-869f61ca3f93",
        "colab": {
          "base_uri": "https://localhost:8080/",
          "height": 141
        }
      },
      "source": [
        "y #실제 값"
      ],
      "execution_count": 0,
      "outputs": [
        {
          "output_type": "execute_result",
          "data": {
            "text/plain": [
              "array([[30.  , 10.  ],\n",
              "       [30.  , 13.  ],\n",
              "       [29.  , 15.33],\n",
              "       ...,\n",
              "       [26.  , 27.  ],\n",
              "       [23.  , 29.33],\n",
              "       [30.  , 12.  ]])"
            ]
          },
          "metadata": {
            "tags": []
          },
          "execution_count": 39
        }
      ]
    },
    {
      "cell_type": "code",
      "metadata": {
        "id": "dtQkaz1jowIG",
        "colab_type": "code",
        "outputId": "305a00e3-0b4d-4cd4-95ff-44c7477d552d",
        "colab": {
          "base_uri": "https://localhost:8080/",
          "height": 35
        }
      },
      "source": [
        "lin_batch_mse = mean_squared_error(y, prediction_lin_batch)\n",
        "lin_batch_rmse = np.sqrt(lin_batch_mse)\n",
        "lin_batch_rmse"
      ],
      "execution_count": 0,
      "outputs": [
        {
          "output_type": "execute_result",
          "data": {
            "text/plain": [
              "5.000108367545698"
            ]
          },
          "metadata": {
            "tags": []
          },
          "execution_count": 40
        }
      ]
    },
    {
      "cell_type": "markdown",
      "metadata": {
        "id": "qOBdaRzKh0un",
        "colab_type": "text"
      },
      "source": [
        "batch 써도 rmse 똑같음"
      ]
    },
    {
      "cell_type": "markdown",
      "metadata": {
        "id": "5vvLAlbdpuyN",
        "colab_type": "text"
      },
      "source": [
        "polynomial\n",
        "---"
      ]
    },
    {
      "cell_type": "code",
      "metadata": {
        "id": "yA6XdFyvp1IL",
        "colab_type": "code",
        "outputId": "b7306d82-17aa-464e-834a-b04de0df27c9",
        "colab": {
          "base_uri": "https://localhost:8080/",
          "height": 35
        }
      },
      "source": [
        "from sklearn.preprocessing import PolynomialFeatures\n",
        "\n",
        "X = pipeline.fit_transform(AD_tr)\n",
        "y = AD_label_reg.values\n",
        "poly_features = PolynomialFeatures(degree=2, include_bias=False)\n",
        "X_poly = poly_features.fit_transform(X)\n",
        "X_poly.shape  #X.shape = (1363,71)"
      ],
      "execution_count": 0,
      "outputs": [
        {
          "output_type": "execute_result",
          "data": {
            "text/plain": [
              "(1363, 2627)"
            ]
          },
          "metadata": {
            "tags": []
          },
          "execution_count": 41
        }
      ]
    },
    {
      "cell_type": "code",
      "metadata": {
        "id": "YOR09GyBq6Hh",
        "colab_type": "code",
        "outputId": "96b50f18-66c9-4320-8746-a8c836e1f7eb",
        "colab": {
          "base_uri": "https://localhost:8080/",
          "height": 106
        }
      },
      "source": [
        "lin_reg = LinearRegression() #linear regression함\n",
        "lin_reg.fit(X_poly, y)\n",
        "lin_reg.intercept_, lin_reg.coef_"
      ],
      "execution_count": 0,
      "outputs": [
        {
          "output_type": "execute_result",
          "data": {
            "text/plain": [
              "(array([28.14978376, 13.99877258]),\n",
              " array([[-0.01985732, -0.00050987, -0.152108  , ..., -0.04223607,\n",
              "         -0.14905269, -0.01042122],\n",
              "        [-0.06771031,  0.1348252 , -0.04605319, ..., -0.01511187,\n",
              "         -0.18083864,  0.20477009]]))"
            ]
          },
          "metadata": {
            "tags": []
          },
          "execution_count": 42
        }
      ]
    },
    {
      "cell_type": "code",
      "metadata": {
        "id": "gcupagg3rW8c",
        "colab_type": "code",
        "outputId": "c9b5056f-305f-41ef-f7b2-81f9e351a6e5",
        "colab": {
          "base_uri": "https://localhost:8080/",
          "height": 35
        }
      },
      "source": [
        "poly_lin_predictions = lin_reg.predict(X_poly)\n",
        "poly_lin_mse = mean_squared_error(y, poly_lin_predictions)\n",
        "poly_lin_rmse = np.sqrt(poly_lin_mse)\n",
        "poly_lin_rmse"
      ],
      "execution_count": 0,
      "outputs": [
        {
          "output_type": "execute_result",
          "data": {
            "text/plain": [
              "6.009735438178506e-14"
            ]
          },
          "metadata": {
            "tags": []
          },
          "execution_count": 43
        }
      ]
    },
    {
      "cell_type": "markdown",
      "metadata": {
        "id": "wtKSP6Wxi8nL",
        "colab_type": "text"
      },
      "source": [
        "polynomial training loss 는 거의 0에 가까움"
      ]
    },
    {
      "cell_type": "markdown",
      "metadata": {
        "id": "2JClWNBVtHbN",
        "colab_type": "text"
      },
      "source": [
        "validation err - linear, poly (using cross validation, learning curve)\n",
        "---"
      ]
    },
    {
      "cell_type": "markdown",
      "metadata": {
        "id": "bywAdSk_aPFh",
        "colab_type": "text"
      },
      "source": [
        "1. cross validation"
      ]
    },
    {
      "cell_type": "code",
      "metadata": {
        "id": "xd1RFj19tGzf",
        "colab_type": "code",
        "colab": {}
      },
      "source": [
        "def display_scores(scores):\n",
        "    print(\"Scores:\", scores)\n",
        "    print(\"Mean:\", scores.mean())\n",
        "    print(\"Standard deviation:\", scores.std())"
      ],
      "execution_count": 0,
      "outputs": []
    },
    {
      "cell_type": "markdown",
      "metadata": {
        "id": "tP_y0gLDd6bW",
        "colab_type": "text"
      },
      "source": [
        "degree = 1"
      ]
    },
    {
      "cell_type": "code",
      "metadata": {
        "id": "p9iJlJkMduto",
        "colab_type": "code",
        "outputId": "cabb55d2-b3fa-408e-d3ee-f0552f278f8e",
        "colab": {
          "base_uri": "https://localhost:8080/",
          "height": 70
        }
      },
      "source": [
        "from sklearn.model_selection import cross_val_score\n",
        "\n",
        "scores = cross_val_score(lin_reg,X,y,\n",
        "                         scoring=\"neg_mean_squared_error\",cv=5)\n",
        "lin_scores = np.sqrt(-scores)\n",
        "display_scores(lin_scores)"
      ],
      "execution_count": 0,
      "outputs": [
        {
          "output_type": "stream",
          "text": [
            "Scores: [5.34838016 5.63072227 5.19888074 5.17950798 5.15453329]\n",
            "Mean: 5.302404886522041\n",
            "Standard deviation: 0.17753475056474816\n"
          ],
          "name": "stdout"
        }
      ]
    },
    {
      "cell_type": "markdown",
      "metadata": {
        "id": "YtDY2ogVd7jk",
        "colab_type": "text"
      },
      "source": [
        "degree = 2"
      ]
    },
    {
      "cell_type": "code",
      "metadata": {
        "id": "5p6N6Ma7tL98",
        "colab_type": "code",
        "outputId": "3aaaf640-1a9e-4d6e-d411-fa808f401f44",
        "colab": {
          "base_uri": "https://localhost:8080/",
          "height": 70
        }
      },
      "source": [
        "from sklearn.model_selection import cross_val_score\n",
        "\n",
        "scores = cross_val_score(lin_reg,X_poly,y,\n",
        "                         scoring=\"neg_mean_squared_error\",cv=5)\n",
        "poly_lin_scores = np.sqrt(-scores)\n",
        "display_scores(poly_lin_scores)"
      ],
      "execution_count": 0,
      "outputs": [
        {
          "output_type": "stream",
          "text": [
            "Scores: [7.67893361 8.1225777  8.06479647 7.26823684 7.38709505]\n",
            "Mean: 7.704327931861201\n",
            "Standard deviation: 0.3453483599820039\n"
          ],
          "name": "stdout"
        }
      ]
    },
    {
      "cell_type": "markdown",
      "metadata": {
        "id": "ONugF2Ifu7Ae",
        "colab_type": "text"
      },
      "source": [
        "차수를 높여도 비슷함. train loss가 6정도고, validation loss가 7.7정도임\n",
        "너무 크다. 안씀!"
      ]
    },
    {
      "cell_type": "markdown",
      "metadata": {
        "id": "cnKNSs-3ZUJM",
        "colab_type": "text"
      },
      "source": [
        "2. learning curve"
      ]
    },
    {
      "cell_type": "code",
      "metadata": {
        "id": "_go8B89lZSnd",
        "colab_type": "code",
        "colab": {}
      },
      "source": [
        "from sklearn.metrics import mean_squared_error\n",
        "from sklearn.model_selection import train_test_split\n",
        "\n",
        "def plot_learning_curves(model, X, y):\n",
        "    X_train, X_val, y_train, y_val = train_test_split(X, y, test_size=0.2, random_state=10)\n",
        "    train_errors, val_errors = [], []\n",
        "    for m in range(1, len(X_train),100):\n",
        "        model.fit(X_train[:m], y_train[:m])\n",
        "        y_train_predict = model.predict(X_train[:m])\n",
        "        y_val_predict = model.predict(X_val)\n",
        "        train_errors.append(mean_squared_error(y_train[:m], y_train_predict))\n",
        "        val_errors.append(mean_squared_error(y_val, y_val_predict))\n",
        "\n",
        "    plt.plot(np.sqrt(train_errors), \"r-+\", linewidth=2, label=\"train\")\n",
        "    plt.plot(np.sqrt(val_errors), \"b-\", linewidth=3, label=\"val\")\n",
        "    plt.legend(loc=\"upper right\", fontsize=14)   \n",
        "    plt.xlabel(\"Training set size/100\", fontsize=14) \n",
        "    plt.ylabel(\"RMSE\", fontsize=14)              "
      ],
      "execution_count": 0,
      "outputs": []
    },
    {
      "cell_type": "markdown",
      "metadata": {
        "id": "cdSGkF-hdMXb",
        "colab_type": "text"
      },
      "source": [
        "degree=1"
      ]
    },
    {
      "cell_type": "code",
      "metadata": {
        "id": "gJykCxQtdIqm",
        "colab_type": "code",
        "outputId": "8c1372b6-3ef0-49ea-cdf5-25442bdfaa9a",
        "colab": {
          "base_uri": "https://localhost:8080/",
          "height": 287
        }
      },
      "source": [
        "lin_reg = LinearRegression()\n",
        "plot_learning_curves(lin_reg, X, y)\n",
        "plt.axis([0, 10, 0, 10])                       \n",
        "plt.show()      "
      ],
      "execution_count": 0,
      "outputs": [
        {
          "output_type": "display_data",
          "data": {
            "image/png": "[encoded data removed]",
            "text/plain": [
              "<Figure size 432x288 with 1 Axes>"
            ]
          },
          "metadata": {
            "tags": []
          }
        }
      ]
    },
    {
      "cell_type": "code",
      "metadata": {
        "id": "GFMYvprJfuOC",
        "colab_type": "code",
        "outputId": "5b5f79bc-6a13-4b37-ee38-c915aee97a07",
        "colab": {
          "base_uri": "https://localhost:8080/",
          "height": 35
        }
      },
      "source": [
        "lin_predictions = lin_reg.predict(X)\n",
        "lin_mse = mean_squared_error(y, lin_predictions)\n",
        "lin_rmse = np.sqrt(lin_mse)\n",
        "lin_rmse"
      ],
      "execution_count": 0,
      "outputs": [
        {
          "output_type": "execute_result",
          "data": {
            "text/plain": [
              "5.06271039681805"
            ]
          },
          "metadata": {
            "tags": []
          },
          "execution_count": 49
        }
      ]
    },
    {
      "cell_type": "markdown",
      "metadata": {
        "id": "7mc-24O1dLHm",
        "colab_type": "text"
      },
      "source": [
        "degree=2 - 굉장히 overfit인 것을 볼 수 있다."
      ]
    },
    {
      "cell_type": "code",
      "metadata": {
        "id": "uQumDMb3ZYYC",
        "colab_type": "code",
        "outputId": "7c4521cb-0ac1-43e2-ffac-3ce65dabe627",
        "colab": {
          "base_uri": "https://localhost:8080/",
          "height": 287
        }
      },
      "source": [
        "lin_reg = LinearRegression()\n",
        "plot_learning_curves(lin_reg, X_poly, y)\n",
        "plt.axis([0, 10, 0, 10])                       \n",
        "plt.show()                                "
      ],
      "execution_count": 0,
      "outputs": [
        {
          "output_type": "display_data",
          "data": {
            "image/png": "[encoded data removed]",
            "text/plain": [
              "<Figure size 432x288 with 1 Axes>"
            ]
          },
          "metadata": {
            "tags": []
          }
        }
      ]
    },
    {
      "cell_type": "markdown",
      "metadata": {
        "id": "jeAQvSZOjthw",
        "colab_type": "text"
      },
      "source": [
        "regularization\n",
        "---"
      ]
    },
    {
      "cell_type": "markdown",
      "metadata": {
        "id": "W2jTvwQnjwbm",
        "colab_type": "text"
      },
      "source": [
        "1. ridge - poly"
      ]
    },
    {
      "cell_type": "code",
      "metadata": {
        "id": "YydFAZMIjye0",
        "colab_type": "code",
        "outputId": "22c53282-d315-4170-9e94-0156c856eb19",
        "colab": {
          "base_uri": "https://localhost:8080/",
          "height": 52
        }
      },
      "source": [
        "from sklearn.linear_model import Ridge\n",
        "from sklearn.preprocessing import StandardScaler\n",
        "\n",
        "X = pipeline.fit_transform(AD_tr)\n",
        "y = AD_label_reg.values\n",
        "\n",
        "X_poly = poly_features.fit_transform(X)\n",
        "scaler = StandardScaler()\n",
        "scaler.fit(X_poly)\n",
        "X_poly = scaler.transform(X_poly)\n",
        "\n",
        "ridge_reg = Ridge(alpha=0.5, solver=\"cholesky\", random_state=42) #solver로 sag도 있다. \n",
        "ridge_reg.fit(X_poly, y)"
      ],
      "execution_count": 0,
      "outputs": [
        {
          "output_type": "execute_result",
          "data": {
            "text/plain": [
              "Ridge(alpha=0.5, copy_X=True, fit_intercept=True, max_iter=None,\n",
              "      normalize=False, random_state=42, solver='cholesky', tol=0.001)"
            ]
          },
          "metadata": {
            "tags": []
          },
          "execution_count": 51
        }
      ]
    },
    {
      "cell_type": "code",
      "metadata": {
        "id": "vyuQNM_5kSuZ",
        "colab_type": "code",
        "outputId": "304f5186-c4ac-407f-8a98-c3c1b9d8661b",
        "colab": {
          "base_uri": "https://localhost:8080/",
          "height": 35
        }
      },
      "source": [
        "ridge_predictions = ridge_reg.predict(X_poly)\n",
        "ridge_lin_mse = mean_squared_error(y, ridge_predictions)\n",
        "ridge_lin_rmse = np.sqrt(ridge_lin_mse)\n",
        "ridge_lin_rmse"
      ],
      "execution_count": 0,
      "outputs": [
        {
          "output_type": "execute_result",
          "data": {
            "text/plain": [
              "0.03882952530911337"
            ]
          },
          "metadata": {
            "tags": []
          },
          "execution_count": 52
        }
      ]
    },
    {
      "cell_type": "code",
      "metadata": {
        "id": "Bt_anSOKlG_5",
        "colab_type": "code",
        "outputId": "9f9560f9-98b1-4405-9300-e48eb57e2d7c",
        "colab": {
          "base_uri": "https://localhost:8080/",
          "height": 70
        }
      },
      "source": [
        "from sklearn.model_selection import cross_val_score\n",
        "\n",
        "scores = cross_val_score(ridge_reg,X_poly,y,\n",
        "                         scoring=\"neg_mean_squared_error\",cv=5)\n",
        "ridge_scores = np.sqrt(-scores)\n",
        "display_scores(ridge_scores)"
      ],
      "execution_count": 0,
      "outputs": [
        {
          "output_type": "stream",
          "text": [
            "Scores: [7.70038346 8.06106113 8.10267098 7.25579019 7.39299652]\n",
            "Mean: 7.702580458129809\n",
            "Standard deviation: 0.34177460368263174\n"
          ],
          "name": "stdout"
        }
      ]
    },
    {
      "cell_type": "code",
      "metadata": {
        "id": "Xjz-XobglvcK",
        "colab_type": "code",
        "outputId": "d18593a4-a55b-46ef-ad36-340f0e3602a3",
        "colab": {
          "base_uri": "https://localhost:8080/",
          "height": 287
        }
      },
      "source": [
        "plot_learning_curves(ridge_reg, X_poly, y)\n",
        "plt.axis([0, 10, 0, 10])                       \n",
        "plt.show()   "
      ],
      "execution_count": 0,
      "outputs": [
        {
          "output_type": "display_data",
          "data": {
            "image/png": "[encoded data removed]",
            "text/plain": [
              "<Figure size 432x288 with 1 Axes>"
            ]
          },
          "metadata": {
            "tags": []
          }
        }
      ]
    },
    {
      "cell_type": "markdown",
      "metadata": {
        "id": "DvOithNYmTOF",
        "colab_type": "text"
      },
      "source": [
        "2. lasso - poly"
      ]
    },
    {
      "cell_type": "code",
      "metadata": {
        "id": "c_r2zfKimUXW",
        "colab_type": "code",
        "outputId": "a355eca5-6237-4bb1-ffca-d50df9566564",
        "colab": {
          "base_uri": "https://localhost:8080/",
          "height": 126
        }
      },
      "source": [
        "from sklearn.linear_model import Lasso\n",
        "lasso_reg = Lasso(alpha=0.1)\n",
        "lasso_reg.fit(X_poly, y)"
      ],
      "execution_count": 0,
      "outputs": [
        {
          "output_type": "stream",
          "text": [
            "/usr/local/lib/python3.6/dist-packages/sklearn/linear_model/coordinate_descent.py:475: ConvergenceWarning: Objective did not converge. You might want to increase the number of iterations. Duality gap: 14.773606455462868, tolerance: 12.13046594584006\n",
            "  positive)\n"
          ],
          "name": "stderr"
        },
        {
          "output_type": "execute_result",
          "data": {
            "text/plain": [
              "Lasso(alpha=0.1, copy_X=True, fit_intercept=True, max_iter=1000,\n",
              "      normalize=False, positive=False, precompute=False, random_state=None,\n",
              "      selection='cyclic', tol=0.0001, warm_start=False)"
            ]
          },
          "metadata": {
            "tags": []
          },
          "execution_count": 55
        }
      ]
    },
    {
      "cell_type": "markdown",
      "metadata": {
        "id": "041WGaL7Fekz",
        "colab_type": "text"
      },
      "source": [
        "train loss"
      ]
    },
    {
      "cell_type": "code",
      "metadata": {
        "id": "_rouwHMuFOXK",
        "colab_type": "code",
        "outputId": "37af0358-92b6-4975-d2f5-47c00b01f3d0",
        "colab": {
          "base_uri": "https://localhost:8080/",
          "height": 35
        }
      },
      "source": [
        "lasso_predictions = lasso_reg.predict(X_poly)\n",
        "lasso_lin_mse = mean_squared_error(y, lasso_predictions)\n",
        "lasso_lin_rmse = np.sqrt(lasso_lin_mse)\n",
        "lasso_lin_rmse"
      ],
      "execution_count": 0,
      "outputs": [
        {
          "output_type": "execute_result",
          "data": {
            "text/plain": [
              "4.004765099606787"
            ]
          },
          "metadata": {
            "tags": []
          },
          "execution_count": 56
        }
      ]
    },
    {
      "cell_type": "markdown",
      "metadata": {
        "id": "-NN1vn3lFgd2",
        "colab_type": "text"
      },
      "source": [
        "validation loss"
      ]
    },
    {
      "cell_type": "code",
      "metadata": {
        "id": "SDzU4nE-Fh4Y",
        "colab_type": "code",
        "outputId": "bfc6ea7f-6427-4dd7-c993-c6d38aef6d6a",
        "colab": {
          "base_uri": "https://localhost:8080/",
          "height": 268
        }
      },
      "source": [
        "from sklearn.model_selection import cross_val_score\n",
        "\n",
        "scores = cross_val_score(lasso_reg,X_poly,y,\n",
        "                         scoring=\"neg_mean_squared_error\",cv=5)\n",
        "lasso_lin_scores = np.sqrt(-scores)\n",
        "display_scores(lasso_lin_scores)"
      ],
      "execution_count": 0,
      "outputs": [
        {
          "output_type": "stream",
          "text": [
            "/usr/local/lib/python3.6/dist-packages/sklearn/linear_model/coordinate_descent.py:475: ConvergenceWarning: Objective did not converge. You might want to increase the number of iterations. Duality gap: 16.54534030011564, tolerance: 9.525485342394495\n",
            "  positive)\n",
            "/usr/local/lib/python3.6/dist-packages/sklearn/linear_model/coordinate_descent.py:475: ConvergenceWarning: Objective did not converge. You might want to increase the number of iterations. Duality gap: 21.186560980058857, tolerance: 9.489316921284404\n",
            "  positive)\n",
            "/usr/local/lib/python3.6/dist-packages/sklearn/linear_model/coordinate_descent.py:475: ConvergenceWarning: Objective did not converge. You might want to increase the number of iterations. Duality gap: 31.01232287258972, tolerance: 9.729696244045872\n",
            "  positive)\n",
            "/usr/local/lib/python3.6/dist-packages/sklearn/linear_model/coordinate_descent.py:475: ConvergenceWarning: Objective did not converge. You might want to increase the number of iterations. Duality gap: 45.46628729333315, tolerance: 9.87186772377635\n",
            "  positive)\n"
          ],
          "name": "stderr"
        },
        {
          "output_type": "stream",
          "text": [
            "Scores: [5.59844112 5.84860497 5.54076765 5.3957772  5.5564153 ]\n",
            "Mean: 5.588001248810971\n",
            "Standard deviation: 0.14710680348430238\n"
          ],
          "name": "stdout"
        },
        {
          "output_type": "stream",
          "text": [
            "/usr/local/lib/python3.6/dist-packages/sklearn/linear_model/coordinate_descent.py:475: ConvergenceWarning: Objective did not converge. You might want to increase the number of iterations. Duality gap: 19.10105042604846, tolerance: 9.901194277195234\n",
            "  positive)\n"
          ],
          "name": "stderr"
        }
      ]
    },
    {
      "cell_type": "code",
      "metadata": {
        "id": "ku_cM24YGR1T",
        "colab_type": "code",
        "outputId": "869db965-88e7-4711-9351-e0f9e324cb7e",
        "colab": {
          "base_uri": "https://localhost:8080/",
          "height": 342
        }
      },
      "source": [
        "plot_learning_curves(lasso_reg, X, y)\n",
        "plt.axis([0, 10, 0, 10])                       \n",
        "plt.show()  "
      ],
      "execution_count": 0,
      "outputs": [
        {
          "output_type": "stream",
          "text": [
            "/usr/local/lib/python3.6/dist-packages/sklearn/linear_model/coordinate_descent.py:475: ConvergenceWarning: Objective did not converge. You might want to increase the number of iterations. Duality gap: 0.0, tolerance: 0.0\n",
            "  positive)\n"
          ],
          "name": "stderr"
        },
        {
          "output_type": "display_data",
          "data": {
            "image/png": "[encoded data removed]",
            "text/plain": [
              "<Figure size 432x288 with 1 Axes>"
            ]
          },
          "metadata": {
            "tags": []
          }
        }
      ]
    },
    {
      "cell_type": "markdown",
      "metadata": {
        "id": "zXsVM5KMyh30",
        "colab_type": "text"
      },
      "source": [
        "2) multioutput regression\n",
        "---"
      ]
    },
    {
      "cell_type": "code",
      "metadata": {
        "id": "o-tx4z_SyhE4",
        "colab_type": "code",
        "colab": {}
      },
      "source": [
        "from sklearn.ensemble import RandomForestRegressor\n",
        "from sklearn.model_selection import train_test_split\n",
        "from sklearn.multioutput import MultiOutputRegressor"
      ],
      "execution_count": 0,
      "outputs": []
    },
    {
      "cell_type": "code",
      "metadata": {
        "id": "cYl1nzDrzihK",
        "colab_type": "code",
        "outputId": "c6670adb-e570-435f-fbf9-e1e7b2b8bb84",
        "colab": {
          "base_uri": "https://localhost:8080/",
          "height": 161
        }
      },
      "source": [
        "#max depth가 높을 수록 fine detail을 learn한다. - overfit할 수 도 있음\n",
        "max_depth = 30\n",
        "regr_multirf = MultiOutputRegressor(RandomForestRegressor(n_estimators=100,\n",
        "                                                          max_depth=max_depth, \n",
        "                                                          random_state=0))\n",
        "regr_multirf.fit(X, y)\n",
        "\n",
        "regr_rf = RandomForestRegressor(n_estimators=100, max_depth=max_depth,\n",
        "                                random_state=2)\n",
        "regr_rf.fit(X, y)"
      ],
      "execution_count": 0,
      "outputs": [
        {
          "output_type": "execute_result",
          "data": {
            "text/plain": [
              "RandomForestRegressor(bootstrap=True, criterion='mse', max_depth=30,\n",
              "                      max_features='auto', max_leaf_nodes=None,\n",
              "                      min_impurity_decrease=0.0, min_impurity_split=None,\n",
              "                      min_samples_leaf=1, min_samples_split=2,\n",
              "                      min_weight_fraction_leaf=0.0, n_estimators=100,\n",
              "                      n_jobs=None, oob_score=False, random_state=2, verbose=0,\n",
              "                      warm_start=False)"
            ]
          },
          "metadata": {
            "tags": []
          },
          "execution_count": 60
        }
      ]
    },
    {
      "cell_type": "code",
      "metadata": {
        "id": "hve3sG-l0UeB",
        "colab_type": "code",
        "outputId": "b7137e00-b87a-4bfd-fd44-5fde0383a3f0",
        "colab": {
          "base_uri": "https://localhost:8080/",
          "height": 392
        }
      },
      "source": [
        "#predict on new data\n",
        "some_data = AD_tr.iloc[:5]\n",
        "some_labels = AD_label_reg.iloc[:5]\n",
        "some_data_prepared = pipeline.transform(some_data)\n",
        "\n",
        "label_multirf = regr_multirf.predict(some_data_prepared)\n",
        "label_rf = regr_rf.predict(some_data_prepared)"
      ],
      "execution_count": 0,
      "outputs": [
        {
          "output_type": "error",
          "ename": "ValueError",
          "evalue": "ignored",
          "traceback": [
            "\u001b[0;31m---------------------------------------------------------------------------\u001b[0m",
            "\u001b[0;31mValueError\u001b[0m                                Traceback (most recent call last)",
            "\u001b[0;32m<ipython-input-61-21c45a8a99f6>\u001b[0m in \u001b[0;36m<module>\u001b[0;34m()\u001b[0m\n\u001b[1;32m      3\u001b[0m \u001b[0msome_data_prepared\u001b[0m \u001b[0;34m=\u001b[0m \u001b[0mpipeline\u001b[0m\u001b[0;34m.\u001b[0m\u001b[0mtransform\u001b[0m\u001b[0;34m(\u001b[0m\u001b[0msome_data\u001b[0m\u001b[0;34m)\u001b[0m\u001b[0;34m\u001b[0m\u001b[0;34m\u001b[0m\u001b[0m\n\u001b[1;32m      4\u001b[0m \u001b[0;34m\u001b[0m\u001b[0m\n\u001b[0;32m----> 5\u001b[0;31m \u001b[0mlabel_multirf\u001b[0m \u001b[0;34m=\u001b[0m \u001b[0mregr_multirf\u001b[0m\u001b[0;34m.\u001b[0m\u001b[0mpredict\u001b[0m\u001b[0;34m(\u001b[0m\u001b[0msome_data_prepared\u001b[0m\u001b[0;34m)\u001b[0m\u001b[0;34m\u001b[0m\u001b[0;34m\u001b[0m\u001b[0m\n\u001b[0m\u001b[1;32m      6\u001b[0m \u001b[0mlabel_rf\u001b[0m \u001b[0;34m=\u001b[0m \u001b[0mregr_rf\u001b[0m\u001b[0;34m.\u001b[0m\u001b[0mpredict\u001b[0m\u001b[0;34m(\u001b[0m\u001b[0msome_data_prepared\u001b[0m\u001b[0;34m)\u001b[0m\u001b[0;34m\u001b[0m\u001b[0;34m\u001b[0m\u001b[0m\n",
            "\u001b[0;32m/usr/local/lib/python3.6/dist-packages/sklearn/multioutput.py\u001b[0m in \u001b[0;36mpredict\u001b[0;34m(self, X)\u001b[0m\n\u001b[1;32m    194\u001b[0m         y = Parallel(n_jobs=self.n_jobs)(\n\u001b[1;32m    195\u001b[0m             \u001b[0mdelayed\u001b[0m\u001b[0;34m(\u001b[0m\u001b[0mparallel_helper\u001b[0m\u001b[0;34m)\u001b[0m\u001b[0;34m(\u001b[0m\u001b[0me\u001b[0m\u001b[0;34m,\u001b[0m \u001b[0;34m'predict'\u001b[0m\u001b[0;34m,\u001b[0m \u001b[0mX\u001b[0m\u001b[0;34m)\u001b[0m\u001b[0;34m\u001b[0m\u001b[0;34m\u001b[0m\u001b[0m\n\u001b[0;32m--> 196\u001b[0;31m             for e in self.estimators_)\n\u001b[0m\u001b[1;32m    197\u001b[0m \u001b[0;34m\u001b[0m\u001b[0m\n\u001b[1;32m    198\u001b[0m         \u001b[0;32mreturn\u001b[0m \u001b[0mnp\u001b[0m\u001b[0;34m.\u001b[0m\u001b[0masarray\u001b[0m\u001b[0;34m(\u001b[0m\u001b[0my\u001b[0m\u001b[0;34m)\u001b[0m\u001b[0;34m.\u001b[0m\u001b[0mT\u001b[0m\u001b[0;34m\u001b[0m\u001b[0;34m\u001b[0m\u001b[0m\n",
            "\u001b[0;32m/usr/local/lib/python3.6/dist-packages/joblib/parallel.py\u001b[0m in \u001b[0;36m__call__\u001b[0;34m(self, iterable)\u001b[0m\n\u001b[1;32m   1001\u001b[0m             \u001b[0;31m# remaining jobs.\u001b[0m\u001b[0;34m\u001b[0m\u001b[0;34m\u001b[0m\u001b[0;34m\u001b[0m\u001b[0m\n\u001b[1;32m   1002\u001b[0m             \u001b[0mself\u001b[0m\u001b[0;34m.\u001b[0m\u001b[0m_iterating\u001b[0m \u001b[0;34m=\u001b[0m \u001b[0;32mFalse\u001b[0m\u001b[0;34m\u001b[0m\u001b[0;34m\u001b[0m\u001b[0m\n\u001b[0;32m-> 1003\u001b[0;31m             \u001b[0;32mif\u001b[0m \u001b[0mself\u001b[0m\u001b[0;34m.\u001b[0m\u001b[0mdispatch_one_batch\u001b[0m\u001b[0;34m(\u001b[0m\u001b[0miterator\u001b[0m\u001b[0;34m)\u001b[0m\u001b[0;34m:\u001b[0m\u001b[0;34m\u001b[0m\u001b[0;34m\u001b[0m\u001b[0m\n\u001b[0m\u001b[1;32m   1004\u001b[0m                 \u001b[0mself\u001b[0m\u001b[0;34m.\u001b[0m\u001b[0m_iterating\u001b[0m \u001b[0;34m=\u001b[0m \u001b[0mself\u001b[0m\u001b[0;34m.\u001b[0m\u001b[0m_original_iterator\u001b[0m \u001b[0;32mis\u001b[0m \u001b[0;32mnot\u001b[0m \u001b[0;32mNone\u001b[0m\u001b[0;34m\u001b[0m\u001b[0;34m\u001b[0m\u001b[0m\n\u001b[1;32m   1005\u001b[0m \u001b[0;34m\u001b[0m\u001b[0m\n",
            "\u001b[0;32m/usr/local/lib/python3.6/dist-packages/joblib/parallel.py\u001b[0m in \u001b[0;36mdispatch_one_batch\u001b[0;34m(self, iterator)\u001b[0m\n\u001b[1;32m    832\u001b[0m                 \u001b[0;32mreturn\u001b[0m \u001b[0;32mFalse\u001b[0m\u001b[0;34m\u001b[0m\u001b[0;34m\u001b[0m\u001b[0m\n\u001b[1;32m    833\u001b[0m             \u001b[0;32melse\u001b[0m\u001b[0;34m:\u001b[0m\u001b[0;34m\u001b[0m\u001b[0;34m\u001b[0m\u001b[0m\n\u001b[0;32m--> 834\u001b[0;31m                 \u001b[0mself\u001b[0m\u001b[0;34m.\u001b[0m\u001b[0m_dispatch\u001b[0m\u001b[0;34m(\u001b[0m\u001b[0mtasks\u001b[0m\u001b[0;34m)\u001b[0m\u001b[0;34m\u001b[0m\u001b[0;34m\u001b[0m\u001b[0m\n\u001b[0m\u001b[1;32m    835\u001b[0m                 \u001b[0;32mreturn\u001b[0m \u001b[0;32mTrue\u001b[0m\u001b[0;34m\u001b[0m\u001b[0;34m\u001b[0m\u001b[0m\n\u001b[1;32m    836\u001b[0m \u001b[0;34m\u001b[0m\u001b[0m\n",
            "\u001b[0;32m/usr/local/lib/python3.6/dist-packages/joblib/parallel.py\u001b[0m in \u001b[0;36m_dispatch\u001b[0;34m(self, batch)\u001b[0m\n\u001b[1;32m    751\u001b[0m         \u001b[0;32mwith\u001b[0m \u001b[0mself\u001b[0m\u001b[0;34m.\u001b[0m\u001b[0m_lock\u001b[0m\u001b[0;34m:\u001b[0m\u001b[0;34m\u001b[0m\u001b[0;34m\u001b[0m\u001b[0m\n\u001b[1;32m    752\u001b[0m             \u001b[0mjob_idx\u001b[0m \u001b[0;34m=\u001b[0m \u001b[0mlen\u001b[0m\u001b[0;34m(\u001b[0m\u001b[0mself\u001b[0m\u001b[0;34m.\u001b[0m\u001b[0m_jobs\u001b[0m\u001b[0;34m)\u001b[0m\u001b[0;34m\u001b[0m\u001b[0;34m\u001b[0m\u001b[0m\n\u001b[0;32m--> 753\u001b[0;31m             \u001b[0mjob\u001b[0m \u001b[0;34m=\u001b[0m \u001b[0mself\u001b[0m\u001b[0;34m.\u001b[0m\u001b[0m_backend\u001b[0m\u001b[0;34m.\u001b[0m\u001b[0mapply_async\u001b[0m\u001b[0;34m(\u001b[0m\u001b[0mbatch\u001b[0m\u001b[0;34m,\u001b[0m \u001b[0mcallback\u001b[0m\u001b[0;34m=\u001b[0m\u001b[0mcb\u001b[0m\u001b[0;34m)\u001b[0m\u001b[0;34m\u001b[0m\u001b[0;34m\u001b[0m\u001b[0m\n\u001b[0m\u001b[1;32m    754\u001b[0m             \u001b[0;31m# A job can complete so quickly than its callback is\u001b[0m\u001b[0;34m\u001b[0m\u001b[0;34m\u001b[0m\u001b[0;34m\u001b[0m\u001b[0m\n\u001b[1;32m    755\u001b[0m             \u001b[0;31m# called before we get here, causing self._jobs to\u001b[0m\u001b[0;34m\u001b[0m\u001b[0;34m\u001b[0m\u001b[0;34m\u001b[0m\u001b[0m\n",
            "\u001b[0;32m/usr/local/lib/python3.6/dist-packages/joblib/_parallel_backends.py\u001b[0m in \u001b[0;36mapply_async\u001b[0;34m(self, func, callback)\u001b[0m\n\u001b[1;32m    199\u001b[0m     \u001b[0;32mdef\u001b[0m \u001b[0mapply_async\u001b[0m\u001b[0;34m(\u001b[0m\u001b[0mself\u001b[0m\u001b[0;34m,\u001b[0m \u001b[0mfunc\u001b[0m\u001b[0;34m,\u001b[0m \u001b[0mcallback\u001b[0m\u001b[0;34m=\u001b[0m\u001b[0;32mNone\u001b[0m\u001b[0;34m)\u001b[0m\u001b[0;34m:\u001b[0m\u001b[0;34m\u001b[0m\u001b[0;34m\u001b[0m\u001b[0m\n\u001b[1;32m    200\u001b[0m         \u001b[0;34m\"\"\"Schedule a func to be run\"\"\"\u001b[0m\u001b[0;34m\u001b[0m\u001b[0;34m\u001b[0m\u001b[0m\n\u001b[0;32m--> 201\u001b[0;31m         \u001b[0mresult\u001b[0m \u001b[0;34m=\u001b[0m \u001b[0mImmediateResult\u001b[0m\u001b[0;34m(\u001b[0m\u001b[0mfunc\u001b[0m\u001b[0;34m)\u001b[0m\u001b[0;34m\u001b[0m\u001b[0;34m\u001b[0m\u001b[0m\n\u001b[0m\u001b[1;32m    202\u001b[0m         \u001b[0;32mif\u001b[0m \u001b[0mcallback\u001b[0m\u001b[0;34m:\u001b[0m\u001b[0;34m\u001b[0m\u001b[0;34m\u001b[0m\u001b[0m\n\u001b[1;32m    203\u001b[0m             \u001b[0mcallback\u001b[0m\u001b[0;34m(\u001b[0m\u001b[0mresult\u001b[0m\u001b[0;34m)\u001b[0m\u001b[0;34m\u001b[0m\u001b[0;34m\u001b[0m\u001b[0m\n",
            "\u001b[0;32m/usr/local/lib/python3.6/dist-packages/joblib/_parallel_backends.py\u001b[0m in \u001b[0;36m__init__\u001b[0;34m(self, batch)\u001b[0m\n\u001b[1;32m    580\u001b[0m         \u001b[0;31m# Don't delay the application, to avoid keeping the input\u001b[0m\u001b[0;34m\u001b[0m\u001b[0;34m\u001b[0m\u001b[0;34m\u001b[0m\u001b[0m\n\u001b[1;32m    581\u001b[0m         \u001b[0;31m# arguments in memory\u001b[0m\u001b[0;34m\u001b[0m\u001b[0;34m\u001b[0m\u001b[0;34m\u001b[0m\u001b[0m\n\u001b[0;32m--> 582\u001b[0;31m         \u001b[0mself\u001b[0m\u001b[0;34m.\u001b[0m\u001b[0mresults\u001b[0m \u001b[0;34m=\u001b[0m \u001b[0mbatch\u001b[0m\u001b[0;34m(\u001b[0m\u001b[0;34m)\u001b[0m\u001b[0;34m\u001b[0m\u001b[0;34m\u001b[0m\u001b[0m\n\u001b[0m\u001b[1;32m    583\u001b[0m \u001b[0;34m\u001b[0m\u001b[0m\n\u001b[1;32m    584\u001b[0m     \u001b[0;32mdef\u001b[0m \u001b[0mget\u001b[0m\u001b[0;34m(\u001b[0m\u001b[0mself\u001b[0m\u001b[0;34m)\u001b[0m\u001b[0;34m:\u001b[0m\u001b[0;34m\u001b[0m\u001b[0;34m\u001b[0m\u001b[0m\n",
            "\u001b[0;32m/usr/local/lib/python3.6/dist-packages/joblib/parallel.py\u001b[0m in \u001b[0;36m__call__\u001b[0;34m(self)\u001b[0m\n\u001b[1;32m    254\u001b[0m         \u001b[0;32mwith\u001b[0m \u001b[0mparallel_backend\u001b[0m\u001b[0;34m(\u001b[0m\u001b[0mself\u001b[0m\u001b[0;34m.\u001b[0m\u001b[0m_backend\u001b[0m\u001b[0;34m,\u001b[0m \u001b[0mn_jobs\u001b[0m\u001b[0;34m=\u001b[0m\u001b[0mself\u001b[0m\u001b[0;34m.\u001b[0m\u001b[0m_n_jobs\u001b[0m\u001b[0;34m)\u001b[0m\u001b[0;34m:\u001b[0m\u001b[0;34m\u001b[0m\u001b[0;34m\u001b[0m\u001b[0m\n\u001b[1;32m    255\u001b[0m             return [func(*args, **kwargs)\n\u001b[0;32m--> 256\u001b[0;31m                     for func, args, kwargs in self.items]\n\u001b[0m\u001b[1;32m    257\u001b[0m \u001b[0;34m\u001b[0m\u001b[0m\n\u001b[1;32m    258\u001b[0m     \u001b[0;32mdef\u001b[0m \u001b[0m__len__\u001b[0m\u001b[0;34m(\u001b[0m\u001b[0mself\u001b[0m\u001b[0;34m)\u001b[0m\u001b[0;34m:\u001b[0m\u001b[0;34m\u001b[0m\u001b[0;34m\u001b[0m\u001b[0m\n",
            "\u001b[0;32m/usr/local/lib/python3.6/dist-packages/joblib/parallel.py\u001b[0m in \u001b[0;36m<listcomp>\u001b[0;34m(.0)\u001b[0m\n\u001b[1;32m    254\u001b[0m         \u001b[0;32mwith\u001b[0m \u001b[0mparallel_backend\u001b[0m\u001b[0;34m(\u001b[0m\u001b[0mself\u001b[0m\u001b[0;34m.\u001b[0m\u001b[0m_backend\u001b[0m\u001b[0;34m,\u001b[0m \u001b[0mn_jobs\u001b[0m\u001b[0;34m=\u001b[0m\u001b[0mself\u001b[0m\u001b[0;34m.\u001b[0m\u001b[0m_n_jobs\u001b[0m\u001b[0;34m)\u001b[0m\u001b[0;34m:\u001b[0m\u001b[0;34m\u001b[0m\u001b[0;34m\u001b[0m\u001b[0m\n\u001b[1;32m    255\u001b[0m             return [func(*args, **kwargs)\n\u001b[0;32m--> 256\u001b[0;31m                     for func, args, kwargs in self.items]\n\u001b[0m\u001b[1;32m    257\u001b[0m \u001b[0;34m\u001b[0m\u001b[0m\n\u001b[1;32m    258\u001b[0m     \u001b[0;32mdef\u001b[0m \u001b[0m__len__\u001b[0m\u001b[0;34m(\u001b[0m\u001b[0mself\u001b[0m\u001b[0;34m)\u001b[0m\u001b[0;34m:\u001b[0m\u001b[0;34m\u001b[0m\u001b[0;34m\u001b[0m\u001b[0m\n",
            "\u001b[0;32m/usr/local/lib/python3.6/dist-packages/sklearn/utils/fixes.py\u001b[0m in \u001b[0;36mparallel_helper\u001b[0;34m(obj, methodname, *args, **kwargs)\u001b[0m\n\u001b[1;32m    160\u001b[0m \u001b[0;34m\u001b[0m\u001b[0m\n\u001b[1;32m    161\u001b[0m     \"\"\"\n\u001b[0;32m--> 162\u001b[0;31m     \u001b[0;32mreturn\u001b[0m \u001b[0mgetattr\u001b[0m\u001b[0;34m(\u001b[0m\u001b[0mobj\u001b[0m\u001b[0;34m,\u001b[0m \u001b[0mmethodname\u001b[0m\u001b[0;34m)\u001b[0m\u001b[0;34m(\u001b[0m\u001b[0;34m*\u001b[0m\u001b[0margs\u001b[0m\u001b[0;34m,\u001b[0m \u001b[0;34m**\u001b[0m\u001b[0mkwargs\u001b[0m\u001b[0;34m)\u001b[0m\u001b[0;34m\u001b[0m\u001b[0;34m\u001b[0m\u001b[0m\n\u001b[0m\u001b[1;32m    163\u001b[0m \u001b[0;34m\u001b[0m\u001b[0m\n\u001b[1;32m    164\u001b[0m \u001b[0;34m\u001b[0m\u001b[0m\n",
            "\u001b[0;32m/usr/local/lib/python3.6/dist-packages/sklearn/ensemble/forest.py\u001b[0m in \u001b[0;36mpredict\u001b[0;34m(self, X)\u001b[0m\n\u001b[1;32m    691\u001b[0m         \u001b[0mcheck_is_fitted\u001b[0m\u001b[0;34m(\u001b[0m\u001b[0mself\u001b[0m\u001b[0;34m,\u001b[0m \u001b[0;34m'estimators_'\u001b[0m\u001b[0;34m)\u001b[0m\u001b[0;34m\u001b[0m\u001b[0;34m\u001b[0m\u001b[0m\n\u001b[1;32m    692\u001b[0m         \u001b[0;31m# Check data\u001b[0m\u001b[0;34m\u001b[0m\u001b[0;34m\u001b[0m\u001b[0;34m\u001b[0m\u001b[0m\n\u001b[0;32m--> 693\u001b[0;31m         \u001b[0mX\u001b[0m \u001b[0;34m=\u001b[0m \u001b[0mself\u001b[0m\u001b[0;34m.\u001b[0m\u001b[0m_validate_X_predict\u001b[0m\u001b[0;34m(\u001b[0m\u001b[0mX\u001b[0m\u001b[0;34m)\u001b[0m\u001b[0;34m\u001b[0m\u001b[0;34m\u001b[0m\u001b[0m\n\u001b[0m\u001b[1;32m    694\u001b[0m \u001b[0;34m\u001b[0m\u001b[0m\n\u001b[1;32m    695\u001b[0m         \u001b[0;31m# Assign chunk of trees to jobs\u001b[0m\u001b[0;34m\u001b[0m\u001b[0;34m\u001b[0m\u001b[0;34m\u001b[0m\u001b[0m\n",
            "\u001b[0;32m/usr/local/lib/python3.6/dist-packages/sklearn/ensemble/forest.py\u001b[0m in \u001b[0;36m_validate_X_predict\u001b[0;34m(self, X)\u001b[0m\n\u001b[1;32m    357\u001b[0m                                  \"call `fit` before exploiting the model.\")\n\u001b[1;32m    358\u001b[0m \u001b[0;34m\u001b[0m\u001b[0m\n\u001b[0;32m--> 359\u001b[0;31m         \u001b[0;32mreturn\u001b[0m \u001b[0mself\u001b[0m\u001b[0;34m.\u001b[0m\u001b[0mestimators_\u001b[0m\u001b[0;34m[\u001b[0m\u001b[0;36m0\u001b[0m\u001b[0;34m]\u001b[0m\u001b[0;34m.\u001b[0m\u001b[0m_validate_X_predict\u001b[0m\u001b[0;34m(\u001b[0m\u001b[0mX\u001b[0m\u001b[0;34m,\u001b[0m \u001b[0mcheck_input\u001b[0m\u001b[0;34m=\u001b[0m\u001b[0;32mTrue\u001b[0m\u001b[0;34m)\u001b[0m\u001b[0;34m\u001b[0m\u001b[0;34m\u001b[0m\u001b[0m\n\u001b[0m\u001b[1;32m    360\u001b[0m \u001b[0;34m\u001b[0m\u001b[0m\n\u001b[1;32m    361\u001b[0m     \u001b[0;34m@\u001b[0m\u001b[0mproperty\u001b[0m\u001b[0;34m\u001b[0m\u001b[0;34m\u001b[0m\u001b[0m\n",
            "\u001b[0;32m/usr/local/lib/python3.6/dist-packages/sklearn/tree/tree.py\u001b[0m in \u001b[0;36m_validate_X_predict\u001b[0;34m(self, X, check_input)\u001b[0m\n\u001b[1;32m    400\u001b[0m                              \u001b[0;34m\"match the input. Model n_features is %s and \"\u001b[0m\u001b[0;34m\u001b[0m\u001b[0;34m\u001b[0m\u001b[0m\n\u001b[1;32m    401\u001b[0m                              \u001b[0;34m\"input n_features is %s \"\u001b[0m\u001b[0;34m\u001b[0m\u001b[0;34m\u001b[0m\u001b[0m\n\u001b[0;32m--> 402\u001b[0;31m                              % (self.n_features_, n_features))\n\u001b[0m\u001b[1;32m    403\u001b[0m \u001b[0;34m\u001b[0m\u001b[0m\n\u001b[1;32m    404\u001b[0m         \u001b[0;32mreturn\u001b[0m \u001b[0mX\u001b[0m\u001b[0;34m\u001b[0m\u001b[0;34m\u001b[0m\u001b[0m\n",
            "\u001b[0;31mValueError\u001b[0m: Number of features of the model must match the input. Model n_features is 2627 and input n_features is 71 "
          ]
        }
      ]
    },
    {
      "cell_type": "code",
      "metadata": {
        "id": "A_vja0XE1CmL",
        "colab_type": "code",
        "outputId": "def6f2a1-d6df-418a-8fcc-78301850cc6d",
        "colab": {
          "base_uri": "https://localhost:8080/",
          "height": 124
        }
      },
      "source": [
        "print(\"1. multirf 예상한 label: \")\n",
        "print(label_multirf)"
      ],
      "execution_count": 0,
      "outputs": [
        {
          "output_type": "stream",
          "text": [
            "1. multirf 예상한 label: \n",
            "[[29.63939394 10.0933    ]\n",
            " [29.4802585  12.3368    ]\n",
            " [28.63       16.2043    ]\n",
            " [23.04       24.4534    ]\n",
            " [23.95       21.7476    ]]\n"
          ],
          "name": "stdout"
        }
      ]
    },
    {
      "cell_type": "code",
      "metadata": {
        "id": "BXNvkh2h6ab3",
        "colab_type": "code",
        "outputId": "206ab97c-17db-4f1c-f2fc-6709147ad328",
        "colab": {
          "base_uri": "https://localhost:8080/",
          "height": 124
        }
      },
      "source": [
        "print(\"2. randomforest 예상한 label: \")\n",
        "print(label_rf)"
      ],
      "execution_count": 0,
      "outputs": [
        {
          "output_type": "stream",
          "text": [
            "2. randomforest 예상한 label: \n",
            "[[29.57    9.6833]\n",
            " [29.39   12.6866]\n",
            " [28.41   15.7914]\n",
            " [22.78   24.7567]\n",
            " [24.18   23.601 ]]\n"
          ],
          "name": "stdout"
        }
      ]
    },
    {
      "cell_type": "code",
      "metadata": {
        "id": "MYyyVrVN1Pcl",
        "colab_type": "code",
        "outputId": "35a654c4-ded1-4321-8fba-896c1decf297",
        "colab": {
          "base_uri": "https://localhost:8080/",
          "height": 141
        }
      },
      "source": [
        "print(\"실제 label: \")\n",
        "print(some_labels)"
      ],
      "execution_count": 0,
      "outputs": [
        {
          "output_type": "stream",
          "text": [
            "실제 label: \n",
            "   MMSE  ADAS13\n",
            "0  30.0   10.00\n",
            "1  30.0   13.00\n",
            "2  29.0   15.33\n",
            "3  22.0   24.00\n",
            "4  24.0   20.33\n"
          ],
          "name": "stdout"
        }
      ]
    },
    {
      "cell_type": "code",
      "metadata": {
        "id": "shz_F0K-6w9w",
        "colab_type": "code",
        "outputId": "2290b69e-942f-4a79-b6d0-711374730115",
        "colab": {
          "base_uri": "https://localhost:8080/",
          "height": 35
        }
      },
      "source": [
        "#RMSE사용해서 전체 error?알아봄\n",
        "from sklearn.metrics import mean_squared_error\n",
        "\n",
        "AD_predictions = regr_multirf.predict(X)\n",
        "reg_multirf_mse = mean_squared_error(y, AD_predictions)\n",
        "reg_multirf_rmse = np.sqrt(reg_multirf_mse)\n",
        "reg_multirf_rmse"
      ],
      "execution_count": 0,
      "outputs": [
        {
          "output_type": "execute_result",
          "data": {
            "text/plain": [
              "1.961898600211987"
            ]
          },
          "metadata": {
            "tags": []
          },
          "execution_count": 171
        }
      ]
    },
    {
      "cell_type": "code",
      "metadata": {
        "id": "0P2yOA5zbtdX",
        "colab_type": "code",
        "outputId": "7c098910-6e82-41d7-9241-1d103767ee17",
        "colab": {
          "base_uri": "https://localhost:8080/",
          "height": 35
        }
      },
      "source": [
        "AD_predictions = regr_rf.predict(X)\n",
        "reg_rf_mse = mean_squared_error(y, AD_predictions)\n",
        "reg_rf_rmse = np.sqrt(reg_rf_mse)\n",
        "reg_rf_rmse"
      ],
      "execution_count": 0,
      "outputs": [
        {
          "output_type": "execute_result",
          "data": {
            "text/plain": [
              "1.954192382631079"
            ]
          },
          "metadata": {
            "tags": []
          },
          "execution_count": 172
        }
      ]
    },
    {
      "cell_type": "markdown",
      "metadata": {
        "id": "wHCiNps3idIv",
        "colab_type": "text"
      },
      "source": [
        "3) decision tree\n",
        "---"
      ]
    },
    {
      "cell_type": "code",
      "metadata": {
        "id": "K8d-djCGifcR",
        "colab_type": "code",
        "outputId": "44e36858-d3f5-4b8f-f4a3-5e39dc9c7530",
        "colab": {
          "base_uri": "https://localhost:8080/",
          "height": 106
        }
      },
      "source": [
        "#fit regression model \n",
        "from sklearn.tree import DecisionTreeRegressor\n",
        "reg_DTR = DecisionTreeRegressor(max_depth=30) \n",
        "#max depth - 30 : rmse = 0, overfit\n",
        "\n",
        "reg_DTR.fit(X, y)"
      ],
      "execution_count": 0,
      "outputs": [
        {
          "output_type": "execute_result",
          "data": {
            "text/plain": [
              "DecisionTreeRegressor(criterion='mse', max_depth=30, max_features=None,\n",
              "                      max_leaf_nodes=None, min_impurity_decrease=0.0,\n",
              "                      min_impurity_split=None, min_samples_leaf=1,\n",
              "                      min_samples_split=2, min_weight_fraction_leaf=0.0,\n",
              "                      presort=False, random_state=None, splitter='best')"
            ]
          },
          "metadata": {
            "tags": []
          },
          "execution_count": 173
        }
      ]
    },
    {
      "cell_type": "code",
      "metadata": {
        "id": "OriVal3Ljm9-",
        "colab_type": "code",
        "colab": {}
      },
      "source": [
        "#predict - test set만들어서 결과 봐야함 사실/validation set만들기 관련해야함\n",
        "label_DTR = reg_DTR.predict(X)"
      ],
      "execution_count": 0,
      "outputs": []
    },
    {
      "cell_type": "code",
      "metadata": {
        "id": "ngFoK23wkgHC",
        "colab_type": "code",
        "outputId": "da27f490-28b5-4d22-c487-2535b5981b78",
        "colab": {
          "base_uri": "https://localhost:8080/",
          "height": 35
        }
      },
      "source": [
        "#prediction error - rmse\n",
        "\n",
        "AD_predictions = reg_DTR.predict(X)\n",
        "reg_DTR_mse = mean_squared_error(y, AD_predictions)\n",
        "reg_DTR_rmse = np.sqrt(reg_DTR_mse)\n",
        "reg_DTR_rmse"
      ],
      "execution_count": 0,
      "outputs": [
        {
          "output_type": "execute_result",
          "data": {
            "text/plain": [
              "0.0"
            ]
          },
          "metadata": {
            "tags": []
          },
          "execution_count": 175
        }
      ]
    },
    {
      "cell_type": "markdown",
      "metadata": {
        "id": "M4npJGD9rmqE",
        "colab_type": "text"
      },
      "source": [
        "# cross validation"
      ]
    },
    {
      "cell_type": "markdown",
      "metadata": {
        "id": "cI4dm6xnfcP6",
        "colab_type": "text"
      },
      "source": [
        "validation err\n",
        "---"
      ]
    },
    {
      "cell_type": "code",
      "metadata": {
        "id": "-OqsUI46eD78",
        "colab_type": "code",
        "colab": {}
      },
      "source": [
        "def display_scores(scores):\n",
        "    print(\"Scores:\", scores)\n",
        "    print(\"Mean:\", scores.mean())\n",
        "    print(\"Standard deviation:\", scores.std())"
      ],
      "execution_count": 0,
      "outputs": []
    },
    {
      "cell_type": "code",
      "metadata": {
        "id": "DP874SYOeiwe",
        "colab_type": "code",
        "outputId": "3e675414-4aa6-4ea5-c1b7-6526f051f613",
        "colab": {
          "base_uri": "https://localhost:8080/",
          "height": 88
        }
      },
      "source": [
        "from sklearn.model_selection import cross_val_score\n",
        "\n",
        "scores = cross_val_score(regr_multirf,X,y,\n",
        "                         scoring=\"neg_mean_squared_error\",cv=10)\n",
        "regr_multirf_scores = np.sqrt(-scores)\n",
        "display_scores(regr_multirf_scores)"
      ],
      "execution_count": 0,
      "outputs": [
        {
          "output_type": "stream",
          "text": [
            "Scores: [5.82815137 4.86506482 5.56836547 5.11480711 5.11778617 5.60439093\n",
            " 4.86163352 5.08589749 4.75632083 4.99245505]\n",
            "Mean: 5.1794872757074355\n",
            "Standard deviation: 0.343980735091267\n"
          ],
          "name": "stdout"
        }
      ]
    },
    {
      "cell_type": "code",
      "metadata": {
        "id": "zEMRi2RwehPI",
        "colab_type": "code",
        "outputId": "33fc9ec7-42e7-4986-8ede-b491f32b8ef3",
        "colab": {
          "base_uri": "https://localhost:8080/",
          "height": 88
        }
      },
      "source": [
        "scores = cross_val_score(regr_rf,X,y,\n",
        "                         scoring=\"neg_mean_squared_error\",cv=10)\n",
        "regr_rf_scores = np.sqrt(-scores)\n",
        "display_scores(regr_rf_scores)"
      ],
      "execution_count": 0,
      "outputs": [
        {
          "output_type": "stream",
          "text": [
            "Scores: [5.94124847 4.90232586 5.54721368 5.11937045 5.19325757 5.59935568\n",
            " 4.95719287 5.0941905  4.81684824 4.94357075]\n",
            "Mean: 5.211457406031933\n",
            "Standard deviation: 0.347281950417166\n"
          ],
          "name": "stdout"
        }
      ]
    },
    {
      "cell_type": "code",
      "metadata": {
        "id": "rqxubvMdiKs4",
        "colab_type": "code",
        "outputId": "0c91c627-bb52-426c-8da7-595516d44d1e",
        "colab": {
          "base_uri": "https://localhost:8080/",
          "height": 88
        }
      },
      "source": [
        "scores = cross_val_score(reg_DTR,X,y,\n",
        "                         scoring=\"neg_mean_squared_error\",cv=10)\n",
        "reg_DTR_scores = np.sqrt(-scores)\n",
        "display_scores(reg_DTR_scores)"
      ],
      "execution_count": 0,
      "outputs": [
        {
          "output_type": "stream",
          "text": [
            "Scores: [8.23147897 7.19776899 7.94556875 7.3263427  7.31656473 6.85722475\n",
            " 6.98080907 6.93919696 6.94891284 7.03343812]\n",
            "Mean: 7.277730588646227\n",
            "Standard deviation: 0.4374130033895788\n"
          ],
          "name": "stdout"
        }
      ]
    },
    {
      "cell_type": "markdown",
      "metadata": {
        "id": "bJZduH9-g0Ew",
        "colab_type": "text"
      },
      "source": [
        "정리\n",
        "(train_err, validation_err)\n",
        "1.   regr_multirf : 1.9420607381264492, 5.166178311657196\n",
        "2.   regr_rf :1.9344859256658384, 5.180684768651135\n",
        "3.   decision tree(reg_DTR) : 0.0, 7.3558452908476415(depth=30)\n",
        "\n",
        "--> decision tree의 depth를 낮춘다고 해도 validation err가 6이 넘는다.\n",
        "따라서 multi random forest를 쓰는게 나을듯\n",
        "근데 SVM도 생각해보기\n",
        "\n"
      ]
    },
    {
      "cell_type": "markdown",
      "metadata": {
        "id": "4OvWyqLXjyMq",
        "colab_type": "text"
      },
      "source": [
        "# fine tune model"
      ]
    },
    {
      "cell_type": "markdown",
      "metadata": {
        "id": "4BP8DBC8kcfC",
        "colab_type": "text"
      },
      "source": [
        "grid, final model\n",
        "---\n",
        "grid search : cross validation과 hyper parameter튜닝을 동시에 할 수 있다."
      ]
    },
    {
      "cell_type": "code",
      "metadata": {
        "id": "SDuaUVV6udBo",
        "colab_type": "code",
        "colab": {}
      },
      "source": [
        "from sklearn.ensemble import RandomForestRegressor\n",
        "from sklearn.model_selection import train_test_split\n",
        "from sklearn.multioutput import MultiOutputRegressor"
      ],
      "execution_count": 0,
      "outputs": []
    },
    {
      "cell_type": "markdown",
      "metadata": {
        "id": "cHX7-QAZP5zG",
        "colab_type": "text"
      },
      "source": [
        "* random forest model\n",
        "\n",
        "decision tree의 overfit을 막는 여러종류의 decision tree만드는 거\n",
        "\n",
        "tree 여러개를 만드는데, 그 tree만들 떄 사용하는 데이터를 무작위로 선택하고,\n",
        "분할 테스트에서 특성을 무작위로 선택한다.\n",
        "\n",
        "기본적으로 복원추출(bootstrap sampling)하고, 이것은 끌 수 있다.\n",
        "\n",
        "max_features를 전체 특성 수로 하면 모든 특성을 고려해서, decision tree에서 무작위성이 들어가지 않는다. 이 값을 크게하면 모든 tree들이 매우 비슷해지고, 가장 두드러진 특성을 이용해서 데이터에 잘 맞춰진다.\n",
        "이 값을 낮추면, tree들이 다 다르게 생겼고, 각tree는 데이터에 맞추기 위해 tree의 깊이가 깊어진다."
      ]
    },
    {
      "cell_type": "code",
      "metadata": {
        "id": "NTuwjpx9keqr",
        "colab_type": "code",
        "outputId": "515c3c1f-441f-48f6-94e4-ecea28744136",
        "colab": {
          "base_uri": "https://localhost:8080/",
          "height": 392
        }
      },
      "source": [
        "from sklearn.model_selection import GridSearchCV\n",
        "\n",
        "#자세한 내용은 ch7에 hyperparameter나옴\n",
        "\n",
        "param_grid = [\n",
        "    {'n_estimators': [100],  #n_estimators : 생성할 tree개수-많을수록 좋은듯\n",
        "    'max_features': [10,35,70,71],    #max_features : 최대 선택할 특성의 수\n",
        "    #'max_depth' : [18]\n",
        "     }\n",
        "  ]\n",
        "\n",
        "rf_reg = RandomForestRegressor(random_state=42)\n",
        "#cv : cross validation 수\n",
        "grid_search = GridSearchCV(rf_reg, param_grid, cv=10,\n",
        "                           scoring='neg_mean_squared_error',\n",
        "                           return_train_score=True)\n",
        "grid_search.fit(X, y)"
      ],
      "execution_count": 0,
      "outputs": [
        {
          "output_type": "stream",
          "text": [
            "/usr/local/lib/python3.6/dist-packages/sklearn/model_selection/_search.py:814: DeprecationWarning: The default of the `iid` parameter will change from True to False in version 0.22 and will be removed in 0.24. This will change numeric results when test-set sizes are unequal.\n",
            "  DeprecationWarning)\n"
          ],
          "name": "stderr"
        },
        {
          "output_type": "execute_result",
          "data": {
            "text/plain": [
              "GridSearchCV(cv=10, error_score='raise-deprecating',\n",
              "             estimator=RandomForestRegressor(bootstrap=True, criterion='mse',\n",
              "                                             max_depth=None,\n",
              "                                             max_features='auto',\n",
              "                                             max_leaf_nodes=None,\n",
              "                                             min_impurity_decrease=0.0,\n",
              "                                             min_impurity_split=None,\n",
              "                                             min_samples_leaf=1,\n",
              "                                             min_samples_split=2,\n",
              "                                             min_weight_fraction_leaf=0.0,\n",
              "                                             n_estimators='warn', n_jobs=None,\n",
              "                                             oob_score=False, random_state=42,\n",
              "                                             verbose=0, warm_start=False),\n",
              "             iid='warn', n_jobs=None,\n",
              "             param_grid=[{'max_features': [10, 35, 70, 71],\n",
              "                          'n_estimators': [100]}],\n",
              "             pre_dispatch='2*n_jobs', refit=True, return_train_score=True,\n",
              "             scoring='neg_mean_squared_error', verbose=0)"
            ]
          },
          "metadata": {
            "tags": []
          },
          "execution_count": 181
        }
      ]
    },
    {
      "cell_type": "code",
      "metadata": {
        "id": "reFO54y_mDDN",
        "colab_type": "code",
        "outputId": "db19c6a4-6b1c-421c-da4c-366c37fb4df3",
        "colab": {
          "base_uri": "https://localhost:8080/",
          "height": 35
        }
      },
      "source": [
        "grid_search.best_params_"
      ],
      "execution_count": 0,
      "outputs": [
        {
          "output_type": "execute_result",
          "data": {
            "text/plain": [
              "{'max_features': 35, 'n_estimators': 100}"
            ]
          },
          "metadata": {
            "tags": []
          },
          "execution_count": 182
        }
      ]
    },
    {
      "cell_type": "code",
      "metadata": {
        "id": "CiW4CgN4xxKK",
        "colab_type": "code",
        "outputId": "e3a755e5-b70c-40bd-b179-8234a6eac705",
        "colab": {
          "base_uri": "https://localhost:8080/",
          "height": 35
        }
      },
      "source": [
        "grid_search.best_score_"
      ],
      "execution_count": 0,
      "outputs": [
        {
          "output_type": "execute_result",
          "data": {
            "text/plain": [
              "-26.791802921570063"
            ]
          },
          "metadata": {
            "tags": []
          },
          "execution_count": 183
        }
      ]
    },
    {
      "cell_type": "code",
      "metadata": {
        "id": "VmcBNnJHwK4p",
        "colab_type": "code",
        "outputId": "a47441f4-6fc2-4f9d-ccef-1b4e26ff5128",
        "colab": {
          "base_uri": "https://localhost:8080/",
          "height": 161
        }
      },
      "source": [
        "grid_search.best_estimator_"
      ],
      "execution_count": 0,
      "outputs": [
        {
          "output_type": "execute_result",
          "data": {
            "text/plain": [
              "RandomForestRegressor(bootstrap=True, criterion='mse', max_depth=None,\n",
              "                      max_features=35, max_leaf_nodes=None,\n",
              "                      min_impurity_decrease=0.0, min_impurity_split=None,\n",
              "                      min_samples_leaf=1, min_samples_split=2,\n",
              "                      min_weight_fraction_leaf=0.0, n_estimators=100,\n",
              "                      n_jobs=None, oob_score=False, random_state=42, verbose=0,\n",
              "                      warm_start=False)"
            ]
          },
          "metadata": {
            "tags": []
          },
          "execution_count": 184
        }
      ]
    },
    {
      "cell_type": "code",
      "metadata": {
        "id": "MGGCXaNVwcUT",
        "colab_type": "code",
        "outputId": "656e5d09-2121-48da-ed19-aea9dec55c0f",
        "colab": {
          "base_uri": "https://localhost:8080/",
          "height": 88
        }
      },
      "source": [
        "#모든 조합\n",
        "cvres = grid_search.cv_results_\n",
        "for mean_score, params in zip(cvres[\"mean_test_score\"], cvres[\"params\"]):\n",
        "    print(np.sqrt(-mean_score), params)"
      ],
      "execution_count": 0,
      "outputs": [
        {
          "output_type": "stream",
          "text": [
            "5.235090499932849 {'max_features': 10, 'n_estimators': 100}\n",
            "5.17607987975167 {'max_features': 35, 'n_estimators': 100}\n",
            "5.230576046822735 {'max_features': 70, 'n_estimators': 100}\n",
            "5.224537562352212 {'max_features': 71, 'n_estimators': 100}\n"
          ],
          "name": "stdout"
        }
      ]
    },
    {
      "cell_type": "markdown",
      "metadata": {
        "id": "U3i5fVe2ZpsJ",
        "colab_type": "text"
      },
      "source": [
        "feature의 중요도"
      ]
    },
    {
      "cell_type": "code",
      "metadata": {
        "id": "sZ9NMLmlSmFS",
        "colab_type": "code",
        "outputId": "1b8a0e7d-a95e-4166-c6f8-680ce62fbb34",
        "colab": {
          "base_uri": "https://localhost:8080/",
          "height": 611
        }
      },
      "source": [
        "n_feature = AD_tr.shape[1]\n",
        "index = np.arange(n_feature)\n",
        "\n",
        "forest = RandomForestRegressor(n_estimators=100)\n",
        "forest.fit(X,y)\n",
        "plt.figure(figsize=(5,10))\n",
        "plt.barh(index, forest.feature_importances_, align='center')\n",
        "plt.yticks(index, AD_tr.columns,fontsize=7)\n",
        "plt.ylim(-1, n_feature)\n",
        "plt.xlabel('feature importance', size=15)\n",
        "plt.ylabel('feature', size=15)\n",
        "plt.show()"
      ],
      "execution_count": 0,
      "outputs": [
        {
          "output_type": "display_data",
          "data": {
            "image/png": "[encoded data removed]",
            "text/plain": [
              "<Figure size 360x720 with 1 Axes>"
            ]
          },
          "metadata": {
            "tags": []
          }
        }
      ]
    },
    {
      "cell_type": "markdown",
      "metadata": {
        "id": "Akuc478icf-N",
        "colab_type": "text"
      },
      "source": [
        "analyze best model, their error"
      ]
    },
    {
      "cell_type": "code",
      "metadata": {
        "id": "qGTkG8RAcxFy",
        "colab_type": "code",
        "colab": {}
      },
      "source": [
        "final_model = MultiOutputRegressor(grid_search.best_estimator_)\n",
        "\n",
        "X_test = AD_tr.copy()\n",
        "Y_test =AD_label_reg.copy()\n",
        "\n",
        "X_test_prepared = pipeline.transform(X_test)\n",
        "final_model.fit(X_test_prepared,Y_test)\n",
        "final_predictions = final_model.predict(X_test_prepared)\n",
        "\n",
        "final_mse = mean_squared_error(Y_test,final_predictions)\n",
        "final_rmse = np.sqrt(final_mse)"
      ],
      "execution_count": 0,
      "outputs": []
    },
    {
      "cell_type": "code",
      "metadata": {
        "id": "sLiUyZ6WgmGx",
        "colab_type": "code",
        "outputId": "f9b1bf8a-9173-4d70-99b6-c6c9a700f5c2",
        "colab": {
          "base_uri": "https://localhost:8080/",
          "height": 35
        }
      },
      "source": [
        "final_rmse"
      ],
      "execution_count": 0,
      "outputs": [
        {
          "output_type": "execute_result",
          "data": {
            "text/plain": [
              "1.9546441622016666"
            ]
          },
          "metadata": {
            "tags": []
          },
          "execution_count": 188
        }
      ]
    },
    {
      "cell_type": "code",
      "metadata": {
        "id": "lU5s0TbfmKcn",
        "colab_type": "code",
        "colab": {}
      },
      "source": [
        ""
      ],
      "execution_count": 0,
      "outputs": []
    },
    {
      "cell_type": "markdown",
      "metadata": {
        "id": "qUrtWEqhbB9O",
        "colab_type": "text"
      },
      "source": [
        "# y각각(mmse, adas13)"
      ]
    },
    {
      "cell_type": "code",
      "metadata": {
        "id": "g6oHJR3Kk1Vr",
        "colab_type": "code",
        "colab": {}
      },
      "source": [
        "from sklearn.model_selection import cross_val_score\n",
        "def display_scores(scores):\n",
        "    print(\"Scores:\", scores)\n",
        "    print(\"Mean:\", scores.mean())\n",
        "    print(\"Standard deviation:\", scores.std())"
      ],
      "execution_count": 0,
      "outputs": []
    },
    {
      "cell_type": "markdown",
      "metadata": {
        "colab_type": "text",
        "id": "ElY9z-hNi3KU"
      },
      "source": [
        "imputer\n",
        "---\n"
      ]
    },
    {
      "cell_type": "code",
      "metadata": {
        "colab_type": "code",
        "id": "ZX1EBGWii3KW",
        "colab": {}
      },
      "source": [
        "#빈 데이터 median으로 채워넣음\n",
        "from sklearn.impute import SimpleImputer\n",
        "imputer = SimpleImputer(strategy=\"median\")"
      ],
      "execution_count": 0,
      "outputs": []
    },
    {
      "cell_type": "code",
      "metadata": {
        "colab_type": "code",
        "id": "2UubSyxti3KY",
        "colab": {}
      },
      "source": [
        "mmse_x = imputer.fit_transform(y_mmse)\n",
        "ada_x = imputer.fit_transform(y_ada)"
      ],
      "execution_count": 0,
      "outputs": []
    },
    {
      "cell_type": "code",
      "metadata": {
        "colab_type": "code",
        "id": "lzq6PFl-i3Kb",
        "colab": {}
      },
      "source": [
        "y_mmse = pd.DataFrame(mmse_x, columns=y_mmse.columns,\n",
        "                             index=y_mmse.index)\n",
        "y_ada = pd.DataFrame(ada_x, columns=y_ada.columns,\n",
        "                             index=y_ada.index)"
      ],
      "execution_count": 0,
      "outputs": []
    },
    {
      "cell_type": "markdown",
      "metadata": {
        "id": "JmrfjSkXbGZZ",
        "colab_type": "text"
      },
      "source": [
        "1) linear\n",
        "---"
      ]
    },
    {
      "cell_type": "code",
      "metadata": {
        "id": "fGPUKFGqfEp2",
        "colab_type": "code",
        "outputId": "cf5a9c3f-f899-40c1-9a5a-d06316641a8b",
        "colab": {
          "base_uri": "https://localhost:8080/",
          "height": 55
        }
      },
      "source": [
        "from sklearn.linear_model import LinearRegression\n",
        "\n",
        "lin_reg = LinearRegression()\n",
        "lin_reg.fit(X,y_mmse)"
      ],
      "execution_count": 0,
      "outputs": [
        {
          "output_type": "execute_result",
          "data": {
            "text/plain": [
              "LinearRegression(copy_X=True, fit_intercept=True, n_jobs=None, normalize=False)"
            ]
          },
          "metadata": {
            "tags": []
          },
          "execution_count": 55
        }
      ]
    },
    {
      "cell_type": "code",
      "metadata": {
        "id": "PE-L_LxrfwbJ",
        "colab_type": "code",
        "outputId": "f79d72a2-8d4b-4f0c-d4df-6e3caabff3e5",
        "colab": {
          "base_uri": "https://localhost:8080/",
          "height": 35
        }
      },
      "source": [
        "from sklearn.metrics import mean_squared_error\n",
        "\n",
        "mmse_prediction = lin_reg.predict(X)\n",
        "lin_mse = mean_squared_error(y_mmse, mmse_prediction)\n",
        "lin_rmse = np.sqrt(lin_mse)\n",
        "lin_rmse"
      ],
      "execution_count": 0,
      "outputs": [
        {
          "output_type": "execute_result",
          "data": {
            "text/plain": [
              "2.036718587405978"
            ]
          },
          "metadata": {
            "tags": []
          },
          "execution_count": 56
        }
      ]
    },
    {
      "cell_type": "code",
      "metadata": {
        "colab_type": "code",
        "outputId": "f8b90a7d-1179-487c-bee5-c675dd7e38e7",
        "id": "d7nKgss7gT6j",
        "colab": {
          "base_uri": "https://localhost:8080/",
          "height": 55
        }
      },
      "source": [
        "lin_reg.fit(X,y_ada)"
      ],
      "execution_count": 0,
      "outputs": [
        {
          "output_type": "execute_result",
          "data": {
            "text/plain": [
              "LinearRegression(copy_X=True, fit_intercept=True, n_jobs=None, normalize=False)"
            ]
          },
          "metadata": {
            "tags": []
          },
          "execution_count": 57
        }
      ]
    },
    {
      "cell_type": "code",
      "metadata": {
        "colab_type": "code",
        "outputId": "8d527156-b131-450a-bc75-d6fb74987f5a",
        "id": "rjprt5z7gXqX",
        "colab": {
          "base_uri": "https://localhost:8080/",
          "height": 35
        }
      },
      "source": [
        "from sklearn.metrics import mean_squared_error\n",
        "\n",
        "adas_prediction = lin_reg.predict(X)\n",
        "lin_mse = mean_squared_error(y_ada, adas_prediction)\n",
        "lin_rmse = np.sqrt(lin_mse)\n",
        "lin_rmse"
      ],
      "execution_count": 0,
      "outputs": [
        {
          "output_type": "execute_result",
          "data": {
            "text/plain": [
              "6.771554088251528"
            ]
          },
          "metadata": {
            "tags": []
          },
          "execution_count": 58
        }
      ]
    },
    {
      "cell_type": "code",
      "metadata": {
        "id": "GZ0hIHcHhiNR",
        "colab_type": "code",
        "colab": {}
      },
      "source": [
        "AD_reg_prediction = DataFrame({\"MMSE\":mmse_prediction.T[0],\n",
        "                               \"ADAS13\":adas_prediction.T[0]})"
      ],
      "execution_count": 0,
      "outputs": []
    },
    {
      "cell_type": "code",
      "metadata": {
        "id": "6QQUo7zKjKkH",
        "colab_type": "code",
        "outputId": "a2746926-993f-4d3c-8ad2-705b15c15c17",
        "colab": {
          "base_uri": "https://localhost:8080/",
          "height": 411
        }
      },
      "source": [
        "AD_reg_prediction"
      ],
      "execution_count": 0,
      "outputs": [
        {
          "output_type": "execute_result",
          "data": {
            "text/html": [
              "<div>\n",
              "<style scoped>\n",
              "    .dataframe tbody tr th:only-of-type {\n",
              "        vertical-align: middle;\n",
              "    }\n",
              "\n",
              "    .dataframe tbody tr th {\n",
              "        vertical-align: top;\n",
              "    }\n",
              "\n",
              "    .dataframe thead th {\n",
              "        text-align: right;\n",
              "    }\n",
              "</style>\n",
              "<table border=\"1\" class=\"dataframe\">\n",
              "  <thead>\n",
              "    <tr style=\"text-align: right;\">\n",
              "      <th></th>\n",
              "      <th>MMSE</th>\n",
              "      <th>ADAS13</th>\n",
              "    </tr>\n",
              "  </thead>\n",
              "  <tbody>\n",
              "    <tr>\n",
              "      <th>0</th>\n",
              "      <td>29.577616</td>\n",
              "      <td>9.385777</td>\n",
              "    </tr>\n",
              "    <tr>\n",
              "      <th>1</th>\n",
              "      <td>28.170619</td>\n",
              "      <td>13.783046</td>\n",
              "    </tr>\n",
              "    <tr>\n",
              "      <th>2</th>\n",
              "      <td>26.762885</td>\n",
              "      <td>16.109400</td>\n",
              "    </tr>\n",
              "    <tr>\n",
              "      <th>3</th>\n",
              "      <td>25.844132</td>\n",
              "      <td>23.064042</td>\n",
              "    </tr>\n",
              "    <tr>\n",
              "      <th>4</th>\n",
              "      <td>25.235556</td>\n",
              "      <td>22.213718</td>\n",
              "    </tr>\n",
              "    <tr>\n",
              "      <th>...</th>\n",
              "      <td>...</td>\n",
              "      <td>...</td>\n",
              "    </tr>\n",
              "    <tr>\n",
              "      <th>1358</th>\n",
              "      <td>28.888751</td>\n",
              "      <td>12.133141</td>\n",
              "    </tr>\n",
              "    <tr>\n",
              "      <th>1359</th>\n",
              "      <td>26.272136</td>\n",
              "      <td>22.398804</td>\n",
              "    </tr>\n",
              "    <tr>\n",
              "      <th>1360</th>\n",
              "      <td>25.740012</td>\n",
              "      <td>21.011946</td>\n",
              "    </tr>\n",
              "    <tr>\n",
              "      <th>1361</th>\n",
              "      <td>26.805612</td>\n",
              "      <td>16.727585</td>\n",
              "    </tr>\n",
              "    <tr>\n",
              "      <th>1362</th>\n",
              "      <td>28.394663</td>\n",
              "      <td>13.627002</td>\n",
              "    </tr>\n",
              "  </tbody>\n",
              "</table>\n",
              "<p>1363 rows × 2 columns</p>\n",
              "</div>"
            ],
            "text/plain": [
              "           MMSE     ADAS13\n",
              "0     29.577616   9.385777\n",
              "1     28.170619  13.783046\n",
              "2     26.762885  16.109400\n",
              "3     25.844132  23.064042\n",
              "4     25.235556  22.213718\n",
              "...         ...        ...\n",
              "1358  28.888751  12.133141\n",
              "1359  26.272136  22.398804\n",
              "1360  25.740012  21.011946\n",
              "1361  26.805612  16.727585\n",
              "1362  28.394663  13.627002\n",
              "\n",
              "[1363 rows x 2 columns]"
            ]
          },
          "metadata": {
            "tags": []
          },
          "execution_count": 60
        }
      ]
    },
    {
      "cell_type": "markdown",
      "metadata": {
        "id": "Wg2Aqs1ZktVt",
        "colab_type": "text"
      },
      "source": [
        "train loss"
      ]
    },
    {
      "cell_type": "code",
      "metadata": {
        "id": "_ONh7pYyjPML",
        "colab_type": "code",
        "outputId": "4b9d28d7-63cc-4fb1-f62e-0bd053b296e8",
        "colab": {
          "base_uri": "https://localhost:8080/",
          "height": 35
        }
      },
      "source": [
        "total_lin_mse = mean_squared_error(y, AD_reg_prediction)\n",
        "total_lin_rmse = np.sqrt(total_lin_mse)\n",
        "total_lin_rmse"
      ],
      "execution_count": 0,
      "outputs": [
        {
          "output_type": "execute_result",
          "data": {
            "text/plain": [
              "5.000108367545697"
            ]
          },
          "metadata": {
            "tags": []
          },
          "execution_count": 61
        }
      ]
    },
    {
      "cell_type": "markdown",
      "metadata": {
        "id": "7p0dFrBFkuob",
        "colab_type": "text"
      },
      "source": [
        "validation loss"
      ]
    },
    {
      "cell_type": "code",
      "metadata": {
        "id": "IC5tykrIkv4b",
        "colab_type": "code",
        "outputId": "7de59e48-457b-47d9-f994-06e74e7a000c",
        "colab": {
          "base_uri": "https://localhost:8080/",
          "height": 70
        }
      },
      "source": [
        "scores = cross_val_score(lin_reg,X,y_mmse,\n",
        "                         scoring=\"neg_mean_squared_error\",cv=5)\n",
        "scores += cross_val_score(lin_reg,X,y_ada,\n",
        "                         scoring=\"neg_mean_squared_error\",cv=5)\n",
        "total_lin_scores = np.sqrt(-scores)\n",
        "display_scores(total_lin_scores)"
      ],
      "execution_count": 0,
      "outputs": [
        {
          "output_type": "stream",
          "text": [
            "Scores: [7.56375176 7.9630438  7.35232765 7.32493043 7.28961088]\n",
            "Mean: 7.49873290371284\n",
            "Standard deviation: 0.25107205204119204\n"
          ],
          "name": "stdout"
        }
      ]
    },
    {
      "cell_type": "code",
      "metadata": {
        "id": "MKw265KMkxk7",
        "colab_type": "code",
        "colab": {}
      },
      "source": [
        ""
      ],
      "execution_count": 0,
      "outputs": []
    },
    {
      "cell_type": "markdown",
      "metadata": {
        "id": "oMSjLe7mbt9u",
        "colab_type": "text"
      },
      "source": [
        "이런식으로 해보기 - 위에처럼 근데 따로따로 맞는 모델 찾아서 각각 맞게 regression한 후 합치고, 왜 y를 한꺼번에 해서 multioutput이 아니라 따로한건지 이유설명하기"
      ]
    },
    {
      "cell_type": "markdown",
      "metadata": {
        "id": "4YYU7t8MkXRd",
        "colab_type": "text"
      },
      "source": [
        "# classification"
      ]
    },
    {
      "cell_type": "code",
      "metadata": {
        "id": "BW5XVAAyL6IN",
        "colab_type": "code",
        "colab": {}
      },
      "source": [
        "from sklearn.pipeline import Pipeline\n",
        "from sklearn.preprocessing import PolynomialFeatures\n",
        "from sklearn.model_selection import cross_val_predict\n",
        "from sklearn.model_selection import cross_val_score\n",
        "\n",
        "from sklearn.svm import LinearSVC\n",
        "from sklearn.svm import SVC\n",
        "from sklearn.multiclass import OneVsRestClassifier\n",
        "from sklearn.multiclass import OneVsOneClassifier\n",
        "from sklearn.ensemble import RandomForestClassifier\n",
        "from sklearn.feature_selection import SelectFromModel"
      ],
      "execution_count": 0,
      "outputs": []
    },
    {
      "cell_type": "code",
      "metadata": {
        "id": "EvcX6tLikf_j",
        "colab_type": "code",
        "outputId": "3ba33027-e115-442f-e533-d61247e49d95",
        "colab": {
          "base_uri": "https://localhost:8080/",
          "height": 35
        }
      },
      "source": [
        "X = pipeline.fit_transform(AD_tr)\n",
        "y_cls = AD_label_class\n",
        "y_cls = y_cls.values.T[0]\n",
        "y_cls"
      ],
      "execution_count": 0,
      "outputs": [
        {
          "output_type": "execute_result",
          "data": {
            "text/plain": [
              "array([1, 2, 1, ..., 3, 3, 2])"
            ]
          },
          "metadata": {
            "tags": []
          },
          "execution_count": 35
        }
      ]
    },
    {
      "cell_type": "markdown",
      "metadata": {
        "id": "ovsOuB-8pfhz",
        "colab_type": "text"
      },
      "source": [
        "multiclass classification - bad\n",
        "---\n",
        "\n",
        "* randomforest를 일반적으로 많이 사용한다고 함\n",
        "* 이거 이후에 각각에 대해서 binary classification해볼 것임\n"
      ]
    },
    {
      "cell_type": "code",
      "metadata": {
        "id": "vW1a3Dl9pj1V",
        "colab_type": "code",
        "colab": {}
      },
      "source": [
        "from sklearn.pipeline import Pipeline\n",
        "from sklearn.impute import SimpleImputer\n",
        "from sklearn.preprocessing import RobustScaler\n",
        "\n",
        "robust_pipeline = Pipeline([\n",
        "                    ('imputer',SimpleImputer(strategy=\"median\")),\n",
        "                    ('rb_scaler',RobustScaler()),     \n",
        "])\n",
        "\n",
        "X_robust = robust_pipeline.fit_transform(AD_tr)\n",
        "X = X_robust"
      ],
      "execution_count": 0,
      "outputs": []
    },
    {
      "cell_type": "code",
      "metadata": {
        "id": "GoLfx0DGoCjB",
        "colab_type": "code",
        "colab": {}
      },
      "source": [
        "X_plus = train_data.drop(\"DXCHANGE\",axis=1)\n",
        "X_plus = robust_pipeline.fit_transform(X_plus)"
      ],
      "execution_count": 0,
      "outputs": []
    },
    {
      "cell_type": "code",
      "metadata": {
        "id": "Vapu7IBOnLJM",
        "colab_type": "code",
        "colab": {}
      },
      "source": [
        "X= X_plus"
      ],
      "execution_count": 0,
      "outputs": []
    },
    {
      "cell_type": "code",
      "metadata": {
        "id": "b9ZwqISV1Uu1",
        "colab_type": "code",
        "outputId": "0aab867b-15b7-4dad-f7ab-febb42d1fd1e",
        "colab": {
          "base_uri": "https://localhost:8080/",
          "height": 72
        }
      },
      "source": [
        "lin_svm_clf = LinearSVC(C=0.1, loss=\"hinge\", random_state=42).fit(X,y_cls)\n",
        "lin_svm_clf_prediction = lin_svm_clf.predict(X)"
      ],
      "execution_count": 0,
      "outputs": [
        {
          "output_type": "stream",
          "text": [
            "/usr/local/lib/python3.6/dist-packages/sklearn/svm/base.py:929: ConvergenceWarning: Liblinear failed to converge, increase the number of iterations.\n",
            "  \"the number of iterations.\", ConvergenceWarning)\n"
          ],
          "name": "stderr"
        }
      ]
    },
    {
      "cell_type": "code",
      "metadata": {
        "id": "ai1qmJgFoGE8",
        "colab_type": "code",
        "colab": {}
      },
      "source": [
        "svm_clf = SVC(gamma=\"auto\", random_state=42)\n",
        "svm_clf.fit(X, y_cls)\n",
        "svm_clf_prediction = svm_clf.predict(X)"
      ],
      "execution_count": 0,
      "outputs": []
    },
    {
      "cell_type": "code",
      "metadata": {
        "id": "cbV22PGV03Hb",
        "colab_type": "code",
        "colab": {}
      },
      "source": [
        "forest_clf = RandomForestClassifier(n_estimators=1000, criterion='entropy', random_state=42)\n",
        "forest_clf.fit(X,y_cls)\n",
        "forest_clf_prediction = forest_clf.predict(X)"
      ],
      "execution_count": 0,
      "outputs": []
    },
    {
      "cell_type": "markdown",
      "metadata": {
        "id": "i_izbHqUPssO",
        "colab_type": "text"
      },
      "source": [
        "poly_svm"
      ]
    },
    {
      "cell_type": "code",
      "metadata": {
        "id": "qZtgrxeuL0tQ",
        "colab_type": "code",
        "outputId": "59da66ec-3981-4967-f558-14bbb39063dc",
        "colab": {
          "base_uri": "https://localhost:8080/",
          "height": 90
        }
      },
      "source": [
        "polynomial_svm_clf = Pipeline([\n",
        "        (\"poly_features\", PolynomialFeatures(degree=2)),\n",
        "        (\"scaler\", StandardScaler()),\n",
        "        (\"svm_clf\", LinearSVC(C=10, loss=\"hinge\", random_state=42))\n",
        "    ])\n",
        "\n",
        "polynomial_svm_clf.fit(X, y_cls)\n",
        "#polynomial_svm_clf_prediction = polynomial_svm_clf.predict(X)\n",
        "#polynomial_svm_clf_prediction"
      ],
      "execution_count": 0,
      "outputs": [
        {
          "output_type": "stream",
          "text": [
            "/usr/local/lib/python3.6/dist-packages/sklearn/svm/base.py:929: ConvergenceWarning: Liblinear failed to converge, increase the number of iterations.\n",
            "  \"the number of iterations.\", ConvergenceWarning)\n"
          ],
          "name": "stderr"
        },
        {
          "output_type": "execute_result",
          "data": {
            "text/plain": [
              "array([1, 2, 1, ..., 3, 3, 2])"
            ]
          },
          "metadata": {
            "tags": []
          },
          "execution_count": 119
        }
      ]
    },
    {
      "cell_type": "code",
      "metadata": {
        "id": "yL-gWXBArZ_0",
        "colab_type": "code",
        "outputId": "892f436d-09fe-41f0-f716-a3c976b523ae",
        "colab": {
          "base_uri": "https://localhost:8080/",
          "height": 72
        }
      },
      "source": [
        "poly_svm_clf = SVC(kernel=\"poly\",degree = 2, random_state=42).fit(X, y_cls)\n",
        "rbf_svm_clf = SVC(kernel=\"rbf\",gamma=\"auto\", random_state=42).fit(X, y_cls)\n",
        "sig_svm_clf = SVC(kernel=\"sigmoid\",gamma=\"auto\", random_state=42).fit(X, y_cls)"
      ],
      "execution_count": 0,
      "outputs": [
        {
          "output_type": "stream",
          "text": [
            "/usr/local/lib/python3.6/dist-packages/sklearn/svm/base.py:193: FutureWarning: The default value of gamma will change from 'auto' to 'scale' in version 0.22 to account better for unscaled features. Set gamma explicitly to 'auto' or 'scale' to avoid this warning.\n",
            "  \"avoid this warning.\", FutureWarning)\n"
          ],
          "name": "stderr"
        }
      ]
    },
    {
      "cell_type": "markdown",
      "metadata": {
        "id": "fKbtWfgA1EI9",
        "colab_type": "text"
      },
      "source": [
        "ovr,ovc"
      ]
    },
    {
      "cell_type": "code",
      "metadata": {
        "id": "H228vL-SScNp",
        "colab_type": "code",
        "colab": {}
      },
      "source": [
        "ovr_svm_clf = OneVsRestClassifier(SVC(gamma=\"auto\", random_state=42))\n",
        "ovr_svm_clf.fit(X, y_cls)\n",
        "ovr_svm_clf_prediction = ovr_svm_clf.predict(X)"
      ],
      "execution_count": 0,
      "outputs": []
    },
    {
      "cell_type": "code",
      "metadata": {
        "id": "cs6hE2cXrOhQ",
        "colab_type": "code",
        "colab": {}
      },
      "source": [
        "ovc_svm_clf = OneVsOneClassifier(SVC(gamma=\"auto\", random_state=42))\n",
        "ovc_svm_clf.fit(X, y_cls)\n",
        "ovc_svm_clf_prediction = ovc_svm_clf.predict(X)"
      ],
      "execution_count": 0,
      "outputs": []
    },
    {
      "cell_type": "code",
      "metadata": {
        "id": "kTUrU6svI5cB",
        "colab_type": "code",
        "colab": {}
      },
      "source": [
        "ovr_rf_clf = OneVsRestClassifier(RandomForestClassifier(n_estimators=100,random_state=42))\n",
        "ovr_rf_clf.fit(X, y_cls)\n",
        "ovr_rf_clf_prediction = ovr_rf_clf.predict(X)"
      ],
      "execution_count": 0,
      "outputs": []
    },
    {
      "cell_type": "code",
      "metadata": {
        "id": "NUQM21EuJqr2",
        "colab_type": "code",
        "colab": {}
      },
      "source": [
        "ovc_rf_clf = OneVsOneClassifier(RandomForestClassifier(n_estimators=100,random_state=42))\n",
        "ovc_rf_clf.fit(X, y_cls)\n",
        "ovc_rf_clf_prediction = ovc_rf_clf.predict(X)"
      ],
      "execution_count": 0,
      "outputs": []
    },
    {
      "cell_type": "markdown",
      "metadata": {
        "id": "a9-zLdmjs-5y",
        "colab_type": "text"
      },
      "source": [
        "multiclass classification - 모델의 accuracy\n",
        "---\n",
        "1.cross_val_score"
      ]
    },
    {
      "cell_type": "markdown",
      "metadata": {
        "id": "tu3BYtGs1t8X",
        "colab_type": "text"
      },
      "source": [
        "set up"
      ]
    },
    {
      "cell_type": "code",
      "metadata": {
        "id": "RhWDUMjm1DB4",
        "colab_type": "code",
        "colab": {}
      },
      "source": [
        "from sklearn.model_selection import cross_val_score\n",
        "from sklearn.metrics import confusion_matrix"
      ],
      "execution_count": 0,
      "outputs": []
    },
    {
      "cell_type": "code",
      "metadata": {
        "id": "AIUolZFG1p6m",
        "colab_type": "code",
        "colab": {}
      },
      "source": [
        "def plot_confusion_matrix(matrix):\n",
        "    fig = plt.figure(figsize=(3,3))\n",
        "    ax = fig.add_subplot(111)\n",
        "    cax = ax.matshow(matrix)\n",
        "    fig.colorbar(cax)"
      ],
      "execution_count": 0,
      "outputs": []
    },
    {
      "cell_type": "markdown",
      "metadata": {
        "id": "5405ZIkO2l8M",
        "colab_type": "text"
      },
      "source": [
        "linear svm"
      ]
    },
    {
      "cell_type": "code",
      "metadata": {
        "id": "4L9bgusq2nNR",
        "colab_type": "code",
        "outputId": "be15c66e-3509-4e54-bbae-15da35ab5e21",
        "colab": {
          "base_uri": "https://localhost:8080/",
          "height": 161
        }
      },
      "source": [
        "cross_val_score(lin_svm_clf, X, y_cls, cv=3, scoring=\"accuracy\").mean()"
      ],
      "execution_count": 0,
      "outputs": [
        {
          "output_type": "stream",
          "text": [
            "/usr/local/lib/python3.6/dist-packages/sklearn/svm/base.py:929: ConvergenceWarning: Liblinear failed to converge, increase the number of iterations.\n",
            "  \"the number of iterations.\", ConvergenceWarning)\n",
            "/usr/local/lib/python3.6/dist-packages/sklearn/svm/base.py:929: ConvergenceWarning: Liblinear failed to converge, increase the number of iterations.\n",
            "  \"the number of iterations.\", ConvergenceWarning)\n",
            "/usr/local/lib/python3.6/dist-packages/sklearn/svm/base.py:929: ConvergenceWarning: Liblinear failed to converge, increase the number of iterations.\n",
            "  \"the number of iterations.\", ConvergenceWarning)\n"
          ],
          "name": "stderr"
        },
        {
          "output_type": "execute_result",
          "data": {
            "text/plain": [
              "0.6449296104925244"
            ]
          },
          "metadata": {
            "tags": []
          },
          "execution_count": 126
        }
      ]
    },
    {
      "cell_type": "markdown",
      "metadata": {
        "id": "nyZmR9Nw1vmD",
        "colab_type": "text"
      },
      "source": [
        "svm - 50퍼정도/bad"
      ]
    },
    {
      "cell_type": "code",
      "metadata": {
        "id": "WKvNuV2tsoM3",
        "colab_type": "code",
        "outputId": "eec78da3-d88e-4f65-c1aa-e4a5aa79bd26",
        "colab": {
          "base_uri": "https://localhost:8080/",
          "height": 35
        }
      },
      "source": [
        "cross_val_score(svm_clf, X, y_cls, cv=3, scoring=\"accuracy\").mean()"
      ],
      "execution_count": 0,
      "outputs": [
        {
          "output_type": "execute_result",
          "data": {
            "text/plain": [
              "0.6999199476020669"
            ]
          },
          "metadata": {
            "tags": []
          },
          "execution_count": 127
        }
      ]
    },
    {
      "cell_type": "code",
      "metadata": {
        "id": "sYEW4PJA2e5H",
        "colab_type": "code",
        "outputId": "21aeb57e-9db7-4a64-e007-baf08b8b3e76",
        "colab": {
          "base_uri": "https://localhost:8080/",
          "height": 70
        }
      },
      "source": [
        "y_svm_pred = cross_val_predict(svm_clf, X, y_cls, cv=3)\n",
        "svm_conf_mx = confusion_matrix(y_cls, y_svm_pred)\n",
        "svm_conf_mx"
      ],
      "execution_count": 0,
      "outputs": [
        {
          "output_type": "execute_result",
          "data": {
            "text/plain": [
              "array([[242, 168,   0],\n",
              "       [120, 540,  32],\n",
              "       [  0,  89, 172]])"
            ]
          },
          "metadata": {
            "tags": []
          },
          "execution_count": 128
        }
      ]
    },
    {
      "cell_type": "code",
      "metadata": {
        "id": "0fNzdnnP2pLI",
        "colab_type": "code",
        "outputId": "e5823498-3dc6-4944-90ed-5fd5e4f7474d",
        "colab": {
          "base_uri": "https://localhost:8080/",
          "height": 275
        }
      },
      "source": [
        "plt.matshow(svm_conf_mx, cmap=plt.cm.gray)\n",
        "plt.show()"
      ],
      "execution_count": 0,
      "outputs": [
        {
          "output_type": "display_data",
          "data": {
            "image/png": "[encoded data removed]",
            "text/plain": [
              "<Figure size 288x288 with 1 Axes>"
            ]
          },
          "metadata": {
            "tags": []
          }
        }
      ]
    },
    {
      "cell_type": "markdown",
      "metadata": {
        "id": "FDEVGt0K1wiw",
        "colab_type": "text"
      },
      "source": [
        "random forest- svm보다는 낫지만 그래도 bad"
      ]
    },
    {
      "cell_type": "code",
      "metadata": {
        "id": "-Ku5EgfmtBmc",
        "colab_type": "code",
        "outputId": "015c8aab-f69e-416b-fd40-18be7756e522",
        "colab": {
          "base_uri": "https://localhost:8080/",
          "height": 35
        }
      },
      "source": [
        "cross_val_score(forest_clf, X, y_cls, cv=3, scoring=\"accuracy\").mean()"
      ],
      "execution_count": 0,
      "outputs": [
        {
          "output_type": "execute_result",
          "data": {
            "text/plain": [
              "0.7072459549280742"
            ]
          },
          "metadata": {
            "tags": []
          },
          "execution_count": 130
        }
      ]
    },
    {
      "cell_type": "code",
      "metadata": {
        "id": "Dw_vYvwy0BUm",
        "colab_type": "code",
        "outputId": "bb8d00fd-f522-4a86-fd6c-af220391f9c3",
        "colab": {
          "base_uri": "https://localhost:8080/",
          "height": 70
        }
      },
      "source": [
        "y_forest_pred = cross_val_predict(forest_clf, X, y_cls, cv=3)\n",
        "forest_conf_mx = confusion_matrix(y_cls, y_forest_pred)\n",
        "forest_conf_mx"
      ],
      "execution_count": 0,
      "outputs": [
        {
          "output_type": "execute_result",
          "data": {
            "text/plain": [
              "array([[239, 171,   0],\n",
              "       [103, 560,  29],\n",
              "       [  0,  96, 165]])"
            ]
          },
          "metadata": {
            "tags": []
          },
          "execution_count": 131
        }
      ]
    },
    {
      "cell_type": "code",
      "metadata": {
        "id": "HKE2ZuHw14xs",
        "colab_type": "code",
        "outputId": "a36b7f50-174b-4d48-80d1-9c377c3e618c",
        "colab": {
          "base_uri": "https://localhost:8080/",
          "height": 275
        }
      },
      "source": [
        "plt.matshow(forest_conf_mx, cmap=plt.cm.gray)\n",
        "plt.show()"
      ],
      "execution_count": 0,
      "outputs": [
        {
          "output_type": "display_data",
          "data": {
            "image/png": "[encoded data removed]",
            "text/plain": [
              "<Figure size 288x288 with 1 Axes>"
            ]
          },
          "metadata": {
            "tags": []
          }
        }
      ]
    },
    {
      "cell_type": "markdown",
      "metadata": {
        "id": "bRfZQ4RvMx9j",
        "colab_type": "text"
      },
      "source": [
        "polynomial svm"
      ]
    },
    {
      "cell_type": "code",
      "metadata": {
        "id": "ClVBQ7bVMxR3",
        "colab_type": "code",
        "outputId": "953b11b0-fd4e-4382-f072-67abf56f18a9",
        "colab": {
          "base_uri": "https://localhost:8080/",
          "height": 126
        }
      },
      "source": [
        "cross_val_score(polynomial_svm_clf, X, y_cls, cv=3, scoring=\"accuracy\").mean()"
      ],
      "execution_count": 0,
      "outputs": [
        {
          "output_type": "stream",
          "text": [
            "/usr/local/lib/python3.6/dist-packages/sklearn/svm/base.py:929: ConvergenceWarning: Liblinear failed to converge, increase the number of iterations.\n",
            "  \"the number of iterations.\", ConvergenceWarning)\n",
            "/usr/local/lib/python3.6/dist-packages/sklearn/svm/base.py:929: ConvergenceWarning: Liblinear failed to converge, increase the number of iterations.\n",
            "  \"the number of iterations.\", ConvergenceWarning)\n"
          ],
          "name": "stderr"
        },
        {
          "output_type": "execute_result",
          "data": {
            "text/plain": [
              "0.6236453759632568"
            ]
          },
          "metadata": {
            "tags": []
          },
          "execution_count": 133
        }
      ]
    },
    {
      "cell_type": "code",
      "metadata": {
        "id": "rtfTXCkDtlHs",
        "colab_type": "code",
        "outputId": "3c143d02-0c7d-43ed-9ecb-37543e110d50",
        "colab": {
          "base_uri": "https://localhost:8080/",
          "height": 197
        }
      },
      "source": [
        "print(cross_val_score(poly_svm_clf, X, y_cls, cv=3, scoring=\"accuracy\").mean())\n",
        "print(cross_val_score(rbf_svm_clf, X, y_cls, cv=3, scoring=\"accuracy\").mean())\n",
        "print(cross_val_score(sig_svm_clf, X, y_cls, cv=3, scoring=\"accuracy\").mean())"
      ],
      "execution_count": 0,
      "outputs": [
        {
          "output_type": "stream",
          "text": [
            "/usr/local/lib/python3.6/dist-packages/sklearn/svm/base.py:193: FutureWarning: The default value of gamma will change from 'auto' to 'scale' in version 0.22 to account better for unscaled features. Set gamma explicitly to 'auto' or 'scale' to avoid this warning.\n",
            "  \"avoid this warning.\", FutureWarning)\n",
            "/usr/local/lib/python3.6/dist-packages/sklearn/svm/base.py:193: FutureWarning: The default value of gamma will change from 'auto' to 'scale' in version 0.22 to account better for unscaled features. Set gamma explicitly to 'auto' or 'scale' to avoid this warning.\n",
            "  \"avoid this warning.\", FutureWarning)\n",
            "/usr/local/lib/python3.6/dist-packages/sklearn/svm/base.py:193: FutureWarning: The default value of gamma will change from 'auto' to 'scale' in version 0.22 to account better for unscaled features. Set gamma explicitly to 'auto' or 'scale' to avoid this warning.\n",
            "  \"avoid this warning.\", FutureWarning)\n"
          ],
          "name": "stderr"
        },
        {
          "output_type": "stream",
          "text": [
            "0.5825324050489612\n",
            "0.6999199476020669\n",
            "0.551747002078128\n"
          ],
          "name": "stdout"
        }
      ]
    },
    {
      "cell_type": "markdown",
      "metadata": {
        "id": "qvlNeHNjpeCI",
        "colab_type": "text"
      },
      "source": [
        "ovr"
      ]
    },
    {
      "cell_type": "code",
      "metadata": {
        "id": "MOPhcUehpffh",
        "colab_type": "code",
        "outputId": "4b863e68-9b10-403b-94ec-607d6fb153aa",
        "colab": {
          "base_uri": "https://localhost:8080/",
          "height": 35
        }
      },
      "source": [
        "cross_val_score(ovr_svm_clf, X, y_cls, cv=3, scoring=\"accuracy\").mean()"
      ],
      "execution_count": 0,
      "outputs": [
        {
          "output_type": "execute_result",
          "data": {
            "text/plain": [
              "0.6757085445827168"
            ]
          },
          "metadata": {
            "tags": []
          },
          "execution_count": 134
        }
      ]
    },
    {
      "cell_type": "code",
      "metadata": {
        "id": "5jvpTluHrdf-",
        "colab_type": "code",
        "outputId": "0c622b8f-40ca-4bac-bf7e-0b43ec8543f0",
        "colab": {
          "base_uri": "https://localhost:8080/",
          "height": 35
        }
      },
      "source": [
        "cross_val_score(ovc_svm_clf, X, y_cls, cv=3, scoring=\"accuracy\").mean()"
      ],
      "execution_count": 0,
      "outputs": [
        {
          "output_type": "execute_result",
          "data": {
            "text/plain": [
              "0.6999199476020669"
            ]
          },
          "metadata": {
            "tags": []
          },
          "execution_count": 135
        }
      ]
    },
    {
      "cell_type": "code",
      "metadata": {
        "id": "KmdsHJ2jJZOX",
        "colab_type": "code",
        "outputId": "d9533707-8f76-49da-bdd2-551e4c808f97",
        "colab": {
          "base_uri": "https://localhost:8080/",
          "height": 35
        }
      },
      "source": [
        "cross_val_score(ovr_rf_clf, X, y_cls, cv=3, scoring=\"accuracy\").mean()"
      ],
      "execution_count": 0,
      "outputs": [
        {
          "output_type": "execute_result",
          "data": {
            "text/plain": [
              "0.7109057241507571"
            ]
          },
          "metadata": {
            "tags": []
          },
          "execution_count": 136
        }
      ]
    },
    {
      "cell_type": "code",
      "metadata": {
        "id": "TGmgXMQ_J-Q5",
        "colab_type": "code",
        "outputId": "d00edc85-64ab-4899-ce89-4faacfcd7981",
        "colab": {
          "base_uri": "https://localhost:8080/",
          "height": 35
        }
      },
      "source": [
        "cross_val_score(ovc_rf_clf, X, y_cls, cv=3, scoring=\"accuracy\").mean()"
      ],
      "execution_count": 0,
      "outputs": [
        {
          "output_type": "execute_result",
          "data": {
            "text/plain": [
              "0.7226596802755744"
            ]
          },
          "metadata": {
            "tags": []
          },
          "execution_count": 137
        }
      ]
    },
    {
      "cell_type": "markdown",
      "metadata": {
        "id": "oZtNqEK63o8A",
        "colab_type": "text"
      },
      "source": [
        "softmax regression - multinomial logistic regression\n",
        "---"
      ]
    },
    {
      "cell_type": "code",
      "metadata": {
        "id": "JbKuqTcH32Co",
        "colab_type": "code",
        "colab": {}
      },
      "source": [
        "from sklearn.linear_model import LogisticRegression"
      ],
      "execution_count": 0,
      "outputs": []
    },
    {
      "cell_type": "code",
      "metadata": {
        "id": "UPS3hf8E4U-b",
        "colab_type": "code",
        "outputId": "c1e40e27-c4be-4d6b-c13d-7122c5f0bc1d",
        "colab": {
          "base_uri": "https://localhost:8080/",
          "height": 106
        }
      },
      "source": [
        "softmax_reg = LogisticRegression(multi_class=\"multinomial\",\n",
        "                                 solver=\"lbfgs\", C=0.1, random_state=42)\n",
        "#C값이 regularization 강도 결정\n",
        "# C 낮을수록 계수를 0으로 근사-regularization강화됨\n",
        "\n",
        "softmax_reg.fit(X, y_cls)"
      ],
      "execution_count": 0,
      "outputs": [
        {
          "output_type": "execute_result",
          "data": {
            "text/plain": [
              "LogisticRegression(C=0.1, class_weight=None, dual=False, fit_intercept=True,\n",
              "                   intercept_scaling=1, l1_ratio=None, max_iter=100,\n",
              "                   multi_class='multinomial', n_jobs=None, penalty='l2',\n",
              "                   random_state=42, solver='lbfgs', tol=0.0001, verbose=0,\n",
              "                   warm_start=False)"
            ]
          },
          "metadata": {
            "tags": []
          },
          "execution_count": 157
        }
      ]
    },
    {
      "cell_type": "code",
      "metadata": {
        "id": "2Y8JdgLj5dx-",
        "colab_type": "code",
        "outputId": "a8ab378c-cbd7-47d6-b713-f6965e0e2385",
        "colab": {
          "base_uri": "https://localhost:8080/",
          "height": 35
        }
      },
      "source": [
        "softmax_pred = softmax_reg.predict(X)\n",
        "softmax_pred"
      ],
      "execution_count": 0,
      "outputs": [
        {
          "output_type": "execute_result",
          "data": {
            "text/plain": [
              "array([2, 2, 2, ..., 2, 3, 1])"
            ]
          },
          "metadata": {
            "tags": []
          },
          "execution_count": 158
        }
      ]
    },
    {
      "cell_type": "code",
      "metadata": {
        "id": "UU7bzculsxcc",
        "colab_type": "code",
        "outputId": "19488831-963f-479c-b284-08d370aaf07a",
        "colab": {
          "base_uri": "https://localhost:8080/",
          "height": 35
        }
      },
      "source": [
        "cross_val_score(softmax_reg, X, y_cls, cv=3, scoring=\"accuracy\").mean()"
      ],
      "execution_count": 0,
      "outputs": [
        {
          "output_type": "execute_result",
          "data": {
            "text/plain": [
              "0.7050837315737978"
            ]
          },
          "metadata": {
            "tags": []
          },
          "execution_count": 159
        }
      ]
    },
    {
      "cell_type": "markdown",
      "metadata": {
        "id": "KUGlRswV26D5",
        "colab_type": "text"
      },
      "source": [
        "binary classifier\n",
        "---"
      ]
    },
    {
      "cell_type": "code",
      "metadata": {
        "id": "3jPl_sC65g0n",
        "colab_type": "code",
        "colab": {}
      },
      "source": [
        "from sklearn.linear_model import SGDClassifier\n",
        "\n",
        "from sklearn.model_selection import cross_val_score\n",
        "\n",
        "from sklearn.model_selection import cross_val_predict\n",
        "from sklearn.metrics import confusion_matrix\n",
        "from sklearn.metrics import precision_score, recall_score\n",
        "from sklearn.metrics import f1_score\n",
        "\n",
        "from sklearn.metrics import precision_recall_curve\n",
        "from sklearn.metrics import roc_auc_score\n",
        "from sklearn.metrics import roc_curve"
      ],
      "execution_count": 0,
      "outputs": []
    },
    {
      "cell_type": "markdown",
      "metadata": {
        "id": "ZUGmorw05K_1",
        "colab_type": "text"
      },
      "source": [
        "class 1 classifier"
      ]
    },
    {
      "cell_type": "code",
      "metadata": {
        "id": "b75soAWj3RMF",
        "colab_type": "code",
        "colab": {}
      },
      "source": [
        "y_cls_1 = (y_cls == 1)\n",
        "\n",
        "sgd1_clf = SGDClassifier(max_iter=1000,tol=1e-3, random_state=42)\n",
        "lin_svm1_clf = LinearSVC(C=0.01,loss=\"hinge\", random_state=42)\n",
        "poly_svm1_clf = SVC(kernel=\"poly\",degree=3,gamma=\"auto\",coef0=0.1,C=0.18, random_state=42)\n",
        "rbf_svm1_clf = SVC(kernel=\"rbf\",gamma=\"auto\",C=1.3, random_state=42)\n",
        "sig_svm1_clf = SVC(kernel=\"sigmoid\",gamma=\"auto\", random_state=42)\n",
        "rf1_clf = RandomForestClassifier(n_estimators=100, criterion='entropy', random_state=42)\n",
        "\n",
        "cls1_clf = rf1_clf\n",
        "cls1_clf = cls1_clf.fit(X, y_cls_1)"
      ],
      "execution_count": 0,
      "outputs": []
    },
    {
      "cell_type": "code",
      "metadata": {
        "id": "Mo4OElhx6tFm",
        "colab_type": "code",
        "outputId": "e4cf69dc-c00a-4919-cb23-8403db66c5ca",
        "colab": {
          "base_uri": "https://localhost:8080/",
          "height": 35
        }
      },
      "source": [
        "cross_val_score(cls1_clf, X, y_cls_1, cv=3, scoring=\"accuracy\").mean()"
      ],
      "execution_count": 0,
      "outputs": [
        {
          "output_type": "execute_result",
          "data": {
            "text/plain": [
              "0.7981951823011425"
            ]
          },
          "metadata": {
            "tags": []
          },
          "execution_count": 162
        }
      ]
    },
    {
      "cell_type": "code",
      "metadata": {
        "id": "wvSC5SkyLcvt",
        "colab_type": "code",
        "outputId": "f50f30ab-caac-4cae-ba0e-92b00631d955",
        "colab": {
          "base_uri": "https://localhost:8080/",
          "height": 52
        }
      },
      "source": [
        "y_cls_1_pred = cross_val_predict(cls1_clf, X, y_cls_1, cv=3)\n",
        "confusion_matrix(y_cls_1,y_cls_1_pred)"
      ],
      "execution_count": 0,
      "outputs": [
        {
          "output_type": "execute_result",
          "data": {
            "text/plain": [
              "array([[863,  90],\n",
              "       [185, 225]])"
            ]
          },
          "metadata": {
            "tags": []
          },
          "execution_count": 163
        }
      ]
    },
    {
      "cell_type": "code",
      "metadata": {
        "id": "Ce_AinQHMtf1",
        "colab_type": "code",
        "outputId": "80fac771-b26a-44c3-9921-040ca724e3d6",
        "colab": {
          "base_uri": "https://localhost:8080/",
          "height": 35
        }
      },
      "source": [
        "precision_score(y_cls_1,y_cls_1_pred)"
      ],
      "execution_count": 0,
      "outputs": [
        {
          "output_type": "execute_result",
          "data": {
            "text/plain": [
              "0.7142857142857143"
            ]
          },
          "metadata": {
            "tags": []
          },
          "execution_count": 164
        }
      ]
    },
    {
      "cell_type": "code",
      "metadata": {
        "id": "2At8ua6fM3kA",
        "colab_type": "code",
        "outputId": "09cdc747-ccca-4929-9676-884de8dee0b2",
        "colab": {
          "base_uri": "https://localhost:8080/",
          "height": 35
        }
      },
      "source": [
        "recall_score(y_cls_1,y_cls_1_pred)"
      ],
      "execution_count": 0,
      "outputs": [
        {
          "output_type": "execute_result",
          "data": {
            "text/plain": [
              "0.5487804878048781"
            ]
          },
          "metadata": {
            "tags": []
          },
          "execution_count": 165
        }
      ]
    },
    {
      "cell_type": "code",
      "metadata": {
        "id": "J6UAiEATNLRh",
        "colab_type": "code",
        "outputId": "8b89515d-7bbc-46df-9a47-01cb8e3c15fc",
        "colab": {
          "base_uri": "https://localhost:8080/",
          "height": 35
        }
      },
      "source": [
        "f1_score(y_cls_1,y_cls_1_pred)"
      ],
      "execution_count": 0,
      "outputs": [
        {
          "output_type": "execute_result",
          "data": {
            "text/plain": [
              "0.6206896551724138"
            ]
          },
          "metadata": {
            "tags": []
          },
          "execution_count": 166
        }
      ]
    },
    {
      "cell_type": "code",
      "metadata": {
        "id": "5y2oKzvBNWHt",
        "colab_type": "code",
        "outputId": "91597a55-022c-4740-e20c-411deb41de62",
        "colab": {
          "base_uri": "https://localhost:8080/",
          "height": 35
        }
      },
      "source": [
        "y_probas = cross_val_predict(rf1_clf, X, y_cls_1, cv=3\n",
        "                             ,method=\"predict_proba\")\n",
        "y_scores_forest = y_probas[:,1]\n",
        "y_scores_forest"
      ],
      "execution_count": 0,
      "outputs": [
        {
          "output_type": "execute_result",
          "data": {
            "text/plain": [
              "array([0.54, 0.44, 0.26, ..., 0.07, 0.07, 0.48])"
            ]
          },
          "metadata": {
            "tags": []
          },
          "execution_count": 167
        }
      ]
    },
    {
      "cell_type": "code",
      "metadata": {
        "id": "sgwgM4eKpVoL",
        "colab_type": "code",
        "colab": {}
      },
      "source": [
        "rbf_svm1_clf.fit(X,y_cls_1)\n",
        "y_scores_rbf = cross_val_predict(rbf_svm1_clf, X, y_cls_1, cv=3\n",
        "                             ,method=\"decision_function\")"
      ],
      "execution_count": 0,
      "outputs": []
    },
    {
      "cell_type": "code",
      "metadata": {
        "id": "jKc_XJObf4Cn",
        "colab_type": "code",
        "colab": {}
      },
      "source": [
        "precisions, recalls, thresholds = precision_recall_curve(y_cls_1, y_scores_rbf)"
      ],
      "execution_count": 0,
      "outputs": []
    },
    {
      "cell_type": "code",
      "metadata": {
        "id": "eWHP99thgL6g",
        "colab_type": "code",
        "outputId": "aaef5bf9-064d-4ff2-bb77-53338e200284",
        "colab": {
          "base_uri": "https://localhost:8080/",
          "height": 288
        }
      },
      "source": [
        "def plot_precision_recall_vs_threshold(precisions, recalls, thresholds):\n",
        "    plt.plot(thresholds, precisions[:-1], \"b--\", label=\"Precision\", linewidth=2)\n",
        "    plt.plot(thresholds, recalls[:-1], \"g-\", label=\"Recall\", linewidth=2)\n",
        "    plt.legend(loc=\"center right\", fontsize=16) \n",
        "    plt.xlabel(\"Threshold\", fontsize=16)        \n",
        "    plt.grid(True)                              \n",
        "    plt.axis([-2, 2, 0, 1])             \n",
        "plt.figure(figsize=(8, 4))                     \n",
        "plot_precision_recall_vs_threshold(precisions, recalls, thresholds)\n",
        "\n",
        "plt.show()"
      ],
      "execution_count": 0,
      "outputs": [
        {
          "output_type": "display_data",
          "data": {
            "image/png": "[encoded data removed]",
            "text/plain": [
              "<Figure size 576x288 with 1 Axes>"
            ]
          },
          "metadata": {
            "tags": []
          }
        }
      ]
    },
    {
      "cell_type": "code",
      "metadata": {
        "id": "Al3A_2vJkFyH",
        "colab_type": "code",
        "outputId": "65245680-c6ea-4e3c-9c1b-a4fa895095f6",
        "colab": {
          "base_uri": "https://localhost:8080/",
          "height": 35
        }
      },
      "source": [
        "threshold = thresholds[np.argmax(abs(precisions - recalls) <0.01)]\n",
        "threshold"
      ],
      "execution_count": 0,
      "outputs": [
        {
          "output_type": "execute_result",
          "data": {
            "text/plain": [
              "-0.07958409169386749"
            ]
          },
          "metadata": {
            "tags": []
          },
          "execution_count": 171
        }
      ]
    },
    {
      "cell_type": "code",
      "metadata": {
        "id": "cvso0Qn5hqNs",
        "colab_type": "code",
        "outputId": "3228f418-c47a-415c-8242-3376b332fafc",
        "colab": {
          "base_uri": "https://localhost:8080/",
          "height": 397
        }
      },
      "source": [
        "def plot_precision_vs_recall(precisions, recalls):\n",
        "    plt.plot(recalls, precisions, \"b-\", linewidth=2)\n",
        "    plt.xlabel(\"Recall\", fontsize=16)\n",
        "    plt.ylabel(\"Precision\", fontsize=16)\n",
        "    plt.axis([0, 1, 0, 1])\n",
        "    plt.grid(True)\n",
        "\n",
        "plt.figure(figsize=(8, 6))\n",
        "plot_precision_vs_recall(precisions, recalls)\n",
        "#plt.plot( [0.3,0.3],[0., 0.9], \"r:\")\n",
        "plt.show()"
      ],
      "execution_count": 0,
      "outputs": [
        {
          "output_type": "display_data",
          "data": {
            "image/png": "[encoded data removed]",
            "text/plain": [
              "<Figure size 576x432 with 1 Axes>"
            ]
          },
          "metadata": {
            "tags": []
          }
        }
      ]
    },
    {
      "cell_type": "code",
      "metadata": {
        "id": "DJgEEhoujo0R",
        "colab_type": "code",
        "colab": {}
      },
      "source": [
        "fpr, tpr, thresholds = roc_curve(y_cls_1, y_scores_rbf)"
      ],
      "execution_count": 0,
      "outputs": []
    },
    {
      "cell_type": "code",
      "metadata": {
        "id": "-zmOhzXgnQAU",
        "colab_type": "code",
        "outputId": "0755bded-e825-45d4-f4bf-9e5c610bf60b",
        "colab": {
          "base_uri": "https://localhost:8080/",
          "height": 397
        }
      },
      "source": [
        "def plot_roc_curve(fpr, tpr, label=None):\n",
        "    plt.plot(fpr, tpr, linewidth=2, label=label)\n",
        "    plt.plot([0, 1], [0, 1], 'k--') # dashed diagonal\n",
        "    plt.axis([0, 1, 0, 1])                                    # Not shown in the book\n",
        "    plt.xlabel('False Positive Rate (Fall-Out)', fontsize=16) # Not shown\n",
        "    plt.ylabel('True Positive Rate (Recall)', fontsize=16)    # Not shown\n",
        "    plt.grid(True)                                            # Not shown\n",
        "\n",
        "plt.figure(figsize=(8, 6))                         # Not shown\n",
        "plot_roc_curve(fpr, tpr)\n",
        "plt.show()"
      ],
      "execution_count": 0,
      "outputs": [
        {
          "output_type": "display_data",
          "data": {
            "image/png": "[encoded data removed]",
            "text/plain": [
              "<Figure size 576x432 with 1 Axes>"
            ]
          },
          "metadata": {
            "tags": []
          }
        }
      ]
    },
    {
      "cell_type": "code",
      "metadata": {
        "id": "YUTtU6qRnp6l",
        "colab_type": "code",
        "outputId": "512aca1c-503d-4712-822e-8d8cac36b0aa",
        "colab": {
          "base_uri": "https://localhost:8080/",
          "height": 35
        }
      },
      "source": [
        "roc_auc_score(y_cls_1, y_scores_forest)"
      ],
      "execution_count": 0,
      "outputs": [
        {
          "output_type": "execute_result",
          "data": {
            "text/plain": [
              "0.8821180866583062"
            ]
          },
          "metadata": {
            "tags": []
          },
          "execution_count": 175
        }
      ]
    },
    {
      "cell_type": "code",
      "metadata": {
        "id": "kHJkho0_pxjy",
        "colab_type": "code",
        "outputId": "b4f1800e-1f0a-4366-d074-e22fc851f3aa",
        "colab": {
          "base_uri": "https://localhost:8080/",
          "height": 35
        }
      },
      "source": [
        "roc_auc_score(y_cls_1, y_scores_rbf)"
      ],
      "execution_count": 0,
      "outputs": [
        {
          "output_type": "execute_result",
          "data": {
            "text/plain": [
              "0.8711232820617818"
            ]
          },
          "metadata": {
            "tags": []
          },
          "execution_count": 176
        }
      ]
    },
    {
      "cell_type": "markdown",
      "metadata": {
        "id": "jV-U1WTU5BOK",
        "colab_type": "text"
      },
      "source": [
        "다시 생각해보니, 나는 AD로 판단하는게 나은지 정상이라고 판단하는게 나을지 모르니깐 tradeoff를 생각할 게 아니라 각각의 class라고 판단했을 때 실제 그 class일 accuracy에 집중을 해야한다. "
      ]
    },
    {
      "cell_type": "markdown",
      "metadata": {
        "colab_type": "text",
        "id": "5K_cARiwQLUp"
      },
      "source": [
        "random forest로 important feature찾고, 다시 rf, ovc에 적용\n",
        "---"
      ]
    },
    {
      "cell_type": "code",
      "metadata": {
        "colab_type": "code",
        "id": "4eF5xctPQLUr",
        "colab": {}
      },
      "source": [
        "forest_clf = RandomForestClassifier(n_estimators=1000, criterion='entropy', random_state=42)\n",
        "forest_clf.fit(X,y_cls)\n",
        "forest_clf_prediction = forest_clf.predict(X)"
      ],
      "execution_count": 0,
      "outputs": []
    },
    {
      "cell_type": "code",
      "metadata": {
        "id": "seCs9i174nmt",
        "colab_type": "code",
        "outputId": "5e7f45b6-a8e9-4ff7-af50-7e48d02f6c93",
        "colab": {
          "base_uri": "https://localhost:8080/",
          "height": 35
        }
      },
      "source": [
        "cross_val_score(forest_clf, X, y_cls, cv=3, scoring=\"accuracy\").mean()"
      ],
      "execution_count": 0,
      "outputs": [
        {
          "output_type": "execute_result",
          "data": {
            "text/plain": [
              "0.7072459549280742"
            ]
          },
          "metadata": {
            "tags": []
          },
          "execution_count": 178
        }
      ]
    },
    {
      "cell_type": "code",
      "metadata": {
        "id": "-kEaGyhL5Kbr",
        "colab_type": "code",
        "colab": {}
      },
      "source": [
        "from sklearn.model_selection import GridSearchCV"
      ],
      "execution_count": 0,
      "outputs": []
    },
    {
      "cell_type": "code",
      "metadata": {
        "id": "nOp9LuG45N8i",
        "colab_type": "code",
        "outputId": "2ea99522-d35c-4bdd-a705-af133c28f550",
        "colab": {
          "base_uri": "https://localhost:8080/",
          "height": 106
        }
      },
      "source": [
        "param_grid = {\n",
        "    'max_features' : ['auto'], # 'sqrt','log2'\n",
        "    'max_depth' : [15], # 10,20,30,40,50,60,70, 14,16\n",
        "    'criterion' : ['entropy'], #'gini'\n",
        "    'min_samples_split' : [3], #2,10  4,5\n",
        "    'bootstrap' : [False] #True\n",
        "}\n",
        "\n",
        "GS_rfc = GridSearchCV(forest_clf,param_grid,\n",
        "                      cv=3, scoring = \"accuracy\")\n",
        "GS_rfc.fit(X,y_cls)\n",
        "GS_rfc.best_params_"
      ],
      "execution_count": 0,
      "outputs": [
        {
          "output_type": "execute_result",
          "data": {
            "text/plain": [
              "{'bootstrap': False,\n",
              " 'criterion': 'entropy',\n",
              " 'max_depth': 15,\n",
              " 'max_features': 'auto',\n",
              " 'min_samples_split': 3}"
            ]
          },
          "metadata": {
            "tags": []
          },
          "execution_count": 180
        }
      ]
    },
    {
      "cell_type": "code",
      "metadata": {
        "id": "x2nETJe4ZYdy",
        "colab_type": "code",
        "colab": {}
      },
      "source": [
        "forest_clf = GS_rfc.best_estimator_"
      ],
      "execution_count": 0,
      "outputs": []
    },
    {
      "cell_type": "code",
      "metadata": {
        "id": "WaVq6bVyZmcZ",
        "colab_type": "code",
        "outputId": "bf9c517d-8bcb-4375-d531-80f16ec96037",
        "colab": {
          "base_uri": "https://localhost:8080/",
          "height": 35
        }
      },
      "source": [
        "GS_rfc.best_score_"
      ],
      "execution_count": 0,
      "outputs": [
        {
          "output_type": "execute_result",
          "data": {
            "text/plain": [
              "0.7241379310344828"
            ]
          },
          "metadata": {
            "tags": []
          },
          "execution_count": 182
        }
      ]
    },
    {
      "cell_type": "code",
      "metadata": {
        "colab_type": "code",
        "outputId": "ede563bc-ec32-44bd-88f3-8327f883ce1c",
        "id": "6r6TK8b_QLUt",
        "colab": {
          "base_uri": "https://localhost:8080/",
          "height": 386
        }
      },
      "source": [
        "feat_importances = pd.Series(forest_clf.feature_importances_, \n",
        "                             index=AD_tr.columns)\n",
        "feat_importances.nlargest(10).plot(kind='barh')\n",
        "#feat_importances.plot(kind='barh')\n",
        "plt.show()"
      ],
      "execution_count": 0,
      "outputs": [
        {
          "output_type": "error",
          "ename": "ValueError",
          "evalue": "ignored",
          "traceback": [
            "\u001b[0;31m---------------------------------------------------------------------------\u001b[0m",
            "\u001b[0;31mValueError\u001b[0m                                Traceback (most recent call last)",
            "\u001b[0;32m<ipython-input-183-b7e9475b92c5>\u001b[0m in \u001b[0;36m<module>\u001b[0;34m()\u001b[0m\n\u001b[1;32m      1\u001b[0m feat_importances = pd.Series(forest_clf.feature_importances_, \n\u001b[0;32m----> 2\u001b[0;31m                              index=AD_tr.columns)\n\u001b[0m\u001b[1;32m      3\u001b[0m \u001b[0mfeat_importances\u001b[0m\u001b[0;34m.\u001b[0m\u001b[0mnlargest\u001b[0m\u001b[0;34m(\u001b[0m\u001b[0;36m10\u001b[0m\u001b[0;34m)\u001b[0m\u001b[0;34m.\u001b[0m\u001b[0mplot\u001b[0m\u001b[0;34m(\u001b[0m\u001b[0mkind\u001b[0m\u001b[0;34m=\u001b[0m\u001b[0;34m'barh'\u001b[0m\u001b[0;34m)\u001b[0m\u001b[0;34m\u001b[0m\u001b[0;34m\u001b[0m\u001b[0m\n\u001b[1;32m      4\u001b[0m \u001b[0;31m#feat_importances.plot(kind='barh')\u001b[0m\u001b[0;34m\u001b[0m\u001b[0;34m\u001b[0m\u001b[0;34m\u001b[0m\u001b[0m\n\u001b[1;32m      5\u001b[0m \u001b[0mplt\u001b[0m\u001b[0;34m.\u001b[0m\u001b[0mshow\u001b[0m\u001b[0;34m(\u001b[0m\u001b[0;34m)\u001b[0m\u001b[0;34m\u001b[0m\u001b[0;34m\u001b[0m\u001b[0m\n",
            "\u001b[0;32m/usr/local/lib/python3.6/dist-packages/pandas/core/series.py\u001b[0m in \u001b[0;36m__init__\u001b[0;34m(self, data, index, dtype, name, copy, fastpath)\u001b[0m\n\u001b[1;32m    300\u001b[0m                         raise ValueError(\n\u001b[1;32m    301\u001b[0m                             \u001b[0;34m\"Length of passed values is {val}, \"\u001b[0m\u001b[0;34m\u001b[0m\u001b[0;34m\u001b[0m\u001b[0m\n\u001b[0;32m--> 302\u001b[0;31m                             \u001b[0;34m\"index implies {ind}\"\u001b[0m\u001b[0;34m.\u001b[0m\u001b[0mformat\u001b[0m\u001b[0;34m(\u001b[0m\u001b[0mval\u001b[0m\u001b[0;34m=\u001b[0m\u001b[0mlen\u001b[0m\u001b[0;34m(\u001b[0m\u001b[0mdata\u001b[0m\u001b[0;34m)\u001b[0m\u001b[0;34m,\u001b[0m \u001b[0mind\u001b[0m\u001b[0;34m=\u001b[0m\u001b[0mlen\u001b[0m\u001b[0;34m(\u001b[0m\u001b[0mindex\u001b[0m\u001b[0;34m)\u001b[0m\u001b[0;34m)\u001b[0m\u001b[0;34m\u001b[0m\u001b[0;34m\u001b[0m\u001b[0m\n\u001b[0m\u001b[1;32m    303\u001b[0m                         )\n\u001b[1;32m    304\u001b[0m                 \u001b[0;32mexcept\u001b[0m \u001b[0mTypeError\u001b[0m\u001b[0;34m:\u001b[0m\u001b[0;34m\u001b[0m\u001b[0;34m\u001b[0m\u001b[0m\n",
            "\u001b[0;31mValueError\u001b[0m: Length of passed values is 73, index implies 71"
          ]
        }
      ]
    },
    {
      "cell_type": "code",
      "metadata": {
        "colab_type": "code",
        "outputId": "719005a0-55ba-44d3-901d-876f76978c88",
        "id": "EBOgUQslQLUw",
        "colab": {
          "base_uri": "https://localhost:8080/",
          "height": 284
        }
      },
      "source": [
        "forest_clf.feature_importances_"
      ],
      "execution_count": 0,
      "outputs": [
        {
          "output_type": "execute_result",
          "data": {
            "text/plain": [
              "array([0.03282414, 0.01178233, 0.01578318, 0.01085754, 0.01013847,\n",
              "       0.01171511, 0.0099077 , 0.00994037, 0.01034577, 0.01056504,\n",
              "       0.01010386, 0.01207335, 0.01033113, 0.00954516, 0.00941717,\n",
              "       0.01353336, 0.01010571, 0.0195898 , 0.01302499, 0.01062936,\n",
              "       0.01192322, 0.01180127, 0.01534307, 0.01233055, 0.01196578,\n",
              "       0.01037157, 0.05361692, 0.0122281 , 0.02059722, 0.0171842 ,\n",
              "       0.0279254 , 0.01501914, 0.01247977, 0.0108491 , 0.00973957,\n",
              "       0.010268  , 0.03268057, 0.01193613, 0.01732759, 0.01203847,\n",
              "       0.01024926, 0.01080969, 0.01035652, 0.0107361 , 0.01061566,\n",
              "       0.01097919, 0.01089992, 0.01082188, 0.01112077, 0.00947721,\n",
              "       0.01105996, 0.01524824, 0.01088504, 0.01314756, 0.01145556,\n",
              "       0.01246485, 0.01320806, 0.01070619, 0.01151698, 0.01113611,\n",
              "       0.04548989, 0.01199086, 0.01713144, 0.0120784 , 0.02265999,\n",
              "       0.01162043, 0.01133265, 0.01061965, 0.01064839, 0.00993819,\n",
              "       0.01975616])"
            ]
          },
          "metadata": {
            "tags": []
          },
          "execution_count": 50
        }
      ]
    },
    {
      "cell_type": "code",
      "metadata": {
        "colab_type": "code",
        "outputId": "936ed37c-9219-42dd-a9e6-8c9458d6d47b",
        "id": "Eb00T8jHQLUy",
        "colab": {
          "base_uri": "https://localhost:8080/",
          "height": 321
        }
      },
      "source": [
        "from sklearn.feature_selection import SelectFromModel\n",
        "sfm_clf = SelectFromModel(forest_clf,threshold = 0.01) #이것보다 큰 것들만 참고\n",
        "#sfm_clf= SelectFromModel(forest_clf)\n",
        "sfm_clf.fit(X,y_cls)"
      ],
      "execution_count": 0,
      "outputs": [
        {
          "output_type": "execute_result",
          "data": {
            "text/plain": [
              "SelectFromModel(estimator=RandomForestClassifier(bootstrap=False,\n",
              "                                                 class_weight=None,\n",
              "                                                 criterion='entropy',\n",
              "                                                 max_depth=15,\n",
              "                                                 max_features='auto',\n",
              "                                                 max_leaf_nodes=None,\n",
              "                                                 min_impurity_decrease=0.0,\n",
              "                                                 min_impurity_split=None,\n",
              "                                                 min_samples_leaf=1,\n",
              "                                                 min_samples_split=3,\n",
              "                                                 min_weight_fraction_leaf=0.0,\n",
              "                                                 n_estimators=1000, n_jobs=None,\n",
              "                                                 oob_score=False,\n",
              "                                                 random_state=42, verbose=0,\n",
              "                                                 warm_start=False),\n",
              "                max_features=None, norm_order=1, prefit=False, threshold=0.01)"
            ]
          },
          "metadata": {
            "tags": []
          },
          "execution_count": 51
        }
      ]
    },
    {
      "cell_type": "code",
      "metadata": {
        "colab_type": "code",
        "id": "__sIKCZ_QLU0",
        "colab": {}
      },
      "source": [
        "X_important = sfm_clf.transform(X)"
      ],
      "execution_count": 0,
      "outputs": []
    },
    {
      "cell_type": "code",
      "metadata": {
        "colab_type": "code",
        "outputId": "0573b802-293d-42cb-d451-cccde5ebbd94",
        "id": "0BALbMi1QLU2",
        "colab": {
          "base_uri": "https://localhost:8080/",
          "height": 161
        }
      },
      "source": [
        "important_rf_clf = RandomForestClassifier(n_estimators=1000, random_state=42)\n",
        "important_rf_clf.fit(X_important,y_cls)"
      ],
      "execution_count": 0,
      "outputs": [
        {
          "output_type": "execute_result",
          "data": {
            "text/plain": [
              "RandomForestClassifier(bootstrap=True, class_weight=None, criterion='gini',\n",
              "                       max_depth=None, max_features='auto', max_leaf_nodes=None,\n",
              "                       min_impurity_decrease=0.0, min_impurity_split=None,\n",
              "                       min_samples_leaf=1, min_samples_split=2,\n",
              "                       min_weight_fraction_leaf=0.0, n_estimators=1000,\n",
              "                       n_jobs=None, oob_score=False, random_state=42, verbose=0,\n",
              "                       warm_start=False)"
            ]
          },
          "metadata": {
            "tags": []
          },
          "execution_count": 223
        }
      ]
    },
    {
      "cell_type": "code",
      "metadata": {
        "colab_type": "code",
        "outputId": "45bf2837-b814-4366-9261-e3175023ec35",
        "id": "FeD_d5wxQLU4",
        "colab": {
          "base_uri": "https://localhost:8080/",
          "height": 35
        }
      },
      "source": [
        "important_rf_clf_prediction = important_rf_clf.predict(X_important)\n",
        "important_rf_clf_prediction"
      ],
      "execution_count": 0,
      "outputs": [
        {
          "output_type": "execute_result",
          "data": {
            "text/plain": [
              "array([1, 2, 1, ..., 3, 3, 2])"
            ]
          },
          "metadata": {
            "tags": []
          },
          "execution_count": 224
        }
      ]
    },
    {
      "cell_type": "code",
      "metadata": {
        "colab_type": "code",
        "outputId": "9e2817da-4337-405b-aedc-0474b7f4b141",
        "id": "sLdwTEnAQLU6",
        "colab": {
          "base_uri": "https://localhost:8080/",
          "height": 35
        }
      },
      "source": [
        "cross_val_score(important_rf_clf, X, y_cls, cv=3, scoring=\"accuracy\").mean()"
      ],
      "execution_count": 0,
      "outputs": [
        {
          "output_type": "execute_result",
          "data": {
            "text/plain": [
              "0.5700781925947488"
            ]
          },
          "metadata": {
            "tags": []
          },
          "execution_count": 225
        }
      ]
    },
    {
      "cell_type": "code",
      "metadata": {
        "colab_type": "code",
        "id": "QzUcbjPiQLU7",
        "outputId": "1dcaa537-97a0-4d56-8336-fcc78777ca88",
        "colab": {
          "base_uri": "https://localhost:8080/",
          "height": 339
        }
      },
      "source": [
        "important_ovc_rf_clf = OneVsOneClassifier(important_rf_clf)\n",
        "important_ovc_rf_clf.fit(X, y_cls)\n",
        "#important_ovc_rf_clf_prediction = ovc_rf_clf.predict(X_important)"
      ],
      "execution_count": 0,
      "outputs": [
        {
          "output_type": "execute_result",
          "data": {
            "text/plain": [
              "OneVsOneClassifier(estimator=RandomForestClassifier(bootstrap=True,\n",
              "                                                    class_weight=None,\n",
              "                                                    criterion='gini',\n",
              "                                                    max_depth=None,\n",
              "                                                    max_features='auto',\n",
              "                                                    max_leaf_nodes=None,\n",
              "                                                    min_impurity_decrease=0.0,\n",
              "                                                    min_impurity_split=None,\n",
              "                                                    min_samples_leaf=1,\n",
              "                                                    min_samples_split=2,\n",
              "                                                    min_weight_fraction_leaf=0.0,\n",
              "                                                    n_estimators=1000,\n",
              "                                                    n_jobs=None,\n",
              "                                                    oob_score=False,\n",
              "                                                    random_state=42, verbose=0,\n",
              "                                                    warm_start=False),\n",
              "                   n_jobs=None)"
            ]
          },
          "metadata": {
            "tags": []
          },
          "execution_count": 226
        }
      ]
    },
    {
      "cell_type": "code",
      "metadata": {
        "colab_type": "code",
        "outputId": "d95659cf-b4be-4a40-bbbe-0a8224ee2fb7",
        "id": "Jld5Iz4xQLU9",
        "colab": {
          "base_uri": "https://localhost:8080/",
          "height": 35
        }
      },
      "source": [
        "cross_val_score(important_ovc_rf_clf, X, y_cls, cv=3, scoring=\"accuracy\").mean()"
      ],
      "execution_count": 0,
      "outputs": [
        {
          "output_type": "execute_result",
          "data": {
            "text/plain": [
              "0.5737508995787142"
            ]
          },
          "metadata": {
            "tags": []
          },
          "execution_count": 227
        }
      ]
    },
    {
      "cell_type": "markdown",
      "metadata": {
        "id": "40foa__wb1hE",
        "colab_type": "text"
      },
      "source": [
        "더 떨어짐 모두 다 중요한 feature인 것 같고, outlier를? 없애야할듯"
      ]
    },
    {
      "cell_type": "markdown",
      "metadata": {
        "id": "0vFV2zmwQxYQ",
        "colab_type": "text"
      },
      "source": [
        "randomforest grid search\n",
        "---"
      ]
    },
    {
      "cell_type": "code",
      "metadata": {
        "id": "7Y0HMZmyS1TN",
        "colab_type": "code",
        "colab": {}
      },
      "source": [
        "from sklearn.model_selection import GridSearchCV"
      ],
      "execution_count": 0,
      "outputs": []
    },
    {
      "cell_type": "code",
      "metadata": {
        "id": "zOL3vRIyQz6A",
        "colab_type": "code",
        "outputId": "89bea319-2c0d-48e6-edef-a2ddc3adb11f",
        "colab": {
          "base_uri": "https://localhost:8080/",
          "height": 106
        }
      },
      "source": [
        "param_grid = {\n",
        "    'max_features' : ['log2'], # 'auto','sqrt',\n",
        "    'max_depth' : [15], # 14, 16\n",
        "    'criterion' : ['gini'], #'entropy'\n",
        "    'min_samples_split' : [2], #3, 10\n",
        "    'bootstrap' : [True] #False\n",
        "}\n",
        "\n",
        "GS_rfc = GridSearchCV(estimator=important_rf_clf,param_grid=param_grid,\n",
        "                      cv=3, scoring = \"accuracy\")\n",
        "GS_rfc.fit(X,y_cls)\n",
        "GS_rfc.best_params_"
      ],
      "execution_count": 0,
      "outputs": [
        {
          "output_type": "execute_result",
          "data": {
            "text/plain": [
              "{'bootstrap': True,\n",
              " 'criterion': 'gini',\n",
              " 'max_depth': 15,\n",
              " 'max_features': 'log2',\n",
              " 'min_samples_split': 2}"
            ]
          },
          "metadata": {
            "tags": []
          },
          "execution_count": 191
        }
      ]
    },
    {
      "cell_type": "code",
      "metadata": {
        "id": "lD3n5MtETnHp",
        "colab_type": "code",
        "colab": {}
      },
      "source": [
        "final_clf = GS_rfc.best_estimator_"
      ],
      "execution_count": 0,
      "outputs": []
    },
    {
      "cell_type": "code",
      "metadata": {
        "id": "L--smKVkT2Or",
        "colab_type": "code",
        "outputId": "2d33ad8e-cfb9-43b9-c7dc-a6d49aa2af91",
        "colab": {
          "base_uri": "https://localhost:8080/",
          "height": 35
        }
      },
      "source": [
        "GS_rfc.best_score_"
      ],
      "execution_count": 0,
      "outputs": [
        {
          "output_type": "execute_result",
          "data": {
            "text/plain": [
              "0.5766691122523845"
            ]
          },
          "metadata": {
            "tags": []
          },
          "execution_count": 193
        }
      ]
    },
    {
      "cell_type": "markdown",
      "metadata": {
        "id": "AghdV6dfcN8L",
        "colab_type": "text"
      },
      "source": [
        "KNN\n",
        "---"
      ]
    },
    {
      "cell_type": "code",
      "metadata": {
        "id": "bqCVfTakebeD",
        "colab_type": "code",
        "colab": {}
      },
      "source": [
        "from sklearn.model_selection import train_test_split\n",
        "\n",
        "X_train,X_test = train_test_split(X_plus,test_size=0.2,random_state= 42)\n",
        "y_cls_train,y_cls_test = train_test_split(y_cls,test_size=0.2,random_state= 42)"
      ],
      "execution_count": 0,
      "outputs": []
    },
    {
      "cell_type": "code",
      "metadata": {
        "id": "V2X01ua1cPSi",
        "colab_type": "code",
        "outputId": "0075eb1f-e363-40de-a5d9-93a280f99de7",
        "colab": {
          "base_uri": "https://localhost:8080/",
          "height": 70
        }
      },
      "source": [
        "from sklearn.neighbors import KNeighborsClassifier\n",
        "knn_grid_param = {\n",
        "    'n_neighbors' : [61] #100,110,등등해봄\n",
        "}\n",
        "#knn_clf = KNeighborsClassifier(weights='distance', n_neighbors=150)\n",
        "knn_clf = KNeighborsClassifier(weights = 'distance' )\n",
        "knn_clf =GridSearchCV(knn_clf,knn_grid_param,\n",
        "                      cv=5, scoring = \"accuracy\")\n",
        "knn_clf.fit(X_train, y_cls_train)\n",
        "knn_clf = knn_clf.best_estimator_\n",
        "knn_clf"
      ],
      "execution_count": 0,
      "outputs": [
        {
          "output_type": "execute_result",
          "data": {
            "text/plain": [
              "KNeighborsClassifier(algorithm='auto', leaf_size=30, metric='minkowski',\n",
              "                     metric_params=None, n_jobs=None, n_neighbors=61, p=2,\n",
              "                     weights='distance')"
            ]
          },
          "metadata": {
            "tags": []
          },
          "execution_count": 194
        }
      ]
    },
    {
      "cell_type": "code",
      "metadata": {
        "id": "9lhxwHY2hx-t",
        "colab_type": "code",
        "outputId": "496172aa-7902-4b93-d46b-32a5be7e232b",
        "colab": {
          "base_uri": "https://localhost:8080/",
          "height": 35
        }
      },
      "source": [
        "cross_val_score(knn_clf, X_train, y_cls_train, cv=5, scoring=\"accuracy\").mean()"
      ],
      "execution_count": 0,
      "outputs": [
        {
          "output_type": "execute_result",
          "data": {
            "text/plain": [
              "0.6027952857978762"
            ]
          },
          "metadata": {
            "tags": []
          },
          "execution_count": 195
        }
      ]
    },
    {
      "cell_type": "code",
      "metadata": {
        "id": "VFvc8yKWd7bb",
        "colab_type": "code",
        "colab": {}
      },
      "source": [
        "y_knn_pred = knn_clf.predict(X_test)"
      ],
      "execution_count": 0,
      "outputs": []
    },
    {
      "cell_type": "code",
      "metadata": {
        "id": "4LZ8f4XFd_Zr",
        "colab_type": "code",
        "outputId": "62ae05f1-2f3e-486e-83ec-4567044247d3",
        "colab": {
          "base_uri": "https://localhost:8080/",
          "height": 35
        }
      },
      "source": [
        "from sklearn.metrics import accuracy_score\n",
        "accuracy_score(y_cls_test, y_knn_pred)"
      ],
      "execution_count": 0,
      "outputs": [
        {
          "output_type": "execute_result",
          "data": {
            "text/plain": [
              "0.6043956043956044"
            ]
          },
          "metadata": {
            "tags": []
          },
          "execution_count": 197
        }
      ]
    },
    {
      "cell_type": "markdown",
      "metadata": {
        "id": "TVAO9aV8fkz3",
        "colab_type": "text"
      },
      "source": [
        "using keras - ANN classification -그냥 안함\n",
        "---"
      ]
    },
    {
      "cell_type": "code",
      "metadata": {
        "id": "5P7bLDmgfp1K",
        "colab_type": "code",
        "outputId": "27c258c3-c62f-4621-adb9-8c29f056bfb7",
        "colab": {
          "base_uri": "https://localhost:8080/",
          "height": 35
        }
      },
      "source": [
        "import sklearn\n",
        "assert sklearn.__version__ >= \"0.20\"\n",
        "\n",
        "try:\n",
        "    # %tensorflow_version only exists in Colab.\n",
        "    %tensorflow_version 2.x\n",
        "except Exception:\n",
        "    pass\n",
        "\n",
        "# TensorFlow ≥2.0 is required\n",
        "import tensorflow as tf\n",
        "from tensorflow import keras\n",
        "assert tf.__version__ >= \"2.0\"\n",
        "\n",
        "# Common imports\n",
        "import numpy as np\n",
        "import os"
      ],
      "execution_count": 0,
      "outputs": [
        {
          "output_type": "stream",
          "text": [
            "TensorFlow 2.x selected.\n"
          ],
          "name": "stdout"
        }
      ]
    },
    {
      "cell_type": "code",
      "metadata": {
        "id": "fsMfO5ZugiGC",
        "colab_type": "code",
        "colab": {}
      },
      "source": [
        "keras.backend.clear_session()\n",
        "np.random.seed(42)\n",
        "tf.random.set_seed(42)"
      ],
      "execution_count": 0,
      "outputs": []
    },
    {
      "cell_type": "code",
      "metadata": {
        "id": "c_G7X3Isgro3",
        "colab_type": "code",
        "outputId": "8b7575b2-f64f-4a87-c577-59c104607fa3",
        "colab": {
          "base_uri": "https://localhost:8080/",
          "height": 35
        }
      },
      "source": [
        "X.shape"
      ],
      "execution_count": 0,
      "outputs": [
        {
          "output_type": "execute_result",
          "data": {
            "text/plain": [
              "(1363, 71)"
            ]
          },
          "metadata": {
            "tags": []
          },
          "execution_count": 55
        }
      ]
    },
    {
      "cell_type": "code",
      "metadata": {
        "id": "l1i3E22dgjm_",
        "colab_type": "code",
        "colab": {}
      },
      "source": [
        "model = keras.models.Sequential([\n",
        "    keras.layers.Flatten(input_shape=[71]),\n",
        "    keras.layers.Dense(30, activation=\"relu\"),\n",
        "    #keras.layers.Dense(150, activation=\"relu\"),\n",
        "    keras.layers.Dense(3, activation=\"softmax\")\n",
        "])"
      ],
      "execution_count": 0,
      "outputs": []
    },
    {
      "cell_type": "code",
      "metadata": {
        "id": "xRLKEPtwh8B4",
        "colab_type": "code",
        "outputId": "159393b1-5221-4e84-e3a3-ad21d3174f2a",
        "colab": {
          "base_uri": "https://localhost:8080/",
          "height": 266
        }
      },
      "source": [
        "model.summary()"
      ],
      "execution_count": 0,
      "outputs": [
        {
          "output_type": "stream",
          "text": [
            "Model: \"sequential_4\"\n",
            "_________________________________________________________________\n",
            "Layer (type)                 Output Shape              Param #   \n",
            "=================================================================\n",
            "flatten_4 (Flatten)          (None, 5041)              0         \n",
            "_________________________________________________________________\n",
            "dense_9 (Dense)              (None, 30)                151260    \n",
            "_________________________________________________________________\n",
            "dense_10 (Dense)             (None, 3)                 93        \n",
            "=================================================================\n",
            "Total params: 151,353\n",
            "Trainable params: 151,353\n",
            "Non-trainable params: 0\n",
            "_________________________________________________________________\n"
          ],
          "name": "stdout"
        }
      ]
    },
    {
      "cell_type": "code",
      "metadata": {
        "id": "-sfwpJixiG6t",
        "colab_type": "code",
        "colab": {}
      },
      "source": [
        "model.compile(loss=\"sparse_categorical_crossentropy\",\n",
        "              optimizer=\"adam\",\n",
        "              metrics=[\"accuracy\"])"
      ],
      "execution_count": 0,
      "outputs": []
    },
    {
      "cell_type": "code",
      "metadata": {
        "id": "LWyFOBQxidbh",
        "colab_type": "code",
        "colab": {}
      },
      "source": [
        "X_valid, X_train = X[:200],X[200:]\n",
        "y_cls_valid, y_cls_train = y_cls[:200],y_cls[200:]"
      ],
      "execution_count": 0,
      "outputs": []
    },
    {
      "cell_type": "code",
      "metadata": {
        "id": "_jI2YrkjiMpA",
        "colab_type": "code",
        "outputId": "88fabc05-7406-4b93-cc53-35196b8cb62c",
        "colab": {
          "base_uri": "https://localhost:8080/",
          "height": 356
        }
      },
      "source": [
        "history = model.fit(X_train, y_cls_train, epochs=30,\n",
        "                    validation_data=(X_valid, y_cls_valid))"
      ],
      "execution_count": 0,
      "outputs": [
        {
          "output_type": "error",
          "ename": "ValueError",
          "evalue": "ignored",
          "traceback": [
            "\u001b[0;31m---------------------------------------------------------------------------\u001b[0m",
            "\u001b[0;31mValueError\u001b[0m                                Traceback (most recent call last)",
            "\u001b[0;32m<ipython-input-98-7f7619d77f83>\u001b[0m in \u001b[0;36m<module>\u001b[0;34m()\u001b[0m\n\u001b[1;32m      1\u001b[0m history = model.fit(X_train, y_cls_train, epochs=30,\n\u001b[0;32m----> 2\u001b[0;31m                     validation_data=(X_valid, y_cls_valid))\n\u001b[0m",
            "\u001b[0;32m/tensorflow-2.0.0/python3.6/tensorflow_core/python/keras/engine/training.py\u001b[0m in \u001b[0;36mfit\u001b[0;34m(self, x, y, batch_size, epochs, verbose, callbacks, validation_split, validation_data, shuffle, class_weight, sample_weight, initial_epoch, steps_per_epoch, validation_steps, validation_freq, max_queue_size, workers, use_multiprocessing, **kwargs)\u001b[0m\n\u001b[1;32m    726\u001b[0m         \u001b[0mmax_queue_size\u001b[0m\u001b[0;34m=\u001b[0m\u001b[0mmax_queue_size\u001b[0m\u001b[0;34m,\u001b[0m\u001b[0;34m\u001b[0m\u001b[0;34m\u001b[0m\u001b[0m\n\u001b[1;32m    727\u001b[0m         \u001b[0mworkers\u001b[0m\u001b[0;34m=\u001b[0m\u001b[0mworkers\u001b[0m\u001b[0;34m,\u001b[0m\u001b[0;34m\u001b[0m\u001b[0;34m\u001b[0m\u001b[0m\n\u001b[0;32m--> 728\u001b[0;31m         use_multiprocessing=use_multiprocessing)\n\u001b[0m\u001b[1;32m    729\u001b[0m \u001b[0;34m\u001b[0m\u001b[0m\n\u001b[1;32m    730\u001b[0m   def evaluate(self,\n",
            "\u001b[0;32m/tensorflow-2.0.0/python3.6/tensorflow_core/python/keras/engine/training_v2.py\u001b[0m in \u001b[0;36mfit\u001b[0;34m(self, model, x, y, batch_size, epochs, verbose, callbacks, validation_split, validation_data, shuffle, class_weight, sample_weight, initial_epoch, steps_per_epoch, validation_steps, validation_freq, **kwargs)\u001b[0m\n\u001b[1;32m    222\u001b[0m           \u001b[0mvalidation_data\u001b[0m\u001b[0;34m=\u001b[0m\u001b[0mvalidation_data\u001b[0m\u001b[0;34m,\u001b[0m\u001b[0;34m\u001b[0m\u001b[0;34m\u001b[0m\u001b[0m\n\u001b[1;32m    223\u001b[0m           \u001b[0mvalidation_steps\u001b[0m\u001b[0;34m=\u001b[0m\u001b[0mvalidation_steps\u001b[0m\u001b[0;34m,\u001b[0m\u001b[0;34m\u001b[0m\u001b[0;34m\u001b[0m\u001b[0m\n\u001b[0;32m--> 224\u001b[0;31m           distribution_strategy=strategy)\n\u001b[0m\u001b[1;32m    225\u001b[0m \u001b[0;34m\u001b[0m\u001b[0m\n\u001b[1;32m    226\u001b[0m       \u001b[0mtotal_samples\u001b[0m \u001b[0;34m=\u001b[0m \u001b[0m_get_total_number_of_samples\u001b[0m\u001b[0;34m(\u001b[0m\u001b[0mtraining_data_adapter\u001b[0m\u001b[0;34m)\u001b[0m\u001b[0;34m\u001b[0m\u001b[0;34m\u001b[0m\u001b[0m\n",
            "\u001b[0;32m/tensorflow-2.0.0/python3.6/tensorflow_core/python/keras/engine/training_v2.py\u001b[0m in \u001b[0;36m_process_training_inputs\u001b[0;34m(model, x, y, batch_size, epochs, sample_weights, class_weights, steps_per_epoch, validation_split, validation_data, validation_steps, shuffle, distribution_strategy, max_queue_size, workers, use_multiprocessing)\u001b[0m\n\u001b[1;32m    545\u001b[0m         \u001b[0mmax_queue_size\u001b[0m\u001b[0;34m=\u001b[0m\u001b[0mmax_queue_size\u001b[0m\u001b[0;34m,\u001b[0m\u001b[0;34m\u001b[0m\u001b[0;34m\u001b[0m\u001b[0m\n\u001b[1;32m    546\u001b[0m         \u001b[0mworkers\u001b[0m\u001b[0;34m=\u001b[0m\u001b[0mworkers\u001b[0m\u001b[0;34m,\u001b[0m\u001b[0;34m\u001b[0m\u001b[0;34m\u001b[0m\u001b[0m\n\u001b[0;32m--> 547\u001b[0;31m         use_multiprocessing=use_multiprocessing)\n\u001b[0m\u001b[1;32m    548\u001b[0m     \u001b[0mval_adapter\u001b[0m \u001b[0;34m=\u001b[0m \u001b[0;32mNone\u001b[0m\u001b[0;34m\u001b[0m\u001b[0;34m\u001b[0m\u001b[0m\n\u001b[1;32m    549\u001b[0m     \u001b[0;32mif\u001b[0m \u001b[0mvalidation_data\u001b[0m\u001b[0;34m:\u001b[0m\u001b[0;34m\u001b[0m\u001b[0;34m\u001b[0m\u001b[0m\n",
            "\u001b[0;32m/tensorflow-2.0.0/python3.6/tensorflow_core/python/keras/engine/training_v2.py\u001b[0m in \u001b[0;36m_process_inputs\u001b[0;34m(model, x, y, batch_size, epochs, sample_weights, class_weights, shuffle, steps, distribution_strategy, max_queue_size, workers, use_multiprocessing)\u001b[0m\n\u001b[1;32m    592\u001b[0m         \u001b[0mbatch_size\u001b[0m\u001b[0;34m=\u001b[0m\u001b[0mbatch_size\u001b[0m\u001b[0;34m,\u001b[0m\u001b[0;34m\u001b[0m\u001b[0;34m\u001b[0m\u001b[0m\n\u001b[1;32m    593\u001b[0m         \u001b[0mcheck_steps\u001b[0m\u001b[0;34m=\u001b[0m\u001b[0;32mFalse\u001b[0m\u001b[0;34m,\u001b[0m\u001b[0;34m\u001b[0m\u001b[0;34m\u001b[0m\u001b[0m\n\u001b[0;32m--> 594\u001b[0;31m         steps=steps)\n\u001b[0m\u001b[1;32m    595\u001b[0m   adapter = adapter_cls(\n\u001b[1;32m    596\u001b[0m       \u001b[0mx\u001b[0m\u001b[0;34m,\u001b[0m\u001b[0;34m\u001b[0m\u001b[0;34m\u001b[0m\u001b[0m\n",
            "\u001b[0;32m/tensorflow-2.0.0/python3.6/tensorflow_core/python/keras/engine/training.py\u001b[0m in \u001b[0;36m_standardize_user_data\u001b[0;34m(self, x, y, sample_weight, class_weight, batch_size, check_steps, steps_name, steps, validation_split, shuffle, extract_tensors_from_dataset)\u001b[0m\n\u001b[1;32m   2470\u001b[0m           \u001b[0mfeed_input_shapes\u001b[0m\u001b[0;34m,\u001b[0m\u001b[0;34m\u001b[0m\u001b[0;34m\u001b[0m\u001b[0m\n\u001b[1;32m   2471\u001b[0m           \u001b[0mcheck_batch_axis\u001b[0m\u001b[0;34m=\u001b[0m\u001b[0;32mFalse\u001b[0m\u001b[0;34m,\u001b[0m  \u001b[0;31m# Don't enforce the batch size.\u001b[0m\u001b[0;34m\u001b[0m\u001b[0;34m\u001b[0m\u001b[0m\n\u001b[0;32m-> 2472\u001b[0;31m           exception_prefix='input')\n\u001b[0m\u001b[1;32m   2473\u001b[0m \u001b[0;34m\u001b[0m\u001b[0m\n\u001b[1;32m   2474\u001b[0m     \u001b[0;31m# Get typespecs for the input data and sanitize it if necessary.\u001b[0m\u001b[0;34m\u001b[0m\u001b[0;34m\u001b[0m\u001b[0;34m\u001b[0m\u001b[0m\n",
            "\u001b[0;32m/tensorflow-2.0.0/python3.6/tensorflow_core/python/keras/engine/training_utils.py\u001b[0m in \u001b[0;36mstandardize_input_data\u001b[0;34m(data, names, shapes, check_batch_axis, exception_prefix)\u001b[0m\n\u001b[1;32m    563\u001b[0m                            \u001b[0;34m': expected '\u001b[0m \u001b[0;34m+\u001b[0m \u001b[0mnames\u001b[0m\u001b[0;34m[\u001b[0m\u001b[0mi\u001b[0m\u001b[0;34m]\u001b[0m \u001b[0;34m+\u001b[0m \u001b[0;34m' to have '\u001b[0m \u001b[0;34m+\u001b[0m\u001b[0;34m\u001b[0m\u001b[0;34m\u001b[0m\u001b[0m\n\u001b[1;32m    564\u001b[0m                            \u001b[0mstr\u001b[0m\u001b[0;34m(\u001b[0m\u001b[0mlen\u001b[0m\u001b[0;34m(\u001b[0m\u001b[0mshape\u001b[0m\u001b[0;34m)\u001b[0m\u001b[0;34m)\u001b[0m \u001b[0;34m+\u001b[0m \u001b[0;34m' dimensions, but got array '\u001b[0m\u001b[0;34m\u001b[0m\u001b[0;34m\u001b[0m\u001b[0m\n\u001b[0;32m--> 565\u001b[0;31m                            'with shape ' + str(data_shape))\n\u001b[0m\u001b[1;32m    566\u001b[0m         \u001b[0;32mif\u001b[0m \u001b[0;32mnot\u001b[0m \u001b[0mcheck_batch_axis\u001b[0m\u001b[0;34m:\u001b[0m\u001b[0;34m\u001b[0m\u001b[0;34m\u001b[0m\u001b[0m\n\u001b[1;32m    567\u001b[0m           \u001b[0mdata_shape\u001b[0m \u001b[0;34m=\u001b[0m \u001b[0mdata_shape\u001b[0m\u001b[0;34m[\u001b[0m\u001b[0;36m1\u001b[0m\u001b[0;34m:\u001b[0m\u001b[0;34m]\u001b[0m\u001b[0;34m\u001b[0m\u001b[0;34m\u001b[0m\u001b[0m\n",
            "\u001b[0;31mValueError\u001b[0m: Error when checking input: expected flatten_4_input to have 3 dimensions, but got array with shape (1163, 71)"
          ]
        }
      ]
    },
    {
      "cell_type": "markdown",
      "metadata": {
        "id": "zREwMWMTGjf8",
        "colab_type": "text"
      },
      "source": [
        "# test set"
      ]
    },
    {
      "cell_type": "code",
      "metadata": {
        "id": "MT8KgGRqyfjJ",
        "colab_type": "code",
        "outputId": "fa369617-d710-48e5-fc68-9d808fad3288",
        "colab": {
          "base_uri": "https://localhost:8080/",
          "height": 431
        }
      },
      "source": [
        "# Load test dataset\n",
        "csv_file_test = '/content/gdrive/My Drive/BNCS401_Midterm_Project/Test_data_ageupdated.csv'  # Set your path\n",
        "test_data = pd.read_csv(csv_file_test)\n",
        "test_data"
      ],
      "execution_count": 0,
      "outputs": [
        {
          "output_type": "execute_result",
          "data": {
            "text/html": [
              "<div>\n",
              "<style scoped>\n",
              "    .dataframe tbody tr th:only-of-type {\n",
              "        vertical-align: middle;\n",
              "    }\n",
              "\n",
              "    .dataframe tbody tr th {\n",
              "        vertical-align: top;\n",
              "    }\n",
              "\n",
              "    .dataframe thead th {\n",
              "        text-align: right;\n",
              "    }\n",
              "</style>\n",
              "<table border=\"1\" class=\"dataframe\">\n",
              "  <thead>\n",
              "    <tr style=\"text-align: right;\">\n",
              "      <th></th>\n",
              "      <th>RID</th>\n",
              "      <th>AGE</th>\n",
              "      <th>ST102TA_UCSFFSX_11_02_15_UCSFFSX51_08_01_16</th>\n",
              "      <th>ST103TA_UCSFFSX_11_02_15_UCSFFSX51_08_01_16</th>\n",
              "      <th>ST104TA_UCSFFSX_11_02_15_UCSFFSX51_08_01_16</th>\n",
              "      <th>ST105TA_UCSFFSX_11_02_15_UCSFFSX51_08_01_16</th>\n",
              "      <th>ST106TA_UCSFFSX_11_02_15_UCSFFSX51_08_01_16</th>\n",
              "      <th>ST107TA_UCSFFSX_11_02_15_UCSFFSX51_08_01_16</th>\n",
              "      <th>ST108TA_UCSFFSX_11_02_15_UCSFFSX51_08_01_16</th>\n",
              "      <th>ST109TA_UCSFFSX_11_02_15_UCSFFSX51_08_01_16</th>\n",
              "      <th>ST110TA_UCSFFSX_11_02_15_UCSFFSX51_08_01_16</th>\n",
              "      <th>ST111TA_UCSFFSX_11_02_15_UCSFFSX51_08_01_16</th>\n",
              "      <th>ST113TA_UCSFFSX_11_02_15_UCSFFSX51_08_01_16</th>\n",
              "      <th>ST114TA_UCSFFSX_11_02_15_UCSFFSX51_08_01_16</th>\n",
              "      <th>ST115TA_UCSFFSX_11_02_15_UCSFFSX51_08_01_16</th>\n",
              "      <th>ST116TA_UCSFFSX_11_02_15_UCSFFSX51_08_01_16</th>\n",
              "      <th>ST117TA_UCSFFSX_11_02_15_UCSFFSX51_08_01_16</th>\n",
              "      <th>ST118TA_UCSFFSX_11_02_15_UCSFFSX51_08_01_16</th>\n",
              "      <th>ST119TA_UCSFFSX_11_02_15_UCSFFSX51_08_01_16</th>\n",
              "      <th>ST121TA_UCSFFSX_11_02_15_UCSFFSX51_08_01_16</th>\n",
              "      <th>ST123TA_UCSFFSX_11_02_15_UCSFFSX51_08_01_16</th>\n",
              "      <th>ST129TA_UCSFFSX_11_02_15_UCSFFSX51_08_01_16</th>\n",
              "      <th>ST130TA_UCSFFSX_11_02_15_UCSFFSX51_08_01_16</th>\n",
              "      <th>ST13TA_UCSFFSX_11_02_15_UCSFFSX51_08_01_16</th>\n",
              "      <th>ST14TA_UCSFFSX_11_02_15_UCSFFSX51_08_01_16</th>\n",
              "      <th>ST15TA_UCSFFSX_11_02_15_UCSFFSX51_08_01_16</th>\n",
              "      <th>ST23TA_UCSFFSX_11_02_15_UCSFFSX51_08_01_16</th>\n",
              "      <th>ST24TA_UCSFFSX_11_02_15_UCSFFSX51_08_01_16</th>\n",
              "      <th>ST25TA_UCSFFSX_11_02_15_UCSFFSX51_08_01_16</th>\n",
              "      <th>ST26TA_UCSFFSX_11_02_15_UCSFFSX51_08_01_16</th>\n",
              "      <th>ST31TA_UCSFFSX_11_02_15_UCSFFSX51_08_01_16</th>\n",
              "      <th>ST32TA_UCSFFSX_11_02_15_UCSFFSX51_08_01_16</th>\n",
              "      <th>ST34TA_UCSFFSX_11_02_15_UCSFFSX51_08_01_16</th>\n",
              "      <th>ST35TA_UCSFFSX_11_02_15_UCSFFSX51_08_01_16</th>\n",
              "      <th>ST36TA_UCSFFSX_11_02_15_UCSFFSX51_08_01_16</th>\n",
              "      <th>ST38TA_UCSFFSX_11_02_15_UCSFFSX51_08_01_16</th>\n",
              "      <th>ST39TA_UCSFFSX_11_02_15_UCSFFSX51_08_01_16</th>\n",
              "      <th>ST40TA_UCSFFSX_11_02_15_UCSFFSX51_08_01_16</th>\n",
              "      <th>ST43TA_UCSFFSX_11_02_15_UCSFFSX51_08_01_16</th>\n",
              "      <th>ST44TA_UCSFFSX_11_02_15_UCSFFSX51_08_01_16</th>\n",
              "      <th>ST45TA_UCSFFSX_11_02_15_UCSFFSX51_08_01_16</th>\n",
              "      <th>ST46TA_UCSFFSX_11_02_15_UCSFFSX51_08_01_16</th>\n",
              "      <th>ST47TA_UCSFFSX_11_02_15_UCSFFSX51_08_01_16</th>\n",
              "      <th>ST48TA_UCSFFSX_11_02_15_UCSFFSX51_08_01_16</th>\n",
              "      <th>ST49TA_UCSFFSX_11_02_15_UCSFFSX51_08_01_16</th>\n",
              "      <th>ST50TA_UCSFFSX_11_02_15_UCSFFSX51_08_01_16</th>\n",
              "      <th>ST51TA_UCSFFSX_11_02_15_UCSFFSX51_08_01_16</th>\n",
              "      <th>ST52TA_UCSFFSX_11_02_15_UCSFFSX51_08_01_16</th>\n",
              "      <th>ST54TA_UCSFFSX_11_02_15_UCSFFSX51_08_01_16</th>\n",
              "      <th>ST55TA_UCSFFSX_11_02_15_UCSFFSX51_08_01_16</th>\n",
              "      <th>ST56TA_UCSFFSX_11_02_15_UCSFFSX51_08_01_16</th>\n",
              "      <th>ST57TA_UCSFFSX_11_02_15_UCSFFSX51_08_01_16</th>\n",
              "      <th>ST58TA_UCSFFSX_11_02_15_UCSFFSX51_08_01_16</th>\n",
              "      <th>ST59TA_UCSFFSX_11_02_15_UCSFFSX51_08_01_16</th>\n",
              "      <th>ST60TA_UCSFFSX_11_02_15_UCSFFSX51_08_01_16</th>\n",
              "      <th>ST62TA_UCSFFSX_11_02_15_UCSFFSX51_08_01_16</th>\n",
              "      <th>ST64TA_UCSFFSX_11_02_15_UCSFFSX51_08_01_16</th>\n",
              "      <th>ST72TA_UCSFFSX_11_02_15_UCSFFSX51_08_01_16</th>\n",
              "      <th>ST73TA_UCSFFSX_11_02_15_UCSFFSX51_08_01_16</th>\n",
              "      <th>ST74TA_UCSFFSX_11_02_15_UCSFFSX51_08_01_16</th>\n",
              "      <th>ST82TA_UCSFFSX_11_02_15_UCSFFSX51_08_01_16</th>\n",
              "      <th>ST83TA_UCSFFSX_11_02_15_UCSFFSX51_08_01_16</th>\n",
              "      <th>ST84TA_UCSFFSX_11_02_15_UCSFFSX51_08_01_16</th>\n",
              "      <th>ST85TA_UCSFFSX_11_02_15_UCSFFSX51_08_01_16</th>\n",
              "      <th>ST90TA_UCSFFSX_11_02_15_UCSFFSX51_08_01_16</th>\n",
              "      <th>ST91TA_UCSFFSX_11_02_15_UCSFFSX51_08_01_16</th>\n",
              "      <th>ST93TA_UCSFFSX_11_02_15_UCSFFSX51_08_01_16</th>\n",
              "      <th>ST94TA_UCSFFSX_11_02_15_UCSFFSX51_08_01_16</th>\n",
              "      <th>ST95TA_UCSFFSX_11_02_15_UCSFFSX51_08_01_16</th>\n",
              "      <th>ST97TA_UCSFFSX_11_02_15_UCSFFSX51_08_01_16</th>\n",
              "      <th>ST98TA_UCSFFSX_11_02_15_UCSFFSX51_08_01_16</th>\n",
              "      <th>ST99TA_UCSFFSX_11_02_15_UCSFFSX51_08_01_16</th>\n",
              "    </tr>\n",
              "  </thead>\n",
              "  <tbody>\n",
              "    <tr>\n",
              "      <th>0</th>\n",
              "      <td>1002</td>\n",
              "      <td>76.3</td>\n",
              "      <td>1.996</td>\n",
              "      <td>2.220</td>\n",
              "      <td>2.342</td>\n",
              "      <td>2.803</td>\n",
              "      <td>2.230</td>\n",
              "      <td>1.402</td>\n",
              "      <td>1.764</td>\n",
              "      <td>2.156</td>\n",
              "      <td>2.026</td>\n",
              "      <td>1.941</td>\n",
              "      <td>2.964</td>\n",
              "      <td>2.122</td>\n",
              "      <td>2.454</td>\n",
              "      <td>1.925</td>\n",
              "      <td>2.451</td>\n",
              "      <td>2.311</td>\n",
              "      <td>3.016</td>\n",
              "      <td>2.317</td>\n",
              "      <td>1.121</td>\n",
              "      <td>2.956</td>\n",
              "      <td>2.936</td>\n",
              "      <td>2.219</td>\n",
              "      <td>2.907</td>\n",
              "      <td>2.320</td>\n",
              "      <td>1.573</td>\n",
              "      <td>3.061</td>\n",
              "      <td>2.696</td>\n",
              "      <td>2.529</td>\n",
              "      <td>2.283</td>\n",
              "      <td>2.949</td>\n",
              "      <td>2.293</td>\n",
              "      <td>2.097</td>\n",
              "      <td>2.686</td>\n",
              "      <td>1.768</td>\n",
              "      <td>2.387</td>\n",
              "      <td>2.674</td>\n",
              "      <td>1.819</td>\n",
              "      <td>2.135</td>\n",
              "      <td>2.133</td>\n",
              "      <td>3.003</td>\n",
              "      <td>2.374</td>\n",
              "      <td>1.411</td>\n",
              "      <td>1.727</td>\n",
              "      <td>2.434</td>\n",
              "      <td>2.157</td>\n",
              "      <td>2.063</td>\n",
              "      <td>3.182</td>\n",
              "      <td>2.085</td>\n",
              "      <td>2.485</td>\n",
              "      <td>1.905</td>\n",
              "      <td>2.488</td>\n",
              "      <td>2.182</td>\n",
              "      <td>3.563</td>\n",
              "      <td>2.187</td>\n",
              "      <td>0.975</td>\n",
              "      <td>2.338</td>\n",
              "      <td>2.253</td>\n",
              "      <td>2.476</td>\n",
              "      <td>1.639</td>\n",
              "      <td>3.655</td>\n",
              "      <td>2.507</td>\n",
              "      <td>2.461</td>\n",
              "      <td>2.157</td>\n",
              "      <td>2.911</td>\n",
              "      <td>2.410</td>\n",
              "      <td>1.968</td>\n",
              "      <td>2.800</td>\n",
              "      <td>1.767</td>\n",
              "      <td>2.080</td>\n",
              "      <td>2.766</td>\n",
              "    </tr>\n",
              "    <tr>\n",
              "      <th>1</th>\n",
              "      <td>260</td>\n",
              "      <td>78.6</td>\n",
              "      <td>2.209</td>\n",
              "      <td>2.805</td>\n",
              "      <td>2.386</td>\n",
              "      <td>2.710</td>\n",
              "      <td>2.209</td>\n",
              "      <td>1.517</td>\n",
              "      <td>1.648</td>\n",
              "      <td>2.457</td>\n",
              "      <td>2.184</td>\n",
              "      <td>2.132</td>\n",
              "      <td>3.077</td>\n",
              "      <td>2.279</td>\n",
              "      <td>2.552</td>\n",
              "      <td>2.169</td>\n",
              "      <td>2.338</td>\n",
              "      <td>2.342</td>\n",
              "      <td>4.067</td>\n",
              "      <td>2.303</td>\n",
              "      <td>1.082</td>\n",
              "      <td>3.035</td>\n",
              "      <td>2.973</td>\n",
              "      <td>2.370</td>\n",
              "      <td>2.669</td>\n",
              "      <td>2.502</td>\n",
              "      <td>1.914</td>\n",
              "      <td>3.925</td>\n",
              "      <td>2.438</td>\n",
              "      <td>2.820</td>\n",
              "      <td>2.380</td>\n",
              "      <td>2.932</td>\n",
              "      <td>2.328</td>\n",
              "      <td>2.134</td>\n",
              "      <td>2.831</td>\n",
              "      <td>1.838</td>\n",
              "      <td>2.635</td>\n",
              "      <td>2.786</td>\n",
              "      <td>2.219</td>\n",
              "      <td>2.797</td>\n",
              "      <td>2.456</td>\n",
              "      <td>2.797</td>\n",
              "      <td>2.147</td>\n",
              "      <td>1.469</td>\n",
              "      <td>1.729</td>\n",
              "      <td>2.692</td>\n",
              "      <td>2.329</td>\n",
              "      <td>2.274</td>\n",
              "      <td>2.994</td>\n",
              "      <td>2.268</td>\n",
              "      <td>2.627</td>\n",
              "      <td>2.142</td>\n",
              "      <td>2.458</td>\n",
              "      <td>2.314</td>\n",
              "      <td>3.839</td>\n",
              "      <td>2.167</td>\n",
              "      <td>1.228</td>\n",
              "      <td>2.366</td>\n",
              "      <td>2.834</td>\n",
              "      <td>2.320</td>\n",
              "      <td>1.607</td>\n",
              "      <td>3.849</td>\n",
              "      <td>2.843</td>\n",
              "      <td>2.619</td>\n",
              "      <td>2.484</td>\n",
              "      <td>2.811</td>\n",
              "      <td>2.402</td>\n",
              "      <td>1.950</td>\n",
              "      <td>2.685</td>\n",
              "      <td>1.795</td>\n",
              "      <td>2.332</td>\n",
              "      <td>2.965</td>\n",
              "    </tr>\n",
              "    <tr>\n",
              "      <th>2</th>\n",
              "      <td>1406</td>\n",
              "      <td>61.1</td>\n",
              "      <td>2.114</td>\n",
              "      <td>3.157</td>\n",
              "      <td>2.700</td>\n",
              "      <td>2.856</td>\n",
              "      <td>2.463</td>\n",
              "      <td>1.610</td>\n",
              "      <td>1.671</td>\n",
              "      <td>2.720</td>\n",
              "      <td>2.174</td>\n",
              "      <td>2.170</td>\n",
              "      <td>2.997</td>\n",
              "      <td>2.353</td>\n",
              "      <td>2.818</td>\n",
              "      <td>1.856</td>\n",
              "      <td>2.916</td>\n",
              "      <td>2.372</td>\n",
              "      <td>3.734</td>\n",
              "      <td>2.217</td>\n",
              "      <td>1.286</td>\n",
              "      <td>3.094</td>\n",
              "      <td>3.091</td>\n",
              "      <td>2.362</td>\n",
              "      <td>2.674</td>\n",
              "      <td>2.513</td>\n",
              "      <td>1.653</td>\n",
              "      <td>3.764</td>\n",
              "      <td>2.984</td>\n",
              "      <td>2.735</td>\n",
              "      <td>2.188</td>\n",
              "      <td>2.823</td>\n",
              "      <td>2.546</td>\n",
              "      <td>1.992</td>\n",
              "      <td>2.768</td>\n",
              "      <td>1.905</td>\n",
              "      <td>2.517</td>\n",
              "      <td>2.869</td>\n",
              "      <td>2.010</td>\n",
              "      <td>3.147</td>\n",
              "      <td>2.558</td>\n",
              "      <td>2.763</td>\n",
              "      <td>2.175</td>\n",
              "      <td>1.532</td>\n",
              "      <td>1.609</td>\n",
              "      <td>2.572</td>\n",
              "      <td>2.088</td>\n",
              "      <td>2.174</td>\n",
              "      <td>3.211</td>\n",
              "      <td>2.401</td>\n",
              "      <td>2.840</td>\n",
              "      <td>1.966</td>\n",
              "      <td>2.815</td>\n",
              "      <td>2.254</td>\n",
              "      <td>3.713</td>\n",
              "      <td>2.452</td>\n",
              "      <td>1.164</td>\n",
              "      <td>2.778</td>\n",
              "      <td>2.551</td>\n",
              "      <td>2.402</td>\n",
              "      <td>1.810</td>\n",
              "      <td>3.646</td>\n",
              "      <td>3.352</td>\n",
              "      <td>2.766</td>\n",
              "      <td>2.249</td>\n",
              "      <td>2.990</td>\n",
              "      <td>2.401</td>\n",
              "      <td>1.983</td>\n",
              "      <td>2.666</td>\n",
              "      <td>1.890</td>\n",
              "      <td>2.926</td>\n",
              "      <td>2.903</td>\n",
              "    </tr>\n",
              "    <tr>\n",
              "      <th>3</th>\n",
              "      <td>516</td>\n",
              "      <td>87.6</td>\n",
              "      <td>1.961</td>\n",
              "      <td>2.487</td>\n",
              "      <td>2.466</td>\n",
              "      <td>2.732</td>\n",
              "      <td>2.494</td>\n",
              "      <td>1.317</td>\n",
              "      <td>1.613</td>\n",
              "      <td>2.371</td>\n",
              "      <td>2.045</td>\n",
              "      <td>2.083</td>\n",
              "      <td>2.429</td>\n",
              "      <td>2.243</td>\n",
              "      <td>2.563</td>\n",
              "      <td>1.940</td>\n",
              "      <td>2.612</td>\n",
              "      <td>2.379</td>\n",
              "      <td>4.150</td>\n",
              "      <td>2.147</td>\n",
              "      <td>1.147</td>\n",
              "      <td>2.976</td>\n",
              "      <td>2.947</td>\n",
              "      <td>2.079</td>\n",
              "      <td>3.115</td>\n",
              "      <td>2.432</td>\n",
              "      <td>1.599</td>\n",
              "      <td>3.674</td>\n",
              "      <td>1.981</td>\n",
              "      <td>2.547</td>\n",
              "      <td>2.228</td>\n",
              "      <td>2.755</td>\n",
              "      <td>2.501</td>\n",
              "      <td>2.031</td>\n",
              "      <td>2.635</td>\n",
              "      <td>1.751</td>\n",
              "      <td>2.175</td>\n",
              "      <td>2.669</td>\n",
              "      <td>2.430</td>\n",
              "      <td>2.514</td>\n",
              "      <td>2.485</td>\n",
              "      <td>2.659</td>\n",
              "      <td>2.382</td>\n",
              "      <td>1.270</td>\n",
              "      <td>1.718</td>\n",
              "      <td>2.125</td>\n",
              "      <td>2.048</td>\n",
              "      <td>2.301</td>\n",
              "      <td>2.853</td>\n",
              "      <td>2.295</td>\n",
              "      <td>2.555</td>\n",
              "      <td>2.049</td>\n",
              "      <td>2.504</td>\n",
              "      <td>2.457</td>\n",
              "      <td>4.151</td>\n",
              "      <td>2.374</td>\n",
              "      <td>1.062</td>\n",
              "      <td>2.409</td>\n",
              "      <td>2.051</td>\n",
              "      <td>2.259</td>\n",
              "      <td>1.478</td>\n",
              "      <td>3.491</td>\n",
              "      <td>2.203</td>\n",
              "      <td>2.567</td>\n",
              "      <td>2.303</td>\n",
              "      <td>2.830</td>\n",
              "      <td>2.464</td>\n",
              "      <td>2.032</td>\n",
              "      <td>2.497</td>\n",
              "      <td>1.730</td>\n",
              "      <td>2.279</td>\n",
              "      <td>2.825</td>\n",
              "    </tr>\n",
              "    <tr>\n",
              "      <th>4</th>\n",
              "      <td>4138</td>\n",
              "      <td>88.4</td>\n",
              "      <td>2.246</td>\n",
              "      <td>2.346</td>\n",
              "      <td>2.383</td>\n",
              "      <td>2.850</td>\n",
              "      <td>2.566</td>\n",
              "      <td>1.770</td>\n",
              "      <td>1.921</td>\n",
              "      <td>2.398</td>\n",
              "      <td>2.286</td>\n",
              "      <td>2.200</td>\n",
              "      <td>2.588</td>\n",
              "      <td>2.397</td>\n",
              "      <td>2.532</td>\n",
              "      <td>2.038</td>\n",
              "      <td>2.323</td>\n",
              "      <td>2.396</td>\n",
              "      <td>3.350</td>\n",
              "      <td>2.415</td>\n",
              "      <td></td>\n",
              "      <td>3.084</td>\n",
              "      <td>3.030</td>\n",
              "      <td>2.306</td>\n",
              "      <td>2.816</td>\n",
              "      <td>2.366</td>\n",
              "      <td>1.930</td>\n",
              "      <td>2.580</td>\n",
              "      <td>2.855</td>\n",
              "      <td>2.346</td>\n",
              "      <td>2.292</td>\n",
              "      <td>2.570</td>\n",
              "      <td>2.355</td>\n",
              "      <td>2.147</td>\n",
              "      <td>2.626</td>\n",
              "      <td>1.933</td>\n",
              "      <td>2.403</td>\n",
              "      <td>2.710</td>\n",
              "      <td>2.350</td>\n",
              "      <td>2.913</td>\n",
              "      <td>2.251</td>\n",
              "      <td>2.799</td>\n",
              "      <td>2.463</td>\n",
              "      <td>1.671</td>\n",
              "      <td>1.967</td>\n",
              "      <td>2.403</td>\n",
              "      <td>2.268</td>\n",
              "      <td>2.358</td>\n",
              "      <td>3.378</td>\n",
              "      <td>2.378</td>\n",
              "      <td>2.607</td>\n",
              "      <td>2.122</td>\n",
              "      <td>2.358</td>\n",
              "      <td>2.253</td>\n",
              "      <td>3.548</td>\n",
              "      <td>2.239</td>\n",
              "      <td></td>\n",
              "      <td>2.401</td>\n",
              "      <td>2.665</td>\n",
              "      <td>2.497</td>\n",
              "      <td>1.858</td>\n",
              "      <td>2.393</td>\n",
              "      <td>2.765</td>\n",
              "      <td>2.452</td>\n",
              "      <td>2.327</td>\n",
              "      <td>2.644</td>\n",
              "      <td>1.992</td>\n",
              "      <td>2.141</td>\n",
              "      <td>2.895</td>\n",
              "      <td>1.838</td>\n",
              "      <td>2.533</td>\n",
              "      <td>2.777</td>\n",
              "    </tr>\n",
              "    <tr>\n",
              "      <th>...</th>\n",
              "      <td>...</td>\n",
              "      <td>...</td>\n",
              "      <td>...</td>\n",
              "      <td>...</td>\n",
              "      <td>...</td>\n",
              "      <td>...</td>\n",
              "      <td>...</td>\n",
              "      <td>...</td>\n",
              "      <td>...</td>\n",
              "      <td>...</td>\n",
              "      <td>...</td>\n",
              "      <td>...</td>\n",
              "      <td>...</td>\n",
              "      <td>...</td>\n",
              "      <td>...</td>\n",
              "      <td>...</td>\n",
              "      <td>...</td>\n",
              "      <td>...</td>\n",
              "      <td>...</td>\n",
              "      <td>...</td>\n",
              "      <td>...</td>\n",
              "      <td>...</td>\n",
              "      <td>...</td>\n",
              "      <td>...</td>\n",
              "      <td>...</td>\n",
              "      <td>...</td>\n",
              "      <td>...</td>\n",
              "      <td>...</td>\n",
              "      <td>...</td>\n",
              "      <td>...</td>\n",
              "      <td>...</td>\n",
              "      <td>...</td>\n",
              "      <td>...</td>\n",
              "      <td>...</td>\n",
              "      <td>...</td>\n",
              "      <td>...</td>\n",
              "      <td>...</td>\n",
              "      <td>...</td>\n",
              "      <td>...</td>\n",
              "      <td>...</td>\n",
              "      <td>...</td>\n",
              "      <td>...</td>\n",
              "      <td>...</td>\n",
              "      <td>...</td>\n",
              "      <td>...</td>\n",
              "      <td>...</td>\n",
              "      <td>...</td>\n",
              "      <td>...</td>\n",
              "      <td>...</td>\n",
              "      <td>...</td>\n",
              "      <td>...</td>\n",
              "      <td>...</td>\n",
              "      <td>...</td>\n",
              "      <td>...</td>\n",
              "      <td>...</td>\n",
              "      <td>...</td>\n",
              "      <td>...</td>\n",
              "      <td>...</td>\n",
              "      <td>...</td>\n",
              "      <td>...</td>\n",
              "      <td>...</td>\n",
              "      <td>...</td>\n",
              "      <td>...</td>\n",
              "      <td>...</td>\n",
              "      <td>...</td>\n",
              "      <td>...</td>\n",
              "      <td>...</td>\n",
              "      <td>...</td>\n",
              "      <td>...</td>\n",
              "      <td>...</td>\n",
              "      <td>...</td>\n",
              "      <td>...</td>\n",
              "    </tr>\n",
              "    <tr>\n",
              "      <th>339</th>\n",
              "      <td>1090</td>\n",
              "      <td>71.3</td>\n",
              "      <td>1.918</td>\n",
              "      <td>2.442</td>\n",
              "      <td>2.224</td>\n",
              "      <td>2.555</td>\n",
              "      <td>2.068</td>\n",
              "      <td>1.455</td>\n",
              "      <td>1.771</td>\n",
              "      <td>2.435</td>\n",
              "      <td>2.062</td>\n",
              "      <td>2.075</td>\n",
              "      <td>3.014</td>\n",
              "      <td>2.208</td>\n",
              "      <td>2.472</td>\n",
              "      <td>2.001</td>\n",
              "      <td>2.526</td>\n",
              "      <td>2.051</td>\n",
              "      <td>3.770</td>\n",
              "      <td>2.354</td>\n",
              "      <td>1.024</td>\n",
              "      <td>2.962</td>\n",
              "      <td>3.011</td>\n",
              "      <td>2.239</td>\n",
              "      <td>2.301</td>\n",
              "      <td>2.186</td>\n",
              "      <td>1.810</td>\n",
              "      <td>3.251</td>\n",
              "      <td>2.831</td>\n",
              "      <td>2.518</td>\n",
              "      <td>2.058</td>\n",
              "      <td>2.783</td>\n",
              "      <td>2.273</td>\n",
              "      <td>2.107</td>\n",
              "      <td>2.486</td>\n",
              "      <td>1.750</td>\n",
              "      <td>2.213</td>\n",
              "      <td>2.739</td>\n",
              "      <td>2.001</td>\n",
              "      <td>2.804</td>\n",
              "      <td>2.300</td>\n",
              "      <td>2.447</td>\n",
              "      <td>2.342</td>\n",
              "      <td>1.355</td>\n",
              "      <td>1.825</td>\n",
              "      <td>2.621</td>\n",
              "      <td>2.018</td>\n",
              "      <td>2.206</td>\n",
              "      <td>2.870</td>\n",
              "      <td>2.247</td>\n",
              "      <td>2.490</td>\n",
              "      <td>1.984</td>\n",
              "      <td>2.619</td>\n",
              "      <td>2.222</td>\n",
              "      <td>3.873</td>\n",
              "      <td>2.563</td>\n",
              "      <td>1.121</td>\n",
              "      <td>2.114</td>\n",
              "      <td>2.445</td>\n",
              "      <td>2.393</td>\n",
              "      <td>1.757</td>\n",
              "      <td>3.429</td>\n",
              "      <td>2.494</td>\n",
              "      <td>2.697</td>\n",
              "      <td>2.160</td>\n",
              "      <td>2.768</td>\n",
              "      <td>2.360</td>\n",
              "      <td>2.224</td>\n",
              "      <td>2.534</td>\n",
              "      <td>1.975</td>\n",
              "      <td>2.346</td>\n",
              "      <td>2.622</td>\n",
              "    </tr>\n",
              "    <tr>\n",
              "      <th>340</th>\n",
              "      <td>669</td>\n",
              "      <td>63.6</td>\n",
              "      <td>2.050</td>\n",
              "      <td>2.163</td>\n",
              "      <td>2.472</td>\n",
              "      <td>2.511</td>\n",
              "      <td>2.524</td>\n",
              "      <td>1.377</td>\n",
              "      <td>1.759</td>\n",
              "      <td>2.338</td>\n",
              "      <td>2.091</td>\n",
              "      <td>2.039</td>\n",
              "      <td>2.957</td>\n",
              "      <td>2.117</td>\n",
              "      <td>2.411</td>\n",
              "      <td>2.144</td>\n",
              "      <td>2.477</td>\n",
              "      <td>2.414</td>\n",
              "      <td>3.278</td>\n",
              "      <td>2.404</td>\n",
              "      <td>1.212</td>\n",
              "      <td>2.880</td>\n",
              "      <td>2.832</td>\n",
              "      <td>2.404</td>\n",
              "      <td>2.479</td>\n",
              "      <td>2.241</td>\n",
              "      <td>1.813</td>\n",
              "      <td>3.050</td>\n",
              "      <td>2.773</td>\n",
              "      <td>2.593</td>\n",
              "      <td>2.338</td>\n",
              "      <td>2.713</td>\n",
              "      <td>2.295</td>\n",
              "      <td>2.139</td>\n",
              "      <td>2.440</td>\n",
              "      <td>1.753</td>\n",
              "      <td>2.145</td>\n",
              "      <td>2.833</td>\n",
              "      <td>2.042</td>\n",
              "      <td>2.673</td>\n",
              "      <td>2.286</td>\n",
              "      <td>2.551</td>\n",
              "      <td>2.293</td>\n",
              "      <td>1.380</td>\n",
              "      <td>1.695</td>\n",
              "      <td>2.481</td>\n",
              "      <td>1.954</td>\n",
              "      <td>2.283</td>\n",
              "      <td>2.694</td>\n",
              "      <td>2.165</td>\n",
              "      <td>2.385</td>\n",
              "      <td>1.941</td>\n",
              "      <td>2.491</td>\n",
              "      <td>2.223</td>\n",
              "      <td>3.438</td>\n",
              "      <td>1.753</td>\n",
              "      <td>1.14</td>\n",
              "      <td>2.348</td>\n",
              "      <td>2.402</td>\n",
              "      <td>2.423</td>\n",
              "      <td>1.636</td>\n",
              "      <td>3.465</td>\n",
              "      <td>2.214</td>\n",
              "      <td>2.244</td>\n",
              "      <td>2.476</td>\n",
              "      <td>2.579</td>\n",
              "      <td>2.317</td>\n",
              "      <td>2.028</td>\n",
              "      <td>2.492</td>\n",
              "      <td>1.702</td>\n",
              "      <td>2.026</td>\n",
              "      <td>2.627</td>\n",
              "    </tr>\n",
              "    <tr>\n",
              "      <th>341</th>\n",
              "      <td>298</td>\n",
              "      <td>76.4</td>\n",
              "      <td>2.075</td>\n",
              "      <td>2.326</td>\n",
              "      <td>2.377</td>\n",
              "      <td>2.815</td>\n",
              "      <td>2.251</td>\n",
              "      <td>1.225</td>\n",
              "      <td>1.683</td>\n",
              "      <td>2.356</td>\n",
              "      <td>2.330</td>\n",
              "      <td>2.151</td>\n",
              "      <td>2.694</td>\n",
              "      <td>2.386</td>\n",
              "      <td>2.642</td>\n",
              "      <td>2.100</td>\n",
              "      <td>2.776</td>\n",
              "      <td>2.503</td>\n",
              "      <td>3.833</td>\n",
              "      <td>2.586</td>\n",
              "      <td>1.197</td>\n",
              "      <td>2.903</td>\n",
              "      <td>2.775</td>\n",
              "      <td>2.136</td>\n",
              "      <td>2.420</td>\n",
              "      <td>2.425</td>\n",
              "      <td>1.830</td>\n",
              "      <td>3.475</td>\n",
              "      <td>2.861</td>\n",
              "      <td>2.727</td>\n",
              "      <td>2.437</td>\n",
              "      <td>2.688</td>\n",
              "      <td>2.360</td>\n",
              "      <td>2.017</td>\n",
              "      <td>2.596</td>\n",
              "      <td>1.645</td>\n",
              "      <td>2.268</td>\n",
              "      <td>2.761</td>\n",
              "      <td>2.073</td>\n",
              "      <td>2.741</td>\n",
              "      <td>2.430</td>\n",
              "      <td>2.585</td>\n",
              "      <td>2.093</td>\n",
              "      <td>1.326</td>\n",
              "      <td>1.910</td>\n",
              "      <td>2.308</td>\n",
              "      <td>2.453</td>\n",
              "      <td>2.163</td>\n",
              "      <td>3.024</td>\n",
              "      <td>2.381</td>\n",
              "      <td>2.626</td>\n",
              "      <td>2.169</td>\n",
              "      <td>2.523</td>\n",
              "      <td>2.523</td>\n",
              "      <td>3.883</td>\n",
              "      <td>2.259</td>\n",
              "      <td>1.247</td>\n",
              "      <td>2.341</td>\n",
              "      <td>2.556</td>\n",
              "      <td>2.450</td>\n",
              "      <td>1.601</td>\n",
              "      <td>4.016</td>\n",
              "      <td>2.652</td>\n",
              "      <td>2.542</td>\n",
              "      <td>2.367</td>\n",
              "      <td>2.747</td>\n",
              "      <td>2.293</td>\n",
              "      <td>2.109</td>\n",
              "      <td>2.636</td>\n",
              "      <td>1.732</td>\n",
              "      <td>2.416</td>\n",
              "      <td>2.827</td>\n",
              "    </tr>\n",
              "    <tr>\n",
              "      <th>342</th>\n",
              "      <td>890</td>\n",
              "      <td>59.7</td>\n",
              "      <td>2.254</td>\n",
              "      <td>2.552</td>\n",
              "      <td>2.334</td>\n",
              "      <td>2.912</td>\n",
              "      <td>2.478</td>\n",
              "      <td>1.541</td>\n",
              "      <td>1.980</td>\n",
              "      <td>2.443</td>\n",
              "      <td>2.442</td>\n",
              "      <td>2.222</td>\n",
              "      <td>2.572</td>\n",
              "      <td>2.287</td>\n",
              "      <td>2.582</td>\n",
              "      <td>2.125</td>\n",
              "      <td>2.727</td>\n",
              "      <td>2.314</td>\n",
              "      <td>3.879</td>\n",
              "      <td>2.699</td>\n",
              "      <td>1.087</td>\n",
              "      <td>2.876</td>\n",
              "      <td>2.833</td>\n",
              "      <td>1.952</td>\n",
              "      <td>2.601</td>\n",
              "      <td>2.544</td>\n",
              "      <td>1.796</td>\n",
              "      <td>3.235</td>\n",
              "      <td>2.810</td>\n",
              "      <td>2.884</td>\n",
              "      <td>2.210</td>\n",
              "      <td>2.788</td>\n",
              "      <td>2.273</td>\n",
              "      <td>2.172</td>\n",
              "      <td>2.634</td>\n",
              "      <td>1.860</td>\n",
              "      <td>2.475</td>\n",
              "      <td>2.550</td>\n",
              "      <td>2.264</td>\n",
              "      <td>3.112</td>\n",
              "      <td>2.547</td>\n",
              "      <td>2.667</td>\n",
              "      <td>2.316</td>\n",
              "      <td>1.534</td>\n",
              "      <td>1.814</td>\n",
              "      <td>2.460</td>\n",
              "      <td>2.510</td>\n",
              "      <td>2.141</td>\n",
              "      <td>2.997</td>\n",
              "      <td>2.156</td>\n",
              "      <td>2.686</td>\n",
              "      <td>2.119</td>\n",
              "      <td>2.773</td>\n",
              "      <td>2.316</td>\n",
              "      <td>3.747</td>\n",
              "      <td>2.884</td>\n",
              "      <td>1.092</td>\n",
              "      <td>2.364</td>\n",
              "      <td>2.541</td>\n",
              "      <td>2.576</td>\n",
              "      <td>1.701</td>\n",
              "      <td>2.867</td>\n",
              "      <td>2.868</td>\n",
              "      <td>2.752</td>\n",
              "      <td>2.267</td>\n",
              "      <td>2.793</td>\n",
              "      <td>2.303</td>\n",
              "      <td>2.069</td>\n",
              "      <td>2.902</td>\n",
              "      <td>1.890</td>\n",
              "      <td>2.306</td>\n",
              "      <td>2.782</td>\n",
              "    </tr>\n",
              "    <tr>\n",
              "      <th>343</th>\n",
              "      <td>1321</td>\n",
              "      <td>83.2</td>\n",
              "      <td>2.284</td>\n",
              "      <td>2.613</td>\n",
              "      <td>2.459</td>\n",
              "      <td>2.820</td>\n",
              "      <td>2.186</td>\n",
              "      <td>1.356</td>\n",
              "      <td>2.017</td>\n",
              "      <td>2.316</td>\n",
              "      <td>2.366</td>\n",
              "      <td>2.170</td>\n",
              "      <td>2.459</td>\n",
              "      <td>2.212</td>\n",
              "      <td>2.569</td>\n",
              "      <td>2.129</td>\n",
              "      <td>2.617</td>\n",
              "      <td>2.524</td>\n",
              "      <td>3.621</td>\n",
              "      <td>2.262</td>\n",
              "      <td>1.097</td>\n",
              "      <td>3.078</td>\n",
              "      <td>3.040</td>\n",
              "      <td>2.492</td>\n",
              "      <td>2.838</td>\n",
              "      <td>2.596</td>\n",
              "      <td>1.648</td>\n",
              "      <td>3.036</td>\n",
              "      <td>3.021</td>\n",
              "      <td>2.472</td>\n",
              "      <td>2.347</td>\n",
              "      <td>2.704</td>\n",
              "      <td>2.651</td>\n",
              "      <td>2.078</td>\n",
              "      <td>2.683</td>\n",
              "      <td>1.779</td>\n",
              "      <td>2.388</td>\n",
              "      <td>2.768</td>\n",
              "      <td>2.173</td>\n",
              "      <td>2.519</td>\n",
              "      <td>2.572</td>\n",
              "      <td>2.557</td>\n",
              "      <td>2.287</td>\n",
              "      <td>1.283</td>\n",
              "      <td>1.999</td>\n",
              "      <td>2.719</td>\n",
              "      <td>2.417</td>\n",
              "      <td>2.205</td>\n",
              "      <td>2.738</td>\n",
              "      <td>2.221</td>\n",
              "      <td>2.622</td>\n",
              "      <td>2.129</td>\n",
              "      <td>2.536</td>\n",
              "      <td>2.443</td>\n",
              "      <td>3.084</td>\n",
              "      <td>2.400</td>\n",
              "      <td>0.971</td>\n",
              "      <td>2.358</td>\n",
              "      <td>2.428</td>\n",
              "      <td>2.704</td>\n",
              "      <td>1.691</td>\n",
              "      <td>3.388</td>\n",
              "      <td>2.716</td>\n",
              "      <td>2.526</td>\n",
              "      <td>2.383</td>\n",
              "      <td>2.829</td>\n",
              "      <td>2.473</td>\n",
              "      <td>2.136</td>\n",
              "      <td>2.572</td>\n",
              "      <td>1.758</td>\n",
              "      <td>2.164</td>\n",
              "      <td>2.832</td>\n",
              "    </tr>\n",
              "  </tbody>\n",
              "</table>\n",
              "<p>344 rows × 72 columns</p>\n",
              "</div>"
            ],
            "text/plain": [
              "      RID  ...  ST99TA_UCSFFSX_11_02_15_UCSFFSX51_08_01_16\n",
              "0    1002  ...                                       2.766\n",
              "1     260  ...                                       2.965\n",
              "2    1406  ...                                       2.903\n",
              "3     516  ...                                       2.825\n",
              "4    4138  ...                                       2.777\n",
              "..    ...  ...                                         ...\n",
              "339  1090  ...                                       2.622\n",
              "340   669  ...                                       2.627\n",
              "341   298  ...                                       2.827\n",
              "342   890  ...                                       2.782\n",
              "343  1321  ...                                       2.832\n",
              "\n",
              "[344 rows x 72 columns]"
            ]
          },
          "metadata": {
            "tags": []
          },
          "execution_count": 204
        }
      ]
    },
    {
      "cell_type": "code",
      "metadata": {
        "id": "0YhpyLS--KJ0",
        "colab_type": "code",
        "outputId": "4cf94e7c-b02b-48b3-c431-8f22815ca93c",
        "colab": {
          "base_uri": "https://localhost:8080/",
          "height": 1000
        }
      },
      "source": [
        "test_data.info()"
      ],
      "execution_count": 0,
      "outputs": [
        {
          "output_type": "stream",
          "text": [
            "<class 'pandas.core.frame.DataFrame'>\n",
            "RangeIndex: 344 entries, 0 to 343\n",
            "Data columns (total 72 columns):\n",
            "RID                                            344 non-null int64\n",
            "AGE                                            344 non-null float64\n",
            "ST102TA_UCSFFSX_11_02_15_UCSFFSX51_08_01_16    344 non-null float64\n",
            "ST103TA_UCSFFSX_11_02_15_UCSFFSX51_08_01_16    344 non-null float64\n",
            "ST104TA_UCSFFSX_11_02_15_UCSFFSX51_08_01_16    344 non-null float64\n",
            "ST105TA_UCSFFSX_11_02_15_UCSFFSX51_08_01_16    344 non-null float64\n",
            "ST106TA_UCSFFSX_11_02_15_UCSFFSX51_08_01_16    344 non-null float64\n",
            "ST107TA_UCSFFSX_11_02_15_UCSFFSX51_08_01_16    344 non-null float64\n",
            "ST108TA_UCSFFSX_11_02_15_UCSFFSX51_08_01_16    344 non-null float64\n",
            "ST109TA_UCSFFSX_11_02_15_UCSFFSX51_08_01_16    344 non-null float64\n",
            "ST110TA_UCSFFSX_11_02_15_UCSFFSX51_08_01_16    344 non-null float64\n",
            "ST111TA_UCSFFSX_11_02_15_UCSFFSX51_08_01_16    344 non-null float64\n",
            "ST113TA_UCSFFSX_11_02_15_UCSFFSX51_08_01_16    344 non-null float64\n",
            "ST114TA_UCSFFSX_11_02_15_UCSFFSX51_08_01_16    344 non-null float64\n",
            "ST115TA_UCSFFSX_11_02_15_UCSFFSX51_08_01_16    344 non-null float64\n",
            "ST116TA_UCSFFSX_11_02_15_UCSFFSX51_08_01_16    344 non-null float64\n",
            "ST117TA_UCSFFSX_11_02_15_UCSFFSX51_08_01_16    344 non-null float64\n",
            "ST118TA_UCSFFSX_11_02_15_UCSFFSX51_08_01_16    344 non-null float64\n",
            "ST119TA_UCSFFSX_11_02_15_UCSFFSX51_08_01_16    344 non-null float64\n",
            "ST121TA_UCSFFSX_11_02_15_UCSFFSX51_08_01_16    344 non-null float64\n",
            "ST123TA_UCSFFSX_11_02_15_UCSFFSX51_08_01_16    344 non-null object\n",
            "ST129TA_UCSFFSX_11_02_15_UCSFFSX51_08_01_16    344 non-null float64\n",
            "ST130TA_UCSFFSX_11_02_15_UCSFFSX51_08_01_16    344 non-null float64\n",
            "ST13TA_UCSFFSX_11_02_15_UCSFFSX51_08_01_16     344 non-null float64\n",
            "ST14TA_UCSFFSX_11_02_15_UCSFFSX51_08_01_16     344 non-null float64\n",
            "ST15TA_UCSFFSX_11_02_15_UCSFFSX51_08_01_16     344 non-null float64\n",
            "ST23TA_UCSFFSX_11_02_15_UCSFFSX51_08_01_16     344 non-null float64\n",
            "ST24TA_UCSFFSX_11_02_15_UCSFFSX51_08_01_16     344 non-null float64\n",
            "ST25TA_UCSFFSX_11_02_15_UCSFFSX51_08_01_16     344 non-null float64\n",
            "ST26TA_UCSFFSX_11_02_15_UCSFFSX51_08_01_16     344 non-null float64\n",
            "ST31TA_UCSFFSX_11_02_15_UCSFFSX51_08_01_16     344 non-null float64\n",
            "ST32TA_UCSFFSX_11_02_15_UCSFFSX51_08_01_16     344 non-null float64\n",
            "ST34TA_UCSFFSX_11_02_15_UCSFFSX51_08_01_16     344 non-null float64\n",
            "ST35TA_UCSFFSX_11_02_15_UCSFFSX51_08_01_16     344 non-null float64\n",
            "ST36TA_UCSFFSX_11_02_15_UCSFFSX51_08_01_16     344 non-null float64\n",
            "ST38TA_UCSFFSX_11_02_15_UCSFFSX51_08_01_16     344 non-null float64\n",
            "ST39TA_UCSFFSX_11_02_15_UCSFFSX51_08_01_16     344 non-null float64\n",
            "ST40TA_UCSFFSX_11_02_15_UCSFFSX51_08_01_16     344 non-null float64\n",
            "ST43TA_UCSFFSX_11_02_15_UCSFFSX51_08_01_16     344 non-null float64\n",
            "ST44TA_UCSFFSX_11_02_15_UCSFFSX51_08_01_16     344 non-null float64\n",
            "ST45TA_UCSFFSX_11_02_15_UCSFFSX51_08_01_16     344 non-null float64\n",
            "ST46TA_UCSFFSX_11_02_15_UCSFFSX51_08_01_16     344 non-null float64\n",
            "ST47TA_UCSFFSX_11_02_15_UCSFFSX51_08_01_16     344 non-null float64\n",
            "ST48TA_UCSFFSX_11_02_15_UCSFFSX51_08_01_16     344 non-null float64\n",
            "ST49TA_UCSFFSX_11_02_15_UCSFFSX51_08_01_16     344 non-null float64\n",
            "ST50TA_UCSFFSX_11_02_15_UCSFFSX51_08_01_16     344 non-null float64\n",
            "ST51TA_UCSFFSX_11_02_15_UCSFFSX51_08_01_16     344 non-null float64\n",
            "ST52TA_UCSFFSX_11_02_15_UCSFFSX51_08_01_16     344 non-null float64\n",
            "ST54TA_UCSFFSX_11_02_15_UCSFFSX51_08_01_16     344 non-null float64\n",
            "ST55TA_UCSFFSX_11_02_15_UCSFFSX51_08_01_16     344 non-null float64\n",
            "ST56TA_UCSFFSX_11_02_15_UCSFFSX51_08_01_16     344 non-null float64\n",
            "ST57TA_UCSFFSX_11_02_15_UCSFFSX51_08_01_16     344 non-null float64\n",
            "ST58TA_UCSFFSX_11_02_15_UCSFFSX51_08_01_16     344 non-null float64\n",
            "ST59TA_UCSFFSX_11_02_15_UCSFFSX51_08_01_16     344 non-null float64\n",
            "ST60TA_UCSFFSX_11_02_15_UCSFFSX51_08_01_16     344 non-null float64\n",
            "ST62TA_UCSFFSX_11_02_15_UCSFFSX51_08_01_16     344 non-null float64\n",
            "ST64TA_UCSFFSX_11_02_15_UCSFFSX51_08_01_16     344 non-null object\n",
            "ST72TA_UCSFFSX_11_02_15_UCSFFSX51_08_01_16     344 non-null float64\n",
            "ST73TA_UCSFFSX_11_02_15_UCSFFSX51_08_01_16     344 non-null float64\n",
            "ST74TA_UCSFFSX_11_02_15_UCSFFSX51_08_01_16     344 non-null float64\n",
            "ST82TA_UCSFFSX_11_02_15_UCSFFSX51_08_01_16     344 non-null float64\n",
            "ST83TA_UCSFFSX_11_02_15_UCSFFSX51_08_01_16     344 non-null float64\n",
            "ST84TA_UCSFFSX_11_02_15_UCSFFSX51_08_01_16     344 non-null float64\n",
            "ST85TA_UCSFFSX_11_02_15_UCSFFSX51_08_01_16     344 non-null float64\n",
            "ST90TA_UCSFFSX_11_02_15_UCSFFSX51_08_01_16     344 non-null float64\n",
            "ST91TA_UCSFFSX_11_02_15_UCSFFSX51_08_01_16     344 non-null float64\n",
            "ST93TA_UCSFFSX_11_02_15_UCSFFSX51_08_01_16     344 non-null float64\n",
            "ST94TA_UCSFFSX_11_02_15_UCSFFSX51_08_01_16     344 non-null float64\n",
            "ST95TA_UCSFFSX_11_02_15_UCSFFSX51_08_01_16     344 non-null float64\n",
            "ST97TA_UCSFFSX_11_02_15_UCSFFSX51_08_01_16     344 non-null float64\n",
            "ST98TA_UCSFFSX_11_02_15_UCSFFSX51_08_01_16     344 non-null float64\n",
            "ST99TA_UCSFFSX_11_02_15_UCSFFSX51_08_01_16     344 non-null float64\n",
            "dtypes: float64(69), int64(1), object(2)\n",
            "memory usage: 193.6+ KB\n"
          ],
          "name": "stdout"
        }
      ]
    },
    {
      "cell_type": "code",
      "metadata": {
        "id": "LP_BisKzFptZ",
        "colab_type": "code",
        "outputId": "41460078-1eb4-4ba4-c944-06b476a9de1e",
        "colab": {
          "base_uri": "https://localhost:8080/",
          "height": 431
        }
      },
      "source": [
        "test_data.drop(\"RID\",axis=1)"
      ],
      "execution_count": 0,
      "outputs": [
        {
          "output_type": "execute_result",
          "data": {
            "text/html": [
              "<div>\n",
              "<style scoped>\n",
              "    .dataframe tbody tr th:only-of-type {\n",
              "        vertical-align: middle;\n",
              "    }\n",
              "\n",
              "    .dataframe tbody tr th {\n",
              "        vertical-align: top;\n",
              "    }\n",
              "\n",
              "    .dataframe thead th {\n",
              "        text-align: right;\n",
              "    }\n",
              "</style>\n",
              "<table border=\"1\" class=\"dataframe\">\n",
              "  <thead>\n",
              "    <tr style=\"text-align: right;\">\n",
              "      <th></th>\n",
              "      <th>AGE</th>\n",
              "      <th>ST102TA_UCSFFSX_11_02_15_UCSFFSX51_08_01_16</th>\n",
              "      <th>ST103TA_UCSFFSX_11_02_15_UCSFFSX51_08_01_16</th>\n",
              "      <th>ST104TA_UCSFFSX_11_02_15_UCSFFSX51_08_01_16</th>\n",
              "      <th>ST105TA_UCSFFSX_11_02_15_UCSFFSX51_08_01_16</th>\n",
              "      <th>ST106TA_UCSFFSX_11_02_15_UCSFFSX51_08_01_16</th>\n",
              "      <th>ST107TA_UCSFFSX_11_02_15_UCSFFSX51_08_01_16</th>\n",
              "      <th>ST108TA_UCSFFSX_11_02_15_UCSFFSX51_08_01_16</th>\n",
              "      <th>ST109TA_UCSFFSX_11_02_15_UCSFFSX51_08_01_16</th>\n",
              "      <th>ST110TA_UCSFFSX_11_02_15_UCSFFSX51_08_01_16</th>\n",
              "      <th>ST111TA_UCSFFSX_11_02_15_UCSFFSX51_08_01_16</th>\n",
              "      <th>ST113TA_UCSFFSX_11_02_15_UCSFFSX51_08_01_16</th>\n",
              "      <th>ST114TA_UCSFFSX_11_02_15_UCSFFSX51_08_01_16</th>\n",
              "      <th>ST115TA_UCSFFSX_11_02_15_UCSFFSX51_08_01_16</th>\n",
              "      <th>ST116TA_UCSFFSX_11_02_15_UCSFFSX51_08_01_16</th>\n",
              "      <th>ST117TA_UCSFFSX_11_02_15_UCSFFSX51_08_01_16</th>\n",
              "      <th>ST118TA_UCSFFSX_11_02_15_UCSFFSX51_08_01_16</th>\n",
              "      <th>ST119TA_UCSFFSX_11_02_15_UCSFFSX51_08_01_16</th>\n",
              "      <th>ST121TA_UCSFFSX_11_02_15_UCSFFSX51_08_01_16</th>\n",
              "      <th>ST123TA_UCSFFSX_11_02_15_UCSFFSX51_08_01_16</th>\n",
              "      <th>ST129TA_UCSFFSX_11_02_15_UCSFFSX51_08_01_16</th>\n",
              "      <th>ST130TA_UCSFFSX_11_02_15_UCSFFSX51_08_01_16</th>\n",
              "      <th>ST13TA_UCSFFSX_11_02_15_UCSFFSX51_08_01_16</th>\n",
              "      <th>ST14TA_UCSFFSX_11_02_15_UCSFFSX51_08_01_16</th>\n",
              "      <th>ST15TA_UCSFFSX_11_02_15_UCSFFSX51_08_01_16</th>\n",
              "      <th>ST23TA_UCSFFSX_11_02_15_UCSFFSX51_08_01_16</th>\n",
              "      <th>ST24TA_UCSFFSX_11_02_15_UCSFFSX51_08_01_16</th>\n",
              "      <th>ST25TA_UCSFFSX_11_02_15_UCSFFSX51_08_01_16</th>\n",
              "      <th>ST26TA_UCSFFSX_11_02_15_UCSFFSX51_08_01_16</th>\n",
              "      <th>ST31TA_UCSFFSX_11_02_15_UCSFFSX51_08_01_16</th>\n",
              "      <th>ST32TA_UCSFFSX_11_02_15_UCSFFSX51_08_01_16</th>\n",
              "      <th>ST34TA_UCSFFSX_11_02_15_UCSFFSX51_08_01_16</th>\n",
              "      <th>ST35TA_UCSFFSX_11_02_15_UCSFFSX51_08_01_16</th>\n",
              "      <th>ST36TA_UCSFFSX_11_02_15_UCSFFSX51_08_01_16</th>\n",
              "      <th>ST38TA_UCSFFSX_11_02_15_UCSFFSX51_08_01_16</th>\n",
              "      <th>ST39TA_UCSFFSX_11_02_15_UCSFFSX51_08_01_16</th>\n",
              "      <th>ST40TA_UCSFFSX_11_02_15_UCSFFSX51_08_01_16</th>\n",
              "      <th>ST43TA_UCSFFSX_11_02_15_UCSFFSX51_08_01_16</th>\n",
              "      <th>ST44TA_UCSFFSX_11_02_15_UCSFFSX51_08_01_16</th>\n",
              "      <th>ST45TA_UCSFFSX_11_02_15_UCSFFSX51_08_01_16</th>\n",
              "      <th>ST46TA_UCSFFSX_11_02_15_UCSFFSX51_08_01_16</th>\n",
              "      <th>ST47TA_UCSFFSX_11_02_15_UCSFFSX51_08_01_16</th>\n",
              "      <th>ST48TA_UCSFFSX_11_02_15_UCSFFSX51_08_01_16</th>\n",
              "      <th>ST49TA_UCSFFSX_11_02_15_UCSFFSX51_08_01_16</th>\n",
              "      <th>ST50TA_UCSFFSX_11_02_15_UCSFFSX51_08_01_16</th>\n",
              "      <th>ST51TA_UCSFFSX_11_02_15_UCSFFSX51_08_01_16</th>\n",
              "      <th>ST52TA_UCSFFSX_11_02_15_UCSFFSX51_08_01_16</th>\n",
              "      <th>ST54TA_UCSFFSX_11_02_15_UCSFFSX51_08_01_16</th>\n",
              "      <th>ST55TA_UCSFFSX_11_02_15_UCSFFSX51_08_01_16</th>\n",
              "      <th>ST56TA_UCSFFSX_11_02_15_UCSFFSX51_08_01_16</th>\n",
              "      <th>ST57TA_UCSFFSX_11_02_15_UCSFFSX51_08_01_16</th>\n",
              "      <th>ST58TA_UCSFFSX_11_02_15_UCSFFSX51_08_01_16</th>\n",
              "      <th>ST59TA_UCSFFSX_11_02_15_UCSFFSX51_08_01_16</th>\n",
              "      <th>ST60TA_UCSFFSX_11_02_15_UCSFFSX51_08_01_16</th>\n",
              "      <th>ST62TA_UCSFFSX_11_02_15_UCSFFSX51_08_01_16</th>\n",
              "      <th>ST64TA_UCSFFSX_11_02_15_UCSFFSX51_08_01_16</th>\n",
              "      <th>ST72TA_UCSFFSX_11_02_15_UCSFFSX51_08_01_16</th>\n",
              "      <th>ST73TA_UCSFFSX_11_02_15_UCSFFSX51_08_01_16</th>\n",
              "      <th>ST74TA_UCSFFSX_11_02_15_UCSFFSX51_08_01_16</th>\n",
              "      <th>ST82TA_UCSFFSX_11_02_15_UCSFFSX51_08_01_16</th>\n",
              "      <th>ST83TA_UCSFFSX_11_02_15_UCSFFSX51_08_01_16</th>\n",
              "      <th>ST84TA_UCSFFSX_11_02_15_UCSFFSX51_08_01_16</th>\n",
              "      <th>ST85TA_UCSFFSX_11_02_15_UCSFFSX51_08_01_16</th>\n",
              "      <th>ST90TA_UCSFFSX_11_02_15_UCSFFSX51_08_01_16</th>\n",
              "      <th>ST91TA_UCSFFSX_11_02_15_UCSFFSX51_08_01_16</th>\n",
              "      <th>ST93TA_UCSFFSX_11_02_15_UCSFFSX51_08_01_16</th>\n",
              "      <th>ST94TA_UCSFFSX_11_02_15_UCSFFSX51_08_01_16</th>\n",
              "      <th>ST95TA_UCSFFSX_11_02_15_UCSFFSX51_08_01_16</th>\n",
              "      <th>ST97TA_UCSFFSX_11_02_15_UCSFFSX51_08_01_16</th>\n",
              "      <th>ST98TA_UCSFFSX_11_02_15_UCSFFSX51_08_01_16</th>\n",
              "      <th>ST99TA_UCSFFSX_11_02_15_UCSFFSX51_08_01_16</th>\n",
              "    </tr>\n",
              "  </thead>\n",
              "  <tbody>\n",
              "    <tr>\n",
              "      <th>0</th>\n",
              "      <td>76.3</td>\n",
              "      <td>1.996</td>\n",
              "      <td>2.220</td>\n",
              "      <td>2.342</td>\n",
              "      <td>2.803</td>\n",
              "      <td>2.230</td>\n",
              "      <td>1.402</td>\n",
              "      <td>1.764</td>\n",
              "      <td>2.156</td>\n",
              "      <td>2.026</td>\n",
              "      <td>1.941</td>\n",
              "      <td>2.964</td>\n",
              "      <td>2.122</td>\n",
              "      <td>2.454</td>\n",
              "      <td>1.925</td>\n",
              "      <td>2.451</td>\n",
              "      <td>2.311</td>\n",
              "      <td>3.016</td>\n",
              "      <td>2.317</td>\n",
              "      <td>1.121</td>\n",
              "      <td>2.956</td>\n",
              "      <td>2.936</td>\n",
              "      <td>2.219</td>\n",
              "      <td>2.907</td>\n",
              "      <td>2.320</td>\n",
              "      <td>1.573</td>\n",
              "      <td>3.061</td>\n",
              "      <td>2.696</td>\n",
              "      <td>2.529</td>\n",
              "      <td>2.283</td>\n",
              "      <td>2.949</td>\n",
              "      <td>2.293</td>\n",
              "      <td>2.097</td>\n",
              "      <td>2.686</td>\n",
              "      <td>1.768</td>\n",
              "      <td>2.387</td>\n",
              "      <td>2.674</td>\n",
              "      <td>1.819</td>\n",
              "      <td>2.135</td>\n",
              "      <td>2.133</td>\n",
              "      <td>3.003</td>\n",
              "      <td>2.374</td>\n",
              "      <td>1.411</td>\n",
              "      <td>1.727</td>\n",
              "      <td>2.434</td>\n",
              "      <td>2.157</td>\n",
              "      <td>2.063</td>\n",
              "      <td>3.182</td>\n",
              "      <td>2.085</td>\n",
              "      <td>2.485</td>\n",
              "      <td>1.905</td>\n",
              "      <td>2.488</td>\n",
              "      <td>2.182</td>\n",
              "      <td>3.563</td>\n",
              "      <td>2.187</td>\n",
              "      <td>0.975</td>\n",
              "      <td>2.338</td>\n",
              "      <td>2.253</td>\n",
              "      <td>2.476</td>\n",
              "      <td>1.639</td>\n",
              "      <td>3.655</td>\n",
              "      <td>2.507</td>\n",
              "      <td>2.461</td>\n",
              "      <td>2.157</td>\n",
              "      <td>2.911</td>\n",
              "      <td>2.410</td>\n",
              "      <td>1.968</td>\n",
              "      <td>2.800</td>\n",
              "      <td>1.767</td>\n",
              "      <td>2.080</td>\n",
              "      <td>2.766</td>\n",
              "    </tr>\n",
              "    <tr>\n",
              "      <th>1</th>\n",
              "      <td>78.6</td>\n",
              "      <td>2.209</td>\n",
              "      <td>2.805</td>\n",
              "      <td>2.386</td>\n",
              "      <td>2.710</td>\n",
              "      <td>2.209</td>\n",
              "      <td>1.517</td>\n",
              "      <td>1.648</td>\n",
              "      <td>2.457</td>\n",
              "      <td>2.184</td>\n",
              "      <td>2.132</td>\n",
              "      <td>3.077</td>\n",
              "      <td>2.279</td>\n",
              "      <td>2.552</td>\n",
              "      <td>2.169</td>\n",
              "      <td>2.338</td>\n",
              "      <td>2.342</td>\n",
              "      <td>4.067</td>\n",
              "      <td>2.303</td>\n",
              "      <td>1.082</td>\n",
              "      <td>3.035</td>\n",
              "      <td>2.973</td>\n",
              "      <td>2.370</td>\n",
              "      <td>2.669</td>\n",
              "      <td>2.502</td>\n",
              "      <td>1.914</td>\n",
              "      <td>3.925</td>\n",
              "      <td>2.438</td>\n",
              "      <td>2.820</td>\n",
              "      <td>2.380</td>\n",
              "      <td>2.932</td>\n",
              "      <td>2.328</td>\n",
              "      <td>2.134</td>\n",
              "      <td>2.831</td>\n",
              "      <td>1.838</td>\n",
              "      <td>2.635</td>\n",
              "      <td>2.786</td>\n",
              "      <td>2.219</td>\n",
              "      <td>2.797</td>\n",
              "      <td>2.456</td>\n",
              "      <td>2.797</td>\n",
              "      <td>2.147</td>\n",
              "      <td>1.469</td>\n",
              "      <td>1.729</td>\n",
              "      <td>2.692</td>\n",
              "      <td>2.329</td>\n",
              "      <td>2.274</td>\n",
              "      <td>2.994</td>\n",
              "      <td>2.268</td>\n",
              "      <td>2.627</td>\n",
              "      <td>2.142</td>\n",
              "      <td>2.458</td>\n",
              "      <td>2.314</td>\n",
              "      <td>3.839</td>\n",
              "      <td>2.167</td>\n",
              "      <td>1.228</td>\n",
              "      <td>2.366</td>\n",
              "      <td>2.834</td>\n",
              "      <td>2.320</td>\n",
              "      <td>1.607</td>\n",
              "      <td>3.849</td>\n",
              "      <td>2.843</td>\n",
              "      <td>2.619</td>\n",
              "      <td>2.484</td>\n",
              "      <td>2.811</td>\n",
              "      <td>2.402</td>\n",
              "      <td>1.950</td>\n",
              "      <td>2.685</td>\n",
              "      <td>1.795</td>\n",
              "      <td>2.332</td>\n",
              "      <td>2.965</td>\n",
              "    </tr>\n",
              "    <tr>\n",
              "      <th>2</th>\n",
              "      <td>61.1</td>\n",
              "      <td>2.114</td>\n",
              "      <td>3.157</td>\n",
              "      <td>2.700</td>\n",
              "      <td>2.856</td>\n",
              "      <td>2.463</td>\n",
              "      <td>1.610</td>\n",
              "      <td>1.671</td>\n",
              "      <td>2.720</td>\n",
              "      <td>2.174</td>\n",
              "      <td>2.170</td>\n",
              "      <td>2.997</td>\n",
              "      <td>2.353</td>\n",
              "      <td>2.818</td>\n",
              "      <td>1.856</td>\n",
              "      <td>2.916</td>\n",
              "      <td>2.372</td>\n",
              "      <td>3.734</td>\n",
              "      <td>2.217</td>\n",
              "      <td>1.286</td>\n",
              "      <td>3.094</td>\n",
              "      <td>3.091</td>\n",
              "      <td>2.362</td>\n",
              "      <td>2.674</td>\n",
              "      <td>2.513</td>\n",
              "      <td>1.653</td>\n",
              "      <td>3.764</td>\n",
              "      <td>2.984</td>\n",
              "      <td>2.735</td>\n",
              "      <td>2.188</td>\n",
              "      <td>2.823</td>\n",
              "      <td>2.546</td>\n",
              "      <td>1.992</td>\n",
              "      <td>2.768</td>\n",
              "      <td>1.905</td>\n",
              "      <td>2.517</td>\n",
              "      <td>2.869</td>\n",
              "      <td>2.010</td>\n",
              "      <td>3.147</td>\n",
              "      <td>2.558</td>\n",
              "      <td>2.763</td>\n",
              "      <td>2.175</td>\n",
              "      <td>1.532</td>\n",
              "      <td>1.609</td>\n",
              "      <td>2.572</td>\n",
              "      <td>2.088</td>\n",
              "      <td>2.174</td>\n",
              "      <td>3.211</td>\n",
              "      <td>2.401</td>\n",
              "      <td>2.840</td>\n",
              "      <td>1.966</td>\n",
              "      <td>2.815</td>\n",
              "      <td>2.254</td>\n",
              "      <td>3.713</td>\n",
              "      <td>2.452</td>\n",
              "      <td>1.164</td>\n",
              "      <td>2.778</td>\n",
              "      <td>2.551</td>\n",
              "      <td>2.402</td>\n",
              "      <td>1.810</td>\n",
              "      <td>3.646</td>\n",
              "      <td>3.352</td>\n",
              "      <td>2.766</td>\n",
              "      <td>2.249</td>\n",
              "      <td>2.990</td>\n",
              "      <td>2.401</td>\n",
              "      <td>1.983</td>\n",
              "      <td>2.666</td>\n",
              "      <td>1.890</td>\n",
              "      <td>2.926</td>\n",
              "      <td>2.903</td>\n",
              "    </tr>\n",
              "    <tr>\n",
              "      <th>3</th>\n",
              "      <td>87.6</td>\n",
              "      <td>1.961</td>\n",
              "      <td>2.487</td>\n",
              "      <td>2.466</td>\n",
              "      <td>2.732</td>\n",
              "      <td>2.494</td>\n",
              "      <td>1.317</td>\n",
              "      <td>1.613</td>\n",
              "      <td>2.371</td>\n",
              "      <td>2.045</td>\n",
              "      <td>2.083</td>\n",
              "      <td>2.429</td>\n",
              "      <td>2.243</td>\n",
              "      <td>2.563</td>\n",
              "      <td>1.940</td>\n",
              "      <td>2.612</td>\n",
              "      <td>2.379</td>\n",
              "      <td>4.150</td>\n",
              "      <td>2.147</td>\n",
              "      <td>1.147</td>\n",
              "      <td>2.976</td>\n",
              "      <td>2.947</td>\n",
              "      <td>2.079</td>\n",
              "      <td>3.115</td>\n",
              "      <td>2.432</td>\n",
              "      <td>1.599</td>\n",
              "      <td>3.674</td>\n",
              "      <td>1.981</td>\n",
              "      <td>2.547</td>\n",
              "      <td>2.228</td>\n",
              "      <td>2.755</td>\n",
              "      <td>2.501</td>\n",
              "      <td>2.031</td>\n",
              "      <td>2.635</td>\n",
              "      <td>1.751</td>\n",
              "      <td>2.175</td>\n",
              "      <td>2.669</td>\n",
              "      <td>2.430</td>\n",
              "      <td>2.514</td>\n",
              "      <td>2.485</td>\n",
              "      <td>2.659</td>\n",
              "      <td>2.382</td>\n",
              "      <td>1.270</td>\n",
              "      <td>1.718</td>\n",
              "      <td>2.125</td>\n",
              "      <td>2.048</td>\n",
              "      <td>2.301</td>\n",
              "      <td>2.853</td>\n",
              "      <td>2.295</td>\n",
              "      <td>2.555</td>\n",
              "      <td>2.049</td>\n",
              "      <td>2.504</td>\n",
              "      <td>2.457</td>\n",
              "      <td>4.151</td>\n",
              "      <td>2.374</td>\n",
              "      <td>1.062</td>\n",
              "      <td>2.409</td>\n",
              "      <td>2.051</td>\n",
              "      <td>2.259</td>\n",
              "      <td>1.478</td>\n",
              "      <td>3.491</td>\n",
              "      <td>2.203</td>\n",
              "      <td>2.567</td>\n",
              "      <td>2.303</td>\n",
              "      <td>2.830</td>\n",
              "      <td>2.464</td>\n",
              "      <td>2.032</td>\n",
              "      <td>2.497</td>\n",
              "      <td>1.730</td>\n",
              "      <td>2.279</td>\n",
              "      <td>2.825</td>\n",
              "    </tr>\n",
              "    <tr>\n",
              "      <th>4</th>\n",
              "      <td>88.4</td>\n",
              "      <td>2.246</td>\n",
              "      <td>2.346</td>\n",
              "      <td>2.383</td>\n",
              "      <td>2.850</td>\n",
              "      <td>2.566</td>\n",
              "      <td>1.770</td>\n",
              "      <td>1.921</td>\n",
              "      <td>2.398</td>\n",
              "      <td>2.286</td>\n",
              "      <td>2.200</td>\n",
              "      <td>2.588</td>\n",
              "      <td>2.397</td>\n",
              "      <td>2.532</td>\n",
              "      <td>2.038</td>\n",
              "      <td>2.323</td>\n",
              "      <td>2.396</td>\n",
              "      <td>3.350</td>\n",
              "      <td>2.415</td>\n",
              "      <td></td>\n",
              "      <td>3.084</td>\n",
              "      <td>3.030</td>\n",
              "      <td>2.306</td>\n",
              "      <td>2.816</td>\n",
              "      <td>2.366</td>\n",
              "      <td>1.930</td>\n",
              "      <td>2.580</td>\n",
              "      <td>2.855</td>\n",
              "      <td>2.346</td>\n",
              "      <td>2.292</td>\n",
              "      <td>2.570</td>\n",
              "      <td>2.355</td>\n",
              "      <td>2.147</td>\n",
              "      <td>2.626</td>\n",
              "      <td>1.933</td>\n",
              "      <td>2.403</td>\n",
              "      <td>2.710</td>\n",
              "      <td>2.350</td>\n",
              "      <td>2.913</td>\n",
              "      <td>2.251</td>\n",
              "      <td>2.799</td>\n",
              "      <td>2.463</td>\n",
              "      <td>1.671</td>\n",
              "      <td>1.967</td>\n",
              "      <td>2.403</td>\n",
              "      <td>2.268</td>\n",
              "      <td>2.358</td>\n",
              "      <td>3.378</td>\n",
              "      <td>2.378</td>\n",
              "      <td>2.607</td>\n",
              "      <td>2.122</td>\n",
              "      <td>2.358</td>\n",
              "      <td>2.253</td>\n",
              "      <td>3.548</td>\n",
              "      <td>2.239</td>\n",
              "      <td></td>\n",
              "      <td>2.401</td>\n",
              "      <td>2.665</td>\n",
              "      <td>2.497</td>\n",
              "      <td>1.858</td>\n",
              "      <td>2.393</td>\n",
              "      <td>2.765</td>\n",
              "      <td>2.452</td>\n",
              "      <td>2.327</td>\n",
              "      <td>2.644</td>\n",
              "      <td>1.992</td>\n",
              "      <td>2.141</td>\n",
              "      <td>2.895</td>\n",
              "      <td>1.838</td>\n",
              "      <td>2.533</td>\n",
              "      <td>2.777</td>\n",
              "    </tr>\n",
              "    <tr>\n",
              "      <th>...</th>\n",
              "      <td>...</td>\n",
              "      <td>...</td>\n",
              "      <td>...</td>\n",
              "      <td>...</td>\n",
              "      <td>...</td>\n",
              "      <td>...</td>\n",
              "      <td>...</td>\n",
              "      <td>...</td>\n",
              "      <td>...</td>\n",
              "      <td>...</td>\n",
              "      <td>...</td>\n",
              "      <td>...</td>\n",
              "      <td>...</td>\n",
              "      <td>...</td>\n",
              "      <td>...</td>\n",
              "      <td>...</td>\n",
              "      <td>...</td>\n",
              "      <td>...</td>\n",
              "      <td>...</td>\n",
              "      <td>...</td>\n",
              "      <td>...</td>\n",
              "      <td>...</td>\n",
              "      <td>...</td>\n",
              "      <td>...</td>\n",
              "      <td>...</td>\n",
              "      <td>...</td>\n",
              "      <td>...</td>\n",
              "      <td>...</td>\n",
              "      <td>...</td>\n",
              "      <td>...</td>\n",
              "      <td>...</td>\n",
              "      <td>...</td>\n",
              "      <td>...</td>\n",
              "      <td>...</td>\n",
              "      <td>...</td>\n",
              "      <td>...</td>\n",
              "      <td>...</td>\n",
              "      <td>...</td>\n",
              "      <td>...</td>\n",
              "      <td>...</td>\n",
              "      <td>...</td>\n",
              "      <td>...</td>\n",
              "      <td>...</td>\n",
              "      <td>...</td>\n",
              "      <td>...</td>\n",
              "      <td>...</td>\n",
              "      <td>...</td>\n",
              "      <td>...</td>\n",
              "      <td>...</td>\n",
              "      <td>...</td>\n",
              "      <td>...</td>\n",
              "      <td>...</td>\n",
              "      <td>...</td>\n",
              "      <td>...</td>\n",
              "      <td>...</td>\n",
              "      <td>...</td>\n",
              "      <td>...</td>\n",
              "      <td>...</td>\n",
              "      <td>...</td>\n",
              "      <td>...</td>\n",
              "      <td>...</td>\n",
              "      <td>...</td>\n",
              "      <td>...</td>\n",
              "      <td>...</td>\n",
              "      <td>...</td>\n",
              "      <td>...</td>\n",
              "      <td>...</td>\n",
              "      <td>...</td>\n",
              "      <td>...</td>\n",
              "      <td>...</td>\n",
              "      <td>...</td>\n",
              "    </tr>\n",
              "    <tr>\n",
              "      <th>339</th>\n",
              "      <td>71.3</td>\n",
              "      <td>1.918</td>\n",
              "      <td>2.442</td>\n",
              "      <td>2.224</td>\n",
              "      <td>2.555</td>\n",
              "      <td>2.068</td>\n",
              "      <td>1.455</td>\n",
              "      <td>1.771</td>\n",
              "      <td>2.435</td>\n",
              "      <td>2.062</td>\n",
              "      <td>2.075</td>\n",
              "      <td>3.014</td>\n",
              "      <td>2.208</td>\n",
              "      <td>2.472</td>\n",
              "      <td>2.001</td>\n",
              "      <td>2.526</td>\n",
              "      <td>2.051</td>\n",
              "      <td>3.770</td>\n",
              "      <td>2.354</td>\n",
              "      <td>1.024</td>\n",
              "      <td>2.962</td>\n",
              "      <td>3.011</td>\n",
              "      <td>2.239</td>\n",
              "      <td>2.301</td>\n",
              "      <td>2.186</td>\n",
              "      <td>1.810</td>\n",
              "      <td>3.251</td>\n",
              "      <td>2.831</td>\n",
              "      <td>2.518</td>\n",
              "      <td>2.058</td>\n",
              "      <td>2.783</td>\n",
              "      <td>2.273</td>\n",
              "      <td>2.107</td>\n",
              "      <td>2.486</td>\n",
              "      <td>1.750</td>\n",
              "      <td>2.213</td>\n",
              "      <td>2.739</td>\n",
              "      <td>2.001</td>\n",
              "      <td>2.804</td>\n",
              "      <td>2.300</td>\n",
              "      <td>2.447</td>\n",
              "      <td>2.342</td>\n",
              "      <td>1.355</td>\n",
              "      <td>1.825</td>\n",
              "      <td>2.621</td>\n",
              "      <td>2.018</td>\n",
              "      <td>2.206</td>\n",
              "      <td>2.870</td>\n",
              "      <td>2.247</td>\n",
              "      <td>2.490</td>\n",
              "      <td>1.984</td>\n",
              "      <td>2.619</td>\n",
              "      <td>2.222</td>\n",
              "      <td>3.873</td>\n",
              "      <td>2.563</td>\n",
              "      <td>1.121</td>\n",
              "      <td>2.114</td>\n",
              "      <td>2.445</td>\n",
              "      <td>2.393</td>\n",
              "      <td>1.757</td>\n",
              "      <td>3.429</td>\n",
              "      <td>2.494</td>\n",
              "      <td>2.697</td>\n",
              "      <td>2.160</td>\n",
              "      <td>2.768</td>\n",
              "      <td>2.360</td>\n",
              "      <td>2.224</td>\n",
              "      <td>2.534</td>\n",
              "      <td>1.975</td>\n",
              "      <td>2.346</td>\n",
              "      <td>2.622</td>\n",
              "    </tr>\n",
              "    <tr>\n",
              "      <th>340</th>\n",
              "      <td>63.6</td>\n",
              "      <td>2.050</td>\n",
              "      <td>2.163</td>\n",
              "      <td>2.472</td>\n",
              "      <td>2.511</td>\n",
              "      <td>2.524</td>\n",
              "      <td>1.377</td>\n",
              "      <td>1.759</td>\n",
              "      <td>2.338</td>\n",
              "      <td>2.091</td>\n",
              "      <td>2.039</td>\n",
              "      <td>2.957</td>\n",
              "      <td>2.117</td>\n",
              "      <td>2.411</td>\n",
              "      <td>2.144</td>\n",
              "      <td>2.477</td>\n",
              "      <td>2.414</td>\n",
              "      <td>3.278</td>\n",
              "      <td>2.404</td>\n",
              "      <td>1.212</td>\n",
              "      <td>2.880</td>\n",
              "      <td>2.832</td>\n",
              "      <td>2.404</td>\n",
              "      <td>2.479</td>\n",
              "      <td>2.241</td>\n",
              "      <td>1.813</td>\n",
              "      <td>3.050</td>\n",
              "      <td>2.773</td>\n",
              "      <td>2.593</td>\n",
              "      <td>2.338</td>\n",
              "      <td>2.713</td>\n",
              "      <td>2.295</td>\n",
              "      <td>2.139</td>\n",
              "      <td>2.440</td>\n",
              "      <td>1.753</td>\n",
              "      <td>2.145</td>\n",
              "      <td>2.833</td>\n",
              "      <td>2.042</td>\n",
              "      <td>2.673</td>\n",
              "      <td>2.286</td>\n",
              "      <td>2.551</td>\n",
              "      <td>2.293</td>\n",
              "      <td>1.380</td>\n",
              "      <td>1.695</td>\n",
              "      <td>2.481</td>\n",
              "      <td>1.954</td>\n",
              "      <td>2.283</td>\n",
              "      <td>2.694</td>\n",
              "      <td>2.165</td>\n",
              "      <td>2.385</td>\n",
              "      <td>1.941</td>\n",
              "      <td>2.491</td>\n",
              "      <td>2.223</td>\n",
              "      <td>3.438</td>\n",
              "      <td>1.753</td>\n",
              "      <td>1.14</td>\n",
              "      <td>2.348</td>\n",
              "      <td>2.402</td>\n",
              "      <td>2.423</td>\n",
              "      <td>1.636</td>\n",
              "      <td>3.465</td>\n",
              "      <td>2.214</td>\n",
              "      <td>2.244</td>\n",
              "      <td>2.476</td>\n",
              "      <td>2.579</td>\n",
              "      <td>2.317</td>\n",
              "      <td>2.028</td>\n",
              "      <td>2.492</td>\n",
              "      <td>1.702</td>\n",
              "      <td>2.026</td>\n",
              "      <td>2.627</td>\n",
              "    </tr>\n",
              "    <tr>\n",
              "      <th>341</th>\n",
              "      <td>76.4</td>\n",
              "      <td>2.075</td>\n",
              "      <td>2.326</td>\n",
              "      <td>2.377</td>\n",
              "      <td>2.815</td>\n",
              "      <td>2.251</td>\n",
              "      <td>1.225</td>\n",
              "      <td>1.683</td>\n",
              "      <td>2.356</td>\n",
              "      <td>2.330</td>\n",
              "      <td>2.151</td>\n",
              "      <td>2.694</td>\n",
              "      <td>2.386</td>\n",
              "      <td>2.642</td>\n",
              "      <td>2.100</td>\n",
              "      <td>2.776</td>\n",
              "      <td>2.503</td>\n",
              "      <td>3.833</td>\n",
              "      <td>2.586</td>\n",
              "      <td>1.197</td>\n",
              "      <td>2.903</td>\n",
              "      <td>2.775</td>\n",
              "      <td>2.136</td>\n",
              "      <td>2.420</td>\n",
              "      <td>2.425</td>\n",
              "      <td>1.830</td>\n",
              "      <td>3.475</td>\n",
              "      <td>2.861</td>\n",
              "      <td>2.727</td>\n",
              "      <td>2.437</td>\n",
              "      <td>2.688</td>\n",
              "      <td>2.360</td>\n",
              "      <td>2.017</td>\n",
              "      <td>2.596</td>\n",
              "      <td>1.645</td>\n",
              "      <td>2.268</td>\n",
              "      <td>2.761</td>\n",
              "      <td>2.073</td>\n",
              "      <td>2.741</td>\n",
              "      <td>2.430</td>\n",
              "      <td>2.585</td>\n",
              "      <td>2.093</td>\n",
              "      <td>1.326</td>\n",
              "      <td>1.910</td>\n",
              "      <td>2.308</td>\n",
              "      <td>2.453</td>\n",
              "      <td>2.163</td>\n",
              "      <td>3.024</td>\n",
              "      <td>2.381</td>\n",
              "      <td>2.626</td>\n",
              "      <td>2.169</td>\n",
              "      <td>2.523</td>\n",
              "      <td>2.523</td>\n",
              "      <td>3.883</td>\n",
              "      <td>2.259</td>\n",
              "      <td>1.247</td>\n",
              "      <td>2.341</td>\n",
              "      <td>2.556</td>\n",
              "      <td>2.450</td>\n",
              "      <td>1.601</td>\n",
              "      <td>4.016</td>\n",
              "      <td>2.652</td>\n",
              "      <td>2.542</td>\n",
              "      <td>2.367</td>\n",
              "      <td>2.747</td>\n",
              "      <td>2.293</td>\n",
              "      <td>2.109</td>\n",
              "      <td>2.636</td>\n",
              "      <td>1.732</td>\n",
              "      <td>2.416</td>\n",
              "      <td>2.827</td>\n",
              "    </tr>\n",
              "    <tr>\n",
              "      <th>342</th>\n",
              "      <td>59.7</td>\n",
              "      <td>2.254</td>\n",
              "      <td>2.552</td>\n",
              "      <td>2.334</td>\n",
              "      <td>2.912</td>\n",
              "      <td>2.478</td>\n",
              "      <td>1.541</td>\n",
              "      <td>1.980</td>\n",
              "      <td>2.443</td>\n",
              "      <td>2.442</td>\n",
              "      <td>2.222</td>\n",
              "      <td>2.572</td>\n",
              "      <td>2.287</td>\n",
              "      <td>2.582</td>\n",
              "      <td>2.125</td>\n",
              "      <td>2.727</td>\n",
              "      <td>2.314</td>\n",
              "      <td>3.879</td>\n",
              "      <td>2.699</td>\n",
              "      <td>1.087</td>\n",
              "      <td>2.876</td>\n",
              "      <td>2.833</td>\n",
              "      <td>1.952</td>\n",
              "      <td>2.601</td>\n",
              "      <td>2.544</td>\n",
              "      <td>1.796</td>\n",
              "      <td>3.235</td>\n",
              "      <td>2.810</td>\n",
              "      <td>2.884</td>\n",
              "      <td>2.210</td>\n",
              "      <td>2.788</td>\n",
              "      <td>2.273</td>\n",
              "      <td>2.172</td>\n",
              "      <td>2.634</td>\n",
              "      <td>1.860</td>\n",
              "      <td>2.475</td>\n",
              "      <td>2.550</td>\n",
              "      <td>2.264</td>\n",
              "      <td>3.112</td>\n",
              "      <td>2.547</td>\n",
              "      <td>2.667</td>\n",
              "      <td>2.316</td>\n",
              "      <td>1.534</td>\n",
              "      <td>1.814</td>\n",
              "      <td>2.460</td>\n",
              "      <td>2.510</td>\n",
              "      <td>2.141</td>\n",
              "      <td>2.997</td>\n",
              "      <td>2.156</td>\n",
              "      <td>2.686</td>\n",
              "      <td>2.119</td>\n",
              "      <td>2.773</td>\n",
              "      <td>2.316</td>\n",
              "      <td>3.747</td>\n",
              "      <td>2.884</td>\n",
              "      <td>1.092</td>\n",
              "      <td>2.364</td>\n",
              "      <td>2.541</td>\n",
              "      <td>2.576</td>\n",
              "      <td>1.701</td>\n",
              "      <td>2.867</td>\n",
              "      <td>2.868</td>\n",
              "      <td>2.752</td>\n",
              "      <td>2.267</td>\n",
              "      <td>2.793</td>\n",
              "      <td>2.303</td>\n",
              "      <td>2.069</td>\n",
              "      <td>2.902</td>\n",
              "      <td>1.890</td>\n",
              "      <td>2.306</td>\n",
              "      <td>2.782</td>\n",
              "    </tr>\n",
              "    <tr>\n",
              "      <th>343</th>\n",
              "      <td>83.2</td>\n",
              "      <td>2.284</td>\n",
              "      <td>2.613</td>\n",
              "      <td>2.459</td>\n",
              "      <td>2.820</td>\n",
              "      <td>2.186</td>\n",
              "      <td>1.356</td>\n",
              "      <td>2.017</td>\n",
              "      <td>2.316</td>\n",
              "      <td>2.366</td>\n",
              "      <td>2.170</td>\n",
              "      <td>2.459</td>\n",
              "      <td>2.212</td>\n",
              "      <td>2.569</td>\n",
              "      <td>2.129</td>\n",
              "      <td>2.617</td>\n",
              "      <td>2.524</td>\n",
              "      <td>3.621</td>\n",
              "      <td>2.262</td>\n",
              "      <td>1.097</td>\n",
              "      <td>3.078</td>\n",
              "      <td>3.040</td>\n",
              "      <td>2.492</td>\n",
              "      <td>2.838</td>\n",
              "      <td>2.596</td>\n",
              "      <td>1.648</td>\n",
              "      <td>3.036</td>\n",
              "      <td>3.021</td>\n",
              "      <td>2.472</td>\n",
              "      <td>2.347</td>\n",
              "      <td>2.704</td>\n",
              "      <td>2.651</td>\n",
              "      <td>2.078</td>\n",
              "      <td>2.683</td>\n",
              "      <td>1.779</td>\n",
              "      <td>2.388</td>\n",
              "      <td>2.768</td>\n",
              "      <td>2.173</td>\n",
              "      <td>2.519</td>\n",
              "      <td>2.572</td>\n",
              "      <td>2.557</td>\n",
              "      <td>2.287</td>\n",
              "      <td>1.283</td>\n",
              "      <td>1.999</td>\n",
              "      <td>2.719</td>\n",
              "      <td>2.417</td>\n",
              "      <td>2.205</td>\n",
              "      <td>2.738</td>\n",
              "      <td>2.221</td>\n",
              "      <td>2.622</td>\n",
              "      <td>2.129</td>\n",
              "      <td>2.536</td>\n",
              "      <td>2.443</td>\n",
              "      <td>3.084</td>\n",
              "      <td>2.400</td>\n",
              "      <td>0.971</td>\n",
              "      <td>2.358</td>\n",
              "      <td>2.428</td>\n",
              "      <td>2.704</td>\n",
              "      <td>1.691</td>\n",
              "      <td>3.388</td>\n",
              "      <td>2.716</td>\n",
              "      <td>2.526</td>\n",
              "      <td>2.383</td>\n",
              "      <td>2.829</td>\n",
              "      <td>2.473</td>\n",
              "      <td>2.136</td>\n",
              "      <td>2.572</td>\n",
              "      <td>1.758</td>\n",
              "      <td>2.164</td>\n",
              "      <td>2.832</td>\n",
              "    </tr>\n",
              "  </tbody>\n",
              "</table>\n",
              "<p>344 rows × 71 columns</p>\n",
              "</div>"
            ],
            "text/plain": [
              "      AGE  ...  ST99TA_UCSFFSX_11_02_15_UCSFFSX51_08_01_16\n",
              "0    76.3  ...                                       2.766\n",
              "1    78.6  ...                                       2.965\n",
              "2    61.1  ...                                       2.903\n",
              "3    87.6  ...                                       2.825\n",
              "4    88.4  ...                                       2.777\n",
              "..    ...  ...                                         ...\n",
              "339  71.3  ...                                       2.622\n",
              "340  63.6  ...                                       2.627\n",
              "341  76.4  ...                                       2.827\n",
              "342  59.7  ...                                       2.782\n",
              "343  83.2  ...                                       2.832\n",
              "\n",
              "[344 rows x 71 columns]"
            ]
          },
          "metadata": {
            "tags": []
          },
          "execution_count": 206
        }
      ]
    },
    {
      "cell_type": "code",
      "metadata": {
        "id": "kLM7vRuvHrKR",
        "colab_type": "code",
        "colab": {}
      },
      "source": [
        "test_data[\"ST64TA_UCSFFSX_11_02_15_UCSFFSX51_08_01_16\"].value_counts()"
      ],
      "execution_count": 0,
      "outputs": []
    },
    {
      "cell_type": "code",
      "metadata": {
        "id": "CccY12kgjRnn",
        "colab_type": "code",
        "colab": {}
      },
      "source": [
        "# Sample code to save the csv file into Google Drive\n",
        "\n",
        "# test_prediction.to_csv('Test_prediction.csv', index=False)\n",
        "# !cp Test_prediction.csv /content/gdrive/My\\ Drive/BNCS401_Midterm_Project"
      ],
      "execution_count": 0,
      "outputs": []
    }
  ]
}